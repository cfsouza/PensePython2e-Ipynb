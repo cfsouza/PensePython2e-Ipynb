{
 "cells": [
  {
   "cell_type": "markdown",
   "metadata": {},
   "source": [
    "<div id=\"readme\" class=\"Box-body readme blob instapaper_body js-code-block-container\">\n",
    "    <article class=\"markdown-body entry-content p-3 p-md-6\" itemprop=\"text\"><h1><a id=\"user-content-apêndice-a-depuração\" class=\"anchor\" aria-hidden=\"true\" href=\"#apêndice-a-depuração\"><svg class=\"octicon octicon-link\" viewBox=\"0 0 16 16\" version=\"1.1\" width=\"16\" height=\"16\" aria-hidden=\"true\"><path fill-rule=\"evenodd\" d=\"M4 9h1v1H4c-1.5 0-3-1.69-3-3.5S2.55 3 4 3h4c1.45 0 3 1.69 3 3.5 0 1.41-.91 2.72-2 3.25V8.59c.58-.45 1-1.27 1-2.09C10 5.22 8.98 4 8 4H4c-.98 0-2 1.22-2 2.5S3 9 4 9zm9-3h-1v1h1c1 0 2 1.22 2 2.5S13.98 12 13 12H9c-.98 0-2-1.22-2-2.5 0-.83.42-1.64 1-2.09V6.25c-1.09.53-2 1.84-2 3.25C6 11.31 7.55 13 9 13h4c1.45 0 3-1.69 3-3.5S14.5 6 13 6z\"></path></svg></a>Apêndice A: Depuração</h1>\n",
    "<p>Durante a depuração, você deve distinguir entre tipos diferentes de erros para rastreá-los mais rapidamente:</p>\n",
    "<ul>\n",
    "<li>\n",
    "<p>Erros de sintaxe são descobertos pelo interpretador quando ele está traduzindo o código-fonte para código de bytes. Eles indicam que há algo errado com a estrutura do programa. Exemplo: a omissão dos dois pontos no fim de uma instrução <code>def</code> gera a mensagem um tanto redundante <i>SyntaxError: invalid syntax</i>.</p>\n",
    "</li>\n",
    "<li>\n",
    "<p>Erros de tempo de execução são produzidos pelo interpretador se algo der errado durante a execução do programa. A maior parte das mensagens de erro de tempo de execução inclui informações sobre onde o erro ocorreu e o que as funções estavam fazendo. Exemplo: a recursividade infinita eventualmente leva ao erro de tempo de execução <i>maximum recursion depth exceeded</i>.</p>\n",
    "</li>\n",
    "<li>\n",
    "<p>Erros semânticos são problemas com um programa que é executado sem produzir mensagens de erro, mas que não faz a coisa certa. Exemplo: uma expressão que não pode ser avaliada na ordem esperada, produzindo um resultado incorreto.</p>\n",
    "</li>\n",
    "</ul>\n",
    "<p>O primeiro passo da depuração é compreender com que tipo de erro você está lidando. Embora as próximas seções sejam organizadas pelo tipo de erro, algumas técnicas são aplicáveis em mais de uma situação.</p>\n",
    "<h2><a id=\"user-content-a1---erros-de-sintaxe\" class=\"anchor\" aria-hidden=\"true\" href=\"#a1---erros-de-sintaxe\"><svg class=\"octicon octicon-link\" viewBox=\"0 0 16 16\" version=\"1.1\" width=\"16\" height=\"16\" aria-hidden=\"true\"><path fill-rule=\"evenodd\" d=\"M4 9h1v1H4c-1.5 0-3-1.69-3-3.5S2.55 3 4 3h4c1.45 0 3 1.69 3 3.5 0 1.41-.91 2.72-2 3.25V8.59c.58-.45 1-1.27 1-2.09C10 5.22 8.98 4 8 4H4c-.98 0-2 1.22-2 2.5S3 9 4 9zm9-3h-1v1h1c1 0 2 1.22 2 2.5S13.98 12 13 12H9c-.98 0-2-1.22-2-2.5 0-.83.42-1.64 1-2.09V6.25c-1.09.53-2 1.84-2 3.25C6 11.31 7.55 13 9 13h4c1.45 0 3-1.69 3-3.5S14.5 6 13 6z\"></path></svg></a>A.1 - Erros de sintaxe</h2>\n",
    "<p>Os erros de sintaxe normalmente são fáceis de corrigir, uma vez que você descubra quais são. Infelizmente, as mensagens de erro muitas vezes não são úteis. As mensagens mais comuns são <i>SyntaxError: invalid syntax</i> e <i>SyntaxError: invalid token</i>, e nenhuma das duas é muito informativa.</p>\n",
    "<p>Por outro lado, a mensagem diz onde no programa o problema ocorreu. E, na verdade, diz a você onde o Python notou um problema, que é não necessariamente onde o erro está. Às vezes, o erro está antes da posição da mensagem de erro, muitas vezes na linha precedente.</p>\n",
    "<p>Se estiver construindo o programa incrementalmente, você terá uma boa ideia sobre onde encontrar o erro. Estará na última linha que acrescentou.</p>\n",
    "<p>Se estiver copiando o código de um livro, comece comparando com atenção o seu código e o do livro. Verifique cada caractere. Ao mesmo tempo, lembre-se de que o livro pode estar errado, então, se vir algo que parece um erro de sintaxe, pode ser mesmo.</p>\n",
    "<p>Aqui estão algumas formas de evitar os erros de sintaxe mais comuns:</p>\n",
    "<ol>\n",
    "<li>\n",
    "<p>Confira se não está usando uma palavra-chave do Python para um nome de variável.</p>\n",
    "</li>\n",
    "<li>\n",
    "<p>Verifique se há dois pontos no fim do cabeçalho de cada instrução composta, incluindo instruções <code>for</code>, <code>while</code>, <code>if</code> e <code>def</code>.</p>\n",
    "</li>\n",
    "<li>\n",
    "<p>Confira se as strings no código têm as aspas correspondentes. Verifique se todas as aspas são retas, em vez de curvas.</p>\n",
    "</li>\n",
    "<li>\n",
    "<p>Se tiver strings com várias linhas com aspas triplas (simples ou duplas), confira se fechou a string adequadamente. Uma string não fechada pode causar um erro de <i>invalid token</i> no fim do seu programa, ou pode tratar a parte seguinte do programa como uma string até chegar à string seguinte. No segundo caso, o programa pode nem produzir uma mensagem de erro!</p>\n",
    "</li>\n",
    "<li>\n",
    "<p>Um operador inicial aberto – <code>(</code>, <code>{</code> ou <code>[</code> – faz o Python continuar até a linha seguinte, como se esta fosse parte da instrução atual. Geralmente, um erro ocorre quase imediatamente na linha seguinte.</p>\n",
    "</li>\n",
    "<li>\n",
    "<p>Confira se há o clássico <code>=</code> em vez do <code>==</code> dentro de uma condicional.</p>\n",
    "</li>\n",
    "<li>\n",
    "<p>Verifique a endentação para ter certeza de que está alinhada como deveria. O Python pode lidar com espaços e tabulações, mas, se misturá-los, isso pode causar problemas. A melhor forma de evitar esse problema é usar um editor de texto que identifique o Python e gere endentação consistente.</p>\n",
    "</li>\n",
    "<li>\n",
    "<p>Se há caracteres não ASCII no código (incluindo strings e comentários), isso pode causar problemas, embora o Python 3 normalmente lide com caracteres não ASCII. Tenha cuidado se colar texto de uma página web ou outra fonte.</p>\n",
    "</li>\n",
    "</ol>\n",
    "<p>Se nada funcionar, vá para a próxima seção...</p>\n",
    "<h3><a id=\"user-content-a11---continuo-fazendo-alterações-e-não-faz-nenhuma-diferença\" class=\"anchor\" aria-hidden=\"true\" href=\"#a11---continuo-fazendo-alterações-e-não-faz-nenhuma-diferença\"><svg class=\"octicon octicon-link\" viewBox=\"0 0 16 16\" version=\"1.1\" width=\"16\" height=\"16\" aria-hidden=\"true\"><path fill-rule=\"evenodd\" d=\"M4 9h1v1H4c-1.5 0-3-1.69-3-3.5S2.55 3 4 3h4c1.45 0 3 1.69 3 3.5 0 1.41-.91 2.72-2 3.25V8.59c.58-.45 1-1.27 1-2.09C10 5.22 8.98 4 8 4H4c-.98 0-2 1.22-2 2.5S3 9 4 9zm9-3h-1v1h1c1 0 2 1.22 2 2.5S13.98 12 13 12H9c-.98 0-2-1.22-2-2.5 0-.83.42-1.64 1-2.09V6.25c-1.09.53-2 1.84-2 3.25C6 11.31 7.55 13 9 13h4c1.45 0 3-1.69 3-3.5S14.5 6 13 6z\"></path></svg></a>A.1.1 - Continuo fazendo alterações e não faz nenhuma diferença</h3>\n",
    "<p>Se o interpretador disser que há um erro e você não o encontra, pode ser que você e o interpretador não estejam olhando para o mesmo código. Verifique o seu ambiente de programação para ter certeza de que o programa que está editando é o mesmo que o Python está tentando executar.</p>\n",
    "<p>Se não estiver certo, tente pôr um erro de sintaxe óbvio e deliberado no início do programa. Agora execute-o novamente. Se o interpretador não encontrar o novo erro, você não está executando o novo código.</p>\n",
    "<p>Há alguns culpados prováveis:</p>\n",
    "<ul>\n",
    "<li>\n",
    "<p>Você editou o arquivo e esqueceu de salvar as alterações antes de executá-lo novamente. Alguns ambientes de programação fazem isso para você, mas alguns não fazem.</p>\n",
    "</li>\n",
    "<li>\n",
    "<p>Você mudou o nome do arquivo, mas ainda está executando o nome antigo.</p>\n",
    "</li>\n",
    "<li>\n",
    "<p>Algo no seu ambiente de desenvolvimento está configurado incorretamente.</p>\n",
    "</li>\n",
    "<li>\n",
    "<p>Se estiver escrevendo um módulo e usando <code>import</code>, confira se não usou o mesmo nome no seu módulo que os dos módulos padrão do Python.</p>\n",
    "</li>\n",
    "<li>\n",
    "<p>Se você estiver usando import para ler um módulo, lembre-se de que é preciso reiniciar o interpretador ou usar reload para ler um arquivo alterado. Se importar o módulo novamente, ele não faz nada.</p>\n",
    "</li>\n",
    "</ul>\n",
    "<p>Se já esgotou as possibilidades e não conseguiu descobrir o que está acontecendo, uma abordagem é começar novamente com um programa como <i>“Hello, World!”</i>, para ter certeza de que consegue executar um programa conhecido. Então, gradualmente acrescente as partes do programa original ao novo.</p>\n",
    "<h2><a id=\"user-content-a2---erros-de-tempo-de-execução\" class=\"anchor\" aria-hidden=\"true\" href=\"#a2---erros-de-tempo-de-execução\"><svg class=\"octicon octicon-link\" viewBox=\"0 0 16 16\" version=\"1.1\" width=\"16\" height=\"16\" aria-hidden=\"true\"><path fill-rule=\"evenodd\" d=\"M4 9h1v1H4c-1.5 0-3-1.69-3-3.5S2.55 3 4 3h4c1.45 0 3 1.69 3 3.5 0 1.41-.91 2.72-2 3.25V8.59c.58-.45 1-1.27 1-2.09C10 5.22 8.98 4 8 4H4c-.98 0-2 1.22-2 2.5S3 9 4 9zm9-3h-1v1h1c1 0 2 1.22 2 2.5S13.98 12 13 12H9c-.98 0-2-1.22-2-2.5 0-.83.42-1.64 1-2.09V6.25c-1.09.53-2 1.84-2 3.25C6 11.31 7.55 13 9 13h4c1.45 0 3-1.69 3-3.5S14.5 6 13 6z\"></path></svg></a>A.2 - Erros de tempo de execução</h2>\n",
    "<p>Uma vez que o seu programa esteja sintaticamente correto, o Python pode lê-lo e, pelo menos, começar a executá-lo. O que poderia dar errado?</p>\n",
    "<h3><a id=\"user-content-a21---meu-programa-não-faz-nada\" class=\"anchor\" aria-hidden=\"true\" href=\"#a21---meu-programa-não-faz-nada\"><svg class=\"octicon octicon-link\" viewBox=\"0 0 16 16\" version=\"1.1\" width=\"16\" height=\"16\" aria-hidden=\"true\"><path fill-rule=\"evenodd\" d=\"M4 9h1v1H4c-1.5 0-3-1.69-3-3.5S2.55 3 4 3h4c1.45 0 3 1.69 3 3.5 0 1.41-.91 2.72-2 3.25V8.59c.58-.45 1-1.27 1-2.09C10 5.22 8.98 4 8 4H4c-.98 0-2 1.22-2 2.5S3 9 4 9zm9-3h-1v1h1c1 0 2 1.22 2 2.5S13.98 12 13 12H9c-.98 0-2-1.22-2-2.5 0-.83.42-1.64 1-2.09V6.25c-1.09.53-2 1.84-2 3.25C6 11.31 7.55 13 9 13h4c1.45 0 3-1.69 3-3.5S14.5 6 13 6z\"></path></svg></a>A.2.1 - Meu programa não faz nada</h3>\n",
    "<p>Este problema é mais comum quando o seu arquivo é composto de funções e classes, mas na verdade não invoca uma função para começar a execução. Isso pode ser intencional se você só planeja importar este módulo para fornecer classes e funções.</p>\n",
    "<p>Se não for intencional, tenha certeza de que há uma chamada de função no programa, e que o fluxo de execução o alcança (veja “Fluxo da execução” a seguir).</p>\n",
    "<h3><a id=\"user-content-a22---meu-programa-trava\" class=\"anchor\" aria-hidden=\"true\" href=\"#a22---meu-programa-trava\"><svg class=\"octicon octicon-link\" viewBox=\"0 0 16 16\" version=\"1.1\" width=\"16\" height=\"16\" aria-hidden=\"true\"><path fill-rule=\"evenodd\" d=\"M4 9h1v1H4c-1.5 0-3-1.69-3-3.5S2.55 3 4 3h4c1.45 0 3 1.69 3 3.5 0 1.41-.91 2.72-2 3.25V8.59c.58-.45 1-1.27 1-2.09C10 5.22 8.98 4 8 4H4c-.98 0-2 1.22-2 2.5S3 9 4 9zm9-3h-1v1h1c1 0 2 1.22 2 2.5S13.98 12 13 12H9c-.98 0-2-1.22-2-2.5 0-.83.42-1.64 1-2.09V6.25c-1.09.53-2 1.84-2 3.25C6 11.31 7.55 13 9 13h4c1.45 0 3-1.69 3-3.5S14.5 6 13 6z\"></path></svg></a>A.2.2 - Meu programa trava</h3>\n",
    "<p>Se um programa parar e parecer que não está fazendo nada, ele está “travado”. Muitas vezes isso significa que está preso em um <i>loop</i> ou recursão infinita.</p>\n",
    "<ul>\n",
    "<li>\n",
    "<p>Se houver determinado <i>loop</i> que você suspeita ser o problema, acrescente uma instrução <code>print</code> imediatamente antes do <i>loop</i> que diga “entrando no <i>loop</i>”, e outra imediatamente depois que diga “saindo do <i>loop</i>”.\n",
    "<br><br>Execute o programa. Se receber a primeira mensagem e a segunda não, você tem um loop infinito. Vá à seção “Loop infinito” mais adiante.</p>\n",
    "</li>\n",
    "<li>\n",
    "<p>Na maior parte do tempo, a recursividade infinita fará com que o programa seja executado durante algum tempo e então gere um erro <i>“RuntimeError: Maximum recursion depth exceeded”</i>. Se isso acontecer, vá à seção “Recursividade infinita” mais adiante.\n",
    "<br><br>Se não estiver recebendo este erro, mas suspeita que há um problema com um método ou função recursiva, você ainda pode usar as técnicas da seção “Recursividade infinita”.</p>\n",
    "</li>\n",
    "<li>\n",
    "<p>Se nenhum desses passos funcionar, comece a testar outros <i>loops</i> e outras funções e métodos recursivos.</p>\n",
    "</li>\n",
    "<li>\n",
    "<p>Se isso não funcionar, então é possível que você não entenda o fluxo de execução do seu programa. Vá à seção “Fluxo de execução” mais adiante.</p>\n",
    "</li>\n",
    "</ul>\n",
    "<h4><a id=\"user-content-loop-infinito\" class=\"anchor\" aria-hidden=\"true\" href=\"#loop-infinito\"><svg class=\"octicon octicon-link\" viewBox=\"0 0 16 16\" version=\"1.1\" width=\"16\" height=\"16\" aria-hidden=\"true\"><path fill-rule=\"evenodd\" d=\"M4 9h1v1H4c-1.5 0-3-1.69-3-3.5S2.55 3 4 3h4c1.45 0 3 1.69 3 3.5 0 1.41-.91 2.72-2 3.25V8.59c.58-.45 1-1.27 1-2.09C10 5.22 8.98 4 8 4H4c-.98 0-2 1.22-2 2.5S3 9 4 9zm9-3h-1v1h1c1 0 2 1.22 2 2.5S13.98 12 13 12H9c-.98 0-2-1.22-2-2.5 0-.83.42-1.64 1-2.09V6.25c-1.09.53-2 1.84-2 3.25C6 11.31 7.55 13 9 13h4c1.45 0 3-1.69 3-3.5S14.5 6 13 6z\"></path></svg></a>Loop infinito</h4>\n",
    "<p>Se você acha que há um <i>loop</i> infinito e talvez saiba qual <i>loop</i> está causando o problema, acrescente uma instrução <code>print</code> no fim do <i>loop</i> que exiba os valores das variáveis na condição e o valor da condição.</p>\n",
    "<p>Por exemplo:</p>"
   ]
  },
  {
   "cell_type": "markdown",
   "metadata": {},
   "source": [
    "```python\n",
    "while x > 0 and y < 0:\n",
    "    # faz algo com x\n",
    "    # faz algo com y\n",
    "    print('x:', x)\n",
    "    print('y:', y)\n",
    "    print(\"condition:\", (x > 0 and y < 0))\n",
    "```"
   ]
  },
  {
   "cell_type": "markdown",
   "metadata": {},
   "source": [
    "<p>Agora, quando executar o programa, você verá três linhas de saída para cada vez que o programa passar pelo <i>loop</i>. Na última vez que passar pelo <i>loop</i>, a condição deve ser <code>False</code>. Se o <i>loop</i> continuar, você poderá ver os valores de x e y, e compreender porque não estão sendo atualizados corretamente.</p>\n",
    "<h4><a id=\"user-content-recursividade-infinita\" class=\"anchor\" aria-hidden=\"true\" href=\"#recursividade-infinita\"><svg class=\"octicon octicon-link\" viewBox=\"0 0 16 16\" version=\"1.1\" width=\"16\" height=\"16\" aria-hidden=\"true\"><path fill-rule=\"evenodd\" d=\"M4 9h1v1H4c-1.5 0-3-1.69-3-3.5S2.55 3 4 3h4c1.45 0 3 1.69 3 3.5 0 1.41-.91 2.72-2 3.25V8.59c.58-.45 1-1.27 1-2.09C10 5.22 8.98 4 8 4H4c-.98 0-2 1.22-2 2.5S3 9 4 9zm9-3h-1v1h1c1 0 2 1.22 2 2.5S13.98 12 13 12H9c-.98 0-2-1.22-2-2.5 0-.83.42-1.64 1-2.09V6.25c-1.09.53-2 1.84-2 3.25C6 11.31 7.55 13 9 13h4c1.45 0 3-1.69 3-3.5S14.5 6 13 6z\"></path></svg></a>Recursividade infinita</h4>\n",
    "<p>Na maioria das vezes, a recursividade infinita faz o programa rodar durante algum tempo e então produzir um erro de <i>\"Maximum recursion depth exceeded\"</i>.</p>\n",
    "<p>Se suspeitar que uma função está causando recursividade infinita, confira se há um caso-base. Deve haver alguma condição que faz a função retornar sem fazer uma invocação recursiva. Do contrário, você terá que repensar o algoritmo e identificar um caso-base.</p>\n",
    "<p>Se houver um caso-base, mas o programa não parece alcançá-lo, acrescente uma instrução <code>print</code> no início da função para exibir os parâmetros. Agora, quando executar o programa, você verá algumas linhas de saída cada vez que a função for invocada, e verá os valores dos parâmetros. Se os parâmetros não estiverem se movendo em direção ao caso-base, você terá algumas ideias sobre a razão disso.</p>\n",
    "<h4><a id=\"user-content-fluxo-de-execução\" class=\"anchor\" aria-hidden=\"true\" href=\"#fluxo-de-execução\"><svg class=\"octicon octicon-link\" viewBox=\"0 0 16 16\" version=\"1.1\" width=\"16\" height=\"16\" aria-hidden=\"true\"><path fill-rule=\"evenodd\" d=\"M4 9h1v1H4c-1.5 0-3-1.69-3-3.5S2.55 3 4 3h4c1.45 0 3 1.69 3 3.5 0 1.41-.91 2.72-2 3.25V8.59c.58-.45 1-1.27 1-2.09C10 5.22 8.98 4 8 4H4c-.98 0-2 1.22-2 2.5S3 9 4 9zm9-3h-1v1h1c1 0 2 1.22 2 2.5S13.98 12 13 12H9c-.98 0-2-1.22-2-2.5 0-.83.42-1.64 1-2.09V6.25c-1.09.53-2 1.84-2 3.25C6 11.31 7.55 13 9 13h4c1.45 0 3-1.69 3-3.5S14.5 6 13 6z\"></path></svg></a>Fluxo de execução</h4>\n",
    "<p>Se não tiver certeza de como o fluxo de execução está se movendo pelo seu programa, acrescente instruções <code>print</code> ao começo de cada função com uma mensagem como “entrada na função foo”, onde foo é o nome da função.</p>\n",
    "<p>Agora, quando executar o programa, ele exibirá cada função que for invocada.</p>\n",
    "<h3><a id=\"user-content-a23---quando-executo-o-programa-recebo-uma-exceção\" class=\"anchor\" aria-hidden=\"true\" href=\"#a23---quando-executo-o-programa-recebo-uma-exceção\"><svg class=\"octicon octicon-link\" viewBox=\"0 0 16 16\" version=\"1.1\" width=\"16\" height=\"16\" aria-hidden=\"true\"><path fill-rule=\"evenodd\" d=\"M4 9h1v1H4c-1.5 0-3-1.69-3-3.5S2.55 3 4 3h4c1.45 0 3 1.69 3 3.5 0 1.41-.91 2.72-2 3.25V8.59c.58-.45 1-1.27 1-2.09C10 5.22 8.98 4 8 4H4c-.98 0-2 1.22-2 2.5S3 9 4 9zm9-3h-1v1h1c1 0 2 1.22 2 2.5S13.98 12 13 12H9c-.98 0-2-1.22-2-2.5 0-.83.42-1.64 1-2.09V6.25c-1.09.53-2 1.84-2 3.25C6 11.31 7.55 13 9 13h4c1.45 0 3-1.69 3-3.5S14.5 6 13 6z\"></path></svg></a>A.2.3 - Quando executo o programa recebo uma exceção</h3>\n",
    "<p>Se algo der errado durante o tempo de execução, o Python exibe uma mensagem que inclui o nome da exceção, a linha do programa onde o problema ocorreu, e um <i>traceback</i>.</p>\n",
    "<p>O <i>traceback</i> identifica a função que está rodando atualmente, e a função que a chamou, assim como a função que chamou esta, e assim por diante. Em outras palavras, ele traça a sequência de chamadas de função que fez com que você chegasse onde está, incluindo o número da linha no seu arquivo onde cada chamada ocorreu.</p>\n",
    "<p>O primeiro passo é examinar o lugar no programa onde o erro ocorreu e ver se consegue compreender o que aconteceu. Esses são alguns dos erros de tempo de execução mais comuns:</p>\n",
    "<h4><a id=\"user-content-nameerror\" class=\"anchor\" aria-hidden=\"true\" href=\"#nameerror\"><svg class=\"octicon octicon-link\" viewBox=\"0 0 16 16\" version=\"1.1\" width=\"16\" height=\"16\" aria-hidden=\"true\"><path fill-rule=\"evenodd\" d=\"M4 9h1v1H4c-1.5 0-3-1.69-3-3.5S2.55 3 4 3h4c1.45 0 3 1.69 3 3.5 0 1.41-.91 2.72-2 3.25V8.59c.58-.45 1-1.27 1-2.09C10 5.22 8.98 4 8 4H4c-.98 0-2 1.22-2 2.5S3 9 4 9zm9-3h-1v1h1c1 0 2 1.22 2 2.5S13.98 12 13 12H9c-.98 0-2-1.22-2-2.5 0-.83.42-1.64 1-2.09V6.25c-1.09.53-2 1.84-2 3.25C6 11.31 7.55 13 9 13h4c1.45 0 3-1.69 3-3.5S14.5 6 13 6z\"></path></svg></a><i>NameError</i></h4>\n",
    "<p>Você está tentando usar uma variável que não existe no ambiente atual. Confira se o nome está escrito corretamente e de forma consistente. E lembre-se de que as variáveis locais são locais; você não pode se referir a elas a partir do exterior da função onde são definidas.</p>\n",
    "<h4><a id=\"user-content-typeerror\" class=\"anchor\" aria-hidden=\"true\" href=\"#typeerror\"><svg class=\"octicon octicon-link\" viewBox=\"0 0 16 16\" version=\"1.1\" width=\"16\" height=\"16\" aria-hidden=\"true\"><path fill-rule=\"evenodd\" d=\"M4 9h1v1H4c-1.5 0-3-1.69-3-3.5S2.55 3 4 3h4c1.45 0 3 1.69 3 3.5 0 1.41-.91 2.72-2 3.25V8.59c.58-.45 1-1.27 1-2.09C10 5.22 8.98 4 8 4H4c-.98 0-2 1.22-2 2.5S3 9 4 9zm9-3h-1v1h1c1 0 2 1.22 2 2.5S13.98 12 13 12H9c-.98 0-2-1.22-2-2.5 0-.83.42-1.64 1-2.09V6.25c-1.09.53-2 1.84-2 3.25C6 11.31 7.55 13 9 13h4c1.45 0 3-1.69 3-3.5S14.5 6 13 6z\"></path></svg></a><i>TypeError</i></h4>\n",
    "<p>Há várias causas possíveis:</p>\n",
    "<ul>\n",
    "<li>\n",
    "<p>Você está tentando usar um valor de forma inadequada. Exemplo: indexar uma string, lista ou tupla com algo diferente de um número inteiro.</p>\n",
    "</li>\n",
    "<li>\n",
    "<p>Não há correspondência entre os itens em uma string de formatação e os itens passados para conversão. Isso pode acontecer se o número de itens não tiver correspondência ou uma conversão inválida for chamada.</p>\n",
    "</li>\n",
    "<li>\n",
    "<p>Você está passando o número incorreto de argumentos a uma função. Para métodos, olhe para a definição do método e verifique se o primeiro parâmetro é self. Então olhe para a invocação do método; confira se está invocando o método a um objeto com o tipo correto e fornecendo os outros argumentos corretamente.</p>\n",
    "</li>\n",
    "</ul>\n",
    "<h4><a id=\"user-content-keyerror\" class=\"anchor\" aria-hidden=\"true\" href=\"#keyerror\"><svg class=\"octicon octicon-link\" viewBox=\"0 0 16 16\" version=\"1.1\" width=\"16\" height=\"16\" aria-hidden=\"true\"><path fill-rule=\"evenodd\" d=\"M4 9h1v1H4c-1.5 0-3-1.69-3-3.5S2.55 3 4 3h4c1.45 0 3 1.69 3 3.5 0 1.41-.91 2.72-2 3.25V8.59c.58-.45 1-1.27 1-2.09C10 5.22 8.98 4 8 4H4c-.98 0-2 1.22-2 2.5S3 9 4 9zm9-3h-1v1h1c1 0 2 1.22 2 2.5S13.98 12 13 12H9c-.98 0-2-1.22-2-2.5 0-.83.42-1.64 1-2.09V6.25c-1.09.53-2 1.84-2 3.25C6 11.31 7.55 13 9 13h4c1.45 0 3-1.69 3-3.5S14.5 6 13 6z\"></path></svg></a><i>KeyError</i></h4>\n",
    "<p>Você está tentando acessar um elemento de um dicionário usando uma chave que o dicionário não contém. Se as chaves forem strings, lembre-se de que letras maiúsculas são diferentes de minúsculas.</p>\n",
    "<h4><a id=\"user-content-attributeerror\" class=\"anchor\" aria-hidden=\"true\" href=\"#attributeerror\"><svg class=\"octicon octicon-link\" viewBox=\"0 0 16 16\" version=\"1.1\" width=\"16\" height=\"16\" aria-hidden=\"true\"><path fill-rule=\"evenodd\" d=\"M4 9h1v1H4c-1.5 0-3-1.69-3-3.5S2.55 3 4 3h4c1.45 0 3 1.69 3 3.5 0 1.41-.91 2.72-2 3.25V8.59c.58-.45 1-1.27 1-2.09C10 5.22 8.98 4 8 4H4c-.98 0-2 1.22-2 2.5S3 9 4 9zm9-3h-1v1h1c1 0 2 1.22 2 2.5S13.98 12 13 12H9c-.98 0-2-1.22-2-2.5 0-.83.42-1.64 1-2.09V6.25c-1.09.53-2 1.84-2 3.25C6 11.31 7.55 13 9 13h4c1.45 0 3-1.69 3-3.5S14.5 6 13 6z\"></path></svg></a><i>AttributeError</i></h4>\n",
    "<p>Você está tentando acessar um atributo ou método que não existe. Verifique a ortografia! Você pode usar a função integrada <code>vars</code> para listar os atributos que existem mesmo.</p>\n",
    "<p>Se um <i>AttributeError</i> indicar que um objeto é do tipo <i>NoneType</i>, fica subentendido que é <code>None</code>. Então o problema não é o nome do atributo, mas o objeto.</p>\n",
    "<p>Pode ser que o objeto seja <code>None</code> porque você se esqueceu de retornar um valor de uma função; se chegar ao fim de uma função sem chegar a uma instrução <code>return</code>, ela retorna <code>None</code>. Outra causa comum é usar o resultado de um método de lista, como <code>sort</code>, que retorne <code>None</code>.</p>\n",
    "<h4><a id=\"user-content-indexerror\" class=\"anchor\" aria-hidden=\"true\" href=\"#indexerror\"><svg class=\"octicon octicon-link\" viewBox=\"0 0 16 16\" version=\"1.1\" width=\"16\" height=\"16\" aria-hidden=\"true\"><path fill-rule=\"evenodd\" d=\"M4 9h1v1H4c-1.5 0-3-1.69-3-3.5S2.55 3 4 3h4c1.45 0 3 1.69 3 3.5 0 1.41-.91 2.72-2 3.25V8.59c.58-.45 1-1.27 1-2.09C10 5.22 8.98 4 8 4H4c-.98 0-2 1.22-2 2.5S3 9 4 9zm9-3h-1v1h1c1 0 2 1.22 2 2.5S13.98 12 13 12H9c-.98 0-2-1.22-2-2.5 0-.83.42-1.64 1-2.09V6.25c-1.09.53-2 1.84-2 3.25C6 11.31 7.55 13 9 13h4c1.45 0 3-1.69 3-3.5S14.5 6 13 6z\"></path></svg></a>IndexError</h4>\n",
    "<p>O índice que você está usando para acessar uma lista, string ou tupla é maior que o seu comprimento menos um. Imediatamente antes do local do erro, acrescente uma instrução <code>print</code> para exibir o valor do índice e o comprimento do <i>array</i>. O <i>array</i> é do tamanho certo? O índice tem o valor certo?</p>\n",
    "<p>O depurador do Python (pdb) é útil para rastrear exceções porque permite examinar o estado do programa imediatamente antes do erro. Você pode ler sobre o pdb em <a href=\"https://docs.python.org/3/library/pdb.html\" rel=\"nofollow\">https://docs.python.org/3/library/pdb.html</a>.</p>\n",
    "<h3><a id=\"user-content-a24---acrescentei-tantas-instruções-print-que-fui-inundado-pelos-resultados\" class=\"anchor\" aria-hidden=\"true\" href=\"#a24---acrescentei-tantas-instruções-print-que-fui-inundado-pelos-resultados\"><svg class=\"octicon octicon-link\" viewBox=\"0 0 16 16\" version=\"1.1\" width=\"16\" height=\"16\" aria-hidden=\"true\"><path fill-rule=\"evenodd\" d=\"M4 9h1v1H4c-1.5 0-3-1.69-3-3.5S2.55 3 4 3h4c1.45 0 3 1.69 3 3.5 0 1.41-.91 2.72-2 3.25V8.59c.58-.45 1-1.27 1-2.09C10 5.22 8.98 4 8 4H4c-.98 0-2 1.22-2 2.5S3 9 4 9zm9-3h-1v1h1c1 0 2 1.22 2 2.5S13.98 12 13 12H9c-.98 0-2-1.22-2-2.5 0-.83.42-1.64 1-2.09V6.25c-1.09.53-2 1.84-2 3.25C6 11.31 7.55 13 9 13h4c1.45 0 3-1.69 3-3.5S14.5 6 13 6z\"></path></svg></a>A.2.4 - Acrescentei tantas instruções <code>print</code> que fui inundado pelos resultados</h3>\n",
    "<p>Um dos problemas com a utilização de instruções <code>print</code> para a depuração é que você pode terminar enterrado pelos resultados. Há duas formas de prosseguir: simplifique a saída ou simplifique o programa.</p>\n",
    "<p>Para simplificar a saída, você pode retirar ou transformar as instruções <code>print</code> que não estão ajudando em comentários, ou combiná-las, ou formatar a saída para que seja mais fácil de entender.</p>\n",
    "<p>Para simplificar o programa, há várias coisas que você pode fazer. Em primeiro lugar, reduza o problema no qual o programa está trabalhando. Por exemplo, se está fazendo uma busca em uma lista, procure em uma lista pequena. Se o programa receber entradas do usuário, dê a entrada mais simples possível que cause o problema.</p>\n",
    "<p>Em segundo lugar, limpe o programa. Retire o código morto e reorganize o programa para torná-lo o mais fácil possível de ler. Por exemplo, se você suspeitar que o problema está em uma parte profundamente aninhada do programa, tente reescrever aquela parte com uma estrutura mais simples. Se suspeitar de uma função grande, tente quebrá-la em funções menores para testá-las separadamente.</p>\n",
    "<p>Muitas vezes, o próprio processo de encontrar o caso de teste mínimo leva você ao problema. Se descobrir que um programa funciona em uma situação, mas não em outra, isso dá uma pista sobre o que está acontecendo.</p>\n",
    "<p>De forma similar, reescrever uma parte do código pode ajudar a encontrar erros sutis. Se fizer uma alteração que você ache que não vai afetar o programa, mas que acabe afetando, isso pode ajudá-lo.</p>\n",
    "<h2><a id=\"user-content-a3---erros-semânticos\" class=\"anchor\" aria-hidden=\"true\" href=\"#a3---erros-semânticos\"><svg class=\"octicon octicon-link\" viewBox=\"0 0 16 16\" version=\"1.1\" width=\"16\" height=\"16\" aria-hidden=\"true\"><path fill-rule=\"evenodd\" d=\"M4 9h1v1H4c-1.5 0-3-1.69-3-3.5S2.55 3 4 3h4c1.45 0 3 1.69 3 3.5 0 1.41-.91 2.72-2 3.25V8.59c.58-.45 1-1.27 1-2.09C10 5.22 8.98 4 8 4H4c-.98 0-2 1.22-2 2.5S3 9 4 9zm9-3h-1v1h1c1 0 2 1.22 2 2.5S13.98 12 13 12H9c-.98 0-2-1.22-2-2.5 0-.83.42-1.64 1-2.09V6.25c-1.09.53-2 1.84-2 3.25C6 11.31 7.55 13 9 13h4c1.45 0 3-1.69 3-3.5S14.5 6 13 6z\"></path></svg></a>A.3 - Erros semânticos</h2>\n",
    "<p>De algumas formas, os erros semânticos são os mais difíceis de depurar, porque o interpretador não fornece nenhuma informação sobre qual é o problema. Só você sabe o que o programa deve fazer.</p>\n",
    "<p>O primeiro passo é fazer uma conexão entre o texto do programa e o comportamento que está vendo. Você precisa de uma hipótese sobre o que o programa está fazendo de fato. Uma das coisas que torna isso difícil é que os computadores são rápidos.</p>\n",
    "<p>Pode ser que você queira diminuir a velocidade do programa para ser equivalente à humana; com alguns depuradores é possível fazer isso. No entanto, o tempo que leva para inserir instruções print bem colocadas muitas vezes é curto em comparação ao da configuração do depurador, inserção e remoção de marcações e colocação do “compasso” do programa onde o erro está ocorrendo.</p>\n",
    "<h3><a id=\"user-content-a31---meu-programa-não-funciona\" class=\"anchor\" aria-hidden=\"true\" href=\"#a31---meu-programa-não-funciona\"><svg class=\"octicon octicon-link\" viewBox=\"0 0 16 16\" version=\"1.1\" width=\"16\" height=\"16\" aria-hidden=\"true\"><path fill-rule=\"evenodd\" d=\"M4 9h1v1H4c-1.5 0-3-1.69-3-3.5S2.55 3 4 3h4c1.45 0 3 1.69 3 3.5 0 1.41-.91 2.72-2 3.25V8.59c.58-.45 1-1.27 1-2.09C10 5.22 8.98 4 8 4H4c-.98 0-2 1.22-2 2.5S3 9 4 9zm9-3h-1v1h1c1 0 2 1.22 2 2.5S13.98 12 13 12H9c-.98 0-2-1.22-2-2.5 0-.83.42-1.64 1-2.09V6.25c-1.09.53-2 1.84-2 3.25C6 11.31 7.55 13 9 13h4c1.45 0 3-1.69 3-3.5S14.5 6 13 6z\"></path></svg></a>A.3.1 - Meu programa não funciona</h3>\n",
    "<p>Você deve se perguntar o seguinte:</p>\n",
    "<ul>\n",
    "<li>\n",
    "<p>Há algo que o programa deveria fazer, mas que não parece acontecer? Encontre a seção do código que executa a função em questão e confira se está sendo executada quando você acha que deveria.</p>\n",
    "</li>\n",
    "<li>\n",
    "<p>Algo está acontecendo, mas não o que deveria? Encontre o código no seu programa que executa a função em questão e veja se está sendo executada na hora errada.</p>\n",
    "</li>\n",
    "<li>\n",
    "<p>Uma seção do código está produzindo um efeito que não é o esperado? Tenha certeza de que entende o código em questão, especialmente se envolver funções ou métodos de outros módulos do Python. Leia a documentação das funções que chama. Teste-as escrevendo casos de teste simples e verificando os resultados.</p>\n",
    "</li>\n",
    "</ul>\n",
    "<p>Para programar, é preciso ter um modelo mental de como os programas funcionam. Se escrever um programa que não faz o que espera, muitas vezes o problema não está no programa, está no seu modelo mental.</p>\n",
    "<p>A melhor forma de corrigir o seu modelo mental é quebrar o programa nos seus componentes (normalmente as funções e métodos) e testar cada componente em separado. Uma vez que encontre a discrepância entre o seu modelo e a realidade, poderá resolver o problema.</p>\n",
    "<p>Naturalmente, você deveria construir e testar componentes conforme desenvolva o programa. Assim, se encontrar um problema, deve haver só uma pequena quantidade de código novo que não sabe se está correto.</p>\n",
    "<h3><a id=\"user-content-a32---tenho-uma-baita-expressão-cabeluda-e-ela-não-faz-o-que-espero\" class=\"anchor\" aria-hidden=\"true\" href=\"#a32---tenho-uma-baita-expressão-cabeluda-e-ela-não-faz-o-que-espero\"><svg class=\"octicon octicon-link\" viewBox=\"0 0 16 16\" version=\"1.1\" width=\"16\" height=\"16\" aria-hidden=\"true\"><path fill-rule=\"evenodd\" d=\"M4 9h1v1H4c-1.5 0-3-1.69-3-3.5S2.55 3 4 3h4c1.45 0 3 1.69 3 3.5 0 1.41-.91 2.72-2 3.25V8.59c.58-.45 1-1.27 1-2.09C10 5.22 8.98 4 8 4H4c-.98 0-2 1.22-2 2.5S3 9 4 9zm9-3h-1v1h1c1 0 2 1.22 2 2.5S13.98 12 13 12H9c-.98 0-2-1.22-2-2.5 0-.83.42-1.64 1-2.09V6.25c-1.09.53-2 1.84-2 3.25C6 11.31 7.55 13 9 13h4c1.45 0 3-1.69 3-3.5S14.5 6 13 6z\"></path></svg></a>A.3.2 - Tenho uma baita expressão cabeluda e ela não faz o que espero</h3>\n",
    "<p>Escrever expressões complexas é ótimo enquanto são legíveis, mas elas podem ser difíceis de depurar. Muitas vezes é uma boa ideia quebrar uma expressão complexa em uma série de atribuições a variáveis temporárias.</p>\n",
    "<p>Por exemplo:</p>"
   ]
  },
  {
   "cell_type": "markdown",
   "metadata": {},
   "source": [
    "```python\n",
    "self.hands[i].addCard(self.hands[self.findNeighbor(i)].popCard())\n",
    "```"
   ]
  },
  {
   "cell_type": "markdown",
   "metadata": {},
   "source": [
    "<p>A expressão pode ser reescrita assim:</p>"
   ]
  },
  {
   "cell_type": "markdown",
   "metadata": {},
   "source": [
    "```python\n",
    "neighbor = self.findNeighbor(i)\n",
    "pickedCard = self.hands[neighbor].popCard()\n",
    "self.hands[i].addCard(pickedCard)\n",
    "```"
   ]
  },
  {
   "cell_type": "markdown",
   "metadata": {},
   "source": [
    "<p>A versão explícita é mais fácil de ler porque os nomes das variáveis oferecem documentação adicional, e é mais fácil de depurar porque você pode verificar os tipos das variáveis intermediárias e exibir seus valores.</p>\n",
    "<p>Outro problema que pode ocorrer com grandes expressões é que a ordem da avaliação pode não ser o que você espera. Por exemplo, se estiver traduzindo a expressão <a target=\"_blank\" rel=\"noopener noreferrer\" href=\"https://github.com/PenseAllen/PensePython2e/raw/master/fig/p242f1.png\"><img src=\"https://github.com/PenseAllen/PensePython2e/raw/master/fig/p242f1.png\" alt=\"Fórmula – x / (2 * pi) em notação matemática.\" style=\"max-width:100%;\"></a> para o Python, poderia escrever:</p>"
   ]
  },
  {
   "cell_type": "markdown",
   "metadata": {},
   "source": [
    "```python\n",
    "y = x / 2 * math.pi\n",
    "```"
   ]
  },
  {
   "cell_type": "markdown",
   "metadata": {},
   "source": [
    "<p>Isso não está correto porque a multiplicação e a divisão têm a mesma precedência e são avaliadas da esquerda para a direita. Então, é assim que essa expressão é calculada: xπ/2.</p>\n",
    "<p>Uma boa forma de depurar expressões é acrescentar parênteses para tornar a ordem da avaliação explícita:</p>"
   ]
  },
  {
   "cell_type": "markdown",
   "metadata": {},
   "source": [
    "```python\n",
    "y = x / (2 * math.pi)\n",
    "```"
   ]
  },
  {
   "cell_type": "markdown",
   "metadata": {},
   "source": [
    "<p>Sempre que não tiver certeza sobre a ordem da avaliação, use parênteses. Além de o programa ficar correto (quanto à execução do que era pretendido), ele também será mais legível para outras pessoas que não memorizaram a ordem de operações.</p>\n",
    "<h3><a id=\"user-content-a33---tenho-uma-função-que-não-retorna-o-que-espero\" class=\"anchor\" aria-hidden=\"true\" href=\"#a33---tenho-uma-função-que-não-retorna-o-que-espero\"><svg class=\"octicon octicon-link\" viewBox=\"0 0 16 16\" version=\"1.1\" width=\"16\" height=\"16\" aria-hidden=\"true\"><path fill-rule=\"evenodd\" d=\"M4 9h1v1H4c-1.5 0-3-1.69-3-3.5S2.55 3 4 3h4c1.45 0 3 1.69 3 3.5 0 1.41-.91 2.72-2 3.25V8.59c.58-.45 1-1.27 1-2.09C10 5.22 8.98 4 8 4H4c-.98 0-2 1.22-2 2.5S3 9 4 9zm9-3h-1v1h1c1 0 2 1.22 2 2.5S13.98 12 13 12H9c-.98 0-2-1.22-2-2.5 0-.83.42-1.64 1-2.09V6.25c-1.09.53-2 1.84-2 3.25C6 11.31 7.55 13 9 13h4c1.45 0 3-1.69 3-3.5S14.5 6 13 6z\"></path></svg></a>A.3.3 - Tenho uma função que não retorna o que espero</h3>\n",
    "<p>Se tiver uma instrução <code>return</code> com uma expressão complexa, não há possibilidade de exibir o resultado antes do retorno. Novamente, você pode usar uma variável temporária. Por exemplo, em vez de:</p>"
   ]
  },
  {
   "cell_type": "markdown",
   "metadata": {},
   "source": [
    "```python\n",
    "return self.hands[i].removeMatches()\n",
    "```"
   ]
  },
  {
   "cell_type": "markdown",
   "metadata": {},
   "source": [
    "<p>você poderia escrever:</p>"
   ]
  },
  {
   "cell_type": "markdown",
   "metadata": {},
   "source": [
    "```python\n",
    "count = self.hands[i].removeMatches()\n",
    "return count\n",
    "```"
   ]
  },
  {
   "cell_type": "markdown",
   "metadata": {},
   "source": [
    "<p>Agora você tem a oportunidade de exibir o valor de <code>count</code> antes do retorno.</p>\n",
    "<h3><a id=\"user-content-a34---estou-perdido-e-preciso-de-ajuda\" class=\"anchor\" aria-hidden=\"true\" href=\"#a34---estou-perdido-e-preciso-de-ajuda\"><svg class=\"octicon octicon-link\" viewBox=\"0 0 16 16\" version=\"1.1\" width=\"16\" height=\"16\" aria-hidden=\"true\"><path fill-rule=\"evenodd\" d=\"M4 9h1v1H4c-1.5 0-3-1.69-3-3.5S2.55 3 4 3h4c1.45 0 3 1.69 3 3.5 0 1.41-.91 2.72-2 3.25V8.59c.58-.45 1-1.27 1-2.09C10 5.22 8.98 4 8 4H4c-.98 0-2 1.22-2 2.5S3 9 4 9zm9-3h-1v1h1c1 0 2 1.22 2 2.5S13.98 12 13 12H9c-.98 0-2-1.22-2-2.5 0-.83.42-1.64 1-2.09V6.25c-1.09.53-2 1.84-2 3.25C6 11.31 7.55 13 9 13h4c1.45 0 3-1.69 3-3.5S14.5 6 13 6z\"></path></svg></a>A.3.4 - Estou perdido e preciso de ajuda</h3>\n",
    "<p>Em primeiro lugar, afaste-se do computador por alguns minutos. Computadores emitem ondas que afetam o cérebro, causando estes sintomas:</p>\n",
    "<ul>\n",
    "<li>\n",
    "<p>frustração e raiva;</p>\n",
    "</li>\n",
    "<li>\n",
    "<p>crenças supersticiosas (“o computador me odeia”) e pensamento mágico (“o programa só funciona quando uso o meu chapéu virado para trás”);</p>\n",
    "</li>\n",
    "<li>\n",
    "<p>programação aleatória (a tentativa de programar escrevendo todos os programas possíveis e escolhendo aquele que faz a coisa certa).</p>\n",
    "</li>\n",
    "</ul>\n",
    "<p>Se estiver sofrendo algum desses sintomas, levante-se e dê uma volta. Quando se acalmar, pense no programa. O que ele está fazendo? Quais são algumas causas possíveis para esse comportamento? Quando foi a última vez que tinha um programa funcionando, e o que fez depois disso?</p>\n",
    "<p>Às vezes leva tempo para encontrar um erro. Com frequência encontro erros quando estou longe do computador e deixo a minha mente vagar. Os melhores lugares para encontrar erros são os trens, o chuveiro e a cama, logo antes de adormecer.</p>\n",
    "<h3><a id=\"user-content-a35---sério-preciso-mesmo-de-ajuda\" class=\"anchor\" aria-hidden=\"true\" href=\"#a35---sério-preciso-mesmo-de-ajuda\"><svg class=\"octicon octicon-link\" viewBox=\"0 0 16 16\" version=\"1.1\" width=\"16\" height=\"16\" aria-hidden=\"true\"><path fill-rule=\"evenodd\" d=\"M4 9h1v1H4c-1.5 0-3-1.69-3-3.5S2.55 3 4 3h4c1.45 0 3 1.69 3 3.5 0 1.41-.91 2.72-2 3.25V8.59c.58-.45 1-1.27 1-2.09C10 5.22 8.98 4 8 4H4c-.98 0-2 1.22-2 2.5S3 9 4 9zm9-3h-1v1h1c1 0 2 1.22 2 2.5S13.98 12 13 12H9c-.98 0-2-1.22-2-2.5 0-.83.42-1.64 1-2.09V6.25c-1.09.53-2 1.84-2 3.25C6 11.31 7.55 13 9 13h4c1.45 0 3-1.69 3-3.5S14.5 6 13 6z\"></path></svg></a>A.3.5 - Sério, preciso mesmo de ajuda</h3>\n",
    "<p>Acontece. Mesmo os melhores programadores ocasionalmente empacam. Pode ocorrer de você trabalhar tanto em um programa que não consegue enxergar o erro. Precisa de outro par de olhos.</p>\n",
    "<p>Antes de trazer mais alguém, não se esqueça de se preparar. Seu programa deve ser o mais simples possível, e deve estar funcionando com a menor entrada possível que cause o erro. Deve ter instruções <code>print</code> nos lugares adequados (e a saída que produzem deve ser compreensível). Você deve entender o problema o suficiente para descrevê-lo de forma concisa.</p>\n",
    "<p>Ao trazer alguém para ajudar, lembre-se de dar as informações de que a pessoa possa precisar:</p>\n",
    "<ul>\n",
    "<li>\n",
    "<p>Se houver uma mensagem de erro, qual é e que parte do programa indica?</p>\n",
    "</li>\n",
    "<li>\n",
    "<p>Qual foi a última coisa que fez antes de este erro ocorrer? Quais foram as últimas linhas de código que escreveu, ou qual é o novo caso de teste que falhou?</p>\n",
    "</li>\n",
    "<li>\n",
    "<p>O que tentou até agora e o que aprendeu?</p>\n",
    "</li>\n",
    "</ul>\n",
    "<p>Quando encontrar o erro, pense por um segundo no que poderia ter feito para encontrá-lo mais rápido. Na próxima vez em que vir algo similar, poderá encontrar o erro mais rapidamente.</p>\n",
    "<p>Lembre-se, a meta não é só fazer o programa funcionar. A meta é aprender como fazer o programa funcionar.</p>\n",
    "</article>\n",
    "  </div>"
   ]
  }
 ],
 "metadata": {
  "kernelspec": {
   "display_name": "Python 3",
   "language": "python",
   "name": "python3"
  },
  "language_info": {
   "codemirror_mode": {
    "name": "ipython",
    "version": 3
   },
   "file_extension": ".py",
   "mimetype": "text/x-python",
   "name": "python",
   "nbconvert_exporter": "python",
   "pygments_lexer": "ipython3",
   "version": "3.7.3"
  }
 },
 "nbformat": 4,
 "nbformat_minor": 2
}
