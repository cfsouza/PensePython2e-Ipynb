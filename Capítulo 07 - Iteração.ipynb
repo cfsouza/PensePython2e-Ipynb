{
  "nbformat": 4,
  "nbformat_minor": 0,
  "metadata": {
    "kernelspec": {
      "display_name": "Python 3",
      "language": "python",
      "name": "python3"
    },
    "language_info": {
      "codemirror_mode": {
        "name": "ipython",
        "version": 3
      },
      "file_extension": ".py",
      "mimetype": "text/x-python",
      "name": "python",
      "nbconvert_exporter": "python",
      "pygments_lexer": "ipython3",
      "version": "3.7.3"
    },
    "colab": {
      "name": "Capítulo 07 - Iteração.ipynb",
      "provenance": []
    }
  },
  "cells": [
    {
      "cell_type": "markdown",
      "metadata": {
        "id": "3jvYN0JOo1-E"
      },
      "source": [
        "# Capítulo 7: Iteração"
      ]
    },
    {
      "cell_type": "markdown",
      "metadata": {
        "id": "4ReVhDMro1-H"
      },
      "source": [
        "Este capítulo é sobre a iteração, a capacidade de executar um bloco de instruções repetidamente. Vimos um tipo de iteração, usando a recursividade, em “Recursividade”, no Capítulo 5. Vimos outro tipo, usando um loop `for`, em “Repetição simples”, no Capítulo 4. Neste capítulo veremos ainda outro tipo, usando a instrução `while`. Porém, primeiro quero falar um pouco mais sobre a atribuição de variáveis."
      ]
    },
    {
      "cell_type": "markdown",
      "metadata": {
        "id": "6cHzOCrho1-I"
      },
      "source": [
        "## 7.1 - Reatribuição"
      ]
    },
    {
      "cell_type": "markdown",
      "metadata": {
        "id": "DdliRe0Eo1-I"
      },
      "source": [
        "Pode ser que você já tenha descoberto que é permitido fazer mais de uma atribuição para a mesma variável. Uma nova atribuição faz uma variável existente referir-se a um novo valor (e deixar de referir-se ao valor anterior)."
      ]
    },
    {
      "cell_type": "code",
      "metadata": {
        "id": "00t3o0G_o1-I"
      },
      "source": [
        "x = 5"
      ],
      "execution_count": 1,
      "outputs": []
    },
    {
      "cell_type": "code",
      "metadata": {
        "id": "hrSuxMn0o1-J",
        "outputId": "6323c3ee-10bd-4888-88a8-4902a1f94316",
        "colab": {
          "base_uri": "https://localhost:8080/"
        }
      },
      "source": [
        "x"
      ],
      "execution_count": 2,
      "outputs": [
        {
          "output_type": "execute_result",
          "data": {
            "text/plain": [
              "5"
            ]
          },
          "metadata": {},
          "execution_count": 2
        }
      ]
    },
    {
      "cell_type": "code",
      "metadata": {
        "id": "L1SDMeF3o1-K"
      },
      "source": [
        "x = 7"
      ],
      "execution_count": 3,
      "outputs": []
    },
    {
      "cell_type": "code",
      "metadata": {
        "id": "h9gAt9oDo1-L",
        "outputId": "2a5e5217-121b-4d15-b941-5b259cc902c5",
        "colab": {
          "base_uri": "https://localhost:8080/"
        }
      },
      "source": [
        "x"
      ],
      "execution_count": 4,
      "outputs": [
        {
          "output_type": "execute_result",
          "data": {
            "text/plain": [
              "7"
            ]
          },
          "metadata": {},
          "execution_count": 4
        }
      ]
    },
    {
      "cell_type": "markdown",
      "metadata": {
        "id": "T90Z8-Bmo1-L"
      },
      "source": [
        "A primeira vez que exibimos `x`, seu valor é `5`; na segunda vez, seu valor é `7`.\n",
        "\n",
        "A Figura 7.1 mostra que a **reatribuição** parece um diagrama de estado.\n",
        "\n",
        "Neste ponto quero tratar de uma fonte comum de confusão. Como o Python usa o sinal de igual (`=`) para atribuição, é tentador interpretar uma afirmação como `a = b` como uma proposição matemática de igualdade; isto é, a declaração de que `a` e `b` são iguais. Mas esta é uma interpretação equivocada.\n",
        "\n",
        "Em primeiro lugar, a igualdade é uma relação simétrica e a atribuição não é. Por exemplo, na matemática, se `a = 7` então `7 = a`. Mas no Python, a instrução `a = 7` é legal e `7 = a` não é.\n",
        "\n",
        "Além disso, na matemática, uma proposição de igualdade é verdadeira ou falsa para sempre. Se `a = b` agora, então `a` sempre será igual a `b`. No Python, uma instrução de atribuição pode tornar duas variáveis iguais, mas elas não precisam se manter assim:"
      ]
    },
    {
      "cell_type": "code",
      "metadata": {
        "id": "7QprJHk5s2q6",
        "outputId": "b11b2eff-6bd1-44b8-df64-80a9b56633bd",
        "colab": {
          "base_uri": "https://localhost:8080/"
        }
      },
      "source": [
        "a = 5\n",
        "b = a    # a e b agora são iguais\n",
        "a = 3    # a e b não são mais iguais\n",
        "b"
      ],
      "execution_count": 5,
      "outputs": [
        {
          "output_type": "execute_result",
          "data": {
            "text/plain": [
              "5"
            ]
          },
          "metadata": {},
          "execution_count": 5
        }
      ]
    },
    {
      "cell_type": "markdown",
      "metadata": {
        "id": "5ABtXMOfo1-N"
      },
      "source": [
        "A terceira linha modifica o valor de `a`, mas não muda o valor de `b`, então elas já não são iguais.\n",
        "\n",
        "A reatribuição de variáveis muitas vezes é útil, mas você deve usá-la com prudência. Se os valores das variáveis mudarem frequentemente, isso pode dificultar a leitura e depuração do código."
      ]
    },
    {
      "cell_type": "markdown",
      "metadata": {
        "id": "QMAXpA8Ko1-N"
      },
      "source": [
        "<center><img src=\"https://github.com/PenseAllen/PensePython2e/raw/master/fig/tnkp_0701.png\"></center>\n",
        "\n",
        "<h5><center>Figura 7.1 – Diagrama de estado da variável x.</center></h5>\n"
      ]
    },
    {
      "cell_type": "markdown",
      "metadata": {
        "id": "jWOV-iAlo1-N"
      },
      "source": [
        "## 7.2 - Atualização de variáveis"
      ]
    },
    {
      "cell_type": "markdown",
      "metadata": {
        "id": "8Wb-LQLMo1-O"
      },
      "source": [
        "Um tipo comum de reatribuição é uma **atualização**, onde o novo valor da variável depende do velho."
      ]
    },
    {
      "cell_type": "code",
      "metadata": {
        "id": "FZ6k4BU9tD9B"
      },
      "source": [
        "x = x + 1"
      ],
      "execution_count": 6,
      "outputs": []
    },
    {
      "cell_type": "markdown",
      "metadata": {
        "id": "Hv2Ycf7Zo1-O"
      },
      "source": [
        "Isso significa “pegue o valor atual de `x`, acrescente um, e então atualize `x` para o novo valor”.\n",
        "\n",
        "Se você tentar atualizar uma variável que não existe, recebe um erro porque o Python avalia o lado direito antes de atribuir um valor a `y`:"
      ]
    },
    {
      "cell_type": "code",
      "metadata": {
        "scrolled": false,
        "id": "CscHa5deo1-P",
        "outputId": "e44ba7e4-641d-44e2-f4f7-58c78a7d6425",
        "colab": {
          "base_uri": "https://localhost:8080/",
          "height": 165
        }
      },
      "source": [
        "y = y + 1"
      ],
      "execution_count": 7,
      "outputs": [
        {
          "output_type": "error",
          "ename": "NameError",
          "evalue": "ignored",
          "traceback": [
            "\u001b[0;31m---------------------------------------------------------------------------\u001b[0m",
            "\u001b[0;31mNameError\u001b[0m                                 Traceback (most recent call last)",
            "\u001b[0;32m<ipython-input-7-601339154158>\u001b[0m in \u001b[0;36m<module>\u001b[0;34m()\u001b[0m\n\u001b[0;32m----> 1\u001b[0;31m \u001b[0my\u001b[0m \u001b[0;34m=\u001b[0m \u001b[0my\u001b[0m \u001b[0;34m+\u001b[0m \u001b[0;36m1\u001b[0m\u001b[0;34m\u001b[0m\u001b[0;34m\u001b[0m\u001b[0m\n\u001b[0m",
            "\u001b[0;31mNameError\u001b[0m: name 'y' is not defined"
          ]
        }
      ]
    },
    {
      "cell_type": "markdown",
      "metadata": {
        "id": "4dPeBeJho1-P"
      },
      "source": [
        "Antes de poder atualizar uma variável é preciso **inicializá-la**, normalmente com uma atribuição simples:"
      ]
    },
    {
      "cell_type": "code",
      "metadata": {
        "id": "ix8gQYaro1-P",
        "outputId": "6c28f78f-6b0b-4ae8-9e53-eb2000012ea1",
        "colab": {
          "base_uri": "https://localhost:8080/"
        }
      },
      "source": [
        "x = 0\n",
        "x = x + 1\n",
        "x"
      ],
      "execution_count": 8,
      "outputs": [
        {
          "output_type": "execute_result",
          "data": {
            "text/plain": [
              "1"
            ]
          },
          "metadata": {},
          "execution_count": 8
        }
      ]
    },
    {
      "cell_type": "markdown",
      "metadata": {
        "id": "2qCzn524o1-P"
      },
      "source": [
        "Atualizar uma variável acrescentando `1` chama-se **incremento**; subtrair `1` chama-se **decremento**."
      ]
    },
    {
      "cell_type": "markdown",
      "metadata": {
        "id": "cmD_ib3Qo1-Q"
      },
      "source": [
        "## 7.3 - Instrução `while`"
      ]
    },
    {
      "cell_type": "markdown",
      "metadata": {
        "id": "K5OWXxuEo1-Q"
      },
      "source": [
        "Os computadores muitas vezes são usados para automatizar tarefas repetitivas. A repetição de tarefas idênticas ou semelhantes sem fazer erros é algo que os computadores fazem bem e as pessoas não. Em um programa de computador, a repetição também é chamada de **iteração**.\n",
        "\n",
        "Já vimos duas funções, `regressiva` e `imprima_n`, que se repetem usando recursividade. Como a iteração é bem comum, o Python fornece recursos de linguagem para facilitá-la. Um deles é a instrução `for` que vimos em “Repetição simples”, no Capítulo 4. Voltaremos a isso mais adiante.\n",
        "\n",
        "Outra é a instrução `while`. Aqui está uma versão de `regressiva` que usa a instrução `while`:"
      ]
    },
    {
      "cell_type": "code",
      "metadata": {
        "id": "Eg2_TIwgsNSo"
      },
      "source": [
        "def regressiva(n):\n",
        "  while n > 0:\n",
        "      print(n)\n",
        "      n = n - 1\n",
        "  print('Acabou!')"
      ],
      "execution_count": 11,
      "outputs": []
    },
    {
      "cell_type": "markdown",
      "metadata": {
        "id": "btyz3N7do1-Q"
      },
      "source": [
        "Você até pode ler a instrução `while` como se fosse uma tradução do inglês. Significa “Enquanto `n` for maior que `0`, mostre o valor de `n` e então decremente `n`. Quando chegar a `0`, mostre a palavra Acabou!”\n",
        "\n",
        "Mais formalmente, aqui está o fluxo de execução para uma instrução `while`:\n",
        "\n",
        "1. Determine se a condição é verdadeira ou falsa.\n",
        "\n",
        "2. Se for falsa, saia da instrução `while` e continue a execução da próxima instrução.\n",
        "\n",
        "3. Se a condição for verdadeira, execute o corpo e então volte ao passo 1.\n",
        "\n",
        "Este tipo de fluxo chama-se _loop_ (laço), porque o terceiro passo faz um _loop_ de volta ao topo.\n",
        "\n",
        "O corpo do _loop_ deve mudar o valor de uma ou mais variáveis para que, a certa altura, a condição fique falsa e o _loop_ termine. Senão o _loop_ vai se repetir para sempre, o que é chamado de **_loop_ infinito**. Uma fonte infindável de divertimento para cientistas da computação é a observação das instruções no xampu, “Faça espuma, enxágue, repita”, que são parte de um _loop_ infinito.\n",
        "\n",
        "No caso de `regressiva`, podemos provar que o loop termina: se `n` for zero ou negativo, o _loop_ nunca é executado. Senão, `n` fica cada vez menor ao passar pelo loop, até eventualmente chegar a `0`.\n",
        "\n",
        "Para alguns outros _loops_, não é tão fácil perceber isso. Por exemplo:"
      ]
    },
    {
      "cell_type": "code",
      "metadata": {
        "id": "bVdRsLQusSfw"
      },
      "source": [
        "def sequencia(n):\n",
        "  while n != 1:\n",
        "    print(n)\n",
        "    if n % 2 == 0: # n é par\n",
        "      n = n / 2\n",
        "    else:          # n é ímpar\n",
        "      n = n * 3 + 1"
      ],
      "execution_count": 13,
      "outputs": []
    },
    {
      "cell_type": "markdown",
      "metadata": {
        "id": "lw1lIDhWo1-R"
      },
      "source": [
        "A condição deste loop é `n != 1`, então o loop continuará até que `n` seja `1`, o que torna a condição falsa.\n",
        "\n",
        "Cada vez que passa pelo _loop_, o programa produz o valor de `n` e então verifica se é par ou ímpar. Se for par, `n` é dividido por `2`. Se for ímpar, o valor de `n` é substituído por `n * 3 + 1`. Por exemplo, se o argumento passado a `sequencia` for `3`, os valores resultantes de `n` são `3`, `10`, `5`, `16`, `8`, `4`, `2`, `1`.\n",
        "\n",
        "Como `n` às vezes aumenta e às vezes diminui, não há nenhuma prova óbvia de que `n` chegará eventualmente a `1`, ou que o programa terminará. Para alguns valores de `n`, podemos provar o término. Por exemplo, se o valor inicial for uma potência de dois, `n` será par cada vez que passar pelo _loop_ até que chegue a `1`. O exemplo anterior termina com uma sequência assim, que inicia com `16`.\n",
        "\n",
        "A questão difícil é se podemos provar que este programa termina para todos os valores positivos de `n`. Por enquanto, ninguém foi capaz de comprovar ou refutar isso! (Veja http://en.wikipedia.org/wiki/Collatz\\_conjecture.)\n",
        "\n",
        "Como um exercício, reescreva a função `imprima_n` de “Recursividade”, no Capítulo 5, usando a iteração em vez da recursividade."
      ]
    },
    {
      "cell_type": "markdown",
      "metadata": {
        "id": "u8z9oDmuo1-R"
      },
      "source": [
        "## 7.4 - `break`"
      ]
    },
    {
      "cell_type": "markdown",
      "metadata": {
        "id": "ou7J88HOo1-R"
      },
      "source": [
        "Às vezes você não sabe que está na hora de terminar um _loop_ até que já esteja na metade do corpo. Neste caso pode usar a instrução `break` para sair do _loop_.\n",
        "\n",
        "Por exemplo, suponha que você quer receber uma entrada do usuário até que este digite `feito`. Você pode escrever:"
      ]
    },
    {
      "cell_type": "code",
      "metadata": {
        "id": "Xg253-K2vN_c"
      },
      "source": [
        "while True:\n",
        "  line = input('> ')\n",
        "  if line == 'feito':\n",
        "    break\n",
        "  print(line)\n",
        "print('Feito!')"
      ],
      "execution_count": null,
      "outputs": []
    },
    {
      "cell_type": "markdown",
      "metadata": {
        "id": "-YQCoe-1o1-R"
      },
      "source": [
        "A condição do _loop_ é `True`, que sempre é verdade, então o _loop_ roda até que chegue à instrução de interrupção.\n",
        "\n",
        "Cada vez que passa pelo _loop_, o programa apresenta ao usuário um colchete angular. Se o usuário digitar `feito`, a instrução `break` sai do _loop_. Senão, o programa ecoa o que quer que o usuário digite e volta ao topo do _loop_. Aqui está uma amostra de execução:"
      ]
    },
    {
      "cell_type": "markdown",
      "metadata": {
        "id": "Nlov9qn9o1-R"
      },
      "source": [
        "```python\n",
        "> nao feito\n",
        "nao feito\n",
        "> feito\n",
        "Feito!\n",
        "```"
      ]
    },
    {
      "cell_type": "markdown",
      "metadata": {
        "id": "pXLbntR9o1-S"
      },
      "source": [
        "Esta forma de escrever _loops_ `while` é comum porque podemos verificar a condição em qualquer lugar do _loop_ (não somente no topo) e podemos exprimir a condição de parada afirmativamente (“pare quando isto acontecer”) em vez de negativamente (“continue a seguir até que isto aconteça”)."
      ]
    },
    {
      "cell_type": "markdown",
      "metadata": {
        "id": "9fcUqnE5o1-S"
      },
      "source": [
        "## 7.5 - Raízes quadradas"
      ]
    },
    {
      "cell_type": "markdown",
      "metadata": {
        "id": "wmPYNdrco1-S"
      },
      "source": [
        "Loops muitas vezes são usados em programas que calculam resultados numéricos, começando com uma resposta aproximada e melhorando-a iterativamente.\n",
        "\n",
        "Por exemplo, uma forma de calcular raízes quadradas é o método de Newton. Suponha que você queira saber a raiz quadrada de `a`. Se começar com quase qualquer estimativa, `x`, é possível calcular uma estimativa melhor com a seguinte fórmula:"
      ]
    },
    {
      "cell_type": "markdown",
      "metadata": {
        "id": "HVZZnkqWo1-S"
      },
      "source": [
        "<center><img src=\"https://github.com/PenseAllen/PensePython2e/raw/master/fig/p79f1.png\"></center>"
      ]
    },
    {
      "cell_type": "markdown",
      "metadata": {
        "id": "-7TiEetpo1-S"
      },
      "source": [
        "Por exemplo, se `a` for `4` e `x` for `3`:"
      ]
    },
    {
      "cell_type": "code",
      "metadata": {
        "id": "1VKg-ICSo1-S",
        "outputId": "bf14d20b-f6c7-42f9-9408-9bf43a650d7c",
        "colab": {
          "base_uri": "https://localhost:8080/"
        }
      },
      "source": [
        "a = 4\n",
        "x = 3\n",
        "y = (x + a/x) / 2\n",
        "y"
      ],
      "execution_count": 14,
      "outputs": [
        {
          "output_type": "execute_result",
          "data": {
            "text/plain": [
              "2.1666666666666665"
            ]
          },
          "metadata": {},
          "execution_count": 14
        }
      ]
    },
    {
      "cell_type": "markdown",
      "metadata": {
        "id": "Y2Odj6O5o1-T"
      },
      "source": [
        "O resultado é mais próximo à resposta correta ($\\sqrt {4}$ = 2). Se repetirmos o processo com a nova estimativa, chegamos ainda mais perto:"
      ]
    },
    {
      "cell_type": "code",
      "metadata": {
        "id": "tpZBX7KOo1-T",
        "outputId": "a622a0ca-4659-4a06-bf7e-5e73f080ad51",
        "colab": {
          "base_uri": "https://localhost:8080/"
        }
      },
      "source": [
        "x = y\n",
        "y = (x + a/x) / 2\n",
        "y"
      ],
      "execution_count": 15,
      "outputs": [
        {
          "output_type": "execute_result",
          "data": {
            "text/plain": [
              "2.0064102564102564"
            ]
          },
          "metadata": {},
          "execution_count": 15
        }
      ]
    },
    {
      "cell_type": "markdown",
      "metadata": {
        "id": "Dse3cckSo1-T"
      },
      "source": [
        "Depois de algumas atualizações, a estimativa é quase exata:"
      ]
    },
    {
      "cell_type": "code",
      "metadata": {
        "id": "wJ47G5eTo1-T",
        "outputId": "9b4e4783-712f-442a-d72b-a0e088cbae99",
        "colab": {
          "base_uri": "https://localhost:8080/"
        }
      },
      "source": [
        "x = y\n",
        "y = (x + a/x) / 2\n",
        "y"
      ],
      "execution_count": 16,
      "outputs": [
        {
          "output_type": "execute_result",
          "data": {
            "text/plain": [
              "2.0000102400262145"
            ]
          },
          "metadata": {},
          "execution_count": 16
        }
      ]
    },
    {
      "cell_type": "code",
      "metadata": {
        "id": "6O0wQjTGo1-T",
        "outputId": "5a60cfb6-0d80-4379-ec6e-b7e4311a2f38",
        "colab": {
          "base_uri": "https://localhost:8080/"
        }
      },
      "source": [
        "x = y\n",
        "y = (x + a/x) / 2\n",
        "y"
      ],
      "execution_count": 17,
      "outputs": [
        {
          "output_type": "execute_result",
          "data": {
            "text/plain": [
              "2.0000000000262146"
            ]
          },
          "metadata": {},
          "execution_count": 17
        }
      ]
    },
    {
      "cell_type": "markdown",
      "metadata": {
        "id": "6HVSfMHwo1-T"
      },
      "source": [
        "Em geral, não sabemos com antecedência quantos passos são necessários para chegar à resposta correta, mas sabemos quando chegamos lá porque a estimativa para de mudar:"
      ]
    },
    {
      "cell_type": "code",
      "metadata": {
        "id": "dRiTrvUWo1-U",
        "outputId": "5d1a81a1-2c75-45a6-e07d-740e800caef7",
        "colab": {
          "base_uri": "https://localhost:8080/"
        }
      },
      "source": [
        "x = y\n",
        "y = (x + a/x) / 2\n",
        "y"
      ],
      "execution_count": 18,
      "outputs": [
        {
          "output_type": "execute_result",
          "data": {
            "text/plain": [
              "2.0"
            ]
          },
          "metadata": {},
          "execution_count": 18
        }
      ]
    },
    {
      "cell_type": "code",
      "metadata": {
        "id": "Dpv6ppo-o1-U",
        "outputId": "7c924ca8-f9e2-463b-b434-9de5a40411b0",
        "colab": {
          "base_uri": "https://localhost:8080/"
        }
      },
      "source": [
        "x = y\n",
        "y = (x + a/x) / 2\n",
        "y"
      ],
      "execution_count": 19,
      "outputs": [
        {
          "output_type": "execute_result",
          "data": {
            "text/plain": [
              "2.0"
            ]
          },
          "metadata": {},
          "execution_count": 19
        }
      ]
    },
    {
      "cell_type": "markdown",
      "metadata": {
        "id": "A36MAww2o1-U"
      },
      "source": [
        "Quando `y` == `x`, podemos parar. Aqui está um loop que começa com uma estimativa inicial, `x`, e a melhora até que deixe de mudar:"
      ]
    },
    {
      "cell_type": "code",
      "metadata": {
        "id": "qe0z3iXfv843"
      },
      "source": [
        "while True:\n",
        "  print(x)\n",
        "  y = (x + a/x) / 2\n",
        "  if y == x:\n",
        "    break\n",
        "  x = y"
      ],
      "execution_count": null,
      "outputs": []
    },
    {
      "cell_type": "markdown",
      "metadata": {
        "id": "kxxUHj38o1-U"
      },
      "source": [
        "Para a maior parte de valores de `a` funciona bem, mas pode ser perigoso testar a igualdade de um `float`. Os valores de ponto flutuante são aproximadamente corretos: a maioria dos números racionais, como 1/3, e números irracionais, como $\\sqrt {2}$, não podem ser representados exatamente com um `float`.\n",
        "\n",
        "Em vez de verificar se `x` e `y` são exatamente iguais, é mais seguro usar a função integrada `abs` para calcular o valor absoluto ou magnitude da diferença entre eles:"
      ]
    },
    {
      "cell_type": "code",
      "metadata": {
        "id": "RnhjUX2LwOqX"
      },
      "source": [
        "if abs(y - x) < epsilon:\n",
        "  break"
      ],
      "execution_count": null,
      "outputs": []
    },
    {
      "cell_type": "markdown",
      "metadata": {
        "id": "WUVYw2I9o1-V"
      },
      "source": [
        "Onde `epsilon` tem um valor como 0,0000001, que determina a proximidade desejada entre `x` e `y`."
      ]
    },
    {
      "cell_type": "markdown",
      "metadata": {
        "id": "1a1mEZJPo1-V"
      },
      "source": [
        "## 7.6 - Algoritmos"
      ]
    },
    {
      "cell_type": "markdown",
      "metadata": {
        "id": "GppCa8E7o1-V"
      },
      "source": [
        "O método de Newton é um exemplo de um **algoritmo**: um processo mecânico para resolver uma categoria de problemas (neste caso, calcular raízes quadradas).\n",
        "\n",
        "Para entender o que é um algoritmo, pode ser útil começar com algo que não é um algoritmo. Quando aprendeu a multiplicar números de um dígito, você provavelmente memorizou a tabuada. Ou seja, você memorizou 100 soluções específicas. Este tipo de conhecimento não é algorítmico.\n",
        "\n",
        "No entanto, se você foi “preguiçoso”, poderia ter aprendido alguns truques. Por exemplo, para encontrar o produto de `n` e `9`, pode escrever `n-1` como o primeiro dígito e `10-n` como o segundo dígito. Este truque é uma solução geral para multiplicar qualquer número de dígito único por `9`. Isto é um algoritmo!\n",
        "\n",
        "De forma semelhante, as técnicas que aprendeu, como o transporte na adição, o empréstimo na subtração e a divisão longa são todos algoritmos. Uma das características de algoritmos é que eles não exigem inteligência para serem executados. São processos mecânicos, nos quais cada passo segue a partir do último, de acordo com um conjunto de regras simples.\n",
        "\n",
        "A execução de algoritmos é maçante, mas projetá-los é interessante, intelectualmente desafiador e uma parte central da Ciência da Computação.\n",
        "\n",
        "Algumas coisas que as pessoas fazem naturalmente, sem dificuldade ou pensamento consciente, são as mais difíceis para exprimir algoritmicamente. A compreensão de linguagem natural é um bom exemplo. Todos nós o fazemos, mas por enquanto ninguém foi capaz de explicar como o fazemos, pelo menos não na forma de um algoritmo."
      ]
    },
    {
      "cell_type": "markdown",
      "metadata": {
        "id": "OOHRgeTpo1-V"
      },
      "source": [
        "## 7.7 - Depuração\n",
        "\n",
        "Ao começar a escrever programas maiores, pode ser que você passe mais tempo depurando. Mais código significa mais possibilidades de fazer erros e mais lugares para esconder defeitos.\n",
        "\n",
        "Uma forma de cortar o tempo de depuração é “depurar por bisseção”. Por exemplo, se há 100 linhas no seu programa e você as verifica uma a uma, seriam 100 passos a tomar.\n",
        "\n",
        "Em vez disso, tente quebrar o problema pela metade. Olhe para o meio do programa, ou perto disso, para um valor intermediário que possa verificar. Acrescente uma instrução `print` (ou outra coisa que tenha um efeito verificável) e execute o programa.\n",
        "\n",
        "Se a verificação do ponto central for incorreta, deve haver um problema na primeira metade do programa. Se for correta, o problema está na segunda metade.\n",
        "\n",
        "Cada vez que executar uma verificação assim, divida ao meio o número de linhas a serem verificadas. Depois de seis passos (que é menos de 100), você teria menos de uma ou duas linhas do código para verificar, pelo menos em teoria.\n",
        "\n",
        "Na prática, nem sempre é claro o que representa o “meio do programa” e nem sempre é possível verificá-lo. Não faz sentido contar linhas e encontrar o ponto central exato. Em vez disso, pense em lugares no programa onde poderia haver erros e lugares onde é fácil inserir um ponto de verificação. Então escolha um lugar onde as possibilidades são basicamente as mesmas de que o defeito esteja antes ou depois da verificação."
      ]
    },
    {
      "cell_type": "markdown",
      "metadata": {
        "id": "RYn5U3txo1-V"
      },
      "source": [
        "## 7.8 - Glossário"
      ]
    },
    {
      "cell_type": "markdown",
      "metadata": {
        "id": "K0rq_K1lo1-W"
      },
      "source": [
        "**reatribuição**<br >\n",
        "&emsp;Atribuir um novo valor a uma variável que já existe.\n",
        "\n",
        "**atualização**<br >\n",
        "&emsp;Uma atribuição onde o novo valor da variável dependa do velho.\n",
        "\n",
        "**inicialização**<br >\n",
        "&emsp;Uma atribuição que dá um valor inicial a uma variável que será atualizada.\n",
        "\n",
        "**incremento**<br >\n",
        "&emsp;Uma atualização que aumenta o valor de uma variável (normalmente por uma unidade).\n",
        "\n",
        "**decremento**<br >\n",
        "&emsp;Uma atualização que reduz o valor de uma variável.\n",
        "\n",
        "**iteração**<br >\n",
        "&emsp;Execução repetida de um grupo de instruções, usando uma chamada da função recursiva ou um loop.\n",
        "\n",
        "**loop infinito**<br >\n",
        "&emsp;Um loop no qual a condição de término nunca é satisfeita.\n",
        "\n",
        "**algoritmo**<br >\n",
        "&emsp;Um processo geral para resolver uma categoria de problemas."
      ]
    },
    {
      "cell_type": "markdown",
      "metadata": {
        "id": "db0_6CeHo1-W"
      },
      "source": [
        "## 7.9 - Exercícios"
      ]
    },
    {
      "cell_type": "markdown",
      "metadata": {
        "id": "lfHpN2U7o1-W"
      },
      "source": [
        "### Exercício 7.1\n",
        "\n",
        "Copie o loop de “Raízes quadradas”, no item 7.5, e encapsule-o em uma função chamada `mysqrt` que receba `a` como parâmetro, escolha um valor razoável de `x` e devolva uma estimativa da raiz quadrada de `a`.\n",
        "\n",
        "Para testar, escreva uma função denominada `test_square_root`, que exibe uma tabela como esta:"
      ]
    },
    {
      "cell_type": "markdown",
      "metadata": {
        "id": "CxY4eegbo1-W"
      },
      "source": [
        "```python\n",
        "a   mysqrt(a)     math.sqrt(a)  diff\n",
        "-   ---------     ------------  ----\n",
        "1.0 1.0           1.0           0.0\n",
        "2.0 1.41421356237 1.41421356237 2.22044604925e-16\n",
        "3.0 1.73205080757 1.73205080757 0.0\n",
        "4.0 2.0           2.0           0.0\n",
        "5.0 2.2360679775  2.2360679775  0.0\n",
        "6.0 2.44948974278 2.44948974278 0.0\n",
        "7.0 2.64575131106 2.64575131106 0.0\n",
        "8.0 2.82842712475 2.82842712475 4.4408920985e-16\n",
        "9.0 3.0           3.0           0.0\n",
        "```"
      ]
    },
    {
      "cell_type": "markdown",
      "metadata": {
        "id": "4kG7dQ4Go1-W"
      },
      "source": [
        "A primeira coluna é um número, `a`; a segunda coluna é a raiz quadrada de a calculada com `mysqrt`; a terceira coluna é a raiz quadrada calculada por `math.sqrt`; a quarta coluna é o valor absoluto da diferença entre as duas estimativas."
      ]
    },
    {
      "cell_type": "markdown",
      "metadata": {
        "id": "0gENWnLso1-W"
      },
      "source": [
        "### Exercício 7.2"
      ]
    },
    {
      "cell_type": "markdown",
      "metadata": {
        "id": "LfFy_sOao1-X"
      },
      "source": [
        "A função integrada `eval` toma uma string e a avalia, usando o interpretador do Python. Por exemplo:"
      ]
    },
    {
      "cell_type": "code",
      "metadata": {
        "id": "kedEf_qjwwZj",
        "outputId": "4af1f394-8851-444b-ae79-a67ca6684031",
        "colab": {
          "base_uri": "https://localhost:8080/"
        }
      },
      "source": [
        "eval('1 + 2 * 3')"
      ],
      "execution_count": 21,
      "outputs": [
        {
          "output_type": "execute_result",
          "data": {
            "text/plain": [
              "7"
            ]
          },
          "metadata": {},
          "execution_count": 21
        }
      ]
    },
    {
      "cell_type": "code",
      "metadata": {
        "id": "pPlBwXT5w2Dt",
        "outputId": "eef78f35-09a3-4474-b66e-683b383abd91",
        "colab": {
          "base_uri": "https://localhost:8080/"
        }
      },
      "source": [
        "import math\n",
        "eval('math.sqrt(5)')"
      ],
      "execution_count": 22,
      "outputs": [
        {
          "output_type": "execute_result",
          "data": {
            "text/plain": [
              "2.23606797749979"
            ]
          },
          "metadata": {},
          "execution_count": 22
        }
      ]
    },
    {
      "cell_type": "code",
      "metadata": {
        "id": "tLfC1eouwkvN",
        "outputId": "f9fb71ac-51ea-4fbc-ff44-98c21ceb656e",
        "colab": {
          "base_uri": "https://localhost:8080/"
        }
      },
      "source": [
        "eval('type(math.pi)')"
      ],
      "execution_count": 23,
      "outputs": [
        {
          "output_type": "execute_result",
          "data": {
            "text/plain": [
              "float"
            ]
          },
          "metadata": {},
          "execution_count": 23
        }
      ]
    },
    {
      "cell_type": "markdown",
      "metadata": {
        "id": "dYRLtd6fo1-X"
      },
      "source": [
        "Escreva uma função chamada `eval_loop` que iterativamente peça uma entrada ao usuário, a avalie usando `eval` e exiba o resultado.\n",
        "\n",
        "Ela deve continuar até que o usuário digite `feito`; então deverá exibir o valor da última expressão avaliada."
      ]
    },
    {
      "cell_type": "markdown",
      "metadata": {
        "id": "euVl_F1oo1-X"
      },
      "source": [
        "### Exercício 7.3"
      ]
    },
    {
      "cell_type": "markdown",
      "metadata": {
        "id": "_Ku5KKZdo1-X"
      },
      "source": [
        "O matemático Srinivasa Ramanujan encontrou uma série infinita que pode ser usada para gerar uma aproximação numérica de 1/π:\n",
        "\n",
        "<center><img src=\"https://github.com/PenseAllen/PensePython2e/raw/master/fig/p83f1.png\"></center>\n",
        "\n",
        "Escreva uma função chamada `estimate_pi` que use esta fórmula para computar e devolver uma estimativa de π. Você deve usar o loop `while` para calcular os termos da adição até que o último termo seja menor que 1e-15 (que é a notação do Python para `10 ** 15`). Você pode verificar o resultado comparando-o com `math.pi`."
      ]
    }
  ]
}