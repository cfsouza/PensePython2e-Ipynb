{
 "cells": [
  {
   "cell_type": "markdown",
   "metadata": {},
   "source": [
    "# Capítulo 7: Iteração"
   ]
  },
  {
   "cell_type": "markdown",
   "metadata": {},
   "source": [
    "Este capítulo é sobre a iteração, a capacidade de executar um bloco de instruções repetidamente. Vimos um tipo de iteração, usando a recursividade, em “Recursividade”, no Capítulo 5. Vimos outro tipo, usando um loop `for`, em “Repetição simples”, no Capítulo 4. Neste capítulo veremos ainda outro tipo, usando a instrução `while`. Porém, primeiro quero falar um pouco mais sobre a atribuição de variáveis."
   ]
  },
  {
   "cell_type": "markdown",
   "metadata": {},
   "source": [
    "## 7.1 - Reatribuição"
   ]
  },
  {
   "cell_type": "markdown",
   "metadata": {},
   "source": [
    "Pode ser que você já tenha descoberto que é permitido fazer mais de uma atribuição para a mesma variável. Uma nova atribuição faz uma variável existente referir-se a um novo valor (e deixar de referir-se ao valor anterior)."
   ]
  },
  {
   "cell_type": "code",
   "execution_count": 13,
   "metadata": {},
   "outputs": [],
   "source": [
    ">>> x = 5"
   ]
  },
  {
   "cell_type": "code",
   "execution_count": 14,
   "metadata": {},
   "outputs": [
    {
     "data": {
      "text/plain": [
       "5"
      ]
     },
     "execution_count": 14,
     "metadata": {},
     "output_type": "execute_result"
    }
   ],
   "source": [
    ">>> x"
   ]
  },
  {
   "cell_type": "code",
   "execution_count": 15,
   "metadata": {},
   "outputs": [],
   "source": [
    ">>> x = 7"
   ]
  },
  {
   "cell_type": "code",
   "execution_count": 16,
   "metadata": {},
   "outputs": [
    {
     "data": {
      "text/plain": [
       "7"
      ]
     },
     "execution_count": 16,
     "metadata": {},
     "output_type": "execute_result"
    }
   ],
   "source": [
    ">>> x"
   ]
  },
  {
   "cell_type": "markdown",
   "metadata": {},
   "source": [
    "A primeira vez que exibimos `x`, seu valor é `5`; na segunda vez, seu valor é `7`.\n",
    "\n",
    "A Figura 7.1 mostra que a **reatribuição** parece um diagrama de estado.\n",
    "\n",
    "Neste ponto quero tratar de uma fonte comum de confusão. Como o Python usa o sinal de igual (`=`) para atribuição, é tentador interpretar uma afirmação como `a = b` como uma proposição matemática de igualdade; isto é, a declaração de que `a` e `b` são iguais. Mas esta é uma interpretação equivocada.\n",
    "\n",
    "Em primeiro lugar, a igualdade é uma relação simétrica e a atribuição não é. Por exemplo, na matemática, se `a = 7` então `7 = a`. Mas no Python, a instrução `a = 7` é legal e `7 = a` não é.\n",
    "\n",
    "Além disso, na matemática, uma proposição de igualdade é verdadeira ou falsa para sempre. Se `a = b` agora, então `a` sempre será igual a `b`. No Python, uma instrução de atribuição pode tornar duas variáveis iguais, mas elas não precisam se manter assim:"
   ]
  },
  {
   "cell_type": "markdown",
   "metadata": {},
   "source": [
    "```python \n",
    ">>> a = 5\n",
    ">>> b = a    # a e b agora são iguais\n",
    ">>> a = 3    # a e b não são mais iguais\n",
    ">>> b\n",
    "5\n",
    "```"
   ]
  },
  {
   "cell_type": "markdown",
   "metadata": {},
   "source": [
    "A terceira linha modifica o valor de `a`, mas não muda o valor de `b`, então elas já não são iguais.\n",
    "\n",
    "A reatribuição de variáveis muitas vezes é útil, mas você deve usá-la com prudência. Se os valores das variáveis mudarem frequentemente, isso pode dificultar a leitura e depuração do código."
   ]
  },
  {
   "cell_type": "markdown",
   "metadata": {},
   "source": [
    "<center><img src=\"https://github.com/PenseAllen/PensePython2e/raw/master/fig/tnkp_0701.png\"></center>\n",
    "\n",
    "<h5><center>Figura 7.1 – Diagrama de estado da variável x.</center></h5>\n"
   ]
  },
  {
   "cell_type": "markdown",
   "metadata": {},
   "source": [
    "## 7.2 - Atualização de variáveis"
   ]
  },
  {
   "cell_type": "markdown",
   "metadata": {},
   "source": [
    "Um tipo comum de reatribuição é uma **atualização**, onde o novo valor da variável depende do velho."
   ]
  },
  {
   "cell_type": "markdown",
   "metadata": {},
   "source": [
    "```python\n",
    ">>> x = x + 1\n",
    "```"
   ]
  },
  {
   "cell_type": "markdown",
   "metadata": {},
   "source": [
    "Isso significa “pegue o valor atual de `x`, acrescente um, e então atualize `x` para o novo valor”.\n",
    "\n",
    "Se você tentar atualizar uma variável que não existe, recebe um erro porque o Python avalia o lado direito antes de atribuir um valor a `x`:"
   ]
  },
  {
   "cell_type": "code",
   "execution_count": 17,
   "metadata": {
    "scrolled": false
   },
   "outputs": [],
   "source": [
    ">>> x = x + 1"
   ]
  },
  {
   "cell_type": "markdown",
   "metadata": {},
   "source": [
    "Antes de poder atualizar uma variável é preciso **inicializá-la**, normalmente com uma atribuição simples:"
   ]
  },
  {
   "cell_type": "code",
   "execution_count": 18,
   "metadata": {},
   "outputs": [
    {
     "data": {
      "text/plain": [
       "1"
      ]
     },
     "execution_count": 18,
     "metadata": {},
     "output_type": "execute_result"
    }
   ],
   "source": [
    ">>> x = 0\n",
    ">>> x = x + 1\n",
    ">>> x"
   ]
  },
  {
   "cell_type": "markdown",
   "metadata": {},
   "source": [
    "Atualizar uma variável acrescentando `1` chama-se **incremento**; subtrair `1` chama-se **decremento**."
   ]
  },
  {
   "cell_type": "markdown",
   "metadata": {},
   "source": [
    "## 7.3 - Instrução `while`"
   ]
  },
  {
   "cell_type": "markdown",
   "metadata": {},
   "source": [
    "Os computadores muitas vezes são usados para automatizar tarefas repetitivas. A repetição de tarefas idênticas ou semelhantes sem fazer erros é algo que os computadores fazem bem e as pessoas não. Em um programa de computador, a repetição também é chamada de **iteração**.\n",
    "\n",
    "Já vimos duas funções, `countdown` e `print_n`, que se repetem usando recursividade. Como a iteração é bem comum, o Python fornece recursos de linguagem para facilitá-la. Um deles é a instrução `for` que vimos em “Repetição simples”, no Capítulo 4. Voltaremos a isso mais adiante.\n",
    "\n",
    "Outra é a instrução `while`. Aqui está uma versão de `countdown` que usa a instrução `while`:"
   ]
  },
  {
   "cell_type": "markdown",
   "metadata": {},
   "source": [
    "```python\n",
    "def countdown(n):\n",
    "    while n > 0:\n",
    "        print(n)\n",
    "        n = n - 1\n",
    "    print('Blastoff!')\n",
    "    ```"
   ]
  },
  {
   "cell_type": "markdown",
   "metadata": {},
   "source": [
    "Você até pode ler a instrução `while` como se fosse uma tradução do inglês. Significa “Enquanto `n` for maior que `0`, mostre o valor de `n` e então decremente `n`. Quando chegar a `0`, mostre a palavra _Blastoff_!”\n",
    "\n",
    "Mais formalmente, aqui está o fluxo de execução para uma instrução `while`:\n",
    "\n",
    "1. Determine se a condição é verdadeira ou falsa.\n",
    "\n",
    "2. Se for falsa, saia da instrução `while` e continue a execução da próxima instrução.\n",
    "\n",
    "3. Se a condição for verdadeira, execute o corpo e então volte ao passo 1.\n",
    "\n",
    "Este tipo de fluxo chama-se _loop_ (laço), porque o terceiro passo faz um _loop_ de volta ao topo.\n",
    "\n",
    "O corpo do _loop_ deve mudar o valor de uma ou mais variáveis para que, a certa altura, a condição fique falsa e o _loop_ termine. Senão o _loop_ vai se repetir para sempre, o que é chamado de **_loop_ infinito**. Uma fonte infindável de divertimento para cientistas da computação é a observação das instruções no xampu, “Faça espuma, enxágue, repita”, que são parte de um _loop_ infinito.\n",
    "\n",
    "No caso de `countdown`, podemos provar que o loop termina: se `n` for zero ou negativo, o _loop_ nunca é executado. Senão, `n` fica cada vez menor ao passar pelo loop, até eventualmente chegar a `0`.\n",
    "\n",
    "Para alguns outros _loops_, não é tão fácil perceber isso. Por exemplo:"
   ]
  },
  {
   "cell_type": "markdown",
   "metadata": {},
   "source": [
    "```python\n",
    "def sequence(n):\n",
    "    while n != 1:\n",
    "        print(n)\n",
    "        if n % 2 == 0:        # n é par\n",
    "            n = n / 2\n",
    "        else:                 # n é ímpar\n",
    "            n = n * 3 + 1\n",
    "            ```"
   ]
  },
  {
   "cell_type": "markdown",
   "metadata": {},
   "source": [
    "A condição deste loop é `n != 1`, então o loop continuará até que `n` seja `1`, o que torna a condição falsa.\n",
    "\n",
    "Cada vez que passa pelo _loop_, o programa produz o valor de `n` e então verifica se é par ou ímpar. Se for par, `n` é dividido por `2`. Se for ímpar, o valor de `n` é substituído por `n * 3 + 1`. Por exemplo, se o argumento passado a `sequence` for `3`, os valores resultantes de `n` são `3`, `10`, `5`, `16`, `8`, `4`, `2`, `1`.\n",
    "\n",
    "Como `n` às vezes aumenta e às vezes diminui, não há nenhuma prova óbvia de que `n` chegará eventualmente a `1`, ou que o programa terminará. Para alguns valores de `n`, podemos provar o término. Por exemplo, se o valor inicial for uma potência de dois, `n` será par cada vez que passar pelo _loop_ até que chegue a `1`. O exemplo anterior termina com uma sequência assim, que inicia com `16`.\n",
    "\n",
    "A questão difícil é se podemos provar que este programa termina para todos os valores positivos de `n`. Por enquanto, ninguém foi capaz de comprovar ou refutar isso! (Veja http://en.wikipedia.org/wiki/Collatz\\_conjecture.)\n",
    "\n",
    "Como um exercício, reescreva a função `print_n` de “Recursividade”, no Capítulo 5, usando a iteração em vez da recursividade."
   ]
  },
  {
   "cell_type": "markdown",
   "metadata": {},
   "source": [
    "## 7.4 - `break`"
   ]
  },
  {
   "cell_type": "markdown",
   "metadata": {},
   "source": [
    "Às vezes você não sabe que está na hora de terminar um _loop_ até que já esteja na metade do corpo. Neste caso pode usar a instrução `break` para sair do _loop_.\n",
    "\n",
    "Por exemplo, suponha que você quer receber uma entrada do usuário até que este digite `done`. Você pode escrever:"
   ]
  },
  {
   "cell_type": "markdown",
   "metadata": {},
   "source": [
    "```python \n",
    "while True:\n",
    "    line = input('> ')\n",
    "    if line == 'done':\n",
    "        break\n",
    "    print(line)\n",
    "print('Done!')\n",
    "```"
   ]
  },
  {
   "cell_type": "markdown",
   "metadata": {},
   "source": [
    "A condição do _loop_ é `True`, que sempre é verdade, então o _loop_ roda até que chegue à instrução de interrupção.\n",
    "\n",
    "Cada vez que passa pelo _loop_, o programa apresenta ao usuário um colchete angular. Se o usuário digitar `done`, a instrução `break` sai do _loop_. Senão, o programa ecoa o que quer que o usuário digite e volta ao topo do _loop_. Aqui está uma amostra de execução:"
   ]
  },
  {
   "cell_type": "markdown",
   "metadata": {},
   "source": [
    "```python\n",
    "> not done\n",
    "not done\n",
    "> done\n",
    "Done!\n",
    "```"
   ]
  },
  {
   "cell_type": "markdown",
   "metadata": {},
   "source": [
    "Esta forma de escrever _loops_ `while` é comum porque podemos verificar a condição em qualquer lugar do _loop_ (não somente no topo) e podemos exprimir a condição de parada afirmativamente (“pare quando isto acontecer”) em vez de negativamente (“continue a seguir até que isto aconteça”)."
   ]
  },
  {
   "cell_type": "markdown",
   "metadata": {},
   "source": [
    "## 7.5 - Raízes quadradas"
   ]
  },
  {
   "cell_type": "markdown",
   "metadata": {},
   "source": [
    "Loops muitas vezes são usados em programas que calculam resultados numéricos, começando com uma resposta aproximada e melhorando-a iterativamente.\n",
    "\n",
    "Por exemplo, uma forma de calcular raízes quadradas é o método de Newton. Suponha que você queira saber a raiz quadrada de `a`. Se começar com quase qualquer estimativa, `x`, é possível calcular uma estimativa melhor com a seguinte fórmula:"
   ]
  },
  {
   "cell_type": "markdown",
   "metadata": {},
   "source": [
    "<center>![alt text](https://github.com/PenseAllen/PensePython2e/raw/master/fig/p79f1.png)</center>"
   ]
  },
  {
   "cell_type": "markdown",
   "metadata": {},
   "source": [
    "Por exemplo, se `a` for `4` e `x` for `3`:"
   ]
  },
  {
   "cell_type": "code",
   "execution_count": 19,
   "metadata": {},
   "outputs": [
    {
     "data": {
      "text/plain": [
       "2.1666666666666665"
      ]
     },
     "execution_count": 19,
     "metadata": {},
     "output_type": "execute_result"
    }
   ],
   "source": [
    ">>> a = 4\n",
    ">>> x = 3\n",
    ">>> y = (x + a/x) / 2\n",
    ">>> y"
   ]
  },
  {
   "cell_type": "markdown",
   "metadata": {},
   "source": [
    "O resultado é mais próximo à resposta correta ($\\sqrt {4}$ = 2). Se repetirmos o processo com a nova estimativa, chegamos ainda mais perto:"
   ]
  },
  {
   "cell_type": "code",
   "execution_count": 20,
   "metadata": {},
   "outputs": [
    {
     "data": {
      "text/plain": [
       "2.0064102564102564"
      ]
     },
     "execution_count": 20,
     "metadata": {},
     "output_type": "execute_result"
    }
   ],
   "source": [
    ">>> x = y\n",
    ">>> y = (x + a/x) / 2\n",
    ">>> y"
   ]
  },
  {
   "cell_type": "markdown",
   "metadata": {},
   "source": [
    "Depois de algumas atualizações, a estimativa é quase exata:"
   ]
  },
  {
   "cell_type": "code",
   "execution_count": 21,
   "metadata": {},
   "outputs": [
    {
     "data": {
      "text/plain": [
       "2.0000102400262145"
      ]
     },
     "execution_count": 21,
     "metadata": {},
     "output_type": "execute_result"
    }
   ],
   "source": [
    ">>> x = y\n",
    ">>> y = (x + a/x) / 2\n",
    ">>> y"
   ]
  },
  {
   "cell_type": "code",
   "execution_count": 22,
   "metadata": {},
   "outputs": [
    {
     "data": {
      "text/plain": [
       "2.0000000000262146"
      ]
     },
     "execution_count": 22,
     "metadata": {},
     "output_type": "execute_result"
    }
   ],
   "source": [
    ">>> x = y\n",
    ">>> y = (x + a/x) / 2\n",
    ">>> y"
   ]
  },
  {
   "cell_type": "markdown",
   "metadata": {},
   "source": [
    "Em geral, não sabemos com antecedência quantos passos são necessários para chegar à resposta correta, mas sabemos quando chegamos lá porque a estimativa para de mudar:"
   ]
  },
  {
   "cell_type": "code",
   "execution_count": 23,
   "metadata": {},
   "outputs": [
    {
     "data": {
      "text/plain": [
       "2.0"
      ]
     },
     "execution_count": 23,
     "metadata": {},
     "output_type": "execute_result"
    }
   ],
   "source": [
    ">>> x = y\n",
    ">>> y = (x + a/x) / 2\n",
    ">>> y"
   ]
  },
  {
   "cell_type": "code",
   "execution_count": 24,
   "metadata": {},
   "outputs": [
    {
     "data": {
      "text/plain": [
       "2.0"
      ]
     },
     "execution_count": 24,
     "metadata": {},
     "output_type": "execute_result"
    }
   ],
   "source": [
    ">>> x = y\n",
    ">>> y = (x + a/x) / 2\n",
    ">>> y"
   ]
  },
  {
   "cell_type": "markdown",
   "metadata": {},
   "source": [
    "Quando `y` == `x`, podemos parar. Aqui está um loop que começa com uma estimativa inicial, `x`, e a melhora até que deixe de mudar:"
   ]
  },
  {
   "cell_type": "markdown",
   "metadata": {},
   "source": [
    "```python\n",
    "while True:\n",
    "    print(x)\n",
    "    y = (x + a/x) / 2\n",
    "    if y == x:\n",
    "        break\n",
    "    x = y\n",
    "    ```\n",
    "    "
   ]
  },
  {
   "cell_type": "markdown",
   "metadata": {},
   "source": [
    "Para a maior parte de valores de `a` funciona bem, mas pode ser perigoso testar a igualdade de um `float`. Os valores de ponto flutuante são aproximadamente corretos: a maioria dos números racionais, como 1/3, e números irracionais, como $\\sqrt {2}$, não podem ser representados exatamente com um `float`.\n",
    "\n",
    "Em vez de verificar se `x` e `y` são exatamente iguais, é mais seguro usar a função integrada `abs` para calcular o valor absoluto ou magnitude da diferença entre eles:"
   ]
  },
  {
   "cell_type": "markdown",
   "metadata": {},
   "source": [
    "```python\n",
    "if abs(y - x) < epsilon:\n",
    "    break\n",
    "    ```"
   ]
  },
  {
   "cell_type": "markdown",
   "metadata": {},
   "source": [
    "Onde `epsilon` tem um valor como 0,0000001, que determina a proximidade desejada entre `x` e `y`."
   ]
  },
  {
   "cell_type": "markdown",
   "metadata": {},
   "source": [
    "## 7.6 - Algoritmos"
   ]
  },
  {
   "cell_type": "markdown",
   "metadata": {},
   "source": [
    "O método de Newton é um exemplo de um **algoritmo**: um processo mecânico para resolver uma categoria de problemas (neste caso, calcular raízes quadradas).\n",
    "\n",
    "Para entender o que é um algoritmo, pode ser útil começar com algo que não é um algoritmo. Quando aprendeu a multiplicar números de um dígito, você provavelmente memorizou a tabuada. Ou seja, você memorizou 100 soluções específicas. Este tipo de conhecimento não é algorítmico.\n",
    "\n",
    "No entanto, se você foi “preguiçoso”, poderia ter aprendido alguns truques. Por exemplo, para encontrar o produto de `n` e `9`, pode escrever `n-1` como o primeiro dígito e `10-n` como o segundo dígito. Este truque é uma solução geral para multiplicar qualquer número de dígito único por `9`. Isto é um algoritmo!\n",
    "\n",
    "De forma semelhante, as técnicas que aprendeu, como o transporte na adição, o empréstimo na subtração e a divisão longa são todos algoritmos. Uma das características de algoritmos é que eles não exigem inteligência para serem executados. São processos mecânicos, nos quais cada passo segue a partir do último, de acordo com um conjunto de regras simples.\n",
    "\n",
    "A execução de algoritmos é maçante, mas projetá-los é interessante, intelectualmente desafiador e uma parte central da Ciência da Computação.\n",
    "\n",
    "Algumas coisas que as pessoas fazem naturalmente, sem dificuldade ou pensamento consciente, são as mais difíceis para exprimir algoritmicamente. A compreensão de linguagem natural é um bom exemplo. Todos nós o fazemos, mas por enquanto ninguém foi capaz de explicar como o fazemos, pelo menos não na forma de um algoritmo."
   ]
  },
  {
   "cell_type": "markdown",
   "metadata": {},
   "source": [
    "## 7.7 - Depuração\n",
    "\n",
    "Ao começar a escrever programas maiores, pode ser que você passe mais tempo depurando. Mais código significa mais possibilidades de fazer erros e mais lugares para esconder defeitos.\n",
    "\n",
    "Uma forma de cortar o tempo de depuração é “depurar por bisseção”. Por exemplo, se há 100 linhas no seu programa e você as verifica uma a uma, seriam 100 passos a tomar.\n",
    "\n",
    "Em vez disso, tente quebrar o problema pela metade. Olhe para o meio do programa, ou perto disso, para um valor intermediário que possa verificar. Acrescente uma instrução `print` (ou outra coisa que tenha um efeito verificável) e execute o programa.\n",
    "\n",
    "Se a verificação do ponto central for incorreta, deve haver um problema na primeira metade do programa. Se for correta, o problema está na segunda metade.\n",
    "\n",
    "Cada vez que executar uma verificação assim, divida ao meio o número de linhas a serem verificadas. Depois de seis passos (que é menos de 100), você teria menos de uma ou duas linhas do código para verificar, pelo menos em teoria.\n",
    "\n",
    "Na prática, nem sempre é claro o que representa o “meio do programa” e nem sempre é possível verificá-lo. Não faz sentido contar linhas e encontrar o ponto central exato. Em vez disso, pense em lugares no programa onde poderia haver erros e lugares onde é fácil inserir um ponto de verificação. Então escolha um lugar onde as possibilidades são basicamente as mesmas de que o defeito esteja antes ou depois da verificação."
   ]
  },
  {
   "cell_type": "markdown",
   "metadata": {},
   "source": [
    "## 7.8 - Glossário"
   ]
  },
  {
   "cell_type": "markdown",
   "metadata": {},
   "source": [
    "**reatribuição**<br >\n",
    "&emsp;Atribuir um novo valor a uma variável que já existe.\n",
    "\n",
    "**atualização**<br >\n",
    "&emsp;Uma atribuição onde o novo valor da variável dependa do velho.\n",
    "\n",
    "**inicialização**<br >\n",
    "&emsp;Uma atribuição que dá um valor inicial a uma variável que será atualizada.\n",
    "\n",
    "**incremento**<br >\n",
    "&emsp;Uma atualização que aumenta o valor de uma variável (normalmente por uma unidade).\n",
    "\n",
    "**decremento**<br >\n",
    "&emsp;Uma atualização que reduz o valor de uma variável.\n",
    "\n",
    "**iteração**<br >\n",
    "&emsp;Execução repetida de um grupo de instruções, usando uma chamada da função recursiva ou um loop.\n",
    "\n",
    "**loop infinito**<br >\n",
    "&emsp;Um loop no qual a condição de término nunca é satisfeita.\n",
    "\n",
    "**algoritmo**<br >\n",
    "&emsp;Um processo geral para resolver uma categoria de problemas."
   ]
  },
  {
   "cell_type": "markdown",
   "metadata": {},
   "source": [
    "## 7.9 - Exercícios"
   ]
  },
  {
   "cell_type": "markdown",
   "metadata": {},
   "source": [
    "### Exercício 7.1\n",
    "\n",
    "Copie o loop de “Raízes quadradas”, no item 7.5, e encapsule-o em uma função chamada `mysqrt` que receba a como parâmetro, escolha um valor razoável de `x` e devolva uma estimativa da raiz quadrada de `a`.\n",
    "\n",
    "Para testar, escreva uma função denominada `test_square_root`, que exibe uma tabela como esta:"
   ]
  },
  {
   "cell_type": "markdown",
   "metadata": {},
   "source": [
    "```python\n",
    "a   mysqrt(a)     math.sqrt(a)  diff\n",
    "-   ---------     ------------  ----\n",
    "1.0 1.0           1.0           0.0\n",
    "2.0 1.41421356237 1.41421356237 2.22044604925e-16\n",
    "3.0 1.73205080757 1.73205080757 0.0\n",
    "4.0 2.0           2.0           0.0\n",
    "5.0 2.2360679775  2.2360679775  0.0\n",
    "6.0 2.44948974278 2.44948974278 0.0\n",
    "7.0 2.64575131106 2.64575131106 0.0\n",
    "8.0 2.82842712475 2.82842712475 4.4408920985e-16\n",
    "9.0 3.0           3.0           0.0\n",
    "```"
   ]
  },
  {
   "cell_type": "markdown",
   "metadata": {},
   "source": [
    "A primeira coluna é um número, `a`; a segunda coluna é a raiz quadrada de a calculada com `mysqrt`; a terceira coluna é a raiz quadrada calculada por `math.sqrt`; a quarta coluna é o valor absoluto da diferença entre as duas estimativas."
   ]
  },
  {
   "cell_type": "markdown",
   "metadata": {},
   "source": [
    "### Exercício 7.2"
   ]
  },
  {
   "cell_type": "markdown",
   "metadata": {},
   "source": [
    "A função integrada `eval` toma uma string e a avalia, usando o interpretador do Python. Por exemplo:"
   ]
  },
  {
   "cell_type": "markdown",
   "metadata": {},
   "source": [
    "```python\n",
    ">>> eval('1 + 2 * 3')\n",
    "7\n",
    ">>> import math\n",
    ">>> eval('math.sqrt(5)')\n",
    "2.2360679774997898\n",
    ">>> eval('type(math.pi)')\n",
    "<class 'float'>\n",
    "```"
   ]
  },
  {
   "cell_type": "markdown",
   "metadata": {},
   "source": [
    "Escreva uma função chamada `eval_loop` que iterativamente peça uma entrada ao usuário, a avalie usando `eval` e exiba o resultado.\n",
    "\n",
    "Ela deve continuar até que o usuário digite `done`; então deverá exibir o valor da última expressão avaliada."
   ]
  },
  {
   "cell_type": "markdown",
   "metadata": {},
   "source": [
    "### Exercício 7.3"
   ]
  },
  {
   "cell_type": "markdown",
   "metadata": {},
   "source": [
    "O matemático Srinivasa Ramanujan encontrou uma série infinita que pode ser usada para gerar uma aproximação numérica de 1/π:\n",
    "\n",
    "<center>![alt text](https://github.com/PenseAllen/PensePython2e/raw/master/fig/p83f1.png)</center>\n",
    "\n",
    "Escreva uma função chamada `estimate_pi` que use esta fórmula para computar e devolver uma estimativa de π. Você deve usar o loop `while` para calcular os termos da adição até que o último termo seja menor que 1e-15 (que é a notação do Python para `10 ** 15`). Você pode verificar o resultado comparando-o com `math.pi`."
   ]
  }
 ],
 "metadata": {
  "kernelspec": {
   "display_name": "Python 3",
   "language": "python",
   "name": "python3"
  },
  "language_info": {
   "codemirror_mode": {
    "name": "ipython",
    "version": 3
   },
   "file_extension": ".py",
   "mimetype": "text/x-python",
   "name": "python",
   "nbconvert_exporter": "python",
   "pygments_lexer": "ipython3",
   "version": "3.7.3"
  }
 },
 "nbformat": 4,
 "nbformat_minor": 2
}
