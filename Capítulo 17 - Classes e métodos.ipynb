{
 "cells": [
  {
   "cell_type": "markdown",
   "metadata": {},
   "source": [
    "<div id=\"readme\" class=\"Box-body readme blob instapaper_body js-code-block-container\">\n",
    "    <article class=\"markdown-body entry-content p-3 p-md-6\" itemprop=\"text\"><h1><a id=\"user-content-capítulo-17-classes-e-métodos\" class=\"anchor\" aria-hidden=\"true\" href=\"#capítulo-17-classes-e-métodos\"><svg class=\"octicon octicon-link\" viewBox=\"0 0 16 16\" version=\"1.1\" width=\"16\" height=\"16\" aria-hidden=\"true\"><path fill-rule=\"evenodd\" d=\"M4 9h1v1H4c-1.5 0-3-1.69-3-3.5S2.55 3 4 3h4c1.45 0 3 1.69 3 3.5 0 1.41-.91 2.72-2 3.25V8.59c.58-.45 1-1.27 1-2.09C10 5.22 8.98 4 8 4H4c-.98 0-2 1.22-2 2.5S3 9 4 9zm9-3h-1v1h1c1 0 2 1.22 2 2.5S13.98 12 13 12H9c-.98 0-2-1.22-2-2.5 0-.83.42-1.64 1-2.09V6.25c-1.09.53-2 1.84-2 3.25C6 11.31 7.55 13 9 13h4c1.45 0 3-1.69 3-3.5S14.5 6 13 6z\"></path></svg></a>Capítulo 17: Classes e métodos</h1>\n",
    "<p>Embora estejamos usando alguns recursos de orientação a objeto do Python, os programas dos dois últimos capítulos não são realmente orientados a objeto, porque não representam as relações entre os tipos definidos pelo programador e as funções que os produzem. O próximo passo é transformar essas funções em métodos que tornem as relações claras.</p>\n",
    "<p>Os exemplos de código deste capítulo estão disponíveis em <a href=\"http://thinkpython2.com/code/Time2.py\" rel=\"nofollow\">http://thinkpython2.com/code/Time2.py</a> e as soluções para os exercícios estão em <a href=\"http://thinkpython2.com/code/Point2_soln.py\" rel=\"nofollow\">http://thinkpython2.com/code/Point2_soln.py</a>.</p>\n",
    "<h2><a id=\"user-content-171---recursos-de-orientação-a-objeto\" class=\"anchor\" aria-hidden=\"true\" href=\"#171---recursos-de-orientação-a-objeto\"><svg class=\"octicon octicon-link\" viewBox=\"0 0 16 16\" version=\"1.1\" width=\"16\" height=\"16\" aria-hidden=\"true\"><path fill-rule=\"evenodd\" d=\"M4 9h1v1H4c-1.5 0-3-1.69-3-3.5S2.55 3 4 3h4c1.45 0 3 1.69 3 3.5 0 1.41-.91 2.72-2 3.25V8.59c.58-.45 1-1.27 1-2.09C10 5.22 8.98 4 8 4H4c-.98 0-2 1.22-2 2.5S3 9 4 9zm9-3h-1v1h1c1 0 2 1.22 2 2.5S13.98 12 13 12H9c-.98 0-2-1.22-2-2.5 0-.83.42-1.64 1-2.09V6.25c-1.09.53-2 1.84-2 3.25C6 11.31 7.55 13 9 13h4c1.45 0 3-1.69 3-3.5S14.5 6 13 6z\"></path></svg></a>17.1 - Recursos de orientação a objeto</h2>\n",
    "<p>Python é uma <b>linguagem de programação orientada a objeto</b>, ou seja, ela oferece recursos de programação orientada a objeto que tem a seguintes características:</p>\n",
    "<ul>\n",
    "<li>\n",
    "<p>Os programas incluem definições de classes e métodos.</p>\n",
    "</li>\n",
    "<li>\n",
    "<p>A maior parte dos cálculos é expressa em termos de operações em objetos.</p>\n",
    "</li>\n",
    "<li>\n",
    "<p>Os objetos muitas vezes representam coisas no mundo real, e os métodos muitas vezes correspondem às formas em que as coisas no mundo real interagem.</p>\n",
    "</li>\n",
    "</ul>\n",
    "<p>Por exemplo, a classe <code>Time</code> definida no Capítulo 16 corresponde à forma como as pessoas registram a hora do dia, e as funções que definimos correspondem aos tipos de coisas que as pessoas fazem com os horários. De forma similar, as classes <code>Point</code> e <code>Rectangle</code> no Capítulo 15 correspondem aos conceitos matemáticos de ponto e retângulo.</p>\n",
    "<p>Por enquanto, não aproveitamos os recursos que o Python oferece para programação orientada a objeto. Esses recursos não são estritamente necessários; a maioria deles oferece uma sintaxe alternativa para coisas que já fizemos. No entanto, em muitos casos, a alternativa é mais concisa e representa de forma mais exata a estrutura do programa.</p>\n",
    "<p>Por exemplo, em <code>Time1.py</code> não há nenhuma conexão óbvia entre a definição de classe e as definições de função que seguem. Com um pouco de atenção, é evidente que cada função recebe pelo menos um objeto Time como argumento.</p>\n",
    "<p>Essa observação é a motivação para usar <b>métodos</b>; um método é uma função associada a determinada classe. Vimos métodos de string, listas, dicionários e tuplas. Neste capítulo definiremos métodos para tipos definidos pelo programador.</p>\n",
    "<p>Métodos são semanticamente o mesmo que funções, mas há duas diferenças sintáticas:</p>\n",
    "<ul>\n",
    "<li>\n",
    "<p>Os métodos são definidos dentro de uma definição de classe para tornar clara a relação entre a classe e o método.</p>\n",
    "</li>\n",
    "<li>\n",
    "<p>A sintaxe para invocar um método é diferente da sintaxe para chamar uma função.</p>\n",
    "</li>\n",
    "</ul>\n",
    "<p>Nas próximas seções tomaremos as funções dos dois capítulos anteriores e as transformaremos em métodos. Essa transformação é puramente mecânica; você pode fazê-la seguindo uma série de passos. Se estiver à vontade para fazer a conversão entre uma forma e outra, sempre poderá escolher a melhor forma para contemplar os seus objetivos.</p>\n",
    "<h2><a id=\"user-content-172---exibição-de-objetos\" class=\"anchor\" aria-hidden=\"true\" href=\"#172---exibição-de-objetos\"><svg class=\"octicon octicon-link\" viewBox=\"0 0 16 16\" version=\"1.1\" width=\"16\" height=\"16\" aria-hidden=\"true\"><path fill-rule=\"evenodd\" d=\"M4 9h1v1H4c-1.5 0-3-1.69-3-3.5S2.55 3 4 3h4c1.45 0 3 1.69 3 3.5 0 1.41-.91 2.72-2 3.25V8.59c.58-.45 1-1.27 1-2.09C10 5.22 8.98 4 8 4H4c-.98 0-2 1.22-2 2.5S3 9 4 9zm9-3h-1v1h1c1 0 2 1.22 2 2.5S13.98 12 13 12H9c-.98 0-2-1.22-2-2.5 0-.83.42-1.64 1-2.09V6.25c-1.09.53-2 1.84-2 3.25C6 11.31 7.55 13 9 13h4c1.45 0 3-1.69 3-3.5S14.5 6 13 6z\"></path></svg></a>17.2 - Exibição de objetos</h2>\n",
    "<p>No Capítulo 16 definimos uma classe chamada Time em “Time”, na página 231, e você escreveu uma função denominada <code>print_time</code>:</p>"
   ]
  },
  {
   "cell_type": "markdown",
   "metadata": {},
   "source": [
    "```python\n",
    "class Time:\n",
    "    \"\"\" Represents the time of day.\"\"\"```"
   ]
  },
  {
   "cell_type": "code",
   "execution_count": 1,
   "metadata": {},
   "outputs": [],
   "source": [
    "from book_code import Time # importado para aproveitar o int_to_time do capítulo anterior\n",
    "def print_time(time):\n",
    "    print('%.2d:%.2d:%.2d' % (time.hour, time.minute, time.second))"
   ]
  },
  {
   "cell_type": "markdown",
   "metadata": {},
   "source": [
    "<p>Para chamar esta função, você precisa passar um objeto <code>Time</code> como argumento:</p>"
   ]
  },
  {
   "cell_type": "code",
   "execution_count": 2,
   "metadata": {},
   "outputs": [
    {
     "name": "stdout",
     "output_type": "stream",
     "text": [
      "09:45:00\n"
     ]
    }
   ],
   "source": [
    ">>> start = Time()\n",
    ">>> start.hour = 9\n",
    ">>> start.minute = 45\n",
    ">>> start.second = 00\n",
    ">>> print_time(start)"
   ]
  },
  {
   "cell_type": "markdown",
   "metadata": {},
   "source": [
    "<p>Para fazer de <code>print_time</code> um método, tudo o que precisamos fazer é mover a definição da função para dentro da definição da classe. Note a alteração na endentação:</p>"
   ]
  },
  {
   "cell_type": "markdown",
   "metadata": {},
   "source": [
    "```python\n",
    "class Time:\n",
    "    def print_time(time):\n",
    "        print('%.2d:%.2d:%.2d' % (time.hour, time.minute, time.second))```"
   ]
  },
  {
   "cell_type": "markdown",
   "metadata": {},
   "source": [
    "<p>Agora há duas formas de chamar <code>print_time</code>. A primeira forma (e menos comum) é usar a sintaxe de função:</p>"
   ]
  },
  {
   "cell_type": "code",
   "execution_count": 3,
   "metadata": {},
   "outputs": [
    {
     "name": "stdout",
     "output_type": "stream",
     "text": [
      "09:45:00\n"
     ]
    }
   ],
   "source": [
    ">>> Time.print_time(start)"
   ]
  },
  {
   "cell_type": "markdown",
   "metadata": {},
   "source": [
    "<p>Nesse uso da notação de ponto, Time é o nome da classe, e <code>print_time</code> é o nome do método. <code>start</code> é passado como um parâmetro.</p>\n",
    "<p>A segunda forma (e mais concisa) é usar a sintaxe de método:</p>"
   ]
  },
  {
   "cell_type": "code",
   "execution_count": 4,
   "metadata": {},
   "outputs": [
    {
     "name": "stdout",
     "output_type": "stream",
     "text": [
      "09:45:00\n"
     ]
    }
   ],
   "source": [
    ">>> start.print_time() # o objeto anterior desconhece o método print_time"
   ]
  },
  {
   "cell_type": "markdown",
   "metadata": {},
   "source": [
    "<p>Nesse uso da notação de ponto, <code>print_time</code> é o nome do método (novamente), e <code>start</code> é o objeto no qual o método é invocado, que se chama de <b>sujeito</b>. Assim como em uma sentença, onde o sujeito é o foco da escrita, o sujeito de uma invocação de método é o foco do método.</p>\n",
    "<p>Dentro do método, o sujeito é atribuído ao primeiro parâmetro, portanto, neste caso, <code>start</code> é atribuído a <code>time</code>.</p>\n",
    "<p>Por convenção, o primeiro parâmetro de um método chama-se <code>self</code>, então seria mais comum escrever <code>print_time</code> desta forma:</p>"
   ]
  },
  {
   "cell_type": "markdown",
   "metadata": {},
   "source": [
    "```python\n",
    "class Time:\n",
    "    def print_time(self):\n",
    "        print('%.2d:%.2d:%.2d' % (self.hour, self.minute, self.second))```"
   ]
  },
  {
   "cell_type": "markdown",
   "metadata": {},
   "source": [
    "<p>A razão dessa convenção é uma metáfora implícita:</p>\n",
    "<ul>\n",
    "<li>\n",
    "<p>A sintaxe de uma chamada de função, <code>print_time(start)</code>, sugere que a função é o agente ativo. Ela diz algo como: “Ei, <code>print_time</code>! Aqui está um objeto para você exibir”.</p>\n",
    "</li>\n",
    "<li>\n",
    "<p>Na programação orientada a objeto, os objetos são os agentes ativos. Uma invocação de método <code>como start.print_time()</code> diz: “Ei, <code>start</code>! Por favor, exiba-se”.</p>\n",
    "</li>\n",
    "</ul>\n",
    "<p>Essa mudança de perspectiva pode ser mais polida, mas não é óbvio que seja útil. Nos exemplos que vimos até agora, pode não ser. Porém, às vezes, deslocar a responsabilidade das funções para os objetos permite escrever funções (ou métodos) mais versáteis e facilita a manutenção e reutilização do código.</p>\n",
    "<p>Como exercício, reescreva <code>time_to_int</code> (de “Prototipação versus planejamento”, na página 234) como um método. Você pode ficar tentado a reescrever <code>int_to_time</code> como um método também, mas isso não faz muito sentido porque não haveria nenhum objeto sobre o qual invocá-lo.</p>\n",
    "<h2><a id=\"user-content-173---outro-exemplo\" class=\"anchor\" aria-hidden=\"true\" href=\"#173---outro-exemplo\"><svg class=\"octicon octicon-link\" viewBox=\"0 0 16 16\" version=\"1.1\" width=\"16\" height=\"16\" aria-hidden=\"true\"><path fill-rule=\"evenodd\" d=\"M4 9h1v1H4c-1.5 0-3-1.69-3-3.5S2.55 3 4 3h4c1.45 0 3 1.69 3 3.5 0 1.41-.91 2.72-2 3.25V8.59c.58-.45 1-1.27 1-2.09C10 5.22 8.98 4 8 4H4c-.98 0-2 1.22-2 2.5S3 9 4 9zm9-3h-1v1h1c1 0 2 1.22 2 2.5S13.98 12 13 12H9c-.98 0-2-1.22-2-2.5 0-.83.42-1.64 1-2.09V6.25c-1.09.53-2 1.84-2 3.25C6 11.31 7.55 13 9 13h4c1.45 0 3-1.69 3-3.5S14.5 6 13 6z\"></path></svg></a>17.3 - Outro exemplo</h2>\n",
    "<p>Aqui está uma versão de <code>increment</code> (de “Modificadores”, na página 233) reescrita como método:</p>"
   ]
  },
  {
   "cell_type": "markdown",
   "metadata": {},
   "source": [
    "```python\n",
    "# dentro da classe Time:\n",
    "    def increment(self, seconds):\n",
    "        seconds += self.time_to_int()\n",
    "        return int_to_time(seconds)```"
   ]
  },
  {
   "cell_type": "markdown",
   "metadata": {},
   "source": [
    "<p>Essa versão assume que <code>time_to_int</code> seja escrita como método. Além disso, observe que é uma função pura, não um modificador.</p>\n",
    "<p>É assim que eu invocaria <code>increment</code>:</p>"
   ]
  },
  {
   "cell_type": "code",
   "execution_count": 5,
   "metadata": {},
   "outputs": [
    {
     "name": "stdout",
     "output_type": "stream",
     "text": [
      "09:45:00\n",
      "10:07:17\n"
     ]
    }
   ],
   "source": [
    ">>> start.print_time()\n",
    ">>> end = start.increment(1337)\n",
    ">>> end.print_time()"
   ]
  },
  {
   "cell_type": "markdown",
   "metadata": {},
   "source": [
    "<p>O sujeito, <code>start</code>, é atribuído ao primeiro parâmetro, <code>self</code>. O argumento, <code>1337</code>, é atribuído ao segundo parâmetro, <code>seconds</code>.</p>\n",
    "<p>Esse mecanismo pode ser confuso, especialmente se você fizer um erro. Por exemplo, se invocar <code>increment</code> com dois argumentos, recebe:</p>"
   ]
  },
  {
   "cell_type": "code",
   "execution_count": 6,
   "metadata": {},
   "outputs": [
    {
     "ename": "TypeError",
     "evalue": "increment() takes 2 positional arguments but 3 were given",
     "output_type": "error",
     "traceback": [
      "\u001b[0;31m---------------------------------------------------------------------------\u001b[0m",
      "\u001b[0;31mTypeError\u001b[0m                                 Traceback (most recent call last)",
      "\u001b[0;32m<ipython-input-6-a8fd8b8bdfbc>\u001b[0m in \u001b[0;36m<module>\u001b[0;34m\u001b[0m\n\u001b[0;32m----> 1\u001b[0;31m \u001b[0mend\u001b[0m \u001b[0;34m=\u001b[0m \u001b[0mstart\u001b[0m\u001b[0;34m.\u001b[0m\u001b[0mincrement\u001b[0m\u001b[0;34m(\u001b[0m\u001b[0;36m1337\u001b[0m\u001b[0;34m,\u001b[0m \u001b[0;36m460\u001b[0m\u001b[0;34m)\u001b[0m\u001b[0;34m\u001b[0m\u001b[0;34m\u001b[0m\u001b[0m\n\u001b[0m",
      "\u001b[0;31mTypeError\u001b[0m: increment() takes 2 positional arguments but 3 were given"
     ]
    }
   ],
   "source": [
    ">>> end = start.increment(1337, 460)"
   ]
  },
  {
   "cell_type": "markdown",
   "metadata": {},
   "source": [
    "<p>A mensagem de erro é inicialmente confusa, porque há só dois argumentos entre parênteses. No entanto, o sujeito também é considerado um argumento, então, somando tudo, são três.</p>\n",
    "<p>A propósito, um <b>argumento posicional</b> é o que não tem um nome de parâmetro; isto é, não é um argumento de palavra-chave. Nesta chamada da função:</p>"
   ]
  },
  {
   "cell_type": "markdown",
   "metadata": {},
   "source": [
    "```python\n",
    "sketch(parrot, cage, dead=True)```"
   ]
  },
  {
   "cell_type": "markdown",
   "metadata": {},
   "source": [
    "<p><code>parrot</code> e <code>cage</code> são posicionais, e <code>dead</code> é um argumento de palavra-chave.</p>\n",
    "<h2><a id=\"user-content-174---um-exemplo-mais-complicado\" class=\"anchor\" aria-hidden=\"true\" href=\"#174---um-exemplo-mais-complicado\"><svg class=\"octicon octicon-link\" viewBox=\"0 0 16 16\" version=\"1.1\" width=\"16\" height=\"16\" aria-hidden=\"true\"><path fill-rule=\"evenodd\" d=\"M4 9h1v1H4c-1.5 0-3-1.69-3-3.5S2.55 3 4 3h4c1.45 0 3 1.69 3 3.5 0 1.41-.91 2.72-2 3.25V8.59c.58-.45 1-1.27 1-2.09C10 5.22 8.98 4 8 4H4c-.98 0-2 1.22-2 2.5S3 9 4 9zm9-3h-1v1h1c1 0 2 1.22 2 2.5S13.98 12 13 12H9c-.98 0-2-1.22-2-2.5 0-.83.42-1.64 1-2.09V6.25c-1.09.53-2 1.84-2 3.25C6 11.31 7.55 13 9 13h4c1.45 0 3-1.69 3-3.5S14.5 6 13 6z\"></path></svg></a>17.4 - Um exemplo mais complicado</h2>\n",
    "<p>Reescrever <code>is_after</code> (de “Time”, na página 231) é ligeiramente mais complicado, porque ela recebe dois objetos <code>Time</code> como parâmetros. Nesse caso, a convenção é denominar o primeiro parâmetro <code>self</code> e o segundo parâmetro <code>other</code>:</p>"
   ]
  },
  {
   "cell_type": "markdown",
   "metadata": {},
   "source": [
    "```python\n",
    "# dentro da classe Time:\n",
    "\n",
    "    def is_after(self, other):\n",
    "        return self.time_to_int() > other.time_to_int()```"
   ]
  },
  {
   "cell_type": "markdown",
   "metadata": {},
   "source": [
    "<p>Para usar este método, você deve invocá-lo para um objeto e passar outro como argumento:</p>"
   ]
  },
  {
   "cell_type": "code",
   "execution_count": 7,
   "metadata": {},
   "outputs": [
    {
     "data": {
      "text/plain": [
       "True"
      ]
     },
     "execution_count": 7,
     "metadata": {},
     "output_type": "execute_result"
    }
   ],
   "source": [
    ">>> end.is_after(start)"
   ]
  },
  {
   "cell_type": "markdown",
   "metadata": {},
   "source": [
    "<p>Uma vantagem desta sintaxe é que é quase literal em inglês: “o fim é depois da partida?”.</p>\n",
    "<h2><a id=\"user-content-175---método-init\" class=\"anchor\" aria-hidden=\"true\" href=\"#175---método-init\"><svg class=\"octicon octicon-link\" viewBox=\"0 0 16 16\" version=\"1.1\" width=\"16\" height=\"16\" aria-hidden=\"true\"><path fill-rule=\"evenodd\" d=\"M4 9h1v1H4c-1.5 0-3-1.69-3-3.5S2.55 3 4 3h4c1.45 0 3 1.69 3 3.5 0 1.41-.91 2.72-2 3.25V8.59c.58-.45 1-1.27 1-2.09C10 5.22 8.98 4 8 4H4c-.98 0-2 1.22-2 2.5S3 9 4 9zm9-3h-1v1h1c1 0 2 1.22 2 2.5S13.98 12 13 12H9c-.98 0-2-1.22-2-2.5 0-.83.42-1.64 1-2.09V6.25c-1.09.53-2 1.84-2 3.25C6 11.31 7.55 13 9 13h4c1.45 0 3-1.69 3-3.5S14.5 6 13 6z\"></path></svg></a>17.5 - Método init</h2>\n",
    "<p>O método <code>__init__</code> (abreviação da palavra em inglês para “inicialização”) é um método especial, invocado quando um objeto é instanciado. Seu nome completo é <code>__init__</code> (dois caracteres de sublinhado, seguidos de init, e mais dois sublinhados). Um método <code>__init__</code> da classe <code>Time</code> pode ser algo assim:</p>"
   ]
  },
  {
   "cell_type": "markdown",
   "metadata": {},
   "source": [
    "```python\n",
    "# dentro da classe Time:\n",
    "\n",
    "    def __init__(self, hour=0, minute=0, second=0):\n",
    "        self.hour = hour\n",
    "        self.minute = minute\n",
    "        self.second = second```"
   ]
  },
  {
   "cell_type": "markdown",
   "metadata": {},
   "source": [
    "<p>É comum que os parâmetros de <code>__init__</code> tenham os mesmos nomes que os atributos. A instrução</p>"
   ]
  },
  {
   "cell_type": "markdown",
   "metadata": {},
   "source": [
    "```python\n",
    "        self.hour = hour```"
   ]
  },
  {
   "cell_type": "markdown",
   "metadata": {},
   "source": [
    "<p>guarda o valor do parâmetro <code>hour</code> como um atributo de <code>self</code>.</p>\n",
    "<p>Os parâmetros são opcionais, então, se você chamar Time sem argumentos, recebe os valores padrão:</p>"
   ]
  },
  {
   "cell_type": "code",
   "execution_count": 8,
   "metadata": {},
   "outputs": [
    {
     "name": "stdout",
     "output_type": "stream",
     "text": [
      "00:00:00\n"
     ]
    }
   ],
   "source": [
    ">>> time = Time()\n",
    ">>> time.print_time()"
   ]
  },
  {
   "cell_type": "markdown",
   "metadata": {},
   "source": [
    "<p>Se incluir um argumento, ele define <code>hour</code>.</p>"
   ]
  },
  {
   "cell_type": "code",
   "execution_count": 9,
   "metadata": {},
   "outputs": [
    {
     "name": "stdout",
     "output_type": "stream",
     "text": [
      "09:00:00\n"
     ]
    }
   ],
   "source": [
    ">>> time = Time (9)\n",
    ">>> time.print_time()"
   ]
  },
  {
   "cell_type": "markdown",
   "metadata": {},
   "source": [
    "<p>Se fornecer dois argumentos, <code>hour</code> e <code>minute</code> serão definidos:</p>"
   ]
  },
  {
   "cell_type": "code",
   "execution_count": 10,
   "metadata": {},
   "outputs": [
    {
     "name": "stdout",
     "output_type": "stream",
     "text": [
      "09:45:00\n"
     ]
    }
   ],
   "source": [
    ">>> time = Time(9, 45)\n",
    ">>> time.print_time()"
   ]
  },
  {
   "cell_type": "markdown",
   "metadata": {},
   "source": [
    "<p>E se você fornecer três argumentos, os três valores serão definidos.</p>\n",
    "<p>Como exercício, escreva um método init da classe <code>Point</code> que receba <code>x</code> e <code>y</code> como parâmetros opcionais e os relacione aos atributos correspondentes.</p>\n",
    "<h2><a id=\"user-content-176---método-__str__\" class=\"anchor\" aria-hidden=\"true\" href=\"#176---método-__str__\"><svg class=\"octicon octicon-link\" viewBox=\"0 0 16 16\" version=\"1.1\" width=\"16\" height=\"16\" aria-hidden=\"true\"><path fill-rule=\"evenodd\" d=\"M4 9h1v1H4c-1.5 0-3-1.69-3-3.5S2.55 3 4 3h4c1.45 0 3 1.69 3 3.5 0 1.41-.91 2.72-2 3.25V8.59c.58-.45 1-1.27 1-2.09C10 5.22 8.98 4 8 4H4c-.98 0-2 1.22-2 2.5S3 9 4 9zm9-3h-1v1h1c1 0 2 1.22 2 2.5S13.98 12 13 12H9c-.98 0-2-1.22-2-2.5 0-.83.42-1.64 1-2.09V6.25c-1.09.53-2 1.84-2 3.25C6 11.31 7.55 13 9 13h4c1.45 0 3-1.69 3-3.5S14.5 6 13 6z\"></path></svg></a>17.6 - Método <code>__str__</code></h2>\n",
    "<p><code>__str__</code> é um método especial, como <code>__init__</code>, usado para retornar uma representação de string de um objeto.</p>\n",
    "<p>Por exemplo, aqui está um método str para objetos <code>Time</code>:</p>"
   ]
  },
  {
   "cell_type": "markdown",
   "metadata": {},
   "source": [
    "```python\n",
    "# dentro da classe Time:\n",
    "\n",
    "    def __str__(self):\n",
    "        return '%.2d:%.2d:%.2d' % (self.hour, self.minute, self.second)```\n",
    "<p>Ao exibir um objeto com <code>print</code>, o Python invoca o método str:</p>"
   ]
  },
  {
   "cell_type": "code",
   "execution_count": 11,
   "metadata": {},
   "outputs": [
    {
     "name": "stdout",
     "output_type": "stream",
     "text": [
      "09:45:00\n"
     ]
    }
   ],
   "source": [
    ">>> time = Time(9, 45)\n",
    ">>> print(time)"
   ]
  },
  {
   "cell_type": "markdown",
   "metadata": {},
   "source": [
    "<p>Quando escrevo uma nova classe, quase sempre começo escrevendo <code>__init__</code>, o que facilita a instanciação de objetos, e <code>__str__</code>, que é útil para a depuração.</p>\n",
    "<p>Como exercício, escreva um método str da classe <code>Point</code>. Crie um objeto <code>Point</code> e exiba-o.</p>\n",
    "<h2><a id=\"user-content-177---sobrecarga-de-operadores\" class=\"anchor\" aria-hidden=\"true\" href=\"#177---sobrecarga-de-operadores\"><svg class=\"octicon octicon-link\" viewBox=\"0 0 16 16\" version=\"1.1\" width=\"16\" height=\"16\" aria-hidden=\"true\"><path fill-rule=\"evenodd\" d=\"M4 9h1v1H4c-1.5 0-3-1.69-3-3.5S2.55 3 4 3h4c1.45 0 3 1.69 3 3.5 0 1.41-.91 2.72-2 3.25V8.59c.58-.45 1-1.27 1-2.09C10 5.22 8.98 4 8 4H4c-.98 0-2 1.22-2 2.5S3 9 4 9zm9-3h-1v1h1c1 0 2 1.22 2 2.5S13.98 12 13 12H9c-.98 0-2-1.22-2-2.5 0-.83.42-1.64 1-2.09V6.25c-1.09.53-2 1.84-2 3.25C6 11.31 7.55 13 9 13h4c1.45 0 3-1.69 3-3.5S14.5 6 13 6z\"></path></svg></a>17.7 - Sobrecarga de operadores</h2>\n",
    "<p>Ao definir outros métodos especiais, você pode especificar o comportamento de operadores nos tipos definidos pelo programador. Por exemplo, se você definir um método chamado <code>__add__</code> para a classe <code>Time</code> de <code>Time</code>, pode usar o operador <code>+</code> em objetos <code>Time</code>.</p>\n",
    "<p>A definição pode ser assim:</p>"
   ]
  },
  {
   "cell_type": "markdown",
   "metadata": {},
   "source": [
    "```python\n",
    "# dentro da classe Time:\n",
    "\n",
    "    def __add__(self, other):\n",
    "        if isinstance(other, Time):\n",
    "            return self.add_time(other)\n",
    "        else:\n",
    "            return self.increment(other)\n",
    "\n",
    "    def add_time(self, other):\n",
    "        seconds = self.time_to_int() + other.time_to_int()\n",
    "        return int_to_time(seconds)\n",
    "\n",
    "    def increment(self, seconds):\n",
    "        seconds += self.time_to_int()\n",
    "        return int_to_time(seconds)```"
   ]
  },
  {
   "cell_type": "markdown",
   "metadata": {},
   "source": [
    "<p>Você pode usá-lo assim:</p>"
   ]
  },
  {
   "cell_type": "code",
   "execution_count": 12,
   "metadata": {},
   "outputs": [
    {
     "name": "stdout",
     "output_type": "stream",
     "text": [
      "11:20:00\n"
     ]
    }
   ],
   "source": [
    ">>> start = Time(9, 45)\n",
    ">>> duration = Time(1, 35)\n",
    ">>> print(start + duration)"
   ]
  },
  {
   "cell_type": "markdown",
   "metadata": {},
   "source": [
    "<p>Ao aplicar o operador <code>+</code> a objetos <code>Time</code>, o Python invoca <code>__add__</code>. Ao exibir o resultado, o Python invoca <code>__str__</code>. Ou seja, há muita coisa acontecendo nos bastidores!</p>\n",
    "<p>Alterar o comportamento de um operador para que funcione com tipos definidos pelo programador chama-se <b>sobrecarga de operadores</b>. Para cada operador no Python há um método especial correspondente, como <code>__add__</code>. Para obter mais informações, veja <a href=\"http://docs.python.org/3/reference/datamodel.html%5C#specialnames\" rel=\"nofollow\">http://docs.python.org/3/reference/datamodel.html\\#specialnames</a>.</p>\n",
    "<p>Como exercício, escreva um método add para a classe <code>Point</code>.</p>\n",
    "<h2><a id=\"user-content-178---despacho-por-tipo\" class=\"anchor\" aria-hidden=\"true\" href=\"#178---despacho-por-tipo\"><svg class=\"octicon octicon-link\" viewBox=\"0 0 16 16\" version=\"1.1\" width=\"16\" height=\"16\" aria-hidden=\"true\"><path fill-rule=\"evenodd\" d=\"M4 9h1v1H4c-1.5 0-3-1.69-3-3.5S2.55 3 4 3h4c1.45 0 3 1.69 3 3.5 0 1.41-.91 2.72-2 3.25V8.59c.58-.45 1-1.27 1-2.09C10 5.22 8.98 4 8 4H4c-.98 0-2 1.22-2 2.5S3 9 4 9zm9-3h-1v1h1c1 0 2 1.22 2 2.5S13.98 12 13 12H9c-.98 0-2-1.22-2-2.5 0-.83.42-1.64 1-2.09V6.25c-1.09.53-2 1.84-2 3.25C6 11.31 7.55 13 9 13h4c1.45 0 3-1.69 3-3.5S14.5 6 13 6z\"></path></svg></a>17.8 - Despacho por tipo</h2>\n",
    "<p>Na seção anterior, acrescentamos dois objetos <code>Time</code>, mas você também pode querer acrescentar um número inteiro a um objeto <code>Time</code>. A seguir, veja uma versão de <code>__add__</code>, que verifica o tipo de <code>other</code> e invoca <code>add_time</code> ou <code>increment</code>:</p>"
   ]
  },
  {
   "cell_type": "markdown",
   "metadata": {},
   "source": [
    "```python\n",
    "# dentro da classe Time:\n",
    "    def __add__(self, other):\n",
    "        if isinstance(other, Time):\n",
    "            return self.add_time(other)\n",
    "        else:\n",
    "            return self.increment(other)\n",
    "\n",
    "    def add_time(self, other):\n",
    "        seconds = self.time_to_int() + other.time_to_int()\n",
    "        return int_to_time(seconds)\n",
    "\n",
    "    def increment(self, ):\n",
    "        seconds += self.time_to_int()\n",
    "        return int_to_time(seconds)```"
   ]
  },
  {
   "cell_type": "markdown",
   "metadata": {},
   "source": [
    "<p>A função integrada <code>isinstance</code> recebe um valor e um objeto de classe e retorna <code>True</code> se o valor for uma instância da classe.</p>\n",
    "<p>Se other for um objeto <code>Time</code>, <code>__add__</code> invoca <code>add_time</code>. Do contrário, assume que o parâmetro seja um número e invoca <code>increment</code>. Essa operação chama-se <b>despacho por tipo</b> porque despacha a operação a métodos diferentes, baseados no tipo dos argumentos.</p>\n",
    "<p>Veja exemplos que usam o operador <code>+</code> com tipos diferentes:</p>"
   ]
  },
  {
   "cell_type": "code",
   "execution_count": 13,
   "metadata": {},
   "outputs": [
    {
     "name": "stdout",
     "output_type": "stream",
     "text": [
      "11:20:00\n",
      "10:07:17\n"
     ]
    }
   ],
   "source": [
    ">>> start = Time(9, 45)\n",
    ">>> duration = Time(1, 35)\n",
    ">>> print(start + duration)\n",
    ">>> print(start + 1337)"
   ]
  },
  {
   "cell_type": "markdown",
   "metadata": {},
   "source": [
    "<p>Infelizmente, esta implementação da adição não é comutativa. Se o número inteiro for o primeiro operando, você recebe</p>"
   ]
  },
  {
   "cell_type": "markdown",
   "metadata": {},
   "source": [
    "```python\n",
    ">>> print(1337 + start)```"
   ]
  },
  {
   "cell_type": "raw",
   "metadata": {},
   "source": [
    "TypeError: unsupported operand type(s) for +: 'int' and 'instance'"
   ]
  },
  {
   "cell_type": "markdown",
   "metadata": {},
   "source": [
    "<p>O problema é que, em vez de pedir ao objeto <code>Time</code> que adicione um número inteiro, o Python está pedindo que um número inteiro adicione um objeto <code>Time</code>, e ele não sabe como fazer isso. Entretanto, há uma solução inteligente para este problema: o método especial <code>__radd__</code>, que significa “adição à direita”. Esse método é invocado quando um objeto <code>Time</code> aparece no lado direito do operador <code>+</code>. Aqui está a definição:</p>"
   ]
  },
  {
   "cell_type": "markdown",
   "metadata": {},
   "source": [
    "```python\n",
    "# dentro da classe Time:\n",
    "    def __radd__(self, other):\n",
    "        return self.__add__(other)```"
   ]
  },
  {
   "cell_type": "markdown",
   "metadata": {},
   "source": [
    "<p>E é assim que ele é usado:</p>"
   ]
  },
  {
   "cell_type": "code",
   "execution_count": 14,
   "metadata": {},
   "outputs": [
    {
     "name": "stdout",
     "output_type": "stream",
     "text": [
      "10:07:17\n"
     ]
    }
   ],
   "source": [
    ">>> print(1337 + start)"
   ]
  },
  {
   "cell_type": "markdown",
   "metadata": {},
   "source": [
    "<p>Como exercício, escreva um método add para <code>Point</code> que funcione com um objeto <code>Point</code> ou com uma tupla:</p>\n",
    "<ul>\n",
    "<li>\n",
    "<p>Se o segundo operando for um <code>Point</code>, o método deve retornar um novo <code>Point</code> cuja coordenada x é a soma das coordenadas x dos operandos, e o mesmo se aplica às coordenadas de y.</p>\n",
    "</li>\n",
    "<li>\n",
    "<p>Se o segundo operando for uma tupla, o método deve adicionar o primeiro elemento da tupla à coordenada de x e o segundo elemento à coordenada de y, retornando um novo <code>Point</code> com o resultado.</p>\n",
    "</li>\n",
    "</ul>\n",
    "<h2><a id=\"user-content-179---polimorfismo\" class=\"anchor\" aria-hidden=\"true\" href=\"#179---polimorfismo\"><svg class=\"octicon octicon-link\" viewBox=\"0 0 16 16\" version=\"1.1\" width=\"16\" height=\"16\" aria-hidden=\"true\"><path fill-rule=\"evenodd\" d=\"M4 9h1v1H4c-1.5 0-3-1.69-3-3.5S2.55 3 4 3h4c1.45 0 3 1.69 3 3.5 0 1.41-.91 2.72-2 3.25V8.59c.58-.45 1-1.27 1-2.09C10 5.22 8.98 4 8 4H4c-.98 0-2 1.22-2 2.5S3 9 4 9zm9-3h-1v1h1c1 0 2 1.22 2 2.5S13.98 12 13 12H9c-.98 0-2-1.22-2-2.5 0-.83.42-1.64 1-2.09V6.25c-1.09.53-2 1.84-2 3.25C6 11.31 7.55 13 9 13h4c1.45 0 3-1.69 3-3.5S14.5 6 13 6z\"></path></svg></a>17.9 - Polimorfismo</h2>\n",
    "<p>O despacho por tipo é útil, mas (felizmente) nem sempre é necessário. Muitas vezes, você pode evitá-lo escrevendo funções que funcionem corretamente para argumentos de tipos diferentes.</p>\n",
    "<p>Muitas das funções que escrevemos para strings também funcionam para outros tipos de sequência. Por exemplo, em “Um dicionário como uma coleção de contadores”, na página 163, usamos <code>histogram</code> para contar o número de vezes que cada letra aparece numa palavra:</p>"
   ]
  },
  {
   "cell_type": "code",
   "execution_count": 15,
   "metadata": {},
   "outputs": [],
   "source": [
    "def histogram(s):\n",
    "    d = dict()\n",
    "    for c in s:\n",
    "        if c not in d:\n",
    "            d[c] = 1\n",
    "        else:\n",
    "            d[c] = d[c] + 1\n",
    "    return d"
   ]
  },
  {
   "cell_type": "markdown",
   "metadata": {},
   "source": [
    "<p>Essa função também funciona com listas, tuplas e até dicionários, desde que os elementos de <code>s</code> sejam <i>hashable</i>, então eles podem ser usados como chaves em <code>d</code>:</p>"
   ]
  },
  {
   "cell_type": "code",
   "execution_count": 16,
   "metadata": {},
   "outputs": [
    {
     "data": {
      "text/plain": [
       "{'spam': 4, 'egg': 1, 'bacon': 1}"
      ]
     },
     "execution_count": 16,
     "metadata": {},
     "output_type": "execute_result"
    }
   ],
   "source": [
    ">>> t = ['spam', 'egg', 'spam', 'spam', 'bacon', 'spam']\n",
    ">>> histogram(t)"
   ]
  },
  {
   "cell_type": "markdown",
   "metadata": {},
   "source": [
    "<p>As funções que funcionam com vários tipos chamam-se <code>polimórficas</code>. O polimorfismo pode facilitar a reutilização do código. Por exemplo, a função integrada <code>sum</code>, que adiciona os elementos de uma sequência, funciona só se os elementos da sequência forem compatíveis com adição.</p>\n",
    "<p>Como os objetos <code>Time</code> oferecem o método add, eles funcionam com <code>sum</code>:</p>"
   ]
  },
  {
   "cell_type": "code",
   "execution_count": 17,
   "metadata": {},
   "outputs": [
    {
     "name": "stdout",
     "output_type": "stream",
     "text": [
      "23:01:00\n"
     ]
    }
   ],
   "source": [
    ">>> t1 = Time(7, 43)\n",
    ">>> t2 = Time(7, 41)\n",
    ">>> t3 = Time(7, 37)\n",
    ">>> total = sum([t1, t2, t3])\n",
    ">>> print(total)"
   ]
  },
  {
   "cell_type": "markdown",
   "metadata": {},
   "source": [
    "<p>Em geral, se todas as operações dentro de uma função forem compatíveis com um dado tipo, a função é compatível com este tipo.</p>\n",
    "<p>O melhor tipo de polimorfismo é o não intencional, quando você descobre que uma função que já escreveu pode ser aplicada a um tipo para o qual ela não tinha planejada.</p>\n",
    "<h2><a id=\"user-content-1710---interface-e-implementação\" class=\"anchor\" aria-hidden=\"true\" href=\"#1710---interface-e-implementação\"><svg class=\"octicon octicon-link\" viewBox=\"0 0 16 16\" version=\"1.1\" width=\"16\" height=\"16\" aria-hidden=\"true\"><path fill-rule=\"evenodd\" d=\"M4 9h1v1H4c-1.5 0-3-1.69-3-3.5S2.55 3 4 3h4c1.45 0 3 1.69 3 3.5 0 1.41-.91 2.72-2 3.25V8.59c.58-.45 1-1.27 1-2.09C10 5.22 8.98 4 8 4H4c-.98 0-2 1.22-2 2.5S3 9 4 9zm9-3h-1v1h1c1 0 2 1.22 2 2.5S13.98 12 13 12H9c-.98 0-2-1.22-2-2.5 0-.83.42-1.64 1-2.09V6.25c-1.09.53-2 1.84-2 3.25C6 11.31 7.55 13 9 13h4c1.45 0 3-1.69 3-3.5S14.5 6 13 6z\"></path></svg></a>17.10 - Interface e implementação</h2>\n",
    "<p>Uma das metas do projeto orientado a objeto é facilitar a manutenção do programa, para que você possa mantê-lo funcionando quando outras partes do sistema forem alteradas, e também poder alterar o programa para satisfazer novas condições.</p>\n",
    "<p>Um princípio de projeto que ajuda a atingir essa meta é manter as interfaces separadas das implementações. Para objetos, isso quer dizer que os métodos que uma classe oferece não devem depender de como os atributos são representados.</p>\n",
    "<p>Por exemplo, neste capítulo desenvolvemos uma classe que representa uma hora do dia. Os métodos fornecidos por esta classe incluem <code>time_to_int</code>, <code>is_after</code> e <code>add_time</code>.</p>\n",
    "<p>Podemos implementar esses métodos de várias formas. Os detalhes da implementação dependem de como representamos as horas. Neste capítulo, os atributos de um objeto <code>Time</code> são <code>hour</code>, <code>minute</code> e <code>second</code>.</p>\n",
    "<p>Como alternativa, podemos substituir esses atributos por um número inteiro único que represente o número de segundos desde a meia-noite. Essa implementação faria com que alguns métodos, como <code>is_after</code>, fossem mais fáceis de escrever, mas dificultaria o uso de outros métodos.</p>\n",
    "<p>Pode acontecer que, depois de implementar uma nova classe, você descubra uma implementação melhor. Se outras partes do programa estiverem usando a sua classe, mudar a interface pode ser trabalhoso e induzir a erros.</p>\n",
    "<p>No entanto, se projetou a interface cuidadosamente, pode alterar a implementação sem mudar a interface, e não será preciso mudar outras partes do programa.</p>\n",
    "<h2><a id=\"user-content-1711---depuração\" class=\"anchor\" aria-hidden=\"true\" href=\"#1711---depuração\"><svg class=\"octicon octicon-link\" viewBox=\"0 0 16 16\" version=\"1.1\" width=\"16\" height=\"16\" aria-hidden=\"true\"><path fill-rule=\"evenodd\" d=\"M4 9h1v1H4c-1.5 0-3-1.69-3-3.5S2.55 3 4 3h4c1.45 0 3 1.69 3 3.5 0 1.41-.91 2.72-2 3.25V8.59c.58-.45 1-1.27 1-2.09C10 5.22 8.98 4 8 4H4c-.98 0-2 1.22-2 2.5S3 9 4 9zm9-3h-1v1h1c1 0 2 1.22 2 2.5S13.98 12 13 12H9c-.98 0-2-1.22-2-2.5 0-.83.42-1.64 1-2.09V6.25c-1.09.53-2 1.84-2 3.25C6 11.31 7.55 13 9 13h4c1.45 0 3-1.69 3-3.5S14.5 6 13 6z\"></path></svg></a>17.11 - Depuração</h2>\n",
    "<p>É legal acrescentar atributos a objetos em qualquer ponto da execução de um programa, mas se você tiver objetos do mesmo tipo que não têm os mesmos atributos, é fácil cometer erros. É uma boa ideia inicializar todos os atributos de um objeto no método init.</p>\n",
    "<p>Caso não tenha certeza se um objeto tem um determinado atributo, você pode usar a função integrada <code>hasattr</code> (ver “Depuração”, na página 236).</p>\n",
    "<p>Outra forma de acessar atributos é com a função integrada <code>vars</code>, que recebe um objeto e retorna um dicionário que mapeia os nomes dos atributos (como strings) aos seus valores:</p>"
   ]
  },
  {
   "cell_type": "code",
   "execution_count": 18,
   "metadata": {},
   "outputs": [
    {
     "data": {
      "text/plain": [
       "{'x': 3, 'y': 4}"
      ]
     },
     "execution_count": 18,
     "metadata": {},
     "output_type": "execute_result"
    }
   ],
   "source": [
    "from book_code import Point # Point desenvolvido para atender esta célula\n",
    ">>> p = Point(3, 4)\n",
    ">>> vars(p)"
   ]
  },
  {
   "cell_type": "markdown",
   "metadata": {},
   "source": [
    "<p>Para facilitar a depuração, pode ser útil usar esta função:</p>"
   ]
  },
  {
   "cell_type": "code",
   "execution_count": 19,
   "metadata": {},
   "outputs": [],
   "source": [
    "def print_attributes(obj):\n",
    "    for attr in vars(obj):\n",
    "        print(attr, getattr(obj, attr))"
   ]
  },
  {
   "cell_type": "markdown",
   "metadata": {},
   "source": [
    "<p><code>print_attributes</code> atravessa o dicionário e imprime cada nome de atributo e o seu valor correspondente.</p>\n",
    "<p>A função integrada <code>getattr</code> recebe um objeto e um nome de atributo (como uma string) e devolve o valor do atributo.</p>\n",
    "<h2><a id=\"user-content-1712---glossário\" class=\"anchor\" aria-hidden=\"true\" href=\"#1712---glossário\"><svg class=\"octicon octicon-link\" viewBox=\"0 0 16 16\" version=\"1.1\" width=\"16\" height=\"16\" aria-hidden=\"true\"><path fill-rule=\"evenodd\" d=\"M4 9h1v1H4c-1.5 0-3-1.69-3-3.5S2.55 3 4 3h4c1.45 0 3 1.69 3 3.5 0 1.41-.91 2.72-2 3.25V8.59c.58-.45 1-1.27 1-2.09C10 5.22 8.98 4 8 4H4c-.98 0-2 1.22-2 2.5S3 9 4 9zm9-3h-1v1h1c1 0 2 1.22 2 2.5S13.98 12 13 12H9c-.98 0-2-1.22-2-2.5 0-.83.42-1.64 1-2.09V6.25c-1.09.53-2 1.84-2 3.25C6 11.31 7.55 13 9 13h4c1.45 0 3-1.69 3-3.5S14.5 6 13 6z\"></path></svg></a>17.12 - Glossário</h2>\n",
    "<dl>\n",
    "<dt><a id=\"user-content-glos:linguagem orientada a objeto\"><b>linguagem orientada a objeto</b></a></dt>\n",
    "<dd>Linguagem que fornece recursos, como tipos definidos pelo programador e métodos, que facilitam a programação orientada a objeto.</dd>\n",
    "<dt><a id=\"user-content-glos:programação orientada a objeto\"><b>programação orientada a objeto</b></a></dt>\n",
    "<dd>Estilo de programação na qual os dados e as operações que os manipulam são organizadas em classes e métodos.</dd>\n",
    "<dt><a id=\"user-content-glos:método\"><b>método</b></a></dt>\n",
    "<dd>Função criada dentro de uma definição de classe e invocada em instâncias desta classe.</dd>\n",
    "<dt><a id=\"user-content-glos:sujeito\"><b>sujeito</b></a></dt>\n",
    "<dd>Objeto sobre o qual um método é invocado.</dd>\n",
    "<dt><a id=\"user-content-glos:argumento posicional\"><b>argumento posicional</b></a></dt>\n",
    "<dd>Argumento que não inclui um nome de parâmetro, portanto não é um argumento de palavra-chave.</dd>\n",
    "<dt><a id=\"user-content-glos:sobrecarga de operador\"><b>sobrecarga de operador</b></a></dt>\n",
    "<dd>Alteração do comportamento de um operador como + para que funcione com um tipo definido pelo programador.</dd>\n",
    "<dt><a id=\"user-content-glos:despacho por tipo\"><b>despacho por tipo</b></a></dt>\n",
    "<dd>Modelo de programação que invoca funções diferentes dependendo do tipo do operando.</dd>\n",
    "<dt><a id=\"user-content-glos:polimórfico\"><b>polimórfico</b></a></dt>\n",
    "<dd>Pertinente a uma função que pode funcionar com mais de um tipo.</dd>\n",
    "<dt><a id=\"user-content-glos:ocultamento de informação\"><b>ocultamento de informação</b></a></dt>\n",
    "<dd>Princípio segundo o qual a interface fornecida por um objeto não deve depender da sua implementação, especialmente em relação à representação dos seus atributos.</dd>\n",
    "</dl>\n",
    "<h2><a id=\"user-content-1713---exercícios\" class=\"anchor\" aria-hidden=\"true\" href=\"#1713---exercícios\"><svg class=\"octicon octicon-link\" viewBox=\"0 0 16 16\" version=\"1.1\" width=\"16\" height=\"16\" aria-hidden=\"true\"><path fill-rule=\"evenodd\" d=\"M4 9h1v1H4c-1.5 0-3-1.69-3-3.5S2.55 3 4 3h4c1.45 0 3 1.69 3 3.5 0 1.41-.91 2.72-2 3.25V8.59c.58-.45 1-1.27 1-2.09C10 5.22 8.98 4 8 4H4c-.98 0-2 1.22-2 2.5S3 9 4 9zm9-3h-1v1h1c1 0 2 1.22 2 2.5S13.98 12 13 12H9c-.98 0-2-1.22-2-2.5 0-.83.42-1.64 1-2.09V6.25c-1.09.53-2 1.84-2 3.25C6 11.31 7.55 13 9 13h4c1.45 0 3-1.69 3-3.5S14.5 6 13 6z\"></path></svg></a>17.13 - Exercícios</h2>\n",
    "<h3><a id=\"user-content-exercício-171\" class=\"anchor\" aria-hidden=\"true\" href=\"#exercício-171\"><svg class=\"octicon octicon-link\" viewBox=\"0 0 16 16\" version=\"1.1\" width=\"16\" height=\"16\" aria-hidden=\"true\"><path fill-rule=\"evenodd\" d=\"M4 9h1v1H4c-1.5 0-3-1.69-3-3.5S2.55 3 4 3h4c1.45 0 3 1.69 3 3.5 0 1.41-.91 2.72-2 3.25V8.59c.58-.45 1-1.27 1-2.09C10 5.22 8.98 4 8 4H4c-.98 0-2 1.22-2 2.5S3 9 4 9zm9-3h-1v1h1c1 0 2 1.22 2 2.5S13.98 12 13 12H9c-.98 0-2-1.22-2-2.5 0-.83.42-1.64 1-2.09V6.25c-1.09.53-2 1.84-2 3.25C6 11.31 7.55 13 9 13h4c1.45 0 3-1.69 3-3.5S14.5 6 13 6z\"></path></svg></a>Exercício 17.1</h3>\n",
    "<p>Baixe o código deste capítulo em <a href=\"http://thinkpython2.com/code/Time2.py\" rel=\"nofollow\">http://thinkpython2.com/code/Time2.py</a>. Altere os atributos de <code>Time</code> para que um número inteiro único represente os segundos decorridos desde a meia-noite. Então altere os métodos (e a função <code>int_to_time</code>) para funcionar com a nova implementação. Você não deve modificar o código de teste em main. Ao terminar, a saída deve ser a mesma que antes.</p>\n",
    "<p>Solução: <a href=\"http://thinkpython2.com/code/Time2_soln.py\" rel=\"nofollow\">http://thinkpython2.com/code/Time2_soln.py</a>.</p>\n",
    "<h3><a id=\"user-content-exercício-172\" class=\"anchor\" aria-hidden=\"true\" href=\"#exercício-172\"><svg class=\"octicon octicon-link\" viewBox=\"0 0 16 16\" version=\"1.1\" width=\"16\" height=\"16\" aria-hidden=\"true\"><path fill-rule=\"evenodd\" d=\"M4 9h1v1H4c-1.5 0-3-1.69-3-3.5S2.55 3 4 3h4c1.45 0 3 1.69 3 3.5 0 1.41-.91 2.72-2 3.25V8.59c.58-.45 1-1.27 1-2.09C10 5.22 8.98 4 8 4H4c-.98 0-2 1.22-2 2.5S3 9 4 9zm9-3h-1v1h1c1 0 2 1.22 2 2.5S13.98 12 13 12H9c-.98 0-2-1.22-2-2.5 0-.83.42-1.64 1-2.09V6.25c-1.09.53-2 1.84-2 3.25C6 11.31 7.55 13 9 13h4c1.45 0 3-1.69 3-3.5S14.5 6 13 6z\"></path></svg></a>Exercício 17.2</h3>\n",
    "<p>Este exercício é uma história com moral sobre um dos erros mais comuns e difíceis de encontrar no Python. Escreva uma definição de classe chamada <code>Kangaroo</code> com os seguintes métodos:</p>\n",
    "<ol>\n",
    "<li>\n",
    "<p>Um método <code>__init__</code> que inicialize um atributo chamado <code>pouch_contents</code>  em uma lista vazia.</p>\n",
    "</li>\n",
    "<li>\n",
    "<p>Um método chamado <code>put_in_pouch</code> que receba um objeto de qualquer tipo e o acrescente a <code>pouch_contents</code>.</p>\n",
    "</li>\n",
    "<li>\n",
    "<p>Um método <code>__str__</code> que retorne uma representação de string do objeto <code>Kangaroo</code> e os conteúdos de <i>pouch</i> (bolsa).</p>\n",
    "</li>\n",
    "</ol>\n",
    "<p>Teste o seu código criando dois objetos <code>Kangaroo</code>, atribuindo-os a variáveis chamadas <code>kanga</code> e <code>roo</code>, e então acrescentando <code>roo</code> ao conteúdo da bolsa de <code>kanga</code>.</p>\n",
    "<p>Baixe <a href=\"http://thinkpython2.com/code/BadKangaroo.py\" rel=\"nofollow\">http://thinkpython2.com/code/BadKangaroo.py</a>. Ele contém uma solução para o problema anterior com um defeito bem grande e bem feio. Encontre e corrija o defeito.</p>\n",
    "<p>Se não conseguir achar a solução, você pode baixar <a href=\"http://thinkpython2.com/code/GoodKangaroo.py\" rel=\"nofollow\">http://thinkpython2.com/code/GoodKangaroo.py</a>, que explica o problema e demonstra uma solução.</p>\n",
    "</article>\n",
    "  </div>"
   ]
  }
 ],
 "metadata": {
  "kernelspec": {
   "display_name": "Python 3",
   "language": "python",
   "name": "python3"
  },
  "language_info": {
   "codemirror_mode": {
    "name": "ipython",
    "version": 3
   },
   "file_extension": ".py",
   "mimetype": "text/x-python",
   "name": "python",
   "nbconvert_exporter": "python",
   "pygments_lexer": "ipython3",
   "version": "3.7.3"
  }
 },
 "nbformat": 4,
 "nbformat_minor": 2
}
