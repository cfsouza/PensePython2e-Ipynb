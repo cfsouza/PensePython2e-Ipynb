{
 "cells": [
  {
   "cell_type": "markdown",
   "metadata": {},
   "source": [
    "# Capítulo 5: Condicionais e recursividade"
   ]
  },
  {
   "cell_type": "markdown",
   "metadata": {},
   "source": [
    "O tópico principal deste capítulo é a instrução `if`, que executa códigos diferentes dependendo do estado do programa. Mas primeiro quero apresentar dois novos operadores: divisão pelo piso e módulo."
   ]
  },
  {
   "cell_type": "markdown",
   "metadata": {},
   "source": [
    "## 5.1 - Divisão pelo piso e módulo"
   ]
  },
  {
   "cell_type": "markdown",
   "metadata": {},
   "source": [
    "O operador de **divisão pelo piso**, `//`, divide dois números e arredonda o resultado para um número inteiro para baixo. Por exemplo, suponha que o tempo de execução de um filme seja de 105 minutos. Você pode querer saber a quanto isso corresponde em horas. A divisão convencional devolve um número de ponto flutuante:"
   ]
  },
  {
   "cell_type": "code",
   "execution_count": 1,
   "metadata": {},
   "outputs": [
    {
     "data": {
      "text/plain": [
       "1.0"
      ]
     },
     "execution_count": 1,
     "metadata": {},
     "output_type": "execute_result"
    }
   ],
   "source": [
    ">>> minutes = 60\n",
    ">>> minutes / 60"
   ]
  },
  {
   "cell_type": "markdown",
   "metadata": {},
   "source": [
    "Mas não é comum escrever horas com pontos decimais. A divisão pelo piso devolve o número inteiro de horas, ignorando a parte fracionária:"
   ]
  },
  {
   "cell_type": "code",
   "execution_count": 2,
   "metadata": {},
   "outputs": [
    {
     "data": {
      "text/plain": [
       "1"
      ]
     },
     "execution_count": 2,
     "metadata": {},
     "output_type": "execute_result"
    }
   ],
   "source": [
    ">>> minutes = 105\n",
    ">>> hours = minutes // 60\n",
    ">>> hours"
   ]
  },
  {
   "cell_type": "markdown",
   "metadata": {},
   "source": [
    "Para obter o resto, você pode subtrair uma hora em minutos:"
   ]
  },
  {
   "cell_type": "code",
   "execution_count": 3,
   "metadata": {},
   "outputs": [
    {
     "data": {
      "text/plain": [
       "45"
      ]
     },
     "execution_count": 3,
     "metadata": {},
     "output_type": "execute_result"
    }
   ],
   "source": [
    ">>> remainder = minutes - hours * 60\n",
    ">>> remainder"
   ]
  },
  {
   "cell_type": "markdown",
   "metadata": {},
   "source": [
    "Uma alternativa é usar o operador módulo, `%`, que divide dois números e devolve o resto:"
   ]
  },
  {
   "cell_type": "code",
   "execution_count": 4,
   "metadata": {},
   "outputs": [
    {
     "data": {
      "text/plain": [
       "45"
      ]
     },
     "execution_count": 4,
     "metadata": {},
     "output_type": "execute_result"
    }
   ],
   "source": [
    ">>> remainder = minutes % 60\n",
    ">>> remainder"
   ]
  },
  {
   "cell_type": "markdown",
   "metadata": {},
   "source": [
    "O **operador módulo** é mais útil do que parece. Por exemplo, é possível verificar se um número é divisível por outro – se `x % y` for zero, então x é divisível por y.\n",
    "\n",
    "Além disso, você pode extrair o dígito ou dígitos mais à direita de um número. Por exemplo, `x % 10` produz o dígito mais à direita de x (na base 10). Da mesma forma `x % 100` produz os dois últimos dígitos.\n",
    "\n",
    "Se estiver usando o Python 2, a divisão funciona de forma diferente. O operador de divisão, `/`, executa a divisão pelo piso se ambos os operandos forem números inteiros e faz a divisão de ponto flutuante se pelo menos um dos operandos for do tipo `float`."
   ]
  },
  {
   "cell_type": "markdown",
   "metadata": {},
   "source": [
    "## 5.2 - Expressões booleanas"
   ]
  },
  {
   "cell_type": "markdown",
   "metadata": {},
   "source": [
    "Uma **expressão booleana** é uma expressão que pode ser verdadeira ou falsa. Os exemplos seguintes usam o operador `==`, que compara dois operandos e produz `True` se forem iguais e `False` se não forem:"
   ]
  },
  {
   "cell_type": "code",
   "execution_count": 5,
   "metadata": {},
   "outputs": [
    {
     "data": {
      "text/plain": [
       "True"
      ]
     },
     "execution_count": 5,
     "metadata": {},
     "output_type": "execute_result"
    }
   ],
   "source": [
    ">>> 5 == 5"
   ]
  },
  {
   "cell_type": "code",
   "execution_count": 6,
   "metadata": {},
   "outputs": [
    {
     "data": {
      "text/plain": [
       "False"
      ]
     },
     "execution_count": 6,
     "metadata": {},
     "output_type": "execute_result"
    }
   ],
   "source": [
    ">>> 5 == 6"
   ]
  },
  {
   "cell_type": "markdown",
   "metadata": {},
   "source": [
    "`True` e `False` são valores especiais que pertencem ao tipo `bool`; não são strings:"
   ]
  },
  {
   "cell_type": "code",
   "execution_count": 7,
   "metadata": {},
   "outputs": [
    {
     "data": {
      "text/plain": [
       "bool"
      ]
     },
     "execution_count": 7,
     "metadata": {},
     "output_type": "execute_result"
    }
   ],
   "source": [
    ">>> type (True)"
   ]
  },
  {
   "cell_type": "code",
   "execution_count": 8,
   "metadata": {},
   "outputs": [
    {
     "data": {
      "text/plain": [
       "bool"
      ]
     },
     "execution_count": 8,
     "metadata": {},
     "output_type": "execute_result"
    }
   ],
   "source": [
    ">>> type (False)"
   ]
  },
  {
   "cell_type": "markdown",
   "metadata": {},
   "source": [
    "O operador == é um dos **operadores relacionais**; os outros são:"
   ]
  },
  {
   "cell_type": "markdown",
   "metadata": {},
   "source": [
    "```python\n",
    "x != y          # x não é igual a y\n",
    "x > y          # x é maior que y\n",
    "x < y          # x é menor que y\n",
    "x >= y          # x é maior ou igual a y\n",
    "x <= y          # x é menor ou  igual a y\n",
    "```"
   ]
  },
  {
   "cell_type": "markdown",
   "metadata": {},
   "source": [
    "Embora essas operações provavelmente sejam familiares para você, os símbolos do Python são diferentes dos símbolos matemáticos. Um erro comum é usar apenas um sinal de igual (=) em vez de um sinal duplo (==). Lembre-se de que = é um operador de atribuição e == é um operador relacional. Não existe *=<* ou *=>*."
   ]
  },
  {
   "cell_type": "markdown",
   "metadata": {},
   "source": [
    "## 5.3 - Operadores lógicos"
   ]
  },
  {
   "cell_type": "markdown",
   "metadata": {},
   "source": [
    "Há três **operadores lógicos**: `and`, `or` e `not`. A semântica (significado) destes operadores é semelhante ao seu significado em inglês. Por exemplo, `x > 0 and x < 10` só é verdade se x for maior que 0 e menor que 10.\n",
    "\n",
    "`n % 2 == 0 or n % 3 == 0` é verdadeiro se uma ou as duas condição(ões) for(em) verdadeira(s), isto é, se o número for divisível por 2 ou 3.\n",
    "\n",
    "Finalmente, o operador `not` nega uma expressão booleana, então `not (x > y)` é verdade se `x > y` for falso, isto é, se x for menor que ou igual a y.\n",
    "\n",
    "Falando estritamente, os operandos dos operadores lógicos devem ser expressões booleanas, mas o Python não é muito estrito. Qualquer número que não seja zero é interpretado como `True`:"
   ]
  },
  {
   "cell_type": "code",
   "execution_count": 9,
   "metadata": {},
   "outputs": [
    {
     "data": {
      "text/plain": [
       "True"
      ]
     },
     "execution_count": 9,
     "metadata": {},
     "output_type": "execute_result"
    }
   ],
   "source": [
    ">>> 42 and True"
   ]
  },
  {
   "cell_type": "markdown",
   "metadata": {},
   "source": [
    "Esta flexibilidade tem sua utilidade, mas há algumas sutilezas relativas a ela que podem ser confusas. Assim, pode ser uma boa ideia evitá-la (a menos que saiba o que está fazendo)."
   ]
  },
  {
   "cell_type": "markdown",
   "metadata": {},
   "source": [
    "## 5.4 - Execução condicional"
   ]
  },
  {
   "cell_type": "markdown",
   "metadata": {},
   "source": [
    "Para escrever programas úteis, quase sempre precisamos da capacidade de verificar condições e mudar o comportamento do programa de acordo com elas. **Instruções condicionais** nos dão esta capacidade. A forma mais simples é a instrução `if`:"
   ]
  },
  {
   "cell_type": "markdown",
   "metadata": {},
   "source": [
    "```python\n",
    "if x > 0:\n",
    "    print ('x is positive')\n",
    "    ```"
   ]
  },
  {
   "cell_type": "markdown",
   "metadata": {},
   "source": [
    "A expressão booleana depois do `if` é chamada de **condição**. Se for verdadeira, a instrução endentada é executada. Se não, nada acontece.\n",
    "\n",
    "Instruções `if` têm a mesma estrutura que definições de função: um cabeçalho seguido de um corpo endentado. Instruções como essa são chamadas de **instruções compostas**.\n",
    "\n",
    "Não há limite para o número de instruções que podem aparecer no corpo, mas deve haver pelo menos uma. Ocasionalmente, é útil ter um corpo sem instruções (normalmente como um espaço reservado para código que ainda não foi escrito). Neste caso, você pode usar a instrução `pass`, que não faz nada."
   ]
  },
  {
   "cell_type": "markdown",
   "metadata": {},
   "source": [
    "```python\n",
    "if x < 0:\n",
    "    pass          # A FAZER: lidar com valores negativos!\n",
    "    ```"
   ]
  },
  {
   "cell_type": "markdown",
   "metadata": {},
   "source": [
    "## 5.5 - Execução alternativa"
   ]
  },
  {
   "cell_type": "markdown",
   "metadata": {},
   "source": [
    "Uma segunda forma da instrução `if` é a “execução alternativa”, na qual há duas possibilidades e a condição determina qual será executada. A sintaxe pode ser algo assim:"
   ]
  },
  {
   "cell_type": "markdown",
   "metadata": {},
   "source": [
    "```python\n",
    "if x % 2 == 0:\n",
    "    print ('x is even')\n",
    "else:\n",
    "    print ('x is odd')\n",
    "    ```"
   ]
  },
  {
   "cell_type": "markdown",
   "metadata": {},
   "source": [
    "Se o resto quando x for dividido por 2 for 0, então sabemos que x é par e o programa exibe uma mensagem adequada. Se a condição for falsa, o segundo conjunto de instruções é executado. Como a condição deve ser verdadeira ou falsa, exatamente uma das alternativas será executada. As alternativas são chamadas de **ramos** (branches), porque são ramos no fluxo da execução."
   ]
  },
  {
   "cell_type": "markdown",
   "metadata": {},
   "source": [
    "## 5.6 - Condicionais encadeadas"
   ]
  },
  {
   "cell_type": "markdown",
   "metadata": {},
   "source": [
    "Às vezes, há mais de duas possibilidades e precisamos de mais que dois ramos. Esta forma de expressar uma operação de computação é uma **condicional encadeada**:"
   ]
  },
  {
   "cell_type": "markdown",
   "metadata": {},
   "source": [
    "```python\n",
    "if x < y:\n",
    "    print ('x is less than y')\n",
    "elif x > y:\n",
    "    print ('x is greater than y')\n",
    "else:\n",
    "    print ('x and y are equal')\n",
    "    ```"
   ]
  },
  {
   "cell_type": "markdown",
   "metadata": {},
   "source": [
    "`elif` é uma abreviatura de “else if”. Novamente, exatamente um ramo será executado. Não há nenhum limite para o número de instruções `elif`. Se houver uma cláusula `else`, ela deve estar no fim, mas não é preciso haver uma."
   ]
  },
  {
   "cell_type": "markdown",
   "metadata": {},
   "source": [
    "```python\n",
    "if choice == 'a':\n",
    "    draw_a ()\n",
    "elif choice == 'b':\n",
    "    draw_b ()\n",
    "elif choice == 'c':\n",
    "    draw_c ()\n",
    "    ```"
   ]
  },
  {
   "cell_type": "markdown",
   "metadata": {},
   "source": [
    "Cada condição é verificada em ordem. Se a primeira for falsa, a próxima é verificada, e assim por diante. Se uma delas for verdadeira, o ramo correspondente é executado e a instrução é encerrada. Mesmo se mais de uma condição for verdade, só o primeiro ramo verdadeiro é executado."
   ]
  },
  {
   "cell_type": "markdown",
   "metadata": {},
   "source": [
    "## 5.7 - Condicionais aninhadas"
   ]
  },
  {
   "cell_type": "markdown",
   "metadata": {},
   "source": [
    "Uma condicional também pode ser aninhada dentro de outra. Poderíamos ter escrito o exemplo na seção anterior desta forma:"
   ]
  },
  {
   "cell_type": "markdown",
   "metadata": {},
   "source": [
    "```python\n",
    "if x == y:\n",
    "    print ('x and y are equal')\n",
    "else:\n",
    "    if x < y:\n",
    "        print ('x is less than y')\n",
    "    else:\n",
    "        print ('x is greater than y')\n",
    "        ```"
   ]
  },
  {
   "cell_type": "markdown",
   "metadata": {},
   "source": [
    "A condicional exterior contém dois ramos. O primeiro ramo contém uma instrução simples. O segundo ramo contém outra instrução `if`, que tem outros dois ramos próprios. Esses dois ramos são instruções simples, embora pudessem ser instruções condicionais também.\n",
    "\n",
    "Embora a endentação das instruções evidencie a estrutura das condicionais, **condicionais aninhadas** são difíceis de ler rapidamente. É uma boa ideia evitá-las quando for possível.\n",
    "\n",
    "Operadores lógicos muitas vezes oferecem uma forma de simplificar instruções condicionais aninhadas. Por exemplo, podemos reescrever o seguinte código usando uma única condicional:"
   ]
  },
  {
   "cell_type": "markdown",
   "metadata": {},
   "source": [
    "```python\n",
    "if 0 < x:\n",
    "    if x < 10:\n",
    "        print ('x is a positive single-digit number.')\n",
    "        ```"
   ]
  },
  {
   "cell_type": "markdown",
   "metadata": {},
   "source": [
    "A instrução `print` só é executada se a colocarmos depois de ambas as condicionais, então podemos obter o mesmo efeito com o operador `and`:"
   ]
  },
  {
   "cell_type": "markdown",
   "metadata": {},
   "source": [
    "```python\n",
    "if 0 < x and x < 10:\n",
    "    print ('x is a positive single-digit number.')\n",
    "    ```"
   ]
  },
  {
   "cell_type": "markdown",
   "metadata": {},
   "source": [
    "Para este tipo de condição, o Python oferece uma opção mais concisa:"
   ]
  },
  {
   "cell_type": "markdown",
   "metadata": {},
   "source": [
    "```python\n",
    "if 0 < x < 10:\n",
    "    print ('x is a positive single-digit number.')\n",
    "    ```"
   ]
  },
  {
   "cell_type": "markdown",
   "metadata": {},
   "source": [
    "## 5.8 - Recursividade"
   ]
  },
  {
   "cell_type": "markdown",
   "metadata": {},
   "source": [
    "É legal para uma função chamar outra; também é legal para uma função chamar a si própria. Pode não ser óbvio porque isso é uma coisa boa, mas na verdade é uma das coisas mais mágicas que um programa pode fazer. Por exemplo, veja a seguinte função:"
   ]
  },
  {
   "cell_type": "code",
   "execution_count": 10,
   "metadata": {},
   "outputs": [],
   "source": [
    "def countdown (n):\n",
    "    if n <= 0:\n",
    "        print ('Blastoff!')\n",
    "    else:\n",
    "        print (n)\n",
    "        countdown (n - 1)"
   ]
  },
  {
   "cell_type": "markdown",
   "metadata": {},
   "source": [
    "Se n for 0 ou negativo, a palavra “Blastoff!” é exibida, senão a saída é n e então a função `countdown` é chamada – por si mesma – passando n - 1 como argumento.\n",
    "\n",
    "O que acontece se chamarmos esta função assim?"
   ]
  },
  {
   "cell_type": "code",
   "execution_count": 11,
   "metadata": {},
   "outputs": [
    {
     "name": "stdout",
     "output_type": "stream",
     "text": [
      "3\n",
      "2\n",
      "1\n",
      "Blastoff!\n"
     ]
    }
   ],
   "source": [
    ">>> countdown (3)"
   ]
  },
  {
   "cell_type": "markdown",
   "metadata": {},
   "source": [
    "A execução de `countdown` inicia com n=3 e como n é maior que 0, ela produz o valor 3 e então chama a si mesma...\n",
    "\n",
    "> A execução de `countdown` inicia com n=2 e como n é maior que 0, ela produz o valor 2 e então chama a si mesma...\n",
    "\n",
    "> > A execução de `countdown` inicia com n=1 e como n é maior que 0, ela produz o valor 1 e então chama a si mesma...\n",
    "\n",
    "> > > A execução de `countdown` inicia com n=0 e como n não é maior que 0, ela produz a palavra “Blastoff!” e então retorna.\n",
    "\n",
    "> > > O `countdown` que recebeu n=1 retorna.\n",
    "\n",
    "> > O `countdown` que recebeu n=2 retorna.\n",
    "\n",
    "> O `countdown` que recebeu n=3 retorna.\n",
    "\n",
    "E então você está de volta ao `__main__`. Então a saída completa será assim:"
   ]
  },
  {
   "cell_type": "raw",
   "metadata": {},
   "source": [
    "3\n",
    "2\n",
    "1\n",
    "Blastoff!"
   ]
  },
  {
   "cell_type": "markdown",
   "metadata": {},
   "source": [
    "Uma função que chama a si mesma é dita **recursiva**; o processo para executá-la é a **recursividade**.\n",
    "\n",
    "Como em outro exemplo, podemos escrever uma função que exiba uma string `n` vezes:"
   ]
  },
  {
   "cell_type": "code",
   "execution_count": 12,
   "metadata": {},
   "outputs": [],
   "source": [
    "def print_n (s, n):\n",
    "    if n <= 0:\n",
    "        return\n",
    "    print (s)\n",
    "    print_n (s, n - 1)"
   ]
  },
  {
   "cell_type": "markdown",
   "metadata": {},
   "source": [
    "Se `n <= 0` a **instrução return** causa a saída da função. O fluxo de execução volta imediatamente a quem fez a chamada, e as linhas restantes da função não são executadas.\n",
    "\n",
    "O resto da função é similar à countdown: ela mostra s e então chama a si mesma para mostrar `s` mais `n - 1` vezes. Então o número de linhas da saída é `1 + (n - 1)`, até chegar a `n`.\n",
    "\n",
    "Para exemplos simples como esse, provavelmente é mais fácil usar um loop `for`. Mais adiante veremos exemplos que são difíceis de escrever com um loop `for` e fáceis de escrever com recursividade, então é bom começar cedo."
   ]
  },
  {
   "cell_type": "markdown",
   "metadata": {},
   "source": [
    "## 5.9 - Diagramas da pilha para funções recursivas"
   ]
  },
  {
   "cell_type": "markdown",
   "metadata": {},
   "source": [
    "Cada vez que uma função é chamada, o Python cria um frame para conter as variáveis locais e parâmetros da função. Para uma função recursiva, pode haver mais de um frame na pilha ao mesmo tempo.\n",
    "\n",
    "A Figura 5.1 mostra um diagrama da pilha para `countdown` chamado com n = 3."
   ]
  },
  {
   "cell_type": "markdown",
   "metadata": {},
   "source": [
    "![alt text](https://github.com/PenseAllen/PensePython2e/raw/master/fig/tnkp_0501.png)"
   ]
  },
  {
   "cell_type": "markdown",
   "metadata": {},
   "source": [
    "<h5><center>Figura 5.1 – Diagrama da pilha.</center></h5>"
   ]
  },
  {
   "cell_type": "markdown",
   "metadata": {},
   "source": [
    "Como de hábito, o topo da pilha é o frame de `__main__`. Está vazio porque não criamos nenhuma variável em `__main__` nem passamos argumentos a ela.\n",
    "\n",
    "Os quatro frames do countdown têm valores diferentes para o parâmetro `n`. O fundo da pilha, onde `n = 0`, é chamado **caso-base**. Ele não faz uma chamada recursiva, então não há mais frames.\n",
    "\n",
    "Como exercício, desenhe um diagrama da pilha para `print_n` chamado com `s = 'Hello'` e `n = 2`. Então escreva uma função chamada `do_n` que tome um objeto de função e um número `n` como argumentos e que chame a respectiva função `n` vezes."
   ]
  },
  {
   "cell_type": "markdown",
   "metadata": {},
   "source": [
    "## 5.10 - Recursividade infinita"
   ]
  },
  {
   "cell_type": "markdown",
   "metadata": {},
   "source": [
    "Se a recursividade nunca atingir um caso-base, continua fazendo chamadas recursivas para sempre, e o programa nunca termina. Isso é conhecido como **recursividade infinita** e geralmente não é uma boa ideia. Aqui está um programa mínimo com recursividade infinita:"
   ]
  },
  {
   "cell_type": "code",
   "execution_count": 13,
   "metadata": {},
   "outputs": [],
   "source": [
    "def recurse():\n",
    "    recurse()"
   ]
  },
  {
   "cell_type": "markdown",
   "metadata": {},
   "source": [
    "Na maior parte dos ambientes de programação, um programa com recursividade infinita não é realmente executado para sempre. O Python exibe uma mensagem de erro quando a profundidade máxima de recursividade é atingida:"
   ]
  },
  {
   "cell_type": "raw",
   "metadata": {},
   "source": [
    "  File \"<stdin>\", line 2, in recurse\n",
    "  File \"<stdin>\", line 2, in recurse\n",
    "  File \"<stdin>\", line 2, in recurse\n",
    "                  .\n",
    "                  .\n",
    "                  .\n",
    "  File \"<stdin>\", line 2, in recurse\n",
    "RuntimeError: Maximum recursion depth exceeded"
   ]
  },
  {
   "cell_type": "markdown",
   "metadata": {},
   "source": [
    "Este _traceback_ é um pouco maior que o que vimos no capítulo anterior. Quando o erro ocorre, há mil _frames_ de `recurse` na pilha!\n",
    "\n",
    "Se você escrever em recursividade infinita por engano, confira se a sua função tem um caso-base que não faz uma chamada recursiva. E se houver um caso-base, verifique se você vai mesmo atingí-lo."
   ]
  },
  {
   "cell_type": "markdown",
   "metadata": {},
   "source": [
    "## 5.11 - Entrada de teclado"
   ]
  },
  {
   "cell_type": "markdown",
   "metadata": {},
   "source": [
    "Os programas que escrevemos até agora não aceitam entradas do usuário. Eles sempre fazem a mesma coisa cada vez.\n",
    "\n",
    "O Python fornece uma função integrada chamada `input` que interrompe o programa e espera que o usuário digite algo. Quando o usuário pressionar Return ou Enter, o programa volta a ser executado e `input` retorna o que o usuário digitou como uma string. No Python 2, a mesma função é chamada `raw_input`."
   ]
  },
  {
   "cell_type": "code",
   "execution_count": 14,
   "metadata": {},
   "outputs": [
    {
     "name": "stdin",
     "output_type": "stream",
     "text": [
      " casa\n"
     ]
    }
   ],
   "source": [
    ">>> text = input()"
   ]
  },
  {
   "cell_type": "code",
   "execution_count": 15,
   "metadata": {},
   "outputs": [
    {
     "data": {
      "text/plain": [
       "'casa'"
      ]
     },
     "execution_count": 15,
     "metadata": {},
     "output_type": "execute_result"
    }
   ],
   "source": [
    ">>> text"
   ]
  },
  {
   "cell_type": "markdown",
   "metadata": {},
   "source": [
    "Antes de receber entradas do usuário, é uma boa ideia exibir um prompt dizendo ao usuário o que ele deve digitar. `input` pode ter um prompt como argumento:"
   ]
  },
  {
   "cell_type": "code",
   "execution_count": 16,
   "metadata": {},
   "outputs": [
    {
     "name": "stdin",
     "output_type": "stream",
     "text": [
      "What...is your name?\\n Christopher\n"
     ]
    }
   ],
   "source": [
    ">>> name = input ('What...is your name?\\\\n')"
   ]
  },
  {
   "cell_type": "code",
   "execution_count": 17,
   "metadata": {},
   "outputs": [
    {
     "data": {
      "text/plain": [
       "'Christopher'"
      ]
     },
     "execution_count": 17,
     "metadata": {},
     "output_type": "execute_result"
    }
   ],
   "source": [
    ">>> name"
   ]
  },
  {
   "cell_type": "markdown",
   "metadata": {},
   "source": [
    "A sequência `\\n` no final do prompt representa um **newline**, que é um caractere especial de quebra de linha. É por isso que a entrada do usuário aparece abaixo do prompt.\n",
    "\n",
    "Se esperar que o usuário digite um número inteiro, você pode tentar converter o valor de retorno para `int`:"
   ]
  },
  {
   "cell_type": "code",
   "execution_count": 18,
   "metadata": {},
   "outputs": [
    {
     "name": "stdin",
     "output_type": "stream",
     "text": [
      "What...is the airspeed velocity of an unladen swallow?\\n 23\n"
     ]
    }
   ],
   "source": [
    ">>> prompt = 'What...is the airspeed velocity of an unladen swallow?\\\\n'\n",
    ">>> speed = input (prompt)"
   ]
  },
  {
   "cell_type": "code",
   "execution_count": 19,
   "metadata": {},
   "outputs": [
    {
     "data": {
      "text/plain": [
       "23"
      ]
     },
     "execution_count": 19,
     "metadata": {},
     "output_type": "execute_result"
    }
   ],
   "source": [
    ">>> int (speed)"
   ]
  },
  {
   "cell_type": "markdown",
   "metadata": {},
   "source": [
    "Mas se o usuário digitar algo além de uma série de dígitos, você recebe um erro:"
   ]
  },
  {
   "cell_type": "markdown",
   "metadata": {},
   "source": [
    "```python\n",
    ">>> speed = input (prompt)```"
   ]
  },
  {
   "cell_type": "raw",
   "metadata": {},
   "source": [
    "What...is the airspeed velocity of an unladen swallow?"
   ]
  },
  {
   "cell_type": "raw",
   "metadata": {},
   "source": [
    "What do you mean, an African or a European swallow?"
   ]
  },
  {
   "cell_type": "markdown",
   "metadata": {},
   "source": [
    "```python\n",
    ">>> int (speed)```"
   ]
  },
  {
   "cell_type": "raw",
   "metadata": {},
   "source": [
    "ValueError: invalid literal for int() with base 10"
   ]
  },
  {
   "cell_type": "markdown",
   "metadata": {},
   "source": [
    "Veremos como tratar este tipo de erro mais adiante."
   ]
  },
  {
   "cell_type": "markdown",
   "metadata": {},
   "source": [
    "## 5.12 - Depuração"
   ]
  },
  {
   "cell_type": "markdown",
   "metadata": {},
   "source": [
    "Quando um erro de sintaxe ou de tempo de execução ocorre, a mensagem de erro contém muita informação, às vezes, até demais. As partes mais úteis são normalmente: que tipo de erro foi e onde ocorreu.\n",
    "\n",
    "Erros de sintaxe são normalmente fáceis de encontrar, mas há algumas pegadinhas. Erros de whitespace podem ser complicados porque os espaços e tabulações são invisíveis e estamos acostumados a ignorá-los."
   ]
  },
  {
   "cell_type": "markdown",
   "metadata": {},
   "source": [
    "```python\n",
    ">>> x = 5\n",
    ">>>  y = 6```"
   ]
  },
  {
   "cell_type": "raw",
   "metadata": {},
   "source": [
    "  File \"<stdin>\", line 1 <p>\n",
    "    y = 6 <p>\n",
    "    ^ <p>\n",
    "IndentationError: unexpected indent"
   ]
  },
  {
   "cell_type": "markdown",
   "metadata": {},
   "source": [
    "Neste exemplo, o problema é que a segunda linha está endentada por um espaço. Mas a mensagem de erro aponta para `y`, o que pode ser capcioso. Em geral, mensagens de erro indicam onde o problema foi descoberto, mas o erro real pode estar em outra parte do código, às vezes, em uma linha anterior.\n",
    "\n",
    "O mesmo acontece com erros em tempo de execução. Suponha que você esteja tentando calcular a proporção de sinal a ruído em decibéis. A fórmula é $SNR_{db} = 10 log_{10} (P_{signal}/P_{noise})$. No Python, você poderia escrever algo assim:"
   ]
  },
  {
   "cell_type": "markdown",
   "metadata": {},
   "source": [
    "```python\n",
    "import math\n",
    "\n",
    "signal_power = 9\n",
    "noise_power = 10\n",
    "ratio = signal_power // noise_power\n",
    "decibels = 10 * math.log10(ratio)\n",
    "\n",
    "print(decibels)\n",
    "```"
   ]
  },
  {
   "cell_type": "markdown",
   "metadata": {},
   "source": [
    "Ao executar este programa, você recebe uma exceção:"
   ]
  },
  {
   "cell_type": "raw",
   "metadata": {},
   "source": [
    "Traceback (most recent call last):\n",
    "  File \"snr.py\", line 5, in ?\n",
    "    decibels = 10 * math.log10(ratio)\n",
    "ValueError: math domain error"
   ]
  },
  {
   "cell_type": "markdown",
   "metadata": {},
   "source": [
    "A mensagem de erro indica a linha 5, mas não há nada de errado com esta linha. Uma opção para encontrar o verdadeiro erro é exibir o valor de `ratio`, que acaba sendo 0. O problema está na linha 4, que usa a divisão pelo piso em vez da divisão de ponto flutuante.\n",
    "\n",
    "É preciso ler as mensagens de erro com atenção, mas não assumir que tudo que dizem esteja correto."
   ]
  },
  {
   "cell_type": "markdown",
   "metadata": {},
   "source": [
    "## 5.13 - Glossário"
   ]
  },
  {
   "cell_type": "markdown",
   "metadata": {},
   "source": [
    "**divisão pelo piso**<br>\n",
    "&emsp;Um operador, denotado por `//`, que divide dois números e arredonda o resultado para baixo (em direção ao zero), a um número inteiro.\n",
    "\n",
    "**operador módulo**<br>\n",
    "&emsp;Um operador, denotado com um sinal de percentagem (`%`), que funciona com números inteiros e devolve o resto quando um número é dividido por outro.\n",
    "\n",
    "**expressão booleana**<br>\n",
    "&emsp;Uma expressão cujo valor é True (verdadeiro) ou False (falso).\n",
    "\n",
    "**operador relacional**<br>\n",
    "&emsp;Um destes operadores, que compara seus operandos: `==`, `!=`, `>`, `<`, `>=` e `<=`. \n",
    "\n",
    "**operador lógico**<br>\n",
    "&emsp;Um destes operadores, que combina expressões booleanas: `and` (e), `or` (ou) e `not` (não).\n",
    "\n",
    "**instrução condicional**<br>\n",
    "&emsp;Uma instrução que controla o fluxo de execução, dependendo de alguma condição.\n",
    "\n",
    "**condição**<br>\n",
    "&emsp;A expressão booleana em uma instrução condicional que determina qual ramo deve ser executado.\n",
    "\n",
    "**instrução composta**<br>\n",
    "&emsp;Uma instrução composta de um cabeçalho e um corpo. O cabeçalho termina em dois pontos (`:`). O corpo é endentado em relação ao cabeçalho.\n",
    "\n",
    "**ramo**<br>\n",
    "&emsp;Uma das sequências alternativas de instruções em uma instrução condicional.\n",
    "\n",
    "**condicional encadeada**<br>\n",
    "&emsp;Uma instrução condicional com uma série de ramos alternativos.\n",
    "\n",
    "**condicional aninhada**<br>\n",
    "&emsp;Uma instrução condicional que aparece em um dos ramos de outra instrução condicional.\n",
    "\n",
    "**instrução de retorno**<br>\n",
    "&emsp;Uma instrução que faz u+ma função terminar imediatamente e voltar a quem a chamou.\n",
    "\n",
    "**recursividade**<br>\n",
    "&emsp;O processo de chamar a função que está sendo executada no momento.\n",
    "\n",
    "**caso-base**<br>\n",
    "&emsp;Um ramo condicional em uma função recursiva que não faz uma chamada recursiva.\n",
    "\n",
    "**recursividade infinita**<br>\n",
    "&emsp;Recursividade que não tem um caso-base, ou nunca o atinge. A recursividade infinita eventualmente causa um erro em tempo de execução."
   ]
  },
  {
   "cell_type": "markdown",
   "metadata": {},
   "source": [
    "## 5.14 - Exercícios"
   ]
  },
  {
   "cell_type": "markdown",
   "metadata": {},
   "source": [
    "### Exercício 5.1"
   ]
  },
  {
   "cell_type": "markdown",
   "metadata": {},
   "source": [
    "O módulo `time` fornece uma função, também chamada `time`, que devolve a hora média de Greenwich na “época”, que é um momento arbitrário usado como ponto de referência. Em sistemas UNIX, a época é primeiro de janeiro de 1970."
   ]
  },
  {
   "cell_type": "code",
   "execution_count": 20,
   "metadata": {},
   "outputs": [
    {
     "data": {
      "text/plain": [
       "1562161441.7336276"
      ]
     },
     "execution_count": 20,
     "metadata": {},
     "output_type": "execute_result"
    }
   ],
   "source": [
    ">>> import time\n",
    ">>> time.time ()"
   ]
  },
  {
   "cell_type": "markdown",
   "metadata": {},
   "source": [
    "Escreva um script que leia a hora atual e a converta em um tempo em horas, minutos e segundos, mais o número de dias desde a época."
   ]
  },
  {
   "cell_type": "markdown",
   "metadata": {},
   "source": [
    "### Exercício 5.2"
   ]
  },
  {
   "cell_type": "markdown",
   "metadata": {},
   "source": [
    "O último teorema de Fermat diz que não existem números inteiros a, b e c tais que `a ** n + b ** n == c ** n` para quaisquer valores de *n* maiores que 2."
   ]
  },
  {
   "cell_type": "markdown",
   "metadata": {},
   "source": [
    "1° Escreva uma função chamada `check_fermat` que receba quatro parâmetros – `a`, `b`, `c` e `n` – e verifique se o teorema de Fermat se mantém. Se `n` for maior que 2 e `a**n + b**n == c**n` o programa deve imprimir, “_Holy smokes, Fermat was wrong!_” Senão o programa deve exibir “_No, that doesn’t work_.”"
   ]
  },
  {
   "cell_type": "markdown",
   "metadata": {},
   "source": [
    "2° Escreva uma função que peça ao usuário para digitar valores para `a`, `b`, `c` e `n`, os converta em números inteiros e use `check_fermat` para verificar se violam o teorema de Fermat."
   ]
  },
  {
   "cell_type": "markdown",
   "metadata": {},
   "source": [
    "### Exercício 5.3"
   ]
  },
  {
   "cell_type": "markdown",
   "metadata": {},
   "source": [
    "Se você tiver três gravetos, pode ser que consiga arranjá-los em um triângulo ou não. Por exemplo, se um dos gravetos tiver 12 polegadas de comprimento e outros dois tiverem uma polegada de comprimento, não será possível fazer com que os gravetos curtos se encontrem no meio. Há um teste simples para ver se é possível formar um triângulo para quaisquer três comprimentos:\n",
    "\n",
    "Se algum dos três comprimentos for maior que a soma dos outros dois, então você não pode formar um triângulo. Senão, você pode. (Se a soma de dois comprimentos igualar o terceiro, eles formam um triângulo chamado “degenerado”.)"
   ]
  },
  {
   "cell_type": "markdown",
   "metadata": {},
   "source": [
    "1° Escreva uma função chamada `is_triangle` que receba três números inteiros como argumentos, e que imprima “_Yes_” ou “_No_”, dependendo da possibilidade de formar ou não um triângulo de gravetos com os comprimentos dados."
   ]
  },
  {
   "cell_type": "markdown",
   "metadata": {},
   "source": [
    "2° Escreva uma função que peça ao usuário para digitar três comprimentos de gravetos, os converta em números inteiros e use `is_triangle` para verificar se os gravetos com os comprimentos dados podem formar um triângulo."
   ]
  },
  {
   "cell_type": "markdown",
   "metadata": {},
   "source": [
    "### Exercício 5.4 "
   ]
  },
  {
   "cell_type": "markdown",
   "metadata": {},
   "source": [
    "Qual é a saída do seguinte programa? Desenhe um diagrama da pilha que mostre o estado do programa quando exibir o resultado."
   ]
  },
  {
   "cell_type": "code",
   "execution_count": 21,
   "metadata": {},
   "outputs": [],
   "source": [
    "def recurse (n, s):\n",
    "    if n == 0:\n",
    "        print(s)\n",
    "    else:\n",
    "        recurse (n - 1, n + s)"
   ]
  },
  {
   "cell_type": "code",
   "execution_count": 22,
   "metadata": {},
   "outputs": [
    {
     "name": "stdout",
     "output_type": "stream",
     "text": [
      "6\n"
     ]
    }
   ],
   "source": [
    ">>> recurse (3, 0)"
   ]
  },
  {
   "cell_type": "markdown",
   "metadata": {},
   "source": [
    "1° O que aconteceria se você chamasse esta função desta forma: `recurse(-1, 0)`?"
   ]
  },
  {
   "cell_type": "markdown",
   "metadata": {},
   "source": [
    "2° Escreva uma _docstring_ que explique tudo o que alguém precisaria saber para usar esta função (e mais nada)."
   ]
  },
  {
   "cell_type": "markdown",
   "metadata": {},
   "source": [
    "Os seguintes exercícios usam o módulo `turtle`, descrito no Capítulo 4:"
   ]
  },
  {
   "cell_type": "markdown",
   "metadata": {},
   "source": [
    "### Exercício 5.5"
   ]
  },
  {
   "cell_type": "markdown",
   "metadata": {},
   "source": [
    "Leia a próxima função e veja se consegue compreender o que ela faz (veja os exemplos no Capítulo 4). Então execute-a e veja se acertou."
   ]
  },
  {
   "cell_type": "code",
   "execution_count": 23,
   "metadata": {},
   "outputs": [],
   "source": [
    "def draw (t, length, n):\n",
    "    if n == 0:\n",
    "        return\n",
    "    angle = 50\n",
    "    t.fd (length * n)\n",
    "    t.lt (angle)\n",
    "    draw (t, length, n - 1)\n",
    "    t.rt (2 * angle)\n",
    "    draw (t, length, n - 1)\n",
    "    t.lt (angle)\n",
    "    t.bk (length * n)"
   ]
  },
  {
   "cell_type": "markdown",
   "metadata": {},
   "source": [
    "### Exercício 5.6"
   ]
  },
  {
   "cell_type": "markdown",
   "metadata": {},
   "source": [
    "![alt text](https://github.com/PenseAllen/PensePython2e/raw/master/fig/tnkp_0502.png)"
   ]
  },
  {
   "cell_type": "markdown",
   "metadata": {},
   "source": [
    "<h5><center>Figura 5.2 – Uma curva de Koch.</center></h5>"
   ]
  },
  {
   "cell_type": "markdown",
   "metadata": {},
   "source": [
    "A curva de Koch é um fractal que parece com o da Figura 5.2. Para desenhar uma curva de Koch com o comprimento x, tudo o que você tem que fazer é:"
   ]
  },
  {
   "cell_type": "markdown",
   "metadata": {},
   "source": [
    "1° Desenhe uma curva de Koch com o comprimento x / 3. <p>\n",
    "2° Vire 60 graus à esquerda. <p>\n",
    "3° Desenhe uma curva de Koch com o comprimento x / 3. <p>\n",
    "4° Vire 120 graus à direita. <p>\n",
    "5° Desenhe uma curva de Koch com o comprimento x / 3. <p>\n",
    "6° Vire 60 graus à esquerda. <p>\n",
    "7° Desenhe uma curva de Koch com o comprimento x / 3 <p>"
   ]
  },
  {
   "cell_type": "markdown",
   "metadata": {},
   "source": [
    "A exceção é se `x` for menor que 3: neste caso, você pode desenhar apenas uma linha reta com o comprimento `x`."
   ]
  },
  {
   "cell_type": "markdown",
   "metadata": {},
   "source": [
    "1° Escreva uma função chamada `koch` que receba um `turtle` e um comprimento como parâmetros, e use o `turtle` para desenhar uma curva de Koch com o comprimento dado."
   ]
  },
  {
   "cell_type": "markdown",
   "metadata": {},
   "source": [
    "2° Escreva uma função chamada `snowflake` que desenhe três curvas de Koch para fazer o traçado de um floco de neve."
   ]
  },
  {
   "cell_type": "markdown",
   "metadata": {},
   "source": [
    "*Solução: http://thinkpython2.com/code/koch.py.*"
   ]
  },
  {
   "cell_type": "markdown",
   "metadata": {},
   "source": [
    "3° A curva de Koch pode ser generalizada de vários modos. Veja exemplos em http://en.wikipedia.org/wiki/Koch\\_snowflake e implemente o seu favorito."
   ]
  }
 ],
 "metadata": {
  "kernelspec": {
   "display_name": "Python 3",
   "language": "python",
   "name": "python3"
  },
  "language_info": {
   "codemirror_mode": {
    "name": "ipython",
    "version": 3
   },
   "file_extension": ".py",
   "mimetype": "text/x-python",
   "name": "python",
   "nbconvert_exporter": "python",
   "pygments_lexer": "ipython3",
   "version": "3.7.3"
  }
 },
 "nbformat": 4,
 "nbformat_minor": 2
}
