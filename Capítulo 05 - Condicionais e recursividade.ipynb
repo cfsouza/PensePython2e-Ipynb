{
  "nbformat": 4,
  "nbformat_minor": 0,
  "metadata": {
    "kernelspec": {
      "display_name": "Python 3",
      "language": "python",
      "name": "python3"
    },
    "language_info": {
      "codemirror_mode": {
        "name": "ipython",
        "version": 3
      },
      "file_extension": ".py",
      "mimetype": "text/x-python",
      "name": "python",
      "nbconvert_exporter": "python",
      "pygments_lexer": "ipython3",
      "version": "3.7.3"
    },
    "colab": {
      "name": "Capítulo 05 - Condicionais e recursividade.ipynb",
      "provenance": []
    }
  },
  "cells": [
    {
      "cell_type": "markdown",
      "metadata": {
        "id": "MZhHVzhBx8vL"
      },
      "source": [
        "# Capítulo 5: Condicionais e recursividade"
      ]
    },
    {
      "cell_type": "markdown",
      "metadata": {
        "id": "W1NkDUrox8vO"
      },
      "source": [
        "O tópico principal deste capítulo é a instrução `if`, que executa códigos diferentes dependendo do estado do programa. Mas primeiro quero apresentar dois novos operadores: divisão pelo piso e módulo."
      ]
    },
    {
      "cell_type": "markdown",
      "metadata": {
        "id": "A6OnzdzHx8vP"
      },
      "source": [
        "## 5.1 - Divisão pelo piso e módulo"
      ]
    },
    {
      "cell_type": "markdown",
      "metadata": {
        "id": "BDLh9nZUx8vP"
      },
      "source": [
        "O operador de **divisão pelo piso**, `//`, divide dois números e arredonda o resultado para um número inteiro para baixo. Por exemplo, suponha que o tempo de execução de um filme seja de 105 minutos. Você pode querer saber a quanto isso corresponde em horas. A divisão convencional devolve um número de ponto flutuante:"
      ]
    },
    {
      "cell_type": "code",
      "metadata": {
        "id": "tPQqD2Nex8vP",
        "colab": {
          "base_uri": "https://localhost:8080/"
        },
        "outputId": "750d3d88-79ad-4ef0-8a70-ce8f8761961e"
      },
      "source": [
        "minutos = 60\n",
        "minutos / 60"
      ],
      "execution_count": null,
      "outputs": [
        {
          "output_type": "execute_result",
          "data": {
            "text/plain": [
              "1.0"
            ]
          },
          "metadata": {},
          "execution_count": 1
        }
      ]
    },
    {
      "cell_type": "markdown",
      "metadata": {
        "id": "YxAw4LBQx8vR"
      },
      "source": [
        "Mas não é comum escrever horas com pontos decimais. A divisão pelo piso devolve o número inteiro de horas, ignorando a parte fracionária:"
      ]
    },
    {
      "cell_type": "code",
      "metadata": {
        "id": "x47-g4INx8vS",
        "colab": {
          "base_uri": "https://localhost:8080/"
        },
        "outputId": "2f727776-5ce8-48ac-b3e2-91978425a49c"
      },
      "source": [
        "minutos = 105\n",
        "horas = minutos // 60\n",
        "horas"
      ],
      "execution_count": null,
      "outputs": [
        {
          "output_type": "execute_result",
          "data": {
            "text/plain": [
              "1"
            ]
          },
          "metadata": {},
          "execution_count": 2
        }
      ]
    },
    {
      "cell_type": "markdown",
      "metadata": {
        "id": "xLja2LNnx8vS"
      },
      "source": [
        "Para obter o resto, você pode subtrair uma hora em minutos:"
      ]
    },
    {
      "cell_type": "code",
      "metadata": {
        "id": "DDr6Zz9Xx8vT",
        "colab": {
          "base_uri": "https://localhost:8080/"
        },
        "outputId": "ec233664-f51c-4e35-fc13-c97d05a47fde"
      },
      "source": [
        "resto = minutos - horas * 60\n",
        "resto"
      ],
      "execution_count": null,
      "outputs": [
        {
          "output_type": "execute_result",
          "data": {
            "text/plain": [
              "45"
            ]
          },
          "metadata": {},
          "execution_count": 3
        }
      ]
    },
    {
      "cell_type": "markdown",
      "metadata": {
        "id": "vE7jEebpx8vU"
      },
      "source": [
        "Uma alternativa é usar o operador módulo, `%`, que divide dois números e devolve o resto:"
      ]
    },
    {
      "cell_type": "code",
      "metadata": {
        "id": "Fpr-2eMkx8vU",
        "colab": {
          "base_uri": "https://localhost:8080/"
        },
        "outputId": "4af21ce9-0a06-4209-e6fb-603ae92cfee4"
      },
      "source": [
        "resto = minutos % 60\n",
        "resto"
      ],
      "execution_count": null,
      "outputs": [
        {
          "output_type": "execute_result",
          "data": {
            "text/plain": [
              "45"
            ]
          },
          "metadata": {},
          "execution_count": 4
        }
      ]
    },
    {
      "cell_type": "markdown",
      "metadata": {
        "id": "fbBdhvl5x8vU"
      },
      "source": [
        "O **operador módulo** é mais útil do que parece. Por exemplo, é possível verificar se um número é divisível por outro – se `x % y` for zero, então x é divisível por y.\n",
        "\n",
        "Além disso, você pode extrair o dígito ou dígitos mais à direita de um número. Por exemplo, `x % 10` produz o dígito mais à direita de x (na base 10). Da mesma forma `x % 100` produz os dois últimos dígitos.\n",
        "\n",
        "Se estiver usando o Python 2, a divisão funciona de forma diferente. O operador de divisão, `/`, executa a divisão pelo piso se ambos os operandos forem números inteiros e faz a divisão de ponto flutuante se pelo menos um dos operandos for do tipo `float`."
      ]
    },
    {
      "cell_type": "markdown",
      "metadata": {
        "id": "8NGhKbpWx8vV"
      },
      "source": [
        "## 5.2 - Expressões booleanas"
      ]
    },
    {
      "cell_type": "markdown",
      "metadata": {
        "id": "-QJIjqcux8vV"
      },
      "source": [
        "Uma **expressão booleana** é uma expressão que pode ser verdadeira ou falsa. Os exemplos seguintes usam o operador `==`, que compara dois operandos e produz `True` se forem iguais e `False` se não forem:"
      ]
    },
    {
      "cell_type": "code",
      "metadata": {
        "id": "WBBKwcwBx8vW",
        "colab": {
          "base_uri": "https://localhost:8080/"
        },
        "outputId": "58fda73d-5bca-440d-c1d2-4f5f2ea50067"
      },
      "source": [
        "5 == 5"
      ],
      "execution_count": null,
      "outputs": [
        {
          "output_type": "execute_result",
          "data": {
            "text/plain": [
              "True"
            ]
          },
          "metadata": {},
          "execution_count": 5
        }
      ]
    },
    {
      "cell_type": "code",
      "metadata": {
        "id": "0gyTSC0yx8vW",
        "colab": {
          "base_uri": "https://localhost:8080/"
        },
        "outputId": "7ad3c6f2-8ac1-4228-b835-f8fee0d179d8"
      },
      "source": [
        "5 == 6"
      ],
      "execution_count": null,
      "outputs": [
        {
          "output_type": "execute_result",
          "data": {
            "text/plain": [
              "False"
            ]
          },
          "metadata": {},
          "execution_count": 6
        }
      ]
    },
    {
      "cell_type": "markdown",
      "metadata": {
        "id": "pUbla7SPx8vW"
      },
      "source": [
        "`True` e `False` são valores especiais que pertencem ao tipo `bool`; não são strings:"
      ]
    },
    {
      "cell_type": "code",
      "metadata": {
        "id": "5Yyvi9AIx8vW",
        "colab": {
          "base_uri": "https://localhost:8080/"
        },
        "outputId": "8aea689d-a62a-4586-80cc-8766a158c88a"
      },
      "source": [
        "type (True)"
      ],
      "execution_count": null,
      "outputs": [
        {
          "output_type": "execute_result",
          "data": {
            "text/plain": [
              "bool"
            ]
          },
          "metadata": {},
          "execution_count": 7
        }
      ]
    },
    {
      "cell_type": "code",
      "metadata": {
        "id": "6dhF33ODx8vX",
        "colab": {
          "base_uri": "https://localhost:8080/"
        },
        "outputId": "2b5af396-e33a-4a03-e1bc-d0f419896f60"
      },
      "source": [
        "type (False)"
      ],
      "execution_count": null,
      "outputs": [
        {
          "output_type": "execute_result",
          "data": {
            "text/plain": [
              "bool"
            ]
          },
          "metadata": {},
          "execution_count": 8
        }
      ]
    },
    {
      "cell_type": "markdown",
      "metadata": {
        "id": "MmBkrFPTx8vX"
      },
      "source": [
        "O operador == é um dos **operadores relacionais**; os outros são:"
      ]
    },
    {
      "cell_type": "markdown",
      "metadata": {
        "id": "dXn8SMXdx8vX"
      },
      "source": [
        "```python\n",
        "x != y          # x não é igual a y\n",
        "x > y          # x é maior que y\n",
        "x < y          # x é menor que y\n",
        "x >= y          # x é maior ou igual a y\n",
        "x <= y          # x é menor ou  igual a y\n",
        "```"
      ]
    },
    {
      "cell_type": "markdown",
      "metadata": {
        "id": "Zj_uJzJCx8vX"
      },
      "source": [
        "Embora essas operações provavelmente sejam familiares para você, os símbolos do Python são diferentes dos símbolos matemáticos. Um erro comum é usar apenas um sinal de igual (=) em vez de um sinal duplo (==). Lembre-se de que = é um operador de atribuição e == é um operador relacional. Não existe *=<* ou *=>*."
      ]
    },
    {
      "cell_type": "markdown",
      "metadata": {
        "id": "P3_rEnERx8vY"
      },
      "source": [
        "## 5.3 - Operadores lógicos"
      ]
    },
    {
      "cell_type": "markdown",
      "metadata": {
        "id": "-w6BNLVWx8vY"
      },
      "source": [
        "Há três **operadores lógicos**: `and`, `or` e `not`. A semântica (significado) destes operadores é semelhante ao seu significado em inglês. Por exemplo, `x > 0 and x < 10` só é verdade se x for maior que 0 e menor que 10.\n",
        "\n",
        "`n % 2 == 0 or n % 3 == 0` é verdadeiro se uma ou as duas condição(ões) for(em) verdadeira(s), isto é, se o número for divisível por 2 ou 3.\n",
        "\n",
        "Finalmente, o operador `not` nega uma expressão booleana, então `not (x > y)` é verdade se `x > y` for falso, isto é, se x for menor que ou igual a y.\n",
        "\n",
        "Falando estritamente, os operandos dos operadores lógicos devem ser expressões booleanas, mas o Python não é muito estrito. Qualquer número que não seja zero é interpretado como `True`:"
      ]
    },
    {
      "cell_type": "code",
      "metadata": {
        "id": "Z3Kv39qXx8vY",
        "colab": {
          "base_uri": "https://localhost:8080/"
        },
        "outputId": "c94e746d-c3af-41a2-d587-ffd336cba0a6"
      },
      "source": [
        "42 and True"
      ],
      "execution_count": null,
      "outputs": [
        {
          "output_type": "execute_result",
          "data": {
            "text/plain": [
              "True"
            ]
          },
          "metadata": {},
          "execution_count": 9
        }
      ]
    },
    {
      "cell_type": "markdown",
      "metadata": {
        "id": "lv_ZwXTyx8vZ"
      },
      "source": [
        "Esta flexibilidade tem sua utilidade, mas há algumas sutilezas relativas a ela que podem ser confusas. Assim, pode ser uma boa ideia evitá-la (a menos que saiba o que está fazendo)."
      ]
    },
    {
      "cell_type": "markdown",
      "metadata": {
        "id": "lMQkRDyrx8vZ"
      },
      "source": [
        "## 5.4 - Execução condicional"
      ]
    },
    {
      "cell_type": "markdown",
      "metadata": {
        "id": "muiItIHqx8vZ"
      },
      "source": [
        "Para escrever programas úteis, quase sempre precisamos da capacidade de verificar condições e mudar o comportamento do programa de acordo com elas. **Instruções condicionais** nos dão esta capacidade. A forma mais simples é a instrução `if`:"
      ]
    },
    {
      "cell_type": "markdown",
      "metadata": {
        "id": "JSLqhcrlx8vZ"
      },
      "source": [
        "```python\n",
        "if x > 0:\n",
        "    print ('x é positivo')\n",
        "```"
      ]
    },
    {
      "cell_type": "markdown",
      "metadata": {
        "id": "JtPcwy4Lx8vZ"
      },
      "source": [
        "A expressão booleana depois do `if` é chamada de **condição**. Se for verdadeira, a instrução endentada é executada. Se não, nada acontece.\n",
        "\n",
        "Instruções `if` têm a mesma estrutura que definições de função: um cabeçalho seguido de um corpo endentado. Instruções como essa são chamadas de **instruções compostas**.\n",
        "\n",
        "Não há limite para o número de instruções que podem aparecer no corpo, mas deve haver pelo menos uma. Ocasionalmente, é útil ter um corpo sem instruções (normalmente como um espaço reservado para código que ainda não foi escrito). Neste caso, você pode usar a instrução `pass`, que não faz nada."
      ]
    },
    {
      "cell_type": "markdown",
      "metadata": {
        "id": "GULnwczax8va"
      },
      "source": [
        "```python\n",
        "if x < 0:\n",
        "    pass          # A FAZER: lidar com valores negativos!\n",
        "```"
      ]
    },
    {
      "cell_type": "markdown",
      "metadata": {
        "id": "Nz5ckTxQx8va"
      },
      "source": [
        "## 5.5 - Execução alternativa"
      ]
    },
    {
      "cell_type": "markdown",
      "metadata": {
        "id": "DYoqtsCKx8va"
      },
      "source": [
        "Uma segunda forma da instrução `if` é a “execução alternativa”, na qual há duas possibilidades e a condição determina qual será executada. A sintaxe pode ser algo assim:"
      ]
    },
    {
      "cell_type": "markdown",
      "metadata": {
        "id": "h2hzeVgzx8va"
      },
      "source": [
        "```python\n",
        "if x % 2 == 0:\n",
        "    print ('x é par')\n",
        "else:\n",
        "    print ('x é ímpar')\n",
        "```"
      ]
    },
    {
      "cell_type": "markdown",
      "metadata": {
        "id": "tIlo-3Ynx8va"
      },
      "source": [
        "Se o resto quando x for dividido por 2 for 0, então sabemos que x é par e o programa exibe uma mensagem adequada. Se a condição for falsa, o segundo conjunto de instruções é executado. Como a condição deve ser verdadeira ou falsa, exatamente uma das alternativas será executada. As alternativas são chamadas de **ramos** (branches), porque são ramos no fluxo da execução."
      ]
    },
    {
      "cell_type": "markdown",
      "metadata": {
        "id": "lyKriI7ax8vb"
      },
      "source": [
        "## 5.6 - Condicionais encadeadas"
      ]
    },
    {
      "cell_type": "markdown",
      "metadata": {
        "id": "60dj6xW_x8vb"
      },
      "source": [
        "Às vezes, há mais de duas possibilidades e precisamos de mais que dois ramos. Esta forma de expressar uma operação de computação é uma **condicional encadeada**:"
      ]
    },
    {
      "cell_type": "markdown",
      "metadata": {
        "id": "_HTEmdMpx8vb"
      },
      "source": [
        "```python\n",
        "if x < y:\n",
        "    print ('x é menor do que y')\n",
        "elif x > y:\n",
        "    print ('x é maior do que y')\n",
        "else:\n",
        "    print ('x e y são iguais')\n",
        "```"
      ]
    },
    {
      "cell_type": "markdown",
      "metadata": {
        "id": "FbKaHxJXx8vb"
      },
      "source": [
        "`elif` é uma abreviatura de “else if”. Novamente, exatamente um ramo será executado. Não há nenhum limite para o número de instruções `elif`. Se houver uma cláusula `else`, ela deve estar no fim, mas não é preciso haver uma."
      ]
    },
    {
      "cell_type": "markdown",
      "metadata": {
        "id": "PcGf5aoax8vb"
      },
      "source": [
        "```python\n",
        "if escolha == 'a':\n",
        "    desenha_a ()\n",
        "elif escolha == 'b':\n",
        "    desenha_b ()\n",
        "elif escolha == 'c':\n",
        "    desenha_c ()\n",
        "```"
      ]
    },
    {
      "cell_type": "markdown",
      "metadata": {
        "id": "GmsPlrdzx8vb"
      },
      "source": [
        "Cada condição é verificada em ordem. Se a primeira for falsa, a próxima é verificada, e assim por diante. Se uma delas for verdadeira, o ramo correspondente é executado e a instrução é encerrada. Mesmo se mais de uma condição for verdade, só o primeiro ramo verdadeiro é executado."
      ]
    },
    {
      "cell_type": "markdown",
      "metadata": {
        "id": "1LcLU63Nx8vc"
      },
      "source": [
        "## 5.7 - Condicionais aninhadas"
      ]
    },
    {
      "cell_type": "markdown",
      "metadata": {
        "id": "fdNtkHBNx8vc"
      },
      "source": [
        "Uma condicional também pode ser aninhada dentro de outra. Poderíamos ter escrito o exemplo na seção anterior desta forma:"
      ]
    },
    {
      "cell_type": "markdown",
      "metadata": {
        "id": "ZXrKvc7wx8vc"
      },
      "source": [
        "```python\n",
        "if x == y:\n",
        "    print ('x e y são iguais')\n",
        "else:\n",
        "    if x < y:\n",
        "        print ('x é menor do que y')\n",
        "    else:\n",
        "        print ('x é maior do que y')\n",
        "```"
      ]
    },
    {
      "cell_type": "markdown",
      "metadata": {
        "id": "h2UwkB2fx8vc"
      },
      "source": [
        "A condicional exterior contém dois ramos. O primeiro ramo contém uma instrução simples. O segundo ramo contém outra instrução `if`, que tem outros dois ramos próprios. Esses dois ramos são instruções simples, embora pudessem ser instruções condicionais também.\n",
        "\n",
        "Embora a endentação das instruções evidencie a estrutura das condicionais, **condicionais aninhadas** são difíceis de ler rapidamente. É uma boa ideia evitá-las quando for possível.\n",
        "\n",
        "Operadores lógicos muitas vezes oferecem uma forma de simplificar instruções condicionais aninhadas. Por exemplo, podemos reescrever o seguinte código usando uma única condicional:"
      ]
    },
    {
      "cell_type": "markdown",
      "metadata": {
        "id": "DHFHRNq0x8vc"
      },
      "source": [
        "```python\n",
        "if 0 < x:\n",
        "    if x < 10:\n",
        "        print ('x é número positive de dígito único.')\n",
        "```"
      ]
    },
    {
      "cell_type": "markdown",
      "metadata": {
        "id": "djdHacXMx8vc"
      },
      "source": [
        "A instrução `print` só é executada se a colocarmos depois de ambas as condicionais, então podemos obter o mesmo efeito com o operador `and`:"
      ]
    },
    {
      "cell_type": "markdown",
      "metadata": {
        "id": "SxrfaVTUx8vc"
      },
      "source": [
        "```python\n",
        "if 0 < x and x < 10:\n",
        "    print ('x é número positive de dígito único.')\n",
        "```"
      ]
    },
    {
      "cell_type": "markdown",
      "metadata": {
        "id": "-aBAR3pIx8vc"
      },
      "source": [
        "Para este tipo de condição, o Python oferece uma opção mais concisa:"
      ]
    },
    {
      "cell_type": "markdown",
      "metadata": {
        "id": "f_euVCDcx8vd"
      },
      "source": [
        "```python\n",
        "if 0 < x < 10:\n",
        "    print ('x é número positive de dígito único.')\n",
        "```"
      ]
    },
    {
      "cell_type": "markdown",
      "metadata": {
        "id": "FqgJrVurx8vd"
      },
      "source": [
        "## 5.8 - Recursividade"
      ]
    },
    {
      "cell_type": "markdown",
      "metadata": {
        "id": "yqdcuaPYx8vd"
      },
      "source": [
        "É legal para uma função chamar outra; também é legal para uma função chamar a si própria. Pode não ser óbvio porque isso é uma coisa boa, mas na verdade é uma das coisas mais mágicas que um programa pode fazer. Por exemplo, veja a seguinte função:"
      ]
    },
    {
      "cell_type": "code",
      "metadata": {
        "id": "ct0ask5wx8vd"
      },
      "source": [
        "def regressiva (n): #countdown\n",
        "    if n <= 0:\n",
        "        print ('Acabou!')\n",
        "    else:\n",
        "        print (n)\n",
        "        regressiva (n - 1)"
      ],
      "execution_count": null,
      "outputs": []
    },
    {
      "cell_type": "markdown",
      "metadata": {
        "id": "B5JfpXhsx8vd"
      },
      "source": [
        "Se n for 0 ou negativo, a palavra Acabou!” é exibida, senão a saída é n e então a função `regressiva` é chamada – por si mesma – passando n - 1 como argumento.\n",
        "\n",
        "O que acontece se chamarmos esta função assim?"
      ]
    },
    {
      "cell_type": "code",
      "metadata": {
        "id": "m1yRAaASx8vd",
        "colab": {
          "base_uri": "https://localhost:8080/"
        },
        "outputId": "c804a287-4d9a-44cd-80da-de65fd4f8592"
      },
      "source": [
        "regressiva (3)"
      ],
      "execution_count": null,
      "outputs": [
        {
          "output_type": "stream",
          "name": "stdout",
          "text": [
            "3\n",
            "2\n",
            "1\n",
            "Acabou!\n"
          ]
        }
      ]
    },
    {
      "cell_type": "markdown",
      "metadata": {
        "id": "_BISG0lmx8ve"
      },
      "source": [
        "A execução de `regressiva` inicia com n=3 e como n é maior que 0, ela produz o \n",
        "\n",
        "valor 3 e então chama a si mesma...\n",
        "\n",
        "> A execução de `regressiva` inicia com n=2 e como n é maior que 0, ela produz o valor 2 e então chama a si mesma...\n",
        "\n",
        "> > A execução de `regressiva` inicia com n=1 e como n é maior que 0, ela produz o valor 1 e então chama a si mesma...\n",
        "\n",
        "> > > A execução de `regressiva` inicia com n=0 e como n não é maior que 0, ela produz a palavra “Blastoff!” e então retorna.\n",
        "\n",
        "> > > O `regressiva` que recebeu n=1 retorna.\n",
        "\n",
        "> > O `regressiva` que recebeu n=2 retorna.\n",
        "\n",
        "> O `regressiva` que recebeu n=3 retorna.\n",
        "\n",
        "E então você está de volta ao `__main__`. Então a saída completa será assim:"
      ]
    },
    {
      "cell_type": "raw",
      "metadata": {
        "id": "xkOLf5m_x8ve"
      },
      "source": [
        "\n",
        "\n",
        "```python\n",
        "3\n",
        "2\n",
        "1\n",
        "Acabou!\n",
        "```"
      ]
    },
    {
      "cell_type": "markdown",
      "metadata": {
        "id": "fs0cusWTx8ve"
      },
      "source": [
        "Uma função que chama a si mesma é dita **recursiva**; o processo para executá-la é a **recursividade**.\n",
        "\n",
        "Como em outro exemplo, podemos escrever uma função que exiba uma string `n` vezes:"
      ]
    },
    {
      "cell_type": "code",
      "metadata": {
        "id": "GLRCQYkOx8ve"
      },
      "source": [
        "def imprima_n (s, n):\n",
        "    if n <= 0:\n",
        "        return\n",
        "    print (s)\n",
        "    imprima_n (s, n - 1)"
      ],
      "execution_count": null,
      "outputs": []
    },
    {
      "cell_type": "markdown",
      "metadata": {
        "id": "8-D3_BSQx8ve"
      },
      "source": [
        "Se `n <= 0` a **instrução return** causa a saída da função. O fluxo de execução volta imediatamente a quem fez a chamada, e as linhas restantes da função não são executadas.\n",
        "\n",
        "O resto da função é similar à countdown: ela mostra s e então chama a si mesma para mostrar `s` mais `n - 1` vezes. Então o número de linhas da saída é `1 + (n - 1)`, até chegar a `n`.\n",
        "\n",
        "Para exemplos simples como esse, provavelmente é mais fácil usar um loop `for`. Mais adiante veremos exemplos que são difíceis de escrever com um loop `for` e fáceis de escrever com recursividade, então é bom começar cedo."
      ]
    },
    {
      "cell_type": "markdown",
      "metadata": {
        "id": "8dx-dXXMx8ve"
      },
      "source": [
        "## 5.9 - Diagramas da pilha para funções recursivas"
      ]
    },
    {
      "cell_type": "markdown",
      "metadata": {
        "id": "hKymbUB8x8ve"
      },
      "source": [
        "Cada vez que uma função é chamada, o Python cria um frame para conter as variáveis locais e parâmetros da função. Para uma função recursiva, pode haver mais de um frame na pilha ao mesmo tempo.\n",
        "\n",
        "A Figura 5.1 mostra um diagrama da pilha para `regressiva` (countdown) chamado com n = 3."
      ]
    },
    {
      "cell_type": "markdown",
      "metadata": {
        "id": "m1f0j6aBx8vf"
      },
      "source": [
        "![alt text](https://github.com/PenseAllen/PensePython2e/raw/master/fig/tnkp_0501.png)"
      ]
    },
    {
      "cell_type": "markdown",
      "metadata": {
        "id": "HyTN0vbxx8vf"
      },
      "source": [
        "<h5><center>Figura 5.1 – Diagrama da pilha.</center></h5>"
      ]
    },
    {
      "cell_type": "markdown",
      "metadata": {
        "id": "SAfNc6xqx8vf"
      },
      "source": [
        "Como de hábito, o topo da pilha é o frame de `__main__`. Está vazio porque não criamos nenhuma variável em `__main__` nem passamos argumentos a ela.\n",
        "\n",
        "Os quatro frames do countdown têm valores diferentes para o parâmetro `n`. O fundo da pilha, onde `n = 0`, é chamado **caso-base**. Ele não faz uma chamada recursiva, então não há mais frames.\n",
        "\n",
        "Como exercício, desenhe um diagrama da pilha para `imprima_n` chamado com `s = 'Hello'` e `n = 2`. Então escreva uma função chamada `faca_n` que tome um objeto de função e um número `n` como argumentos e que chame a respectiva função `n` vezes."
      ]
    },
    {
      "cell_type": "markdown",
      "metadata": {
        "id": "bJ66zZcpx8vf"
      },
      "source": [
        "## 5.10 - Recursividade infinita"
      ]
    },
    {
      "cell_type": "markdown",
      "metadata": {
        "id": "7GMPIPfLx8vf"
      },
      "source": [
        "Se a recursividade nunca atingir um caso-base, continua fazendo chamadas recursivas para sempre, e o programa nunca termina. Isso é conhecido como **recursividade infinita** e geralmente não é uma boa ideia. Aqui está um programa mínimo com recursividade infinita:"
      ]
    },
    {
      "cell_type": "code",
      "metadata": {
        "id": "0-c7a4D5x8vf"
      },
      "source": [
        "def recursa():\n",
        "    recursa()"
      ],
      "execution_count": null,
      "outputs": []
    },
    {
      "cell_type": "markdown",
      "metadata": {
        "id": "LDx1F99nx8vg"
      },
      "source": [
        "Na maior parte dos ambientes de programação, um programa com recursividade infinita não é realmente executado para sempre. O Python exibe uma mensagem de erro quando a profundidade máxima de recursividade é atingida:"
      ]
    },
    {
      "cell_type": "raw",
      "metadata": {
        "id": "brDmWwb8x8vg"
      },
      "source": [
        "\n",
        "\n",
        "```\n",
        "  File \"<stdin>\", line 2, in recurse\n",
        "  File \"<stdin>\", line 2, in recurse\n",
        "  File \"<stdin>\", line 2, in recurse\n",
        "                  .\n",
        "                  .\n",
        "                  .\n",
        "  File \"<stdin>\", line 2, in recurse\n",
        "RuntimeError: Maximum recursion depth exceeded\n",
        "```"
      ]
    },
    {
      "cell_type": "markdown",
      "metadata": {
        "id": "gA7VgH5Px8vg"
      },
      "source": [
        "Este _traceback_ é um pouco maior que o que vimos no capítulo anterior. Quando o erro ocorre, há mil _frames_ de `recursa` na pilha!\n",
        "\n",
        "Se você escrever em recursividade infinita por engano, confira se a sua função tem um caso-base que não faz uma chamada recursiva. E se houver um caso-base, verifique se você vai mesmo atingí-lo."
      ]
    },
    {
      "cell_type": "markdown",
      "metadata": {
        "id": "YaQkr-kRx8vg"
      },
      "source": [
        "## 5.11 - Entrada de teclado"
      ]
    },
    {
      "cell_type": "markdown",
      "metadata": {
        "id": "qtLT5lgcx8vg"
      },
      "source": [
        "Os programas que escrevemos até agora não aceitam entradas do usuário. Eles sempre fazem a mesma coisa cada vez.\n",
        "\n",
        "O Python fornece uma função integrada chamada `input` que interrompe o programa e espera que o usuário digite algo. Quando o usuário pressionar Return ou Enter, o programa volta a ser executado e `input` retorna o que o usuário digitou como uma string. No Python 2, a mesma função é chamada `raw_input`."
      ]
    },
    {
      "cell_type": "code",
      "metadata": {
        "id": "MEulOXhGx8vg",
        "colab": {
          "base_uri": "https://localhost:8080/"
        },
        "outputId": "c51a5063-c531-4687-e36f-4e5c98571aa0"
      },
      "source": [
        "texto = input()"
      ],
      "execution_count": null,
      "outputs": [
        {
          "name": "stdout",
          "output_type": "stream",
          "text": [
            "casa\n"
          ]
        }
      ]
    },
    {
      "cell_type": "code",
      "metadata": {
        "id": "u2YLXZw4x8vh",
        "colab": {
          "base_uri": "https://localhost:8080/",
          "height": 35
        },
        "outputId": "d58e1ab9-7330-4897-abf3-ffd7436ec07a"
      },
      "source": [
        "texto"
      ],
      "execution_count": null,
      "outputs": [
        {
          "output_type": "execute_result",
          "data": {
            "application/vnd.google.colaboratory.intrinsic+json": {
              "type": "string"
            },
            "text/plain": [
              "'casa'"
            ]
          },
          "metadata": {},
          "execution_count": 20
        }
      ]
    },
    {
      "cell_type": "markdown",
      "metadata": {
        "id": "zgUTAMsux8vh"
      },
      "source": [
        "Antes de receber entradas do usuário, é uma boa ideia exibir um prompt dizendo ao usuário o que ele deve digitar. `input` pode ter um prompt como argumento:"
      ]
    },
    {
      "cell_type": "code",
      "metadata": {
        "id": "qIlD031Vx8vh",
        "colab": {
          "base_uri": "https://localhost:8080/"
        },
        "outputId": "b698e4be-0c16-4e66-a5c0-affba02d6649"
      },
      "source": [
        "nome = input ('Qual...é o seu nome?\\\\n')"
      ],
      "execution_count": null,
      "outputs": [
        {
          "name": "stdout",
          "output_type": "stream",
          "text": [
            "Qual...é o seu nome?\\nChristopher\n"
          ]
        }
      ]
    },
    {
      "cell_type": "code",
      "metadata": {
        "id": "ZQBJ-_Jmx8vh",
        "colab": {
          "base_uri": "https://localhost:8080/",
          "height": 35
        },
        "outputId": "7777d149-9eae-40ea-bfd9-c46f22343836"
      },
      "source": [
        "nome"
      ],
      "execution_count": null,
      "outputs": [
        {
          "output_type": "execute_result",
          "data": {
            "application/vnd.google.colaboratory.intrinsic+json": {
              "type": "string"
            },
            "text/plain": [
              "'Christopher'"
            ]
          },
          "metadata": {},
          "execution_count": 18
        }
      ]
    },
    {
      "cell_type": "markdown",
      "metadata": {
        "id": "PiZhP4dPx8vh"
      },
      "source": [
        "A sequência `\\n` no final do prompt representa um **newline**, que é um caractere especial de quebra de linha. É por isso que a entrada do usuário aparece abaixo do prompt.\n",
        "\n",
        "Se esperar que o usuário digite um número inteiro, você pode tentar converter o valor de retorno para `int`:"
      ]
    },
    {
      "cell_type": "code",
      "metadata": {
        "id": "ez3QObBXx8vh",
        "colab": {
          "base_uri": "https://localhost:8080/"
        },
        "outputId": "1573560c-5e1f-425c-c3e9-2d15ee3c7016"
      },
      "source": [
        "prompt = 'Qual...é a velocidade do ar em uma fungada?\\\\n'\n",
        "velocidade = input (prompt)"
      ],
      "execution_count": null,
      "outputs": [
        {
          "name": "stdout",
          "output_type": "stream",
          "text": [
            "Qual...é a velocidade do ar em uma fungada?\\n23\n"
          ]
        }
      ]
    },
    {
      "cell_type": "code",
      "metadata": {
        "id": "NeqRnSS3x8vi",
        "colab": {
          "base_uri": "https://localhost:8080/"
        },
        "outputId": "9608373f-b762-4212-cfef-a567c6022a77"
      },
      "source": [
        "int (velocidade)"
      ],
      "execution_count": null,
      "outputs": [
        {
          "output_type": "execute_result",
          "data": {
            "text/plain": [
              "23"
            ]
          },
          "metadata": {},
          "execution_count": 23
        }
      ]
    },
    {
      "cell_type": "markdown",
      "metadata": {
        "id": "dWAX24qZx8vi"
      },
      "source": [
        "Mas se o usuário digitar algo além de uma série de dígitos, você recebe um erro:"
      ]
    },
    {
      "cell_type": "code",
      "metadata": {
        "id": "zk7kORBP2ue2",
        "colab": {
          "base_uri": "https://localhost:8080/"
        },
        "outputId": "380e20d2-47b9-40b9-e16a-7451186d2fb8"
      },
      "source": [
        "velocidade = input (prompt)"
      ],
      "execution_count": null,
      "outputs": [
        {
          "name": "stdout",
          "output_type": "stream",
          "text": [
            "Qual...é a velocidade do ar em uma fungada?\\nO que você quer saber, uma fungada carregada ou limpa?\n"
          ]
        }
      ]
    },
    {
      "cell_type": "code",
      "metadata": {
        "id": "jL2mXsIy27Jq",
        "colab": {
          "base_uri": "https://localhost:8080/",
          "height": 171
        },
        "outputId": "313dcccc-6895-4ac8-cb5d-2248b320262e"
      },
      "source": [
        "int (velocidade)"
      ],
      "execution_count": null,
      "outputs": [
        {
          "output_type": "error",
          "ename": "ValueError",
          "evalue": "ignored",
          "traceback": [
            "\u001b[0;31m---------------------------------------------------------------------------\u001b[0m",
            "\u001b[0;31mValueError\u001b[0m                                Traceback (most recent call last)",
            "\u001b[0;32m<ipython-input-25-40a32aa8bd0a>\u001b[0m in \u001b[0;36m<module>\u001b[0;34m()\u001b[0m\n\u001b[0;32m----> 1\u001b[0;31m \u001b[0mint\u001b[0m \u001b[0;34m(\u001b[0m\u001b[0mvelocidade\u001b[0m\u001b[0;34m)\u001b[0m\u001b[0;34m\u001b[0m\u001b[0;34m\u001b[0m\u001b[0m\n\u001b[0m",
            "\u001b[0;31mValueError\u001b[0m: invalid literal for int() with base 10: 'O que você quer saber, uma fungada carregada ou limpa?'"
          ]
        }
      ]
    },
    {
      "cell_type": "raw",
      "metadata": {
        "id": "ewW9ijRHx8vi"
      },
      "source": [
        "\n",
        "\n",
        "```\n",
        "ValueError: invalid literal for int() with base 10\n",
        "```\n"
      ]
    },
    {
      "cell_type": "markdown",
      "metadata": {
        "id": "DVCw-mpVx8vi"
      },
      "source": [
        "Veremos como tratar este tipo de erro mais adiante."
      ]
    },
    {
      "cell_type": "markdown",
      "metadata": {
        "id": "gBoyREktx8vj"
      },
      "source": [
        "## 5.12 - Depuração"
      ]
    },
    {
      "cell_type": "markdown",
      "metadata": {
        "id": "KVJEaaTxx8vj"
      },
      "source": [
        "Quando um erro de sintaxe ou de tempo de execução ocorre, a mensagem de erro contém muita informação, às vezes, até demais. As partes mais úteis são normalmente: que tipo de erro foi e onde ocorreu.\n",
        "\n",
        "Erros de sintaxe são normalmente fáceis de encontrar, mas há algumas pegadinhas. Erros de whitespace podem ser complicados porque os espaços e tabulações são invisíveis e estamos acostumados a ignorá-los."
      ]
    },
    {
      "cell_type": "code",
      "metadata": {
        "id": "JDA6BczR3Q16",
        "colab": {
          "base_uri": "https://localhost:8080/",
          "height": 135
        },
        "outputId": "71d49ace-6b02-43af-e230-10ed9cc1996e"
      },
      "source": [
        "x = 5\n",
        " y = 6"
      ],
      "execution_count": null,
      "outputs": [
        {
          "output_type": "error",
          "ename": "IndentationError",
          "evalue": "ignored",
          "traceback": [
            "\u001b[0;36m  File \u001b[0;32m\"<ipython-input-26-33618411f379>\"\u001b[0;36m, line \u001b[0;32m2\u001b[0m\n\u001b[0;31m    y = 6\u001b[0m\n\u001b[0m    ^\u001b[0m\n\u001b[0;31mIndentationError\u001b[0m\u001b[0;31m:\u001b[0m unexpected indent\n"
          ]
        }
      ]
    },
    {
      "cell_type": "markdown",
      "metadata": {
        "id": "nrxlshOQx8vj"
      },
      "source": [
        "Neste exemplo, o problema é que a segunda linha está endentada por um espaço. Mas a mensagem de erro aponta para `y`, o que pode ser capcioso. Em geral, mensagens de erro indicam onde o problema foi descoberto, mas o erro real pode estar em outra parte do código, às vezes, em uma linha anterior.\n",
        "\n",
        "O mesmo acontece com erros em tempo de execução. Suponha que você esteja tentando calcular a proporção de sinal a ruído em decibéis. A fórmula é $SNR_{db} = 10 log_{10} (P_{sinal}/P_{ruido})$. No Python, você poderia escrever algo assim:"
      ]
    },
    {
      "cell_type": "code",
      "metadata": {
        "id": "NKwouzVz3i79",
        "colab": {
          "base_uri": "https://localhost:8080/",
          "height": 245
        },
        "outputId": "b5229e42-072b-4bb9-f9f3-a4d8aa0f4c2c"
      },
      "source": [
        "import math\n",
        "\n",
        "potencia_sinal = 9\n",
        "potencia_ruido = 10\n",
        "razao = potencia_sinal // potencia_ruido\n",
        "decibeis = 10 * math.log10(razao)\n",
        "\n",
        "print(decibeis)\n"
      ],
      "execution_count": null,
      "outputs": [
        {
          "output_type": "error",
          "ename": "ValueError",
          "evalue": "ignored",
          "traceback": [
            "\u001b[0;31m---------------------------------------------------------------------------\u001b[0m",
            "\u001b[0;31mValueError\u001b[0m                                Traceback (most recent call last)",
            "\u001b[0;32m<ipython-input-28-90d87a1155d5>\u001b[0m in \u001b[0;36m<module>\u001b[0;34m()\u001b[0m\n\u001b[1;32m      4\u001b[0m \u001b[0mpotencia_ruido\u001b[0m \u001b[0;34m=\u001b[0m \u001b[0;36m10\u001b[0m\u001b[0;34m\u001b[0m\u001b[0;34m\u001b[0m\u001b[0m\n\u001b[1;32m      5\u001b[0m \u001b[0mrazao\u001b[0m \u001b[0;34m=\u001b[0m \u001b[0mpotencia_sinal\u001b[0m \u001b[0;34m//\u001b[0m \u001b[0mpotencia_ruido\u001b[0m\u001b[0;34m\u001b[0m\u001b[0;34m\u001b[0m\u001b[0m\n\u001b[0;32m----> 6\u001b[0;31m \u001b[0mdecibeis\u001b[0m \u001b[0;34m=\u001b[0m \u001b[0;36m10\u001b[0m \u001b[0;34m*\u001b[0m \u001b[0mmath\u001b[0m\u001b[0;34m.\u001b[0m\u001b[0mlog10\u001b[0m\u001b[0;34m(\u001b[0m\u001b[0mrazao\u001b[0m\u001b[0;34m)\u001b[0m\u001b[0;34m\u001b[0m\u001b[0;34m\u001b[0m\u001b[0m\n\u001b[0m\u001b[1;32m      7\u001b[0m \u001b[0;34m\u001b[0m\u001b[0m\n\u001b[1;32m      8\u001b[0m \u001b[0mprint\u001b[0m\u001b[0;34m(\u001b[0m\u001b[0mdecibeis\u001b[0m\u001b[0;34m)\u001b[0m\u001b[0;34m\u001b[0m\u001b[0;34m\u001b[0m\u001b[0m\n",
            "\u001b[0;31mValueError\u001b[0m: math domain error"
          ]
        }
      ]
    },
    {
      "cell_type": "markdown",
      "metadata": {
        "id": "66tLX1-2x8vj"
      },
      "source": [
        "Ao executar este programa, você recebe uma exceção:"
      ]
    },
    {
      "cell_type": "raw",
      "metadata": {
        "id": "Y7ofdTOGx8vj"
      },
      "source": [
        "\n",
        "\n",
        "```\n",
        "Traceback (most recent call last):\n",
        "\n",
        "> Indented block\n",
        "\n",
        "\n",
        "  File \"snr.py\", line 5, in ?\n",
        "    decibeis = 10 * math.log10(razao)\n",
        "ValueError: math domain error\n",
        "```"
      ]
    },
    {
      "cell_type": "markdown",
      "metadata": {
        "id": "QKhR-QNMx8vj"
      },
      "source": [
        "A mensagem de erro indica a linha 5, mas não há nada de errado com esta linha. Uma opção para encontrar o verdadeiro erro é exibir o valor de `razao`, que acaba sendo 0. O problema está na linha 4, que usa a divisão pelo piso em vez da divisão de ponto flutuante.\n",
        "\n",
        "É preciso ler as mensagens de erro com atenção, mas não assumir que tudo que dizem esteja correto."
      ]
    },
    {
      "cell_type": "markdown",
      "metadata": {
        "id": "aF2zYu1fx8vk"
      },
      "source": [
        "## 5.13 - Glossário"
      ]
    },
    {
      "cell_type": "markdown",
      "metadata": {
        "id": "c1T9s5V4x8vk"
      },
      "source": [
        "**divisão pelo piso**<br>\n",
        "&emsp;Um operador, denotado por `//`, que divide dois números e arredonda o resultado para baixo (em direção ao zero), a um número inteiro.\n",
        "\n",
        "**operador módulo**<br>\n",
        "&emsp;Um operador, denotado com um sinal de percentagem (`%`), que funciona com números inteiros e devolve o resto quando um número é dividido por outro.\n",
        "\n",
        "**expressão booleana**<br>\n",
        "&emsp;Uma expressão cujo valor é True (verdadeiro) ou False (falso).\n",
        "\n",
        "**operador relacional**<br>\n",
        "&emsp;Um destes operadores, que compara seus operandos: `==`, `!=`, `>`, `<`, `>=` e `<=`. \n",
        "\n",
        "**operador lógico**<br>\n",
        "&emsp;Um destes operadores, que combina expressões booleanas: `and` (e), `or` (ou) e `not` (não).\n",
        "\n",
        "**instrução condicional**<br>\n",
        "&emsp;Uma instrução que controla o fluxo de execução, dependendo de alguma condição.\n",
        "\n",
        "**condição**<br>\n",
        "&emsp;A expressão booleana em uma instrução condicional que determina qual ramo deve ser executado.\n",
        "\n",
        "**instrução composta**<br>\n",
        "&emsp;Uma instrução composta de um cabeçalho e um corpo. O cabeçalho termina em dois pontos (`:`). O corpo é endentado em relação ao cabeçalho.\n",
        "\n",
        "**ramo**<br>\n",
        "&emsp;Uma das sequências alternativas de instruções em uma instrução condicional.\n",
        "\n",
        "**condicional encadeada**<br>\n",
        "&emsp;Uma instrução condicional com uma série de ramos alternativos.\n",
        "\n",
        "**condicional aninhada**<br>\n",
        "&emsp;Uma instrução condicional que aparece em um dos ramos de outra instrução condicional.\n",
        "\n",
        "**instrução de retorno**<br>\n",
        "&emsp;Uma instrução que faz u+ma função terminar imediatamente e voltar a quem a chamou.\n",
        "\n",
        "**recursividade**<br>\n",
        "&emsp;O processo de chamar a função que está sendo executada no momento.\n",
        "\n",
        "**caso-base**<br>\n",
        "&emsp;Um ramo condicional em uma função recursiva que não faz uma chamada recursiva.\n",
        "\n",
        "**recursividade infinita**<br>\n",
        "&emsp;Recursividade que não tem um caso-base, ou nunca o atinge. A recursividade infinita eventualmente causa um erro em tempo de execução."
      ]
    },
    {
      "cell_type": "markdown",
      "metadata": {
        "id": "5yqCvVHvx8vk"
      },
      "source": [
        "## 5.14 - Exercícios"
      ]
    },
    {
      "cell_type": "markdown",
      "metadata": {
        "id": "CnN1_Edfx8vk"
      },
      "source": [
        "### Exercício 5.1"
      ]
    },
    {
      "cell_type": "markdown",
      "metadata": {
        "id": "BHfod1dYx8vk"
      },
      "source": [
        "O módulo `time` fornece uma função, também chamada `time`, que devolve a hora média de Greenwich na “época”, que é um momento arbitrário usado como ponto de referência. Em sistemas UNIX, a época é primeiro de janeiro de 1970."
      ]
    },
    {
      "cell_type": "code",
      "metadata": {
        "id": "wlc7XDX4x8vk",
        "colab": {
          "base_uri": "https://localhost:8080/"
        },
        "outputId": "d5b44db0-26b3-40ff-f2cd-9bc9c6b5bc23"
      },
      "source": [
        "import time\n",
        "time.time ()"
      ],
      "execution_count": null,
      "outputs": [
        {
          "output_type": "execute_result",
          "data": {
            "text/plain": [
              "1633478014.4731529"
            ]
          },
          "metadata": {},
          "execution_count": 29
        }
      ]
    },
    {
      "cell_type": "markdown",
      "metadata": {
        "id": "LUWMnWLux8vl"
      },
      "source": [
        "Escreva um script que leia a hora atual e a converta em um tempo em horas, minutos e segundos, mais o número de dias desde a época."
      ]
    },
    {
      "cell_type": "markdown",
      "metadata": {
        "id": "9wo2txJ-x8vl"
      },
      "source": [
        "### Exercício 5.2"
      ]
    },
    {
      "cell_type": "markdown",
      "metadata": {
        "id": "xcC4DF61x8vl"
      },
      "source": [
        "O último teorema de Fermat diz que não existem números inteiros a, b e c tais que `a ** n + b ** n == c ** n` para quaisquer valores de *n* maiores que 2."
      ]
    },
    {
      "cell_type": "markdown",
      "metadata": {
        "id": "L35kC9fkx8vl"
      },
      "source": [
        "1° Escreva uma função chamada `checa_fermat` que receba quatro parâmetros – `a`, `b`, `c` e `n` – e verifique se o teorema de Fermat se mantém. Se `n` for maior que 2 e `a**n + b**n == c**n` o programa deve imprimir, “_Caramba, Fermat estava errado!_” Senão o programa deve exibir “_Não, não funciona_.”"
      ]
    },
    {
      "cell_type": "markdown",
      "metadata": {
        "id": "eUL6DoOCx8vl"
      },
      "source": [
        "2° Escreva uma função que peça ao usuário para digitar valores para `a`, `b`, `c` e `n`, os converta em números inteiros e use `checa_fermat` para verificar se violam o teorema de Fermat."
      ]
    },
    {
      "cell_type": "markdown",
      "metadata": {
        "id": "Y2RYA2oMx8vl"
      },
      "source": [
        "### Exercício 5.3"
      ]
    },
    {
      "cell_type": "markdown",
      "metadata": {
        "id": "XyZOj1rsx8vl"
      },
      "source": [
        "Se você tiver três gravetos, pode ser que consiga arranjá-los em um triângulo ou não. Por exemplo, se um dos gravetos tiver 12 polegadas de comprimento e outros dois tiverem uma polegada de comprimento, não será possível fazer com que os gravetos curtos se encontrem no meio. Há um teste simples para ver se é possível formar um triângulo para quaisquer três comprimentos:\n",
        "\n",
        "Se algum dos três comprimentos for maior que a soma dos outros dois, então você não pode formar um triângulo. Senão, você pode. (Se a soma de dois comprimentos igualar o terceiro, eles formam um triângulo chamado “degenerado”.)"
      ]
    },
    {
      "cell_type": "markdown",
      "metadata": {
        "id": "-7Z6DQCyx8vl"
      },
      "source": [
        "1° Escreva uma função chamada `eh_triangulo` que receba três números inteiros como argumentos, e que imprima “_Sim_” ou “_Não_”, dependendo da possibilidade de formar ou não um triângulo de gravetos com os comprimentos dados."
      ]
    },
    {
      "cell_type": "markdown",
      "metadata": {
        "id": "ASBwwsFqx8vm"
      },
      "source": [
        "2° Escreva uma função que peça ao usuário para digitar três comprimentos de gravetos, os converta em números inteiros e use `eh_triangulo` para verificar se os gravetos com os comprimentos dados podem formar um triângulo."
      ]
    },
    {
      "cell_type": "markdown",
      "metadata": {
        "id": "-jz1b0KAx8vm"
      },
      "source": [
        "### Exercício 5.4 "
      ]
    },
    {
      "cell_type": "markdown",
      "metadata": {
        "id": "Yuyc5boJx8vm"
      },
      "source": [
        "Qual é a saída do seguinte programa? Desenhe um diagrama da pilha que mostre o estado do programa quando exibir o resultado."
      ]
    },
    {
      "cell_type": "code",
      "metadata": {
        "id": "6Duz808nx8vm"
      },
      "source": [
        "def recursa (n, s):\n",
        "    if n == 0:\n",
        "        print(s)\n",
        "    else:\n",
        "        recursa (n - 1, n + s)"
      ],
      "execution_count": null,
      "outputs": []
    },
    {
      "cell_type": "code",
      "metadata": {
        "id": "aqPNKwHtx8vm",
        "colab": {
          "base_uri": "https://localhost:8080/"
        },
        "outputId": "91611681-a931-408a-a98f-c86820ec5a34"
      },
      "source": [
        "recursa (3, 0)"
      ],
      "execution_count": null,
      "outputs": [
        {
          "output_type": "stream",
          "name": "stdout",
          "text": [
            "6\n"
          ]
        }
      ]
    },
    {
      "cell_type": "markdown",
      "metadata": {
        "id": "du0XF_BUx8vm"
      },
      "source": [
        "1° O que aconteceria se você chamasse esta função desta forma: `recursa(-1, 0)`?"
      ]
    },
    {
      "cell_type": "markdown",
      "metadata": {
        "id": "ctdbOKBQx8vm"
      },
      "source": [
        "2° Escreva uma _docstring_ que explique tudo o que alguém precisaria saber para usar esta função (e mais nada)."
      ]
    },
    {
      "cell_type": "markdown",
      "metadata": {
        "id": "uoHJ1Lusx8vm"
      },
      "source": [
        "Os seguintes exercícios usam o módulo `turtle`, descrito no Capítulo 4:"
      ]
    },
    {
      "cell_type": "markdown",
      "metadata": {
        "id": "qAj-PHCrx8vn"
      },
      "source": [
        "### Exercício 5.5"
      ]
    },
    {
      "cell_type": "markdown",
      "metadata": {
        "id": "nSbJKZPrx8vn"
      },
      "source": [
        "Leia a próxima função e veja se consegue compreender o que ela faz (veja os exemplos no Capítulo 4). Então execute-a e veja se acertou."
      ]
    },
    {
      "cell_type": "code",
      "metadata": {
        "id": "mmcvAssLx8vn"
      },
      "source": [
        "def desenha (t, comprimento, n):\n",
        "    if n == 0:\n",
        "        return\n",
        "    angulo = 50\n",
        "    t.fd (comprimento * n)\n",
        "    t.lt (angulo)\n",
        "    draw (t, comprimento, n - 1)\n",
        "    t.rt (2 * angulo)\n",
        "    draw (t, comprimento, n - 1)\n",
        "    t.lt (angulo)\n",
        "    t.bk (comprimento * n)"
      ],
      "execution_count": null,
      "outputs": []
    },
    {
      "cell_type": "markdown",
      "metadata": {
        "id": "fNU1Dww2x8vn"
      },
      "source": [
        "### Exercício 5.6"
      ]
    },
    {
      "cell_type": "markdown",
      "metadata": {
        "id": "1IA1jQQqx8vn"
      },
      "source": [
        "![alt text](https://github.com/PenseAllen/PensePython2e/raw/master/fig/tnkp_0502.png)"
      ]
    },
    {
      "cell_type": "markdown",
      "metadata": {
        "id": "UC8MTKqCx8vn"
      },
      "source": [
        "<h5><center>Figura 5.2 – Uma curva de Koch.</center></h5>"
      ]
    },
    {
      "cell_type": "markdown",
      "metadata": {
        "id": "LW7Hnyhqx8vn"
      },
      "source": [
        "A curva de Koch é um fractal que parece com o da Figura 5.2. Para desenhar uma curva de Koch com o comprimento x, tudo o que você tem que fazer é:"
      ]
    },
    {
      "cell_type": "markdown",
      "metadata": {
        "id": "FQfc0F7Yx8vn"
      },
      "source": [
        "1° Desenhe uma curva de Koch com o comprimento x / 3. <p>\n",
        "2° Vire 60 graus à esquerda. <p>\n",
        "3° Desenhe uma curva de Koch com o comprimento x / 3. <p>\n",
        "4° Vire 120 graus à direita. <p>\n",
        "5° Desenhe uma curva de Koch com o comprimento x / 3. <p>\n",
        "6° Vire 60 graus à esquerda. <p>\n",
        "7° Desenhe uma curva de Koch com o comprimento x / 3 <p>"
      ]
    },
    {
      "cell_type": "markdown",
      "metadata": {
        "id": "2NvL2EkYx8vn"
      },
      "source": [
        "A exceção é se `x` for menor que 3: neste caso, você pode desenhar apenas uma linha reta com o comprimento `x`."
      ]
    },
    {
      "cell_type": "markdown",
      "metadata": {
        "id": "J_EUR1mlx8vo"
      },
      "source": [
        "1° Escreva uma função chamada `koch` que receba um `turtle` e um comprimento como parâmetros, e use o `turtle` para desenhar uma curva de Koch com o comprimento dado."
      ]
    },
    {
      "cell_type": "markdown",
      "metadata": {
        "id": "nYDyImabx8vo"
      },
      "source": [
        "2° Escreva uma função chamada `floco_de_neve` que desenhe três curvas de Koch para fazer o traçado de um floco de neve."
      ]
    },
    {
      "cell_type": "markdown",
      "metadata": {
        "id": "Nu48JwsSx8vo"
      },
      "source": [
        "*Solução: http://thinkpython2.com/code/koch.py.*"
      ]
    },
    {
      "cell_type": "markdown",
      "metadata": {
        "id": "2aLwLjDgx8vo"
      },
      "source": [
        "3° A curva de Koch pode ser generalizada de vários modos. Veja exemplos em http://en.wikipedia.org/wiki/Koch\\_snowflake e implemente o seu favorito."
      ]
    }
  ]
}