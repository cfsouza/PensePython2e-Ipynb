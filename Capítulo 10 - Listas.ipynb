{
  "nbformat": 4,
  "nbformat_minor": 0,
  "metadata": {
    "kernelspec": {
      "display_name": "Python 3",
      "language": "python",
      "name": "python3"
    },
    "language_info": {
      "codemirror_mode": {
        "name": "ipython",
        "version": 3
      },
      "file_extension": ".py",
      "mimetype": "text/x-python",
      "name": "python",
      "nbconvert_exporter": "python",
      "pygments_lexer": "ipython3",
      "version": "3.7.3"
    },
    "colab": {
      "name": "Capítulo 10 - Listas.ipynb",
      "provenance": []
    }
  },
  "cells": [
    {
      "cell_type": "markdown",
      "metadata": {
        "id": "I-664JeZT8xS"
      },
      "source": [
        "# Capítulo 10: Listas\n",
        "\n",
        "Este capítulo apresenta um dos tipos integrados mais úteis do Python: listas. Você também aprenderá mais sobre objetos e o que pode acontecer quando o mesmo objeto tem mais de um nome."
      ]
    },
    {
      "cell_type": "markdown",
      "metadata": {
        "id": "p4hz7hIdT8xW"
      },
      "source": [
        "## 10.1 - Uma lista é uma sequência\n",
        "\n",
        "Como uma string, uma **lista** é uma sequência de valores. Em uma string, os valores são caracteres; em uma lista, eles podem ser de qualquer tipo. Os valores em uma lista são chamados de **elementos**, ou, algumas vezes, de itens.\n",
        "\n",
        "Há várias formas para criar uma lista; a mais simples é colocar os elementos entre colchetes (`[` e `]`):"
      ]
    },
    {
      "cell_type": "markdown",
      "metadata": {
        "id": "qOaohFYpT8xX"
      },
      "source": [
        "```python\n",
        "[10, 20, 30, 40]\n",
        "['coxa de grilo', 'bunda de tanajura', 'pintor de rodapé']\n",
        "```"
      ]
    },
    {
      "cell_type": "markdown",
      "metadata": {
        "id": "9HNCwpbcT8xX"
      },
      "source": [
        "O primeiro exemplo é uma lista de quatro números inteiros. O segundo é uma lista de três strings. Os elementos de uma lista não precisam ser do mesmo tipo. A lista seguinte contém uma string, um número de ponto flutuante, um número inteiro e (olhe só!) outra lista:"
      ]
    },
    {
      "cell_type": "markdown",
      "metadata": {
        "id": "tao3x3-dT8xY"
      },
      "source": [
        "``` python\n",
        "['spam', 2.0, 5, [10, 20]]\n",
        "```"
      ]
    },
    {
      "cell_type": "markdown",
      "metadata": {
        "id": "_Fkpv6AkT8xY"
      },
      "source": [
        "Uma lista dentro de outra lista é uma **lista aninhada**.\n",
        "\n",
        "Uma lista que não contém elementos é chamada de lista vazia; você pode criar uma com colchetes vazios ([ e ]).\n",
        "\n",
        "Como já se poderia esperar, podemos atribuir uma lista de valores a variáveis:"
      ]
    },
    {
      "cell_type": "code",
      "metadata": {
        "id": "HM0OSxalT8xZ",
        "outputId": "7e6373dc-2ea8-42db-fbcc-25b4f0bf8590",
        "colab": {
          "base_uri": "https://localhost:8080/"
        }
      },
      "source": [
        "cheeses = ['Cheddar', 'Edam', 'Gouda']\n",
        "numbers = [42, 123]\n",
        "empty = []\n",
        "print(cheeses, numbers, empty)"
      ],
      "execution_count": 3,
      "outputs": [
        {
          "output_type": "stream",
          "name": "stdout",
          "text": [
            "['Cheddar', 'Edam', 'Gouda'] [42, 123] []\n"
          ]
        }
      ]
    },
    {
      "cell_type": "markdown",
      "metadata": {
        "id": "K-Tvl9SqT8xb"
      },
      "source": [
        "## 10.2 - Listas são mutáveis\n",
        "\n",
        "A sintaxe para acessar os elementos de uma lista é a mesma que para acessar os caracteres de uma string: o operador de colchete. A expressão dentro dos colchetes especifica o índice. Lembre-se de que os índices começam em `0`:"
      ]
    },
    {
      "cell_type": "code",
      "metadata": {
        "id": "4a3NtZyHT8xb",
        "outputId": "7cd69ba4-5951-4376-d642-2a07a219cdfd",
        "colab": {
          "base_uri": "https://localhost:8080/",
          "height": 35
        }
      },
      "source": [
        "cheeses[0]"
      ],
      "execution_count": 4,
      "outputs": [
        {
          "output_type": "execute_result",
          "data": {
            "application/vnd.google.colaboratory.intrinsic+json": {
              "type": "string"
            },
            "text/plain": [
              "'Cheddar'"
            ]
          },
          "metadata": {},
          "execution_count": 4
        }
      ]
    },
    {
      "cell_type": "markdown",
      "metadata": {
        "id": "14ihwaw2T8xc"
      },
      "source": [
        "Diferente das strings, listas são mutáveis. Quando o operador de colchete aparece do lado esquerdo de uma atribuição, ele identifica o elemento da lista que será atribuído:"
      ]
    },
    {
      "cell_type": "code",
      "metadata": {
        "id": "l0FQ-1SDT8xc",
        "outputId": "a53146a0-534b-4940-feed-43884b3564b4",
        "colab": {
          "base_uri": "https://localhost:8080/"
        }
      },
      "source": [
        "numbers = [42, 123]\n",
        "numbers[1] = 5\n",
        "numbers"
      ],
      "execution_count": 5,
      "outputs": [
        {
          "output_type": "execute_result",
          "data": {
            "text/plain": [
              "[42, 5]"
            ]
          },
          "metadata": {},
          "execution_count": 5
        }
      ]
    },
    {
      "cell_type": "markdown",
      "metadata": {
        "id": "qjqtfIZKT8xd"
      },
      "source": [
        "O primeiro elemento de `numbers`, que costumava ser `123`, agora é `5`.\n",
        "\n",
        "A Figura 10.1 mostra o diagrama de estado para `cheeses`, `numbers` e `empty`.\n",
        "\n",
        "![Figura 10.1 – Diagrama de estado de três listas.](https://github.com/PenseAllen/PensePython2e/raw/master/fig/tnkp_1001.png)\n",
        "<br>_Figura 10.1 – Diagrama de estado de três listas._\n",
        "\n",
        "As listas são representadas pelas caixas com a palavra “lista” fora delas e os elementos da lista dentro delas. `cheeses` refere-se a uma lista com três elementos indexados como `0`, `1` e `2`. `numbers` contém dois elementos e o diagrama mostra que o valor do segundo elemento foi reatribuído de `123` para `5`. `empty` refere-se a uma lista sem elementos.\n",
        "\n",
        "Índices de listas funcionam da mesma forma que os índices de strings:\n",
        "\n",
        "* Qualquer expressão de números inteiros pode ser usada como índice.\n",
        "\n",
        "* Se tentar ler ou escrever um elemento que não existe, você recebe um `IndexError`.\n",
        "\n",
        "* Se um índice tiver um valor negativo, ele conta de trás para a frente, a partir do final da lista.\n",
        "\n",
        "O operador `in` também funciona com listas:"
      ]
    },
    {
      "cell_type": "code",
      "metadata": {
        "id": "G90FlyptT8xd",
        "outputId": "34c618a8-e6dd-4ae3-cce5-c56c82744196",
        "colab": {
          "base_uri": "https://localhost:8080/"
        }
      },
      "source": [
        "cheeses = ['Cheddar', 'Edam', 'Gouda']\n",
        "'Edam' in cheeses"
      ],
      "execution_count": 6,
      "outputs": [
        {
          "output_type": "execute_result",
          "data": {
            "text/plain": [
              "True"
            ]
          },
          "metadata": {},
          "execution_count": 6
        }
      ]
    },
    {
      "cell_type": "code",
      "metadata": {
        "id": "jdnIECu8T8xe",
        "outputId": "48192890-ef21-4f15-9c0b-8e08fedc44b0",
        "colab": {
          "base_uri": "https://localhost:8080/"
        }
      },
      "source": [
        "'Brie' in cheeses"
      ],
      "execution_count": 7,
      "outputs": [
        {
          "output_type": "execute_result",
          "data": {
            "text/plain": [
              "False"
            ]
          },
          "metadata": {},
          "execution_count": 7
        }
      ]
    },
    {
      "cell_type": "markdown",
      "metadata": {
        "id": "_6LGzHSIT8xe"
      },
      "source": [
        "## 10.3 - Percorrendo uma lista\n",
        "\n",
        "A forma mais comum de percorrer os elementos em uma lista é com um _loop_ `for`. A sintaxe é a mesma que a das strings:"
      ]
    },
    {
      "cell_type": "code",
      "metadata": {
        "id": "LhHK6X5VT8xe",
        "outputId": "fd25c86a-9af4-45e4-e4a3-2777faac4c29",
        "colab": {
          "base_uri": "https://localhost:8080/"
        }
      },
      "source": [
        "for cheese in cheeses:\n",
        "    print(cheese)"
      ],
      "execution_count": 8,
      "outputs": [
        {
          "output_type": "stream",
          "name": "stdout",
          "text": [
            "Cheddar\n",
            "Edam\n",
            "Gouda\n"
          ]
        }
      ]
    },
    {
      "cell_type": "markdown",
      "metadata": {
        "id": "bgQ6fRCtT8xf"
      },
      "source": [
        "Isso funciona bem se você precisa apenas ler os elementos da lista. Mas se você quer escrever ou atualizar os elementos, você precisa dos índices. Uma forma comum de fazer isso é combinar as funções integradas `range` e `len`:"
      ]
    },
    {
      "cell_type": "code",
      "metadata": {
        "id": "K6lnrA4fT8xf"
      },
      "source": [
        "for i in range(len(numbers)):\n",
        "    numbers[i] = numbers[i] * 2"
      ],
      "execution_count": 9,
      "outputs": []
    },
    {
      "cell_type": "markdown",
      "metadata": {
        "id": "SY43cby2T8xf"
      },
      "source": [
        "Este _loop_ percorre a lista e atualiza cada elemento. `len` retorna o número de elementos na lista. `range` retorna uma lista de índices de `0` a `n-1`, em que `n` é o comprimento da lista. Cada vez que passa pelo _loop_, `i` recebe o índice do próximo elemento. A instrução de atribuição no corpo usa `i` para ler o valor antigo do elemento e atribuir o novo valor.\n",
        "\n",
        "Um _loop_ `for` que passe por uma lista vazia nunca executa o corpo:"
      ]
    },
    {
      "cell_type": "code",
      "metadata": {
        "id": "K9TIdP_iT8xf"
      },
      "source": [
        "for x in []:\n",
        "    print('This never happens.')"
      ],
      "execution_count": 10,
      "outputs": []
    },
    {
      "cell_type": "markdown",
      "metadata": {
        "id": "DCPgzin4T8xg"
      },
      "source": [
        "Apesar de uma lista poder conter outra lista, a lista aninhada ainda conta como um único elemento. O comprimento desta lista é quatro:"
      ]
    },
    {
      "cell_type": "code",
      "metadata": {
        "id": "8Qm7-UpOT8xg",
        "outputId": "ab424ad4-8e45-4984-b3e2-4d45eae9ee76",
        "colab": {
          "base_uri": "https://localhost:8080/"
        }
      },
      "source": [
        "len(['spam', 1, ['Brie', 'Roquefort', 'Pol le Veq'], [1, 2, 3]])"
      ],
      "execution_count": 11,
      "outputs": [
        {
          "output_type": "execute_result",
          "data": {
            "text/plain": [
              "4"
            ]
          },
          "metadata": {},
          "execution_count": 11
        }
      ]
    },
    {
      "cell_type": "markdown",
      "metadata": {
        "id": "QxIk4h4tT8xg"
      },
      "source": [
        "## 10.4 - Operações com listas\n",
        "\n",
        "O operador `+` concatena listas:"
      ]
    },
    {
      "cell_type": "code",
      "metadata": {
        "id": "ZWgcqRbdT8xg",
        "outputId": "d5dc1635-b341-4022-d172-860b742272c1",
        "colab": {
          "base_uri": "https://localhost:8080/"
        }
      },
      "source": [
        "a = [1, 2, 3]\n",
        "b = [4, 5, 6]\n",
        "c = a + b\n",
        "c"
      ],
      "execution_count": 12,
      "outputs": [
        {
          "output_type": "execute_result",
          "data": {
            "text/plain": [
              "[1, 2, 3, 4, 5, 6]"
            ]
          },
          "metadata": {},
          "execution_count": 12
        }
      ]
    },
    {
      "cell_type": "markdown",
      "metadata": {
        "id": "HEnomWP4T8xg"
      },
      "source": [
        "O operador `*` repete a lista um dado número de vezes:"
      ]
    },
    {
      "cell_type": "code",
      "metadata": {
        "id": "A3Dg824YT8xh",
        "outputId": "6050ec37-7f4b-4578-9583-b82ef25af8c8",
        "colab": {
          "base_uri": "https://localhost:8080/"
        }
      },
      "source": [
        "[0] * 4"
      ],
      "execution_count": 13,
      "outputs": [
        {
          "output_type": "execute_result",
          "data": {
            "text/plain": [
              "[0, 0, 0, 0]"
            ]
          },
          "metadata": {},
          "execution_count": 13
        }
      ]
    },
    {
      "cell_type": "code",
      "metadata": {
        "id": "tR-a0qhWT8xh",
        "outputId": "7fa5757f-f1dd-4573-89d5-b0725b0af726",
        "colab": {
          "base_uri": "https://localhost:8080/"
        }
      },
      "source": [
        "[1, 2, 3] * 3"
      ],
      "execution_count": 14,
      "outputs": [
        {
          "output_type": "execute_result",
          "data": {
            "text/plain": [
              "[1, 2, 3, 1, 2, 3, 1, 2, 3]"
            ]
          },
          "metadata": {},
          "execution_count": 14
        }
      ]
    },
    {
      "cell_type": "markdown",
      "metadata": {
        "id": "oEt-rOV4T8xh"
      },
      "source": [
        "O primeiro exemplo repete `[0]` quatro vezes. O segundo exemplo repete a lista `[1, 2, 3]` três vezes.\n",
        "\n",
        "## 10.5 - Fatias de listas\n",
        "\n",
        "O operador de fatiamento também funciona com listas:"
      ]
    },
    {
      "cell_type": "code",
      "metadata": {
        "id": "jQgizVqmT8xh",
        "outputId": "631be3c6-1f97-4e1b-892a-02f437a94ce5",
        "colab": {
          "base_uri": "https://localhost:8080/"
        }
      },
      "source": [
        "t = ['a', 'b', 'c', 'd', 'e', 'f']\n",
        "t[1 : 3]"
      ],
      "execution_count": 15,
      "outputs": [
        {
          "output_type": "execute_result",
          "data": {
            "text/plain": [
              "['b', 'c']"
            ]
          },
          "metadata": {},
          "execution_count": 15
        }
      ]
    },
    {
      "cell_type": "code",
      "metadata": {
        "id": "Kkz2VwcLT8xh",
        "outputId": "b4ffd715-fae2-44fc-e17a-a13cfbe25f8f",
        "colab": {
          "base_uri": "https://localhost:8080/"
        }
      },
      "source": [
        "t[: 4]"
      ],
      "execution_count": 16,
      "outputs": [
        {
          "output_type": "execute_result",
          "data": {
            "text/plain": [
              "['a', 'b', 'c', 'd']"
            ]
          },
          "metadata": {},
          "execution_count": 16
        }
      ]
    },
    {
      "cell_type": "code",
      "metadata": {
        "id": "TRhOEysWT8xi",
        "outputId": "acb7ef9a-6817-470e-be4a-301b62f12241",
        "colab": {
          "base_uri": "https://localhost:8080/"
        }
      },
      "source": [
        "t[3 :]"
      ],
      "execution_count": 17,
      "outputs": [
        {
          "output_type": "execute_result",
          "data": {
            "text/plain": [
              "['d', 'e', 'f']"
            ]
          },
          "metadata": {},
          "execution_count": 17
        }
      ]
    },
    {
      "cell_type": "markdown",
      "metadata": {
        "id": "x-y5reEIT8xi"
      },
      "source": [
        "Se você omitir o primeiro índice, a fatia começa no início. Se você omitir o segundo, a fatia vai até o final. Se você omitir ambos, a fatia é uma cópia da lista inteira."
      ]
    },
    {
      "cell_type": "code",
      "metadata": {
        "id": "jMn6aKMIT8xi",
        "outputId": "a9a21d4a-9ad4-418b-b4e4-fcb2a046ac00",
        "colab": {
          "base_uri": "https://localhost:8080/"
        }
      },
      "source": [
        "t[:]"
      ],
      "execution_count": 18,
      "outputs": [
        {
          "output_type": "execute_result",
          "data": {
            "text/plain": [
              "['a', 'b', 'c', 'd', 'e', 'f']"
            ]
          },
          "metadata": {},
          "execution_count": 18
        }
      ]
    },
    {
      "cell_type": "markdown",
      "metadata": {
        "id": "cruT88pqT8xi"
      },
      "source": [
        "Como as listas são mutáveis, pode ser útil fazer uma cópia antes de executar operações que as alterem.\n",
        "\n",
        "Um operador de fatia à esquerda de uma atribuição pode atualizar vários elementos:"
      ]
    },
    {
      "cell_type": "code",
      "metadata": {
        "id": "XU04rUw2T8xi",
        "outputId": "1ce2a4ac-fd22-4cf2-9399-2a3b09d1b0bc",
        "colab": {
          "base_uri": "https://localhost:8080/"
        }
      },
      "source": [
        "t = ['a', 'b', 'c', 'd', 'e', 'f']\n",
        "t[1:3] = ['x', 'y']\n",
        "t"
      ],
      "execution_count": 19,
      "outputs": [
        {
          "output_type": "execute_result",
          "data": {
            "text/plain": [
              "['a', 'x', 'y', 'd', 'e', 'f']"
            ]
          },
          "metadata": {},
          "execution_count": 19
        }
      ]
    },
    {
      "cell_type": "markdown",
      "metadata": {
        "id": "2be9UfA7T8xj"
      },
      "source": [
        "## 10.6 - Métodos de listas\n",
        "\n",
        "O Python oferece métodos que operam em listas. Por exemplo, `append` adiciona um novo elemento ao fim de uma lista:"
      ]
    },
    {
      "cell_type": "code",
      "metadata": {
        "id": "cUjk3vlfT8xj",
        "outputId": "4b552fa8-3649-481a-d73b-69b27f554ac7",
        "colab": {
          "base_uri": "https://localhost:8080/"
        }
      },
      "source": [
        "t = ['a', 'b', 'c']\n",
        "t.append('d')\n",
        "t"
      ],
      "execution_count": 20,
      "outputs": [
        {
          "output_type": "execute_result",
          "data": {
            "text/plain": [
              "['a', 'b', 'c', 'd']"
            ]
          },
          "metadata": {},
          "execution_count": 20
        }
      ]
    },
    {
      "cell_type": "markdown",
      "metadata": {
        "id": "1s2Zv7LET8xj"
      },
      "source": [
        "`extend` toma uma lista como argumento e adiciona todos os elementos:"
      ]
    },
    {
      "cell_type": "code",
      "metadata": {
        "id": "5oDowoaQT8xj",
        "outputId": "865e03d2-7f62-48ba-fdea-0ad9df64415d",
        "colab": {
          "base_uri": "https://localhost:8080/"
        }
      },
      "source": [
        "t1 = ['a', 'b', 'c']\n",
        "t2 = ['d', 'e']\n",
        "t1.extend(t2)\n",
        "t1"
      ],
      "execution_count": 21,
      "outputs": [
        {
          "output_type": "execute_result",
          "data": {
            "text/plain": [
              "['a', 'b', 'c', 'd', 'e']"
            ]
          },
          "metadata": {},
          "execution_count": 21
        }
      ]
    },
    {
      "cell_type": "markdown",
      "metadata": {
        "id": "KEc49odoT8xj"
      },
      "source": [
        "Este exemplo deixa `t2` intocado.\n",
        "\n",
        "`sort` classifica os elementos da lista em ordem ascendente:"
      ]
    },
    {
      "cell_type": "code",
      "metadata": {
        "id": "FEI3YCzVT8xj",
        "outputId": "ddd884a3-8494-4e9f-b312-24ae1c017958",
        "colab": {
          "base_uri": "https://localhost:8080/"
        }
      },
      "source": [
        "t = ['d', 'c', 'e', 'b', 'a']\n",
        "t.sort()\n",
        "t"
      ],
      "execution_count": 22,
      "outputs": [
        {
          "output_type": "execute_result",
          "data": {
            "text/plain": [
              "['a', 'b', 'c', 'd', 'e']"
            ]
          },
          "metadata": {},
          "execution_count": 22
        }
      ]
    },
    {
      "cell_type": "markdown",
      "metadata": {
        "id": "x6nCthC_T8xj"
      },
      "source": [
        "A maior parte dos métodos de listas são nulos; eles alteram a lista e retornam `None`. Se você escrever `t = t.sort ()` por acidente, ficará desapontado com o resultado."
      ]
    },
    {
      "cell_type": "markdown",
      "metadata": {
        "id": "Rn84HkvBT8xk"
      },
      "source": [
        "## 10.7 - Mapeamento, filtragem e redução\n",
        "\n",
        "Para somar o total de todos os números em uma lista, você pode usar um _loop_ como esse:"
      ]
    },
    {
      "cell_type": "code",
      "metadata": {
        "id": "nHAIAqWFT8xk",
        "outputId": "b3c08b15-c0a8-4fa2-8127-4b10b3743ba5",
        "colab": {
          "base_uri": "https://localhost:8080/"
        }
      },
      "source": [
        "def soma_todos(t):\n",
        "    total = 0\n",
        "    for x in t:\n",
        "        total += x\n",
        "    return total\n",
        "print(numbers)\n",
        "soma_todos(numbers)"
      ],
      "execution_count": 23,
      "outputs": [
        {
          "output_type": "stream",
          "name": "stdout",
          "text": [
            "[84, 10]\n"
          ]
        },
        {
          "output_type": "execute_result",
          "data": {
            "text/plain": [
              "94"
            ]
          },
          "metadata": {},
          "execution_count": 23
        }
      ]
    },
    {
      "cell_type": "markdown",
      "metadata": {
        "id": "wL36qZckT8xk"
      },
      "source": [
        "`total` é inicializado com `0`. Cada vez que o programa passa pelo _loop_, `x` recebe um elemento da lista. O operador `+=` oferece uma forma curta de atualizar uma variável. Esta instrução de **atribuição aumentada**,"
      ]
    },
    {
      "cell_type": "markdown",
      "metadata": {
        "id": "zVHwexYBT8xk"
      },
      "source": [
        "```python\n",
        "total += x\n",
        "```"
      ]
    },
    {
      "cell_type": "markdown",
      "metadata": {
        "id": "n7aIb71KT8xk"
      },
      "source": [
        "é equivalente a"
      ]
    },
    {
      "cell_type": "markdown",
      "metadata": {
        "id": "MA1qra-kT8xk"
      },
      "source": [
        "```python\n",
        "total = total + x\n",
        "```"
      ]
    },
    {
      "cell_type": "markdown",
      "metadata": {
        "id": "kUuKJDOzT8xk"
      },
      "source": [
        "No decorrer da execução do _loop_, `total` acumula a soma dos elementos; uma variável usada desta forma às vezes é chamada de **acumuladora**.\n",
        "\n",
        "Somar todos elementos de uma lista é uma operação tão comum que o Python a oferece como uma função integrada, `sum`:"
      ]
    },
    {
      "cell_type": "code",
      "metadata": {
        "id": "P6fyd7gqT8xl",
        "outputId": "ee9954eb-3d1f-4ae7-8726-c12c1f5b8c38",
        "colab": {
          "base_uri": "https://localhost:8080/"
        }
      },
      "source": [
        "t = [1, 2, 3]\n",
        "sum(t)"
      ],
      "execution_count": 24,
      "outputs": [
        {
          "output_type": "execute_result",
          "data": {
            "text/plain": [
              "6"
            ]
          },
          "metadata": {},
          "execution_count": 24
        }
      ]
    },
    {
      "cell_type": "markdown",
      "metadata": {
        "id": "DM4UWKjMT8xl"
      },
      "source": [
        "Uma operação como essa, que combina uma sequência de elementos em um único valor, às vezes é chamada de **redução**.\n",
        "\n",
        "Algumas vezes você quer percorrer uma lista enquanto cria outra. Por exemplo, a função seguinte recebe uma lista de strings e retorna uma nova lista que contém strings com letras maiúsculas:"
      ]
    },
    {
      "cell_type": "code",
      "metadata": {
        "id": "9coBHxOXT8xl",
        "outputId": "fea9b9e5-b028-4c61-c578-cce7e8e55ab6",
        "colab": {
          "base_uri": "https://localhost:8080/"
        }
      },
      "source": [
        "def capitalize_todas(t):\n",
        "    res = []\n",
        "    for s in t:\n",
        "        res.append(s.capitalize())\n",
        "    return res\n",
        "capitalize_todas(['spam','eggs'])"
      ],
      "execution_count": 25,
      "outputs": [
        {
          "output_type": "execute_result",
          "data": {
            "text/plain": [
              "['Spam', 'Eggs']"
            ]
          },
          "metadata": {},
          "execution_count": 25
        }
      ]
    },
    {
      "cell_type": "markdown",
      "metadata": {
        "id": "wD8C4lEyT8xl"
      },
      "source": [
        "`res` é inicializado com uma lista vazia; cada vez que o programa passa pelo _loop_, acrescentamos o próximo elemento. Então `res` é outro tipo de acumulador.\n",
        "\n",
        "Uma operação como `capitalize_todas` às vezes é chamada de **mapeamento** porque ela “mapeia” uma função (nesse caso o método `capitalize`) sobre cada um dos elementos em uma sequência.\n",
        "\n",
        "Outra operação comum é selecionar alguns dos elementos de uma lista e retornar uma sublista. Por exemplo, a função seguinte recebe uma lista de strings e retorna uma lista que contém apenas strings em letra maiúscula:"
      ]
    },
    {
      "cell_type": "code",
      "metadata": {
        "id": "kUDMN7-tT8xl",
        "outputId": "27023316-726f-4a54-ab5d-05ef3d5076bd",
        "colab": {
          "base_uri": "https://localhost:8080/"
        }
      },
      "source": [
        "def soh_maiusculas(t):\n",
        "    res = []\n",
        "    for s in t:\n",
        "        if s.isupper():\n",
        "            res.append(s)\n",
        "    return res\n",
        "print(cheeses)\n",
        "soh_maiusculas(cheeses+['SPAM','EGGS'])"
      ],
      "execution_count": 26,
      "outputs": [
        {
          "output_type": "stream",
          "name": "stdout",
          "text": [
            "['Cheddar', 'Edam', 'Gouda']\n"
          ]
        },
        {
          "output_type": "execute_result",
          "data": {
            "text/plain": [
              "['SPAM', 'EGGS']"
            ]
          },
          "metadata": {},
          "execution_count": 26
        }
      ]
    },
    {
      "cell_type": "markdown",
      "metadata": {
        "id": "TZGPM6X4T8xl"
      },
      "source": [
        "`isupper` é um método de string que retorna `True` se a string contiver apenas letras maiúsculas.\n",
        "\n",
        "Uma operação como `soh_maiusculas` é chamada de **filtragem** porque filtra alguns dos elementos e desconsidera outros.\n",
        "\n",
        "As operações de lista mais comuns podem ser expressas como uma combinação de mapeamento, filtragem e redução."
      ]
    },
    {
      "cell_type": "markdown",
      "metadata": {
        "id": "GqMsT6xmT8xm"
      },
      "source": [
        "## 10.8 - Como excluir elementos\n",
        "\n",
        "Há várias formas de excluir elementos de uma lista. Se souber o índice do elemento que procura, você pode usar `pop`:"
      ]
    },
    {
      "cell_type": "code",
      "metadata": {
        "id": "Rl8GCgsfT8xm",
        "outputId": "b70cf271-6f78-499c-ece3-1bd2339f3996",
        "colab": {
          "base_uri": "https://localhost:8080/"
        }
      },
      "source": [
        "t = ['a', 'b', 'c']\n",
        "x = t.pop(1)\n",
        "t"
      ],
      "execution_count": 27,
      "outputs": [
        {
          "output_type": "execute_result",
          "data": {
            "text/plain": [
              "['a', 'c']"
            ]
          },
          "metadata": {},
          "execution_count": 27
        }
      ]
    },
    {
      "cell_type": "code",
      "metadata": {
        "id": "u5xMb0d0T8xm",
        "outputId": "236f53c7-f077-4062-8573-235fb23aa226",
        "colab": {
          "base_uri": "https://localhost:8080/",
          "height": 35
        }
      },
      "source": [
        "x"
      ],
      "execution_count": 28,
      "outputs": [
        {
          "output_type": "execute_result",
          "data": {
            "application/vnd.google.colaboratory.intrinsic+json": {
              "type": "string"
            },
            "text/plain": [
              "'b'"
            ]
          },
          "metadata": {},
          "execution_count": 28
        }
      ]
    },
    {
      "cell_type": "markdown",
      "metadata": {
        "id": "9L8whqd3T8xm"
      },
      "source": [
        "`pop` altera a lista e retorna o elemento que foi excluído. Se você não incluir um índice, ele exclui e retorna o último elemento.\n",
        "\n",
        "Se não precisar do valor removido, você pode usar a instrução `del`:"
      ]
    },
    {
      "cell_type": "code",
      "metadata": {
        "id": "0PE0kpAoT8xm",
        "outputId": "aded9fa9-cc5e-4dba-ccd3-93dee589ffbc",
        "colab": {
          "base_uri": "https://localhost:8080/"
        }
      },
      "source": [
        "t = ['a', 'b', 'c']\n",
        "del t[1]\n",
        "t"
      ],
      "execution_count": 29,
      "outputs": [
        {
          "output_type": "execute_result",
          "data": {
            "text/plain": [
              "['a', 'c']"
            ]
          },
          "metadata": {},
          "execution_count": 29
        }
      ]
    },
    {
      "cell_type": "markdown",
      "metadata": {
        "id": "ESorb7zvT8xm"
      },
      "source": [
        "Se souber o elemento que quer excluir (mas não o índice), você pode usar `remove`:"
      ]
    },
    {
      "cell_type": "code",
      "metadata": {
        "id": "WhiPm4q5T8xm",
        "outputId": "d7bc78cb-3f27-4bae-f659-6235ed305c53",
        "colab": {
          "base_uri": "https://localhost:8080/"
        }
      },
      "source": [
        "t = ['a', 'b', 'c']\n",
        "t.remove('b')\n",
        "t"
      ],
      "execution_count": 30,
      "outputs": [
        {
          "output_type": "execute_result",
          "data": {
            "text/plain": [
              "['a', 'c']"
            ]
          },
          "metadata": {},
          "execution_count": 30
        }
      ]
    },
    {
      "cell_type": "markdown",
      "metadata": {
        "id": "H_2KzM3qT8xn"
      },
      "source": [
        "O valor devolvido por `remove` é `None`.\n",
        "\n",
        "Para remover mais de um elemento, você pode usar `del` com um índice de fatia:"
      ]
    },
    {
      "cell_type": "code",
      "metadata": {
        "id": "25jCsnHJT8xn",
        "outputId": "61b3b9bd-0bd8-4e3e-b016-6f10fa616c2c",
        "colab": {
          "base_uri": "https://localhost:8080/"
        }
      },
      "source": [
        "t = ['a', 'b', 'c', 'd', 'e', 'f']\n",
        "del t[1:5]\n",
        "t"
      ],
      "execution_count": 31,
      "outputs": [
        {
          "output_type": "execute_result",
          "data": {
            "text/plain": [
              "['a', 'f']"
            ]
          },
          "metadata": {},
          "execution_count": 31
        }
      ]
    },
    {
      "cell_type": "markdown",
      "metadata": {
        "id": "cX_u73kkT8xn"
      },
      "source": [
        "Como sempre, a fatia seleciona todos os elementos até, mas não incluindo, o segundo índice."
      ]
    },
    {
      "cell_type": "markdown",
      "metadata": {
        "id": "b9HUmLAeT8xn"
      },
      "source": [
        "## 10.9 - Listas e strings\n",
        "\n",
        "Uma string é uma sequência de caracteres e uma lista é uma sequência de valores, mas uma lista de caracteres não é a mesma coisa que uma string. Para converter uma string em uma lista de caracteres, você pode usar `list`:"
      ]
    },
    {
      "cell_type": "code",
      "metadata": {
        "id": "5PgT8i4AT8xn",
        "outputId": "bc5e03c4-9711-42ad-f4cb-1151fb0f01f1",
        "colab": {
          "base_uri": "https://localhost:8080/"
        }
      },
      "source": [
        "s = 'spam'\n",
        "t = list(s)\n",
        "t"
      ],
      "execution_count": 32,
      "outputs": [
        {
          "output_type": "execute_result",
          "data": {
            "text/plain": [
              "['s', 'p', 'a', 'm']"
            ]
          },
          "metadata": {},
          "execution_count": 32
        }
      ]
    },
    {
      "cell_type": "markdown",
      "metadata": {
        "id": "0WY50FWRT8xn"
      },
      "source": [
        "Como `list` é o nome de uma função integrada, você deve evitar usá-lo como nome de variável. Também evito usar `l` porque parece demais com 1. É por isso que uso `t`.\n",
        "\n",
        "A função `list` quebra uma string em letras individuais. Se você quiser quebrar uma string em palavras, você pode usar o método `split`:"
      ]
    },
    {
      "cell_type": "code",
      "metadata": {
        "id": "Uq9PwJDLT8xn",
        "outputId": "dee4539c-8e2b-4140-8233-7e3f91e0078c",
        "colab": {
          "base_uri": "https://localhost:8080/"
        }
      },
      "source": [
        "s = 'pega o beco'\n",
        "t = s.split()\n",
        "t"
      ],
      "execution_count": 2,
      "outputs": [
        {
          "output_type": "execute_result",
          "data": {
            "text/plain": [
              "['pega', 'o', 'beco']"
            ]
          },
          "metadata": {},
          "execution_count": 2
        }
      ]
    },
    {
      "cell_type": "markdown",
      "metadata": {
        "id": "dPhMEp8MT8xo"
      },
      "source": [
        "Um argumento opcional chamado `delimitador` especifica quais caracteres podem ser usados para demonstrar os limites das palavras. O exemplo seguinte usa um hífen como **delimitador**:"
      ]
    },
    {
      "cell_type": "code",
      "metadata": {
        "id": "2eoYv2C6T8xo",
        "outputId": "3b5650e7-5bc1-4932-85b3-aefc61bf9feb",
        "colab": {
          "base_uri": "https://localhost:8080/"
        }
      },
      "source": [
        "s = 'spam-spam-spam'\n",
        "delimitador = '-'\n",
        "t = s.split(delimitador)\n",
        "t"
      ],
      "execution_count": 4,
      "outputs": [
        {
          "output_type": "execute_result",
          "data": {
            "text/plain": [
              "['spam', 'spam', 'spam']"
            ]
          },
          "metadata": {},
          "execution_count": 4
        }
      ]
    },
    {
      "cell_type": "markdown",
      "metadata": {
        "id": "Gi5t7nTHT8xo"
      },
      "source": [
        "`join` é o contrário de `split`. Ele toma uma lista de strings e concatena os elementos. `join` é um método de string, então é preciso invocá-lo no delimitador e passar a lista como parâmetro:"
      ]
    },
    {
      "cell_type": "code",
      "metadata": {
        "id": "RKDi97WXT8xo",
        "outputId": "4b072056-9a1a-4692-8ae9-a260e3fd81f4",
        "colab": {
          "base_uri": "https://localhost:8080/",
          "height": 35
        }
      },
      "source": [
        "t = ['pega', 'o', 'beco']\n",
        "delimitador = ' '\n",
        "s = delimitador.join(t)\n",
        "s"
      ],
      "execution_count": 6,
      "outputs": [
        {
          "output_type": "execute_result",
          "data": {
            "application/vnd.google.colaboratory.intrinsic+json": {
              "type": "string"
            },
            "text/plain": [
              "'pega o beco'"
            ]
          },
          "metadata": {},
          "execution_count": 6
        }
      ]
    },
    {
      "cell_type": "markdown",
      "metadata": {
        "id": "Ndl03Ol3T8xo"
      },
      "source": [
        "Nesse caso, o delimitador é um caractere de espaço, então `join` coloca um espaço entre as palavras. Para concatenar strings sem espaços, você pode usar a string vazia `''`, como delimitador.\n",
        "\n",
        "<a id=\"sec:10.10\"></a>\n",
        "## 10.10 - Objetos e valores\n",
        "\n",
        "Se executarmos essas instruções de atribuição:"
      ]
    },
    {
      "cell_type": "code",
      "metadata": {
        "id": "Cm_-O8gkT8xo"
      },
      "source": [
        "a = 'banana'\n",
        "b = 'banana'"
      ],
      "execution_count": 7,
      "outputs": []
    },
    {
      "cell_type": "markdown",
      "metadata": {
        "id": "oLCouambT8xo"
      },
      "source": [
        "Sabemos que `a` e `b` se referem a uma string, mas não sabemos se elas se referem à mesma string. Há dois estados possíveis, mostrados na Figura 10.2.\n",
        "\n",
        "![Figura 10.2 – Diagramas de estado possíveis com duas variáveis.](https://github.com/PenseAllen/PensePython2e/raw/master/fig/tnkp_1002.png)\n",
        "\n",
        "<br>_Figura 10.2 – Diagramas de estado possíveis com duas variáveis._\n",
        "\n",
        "Em um caso, `a` e `b` se referem a dois **objetos** diferentes que têm o mesmo valor. No segundo caso, elas se referem ao mesmo objeto.\n",
        "\n",
        "Para verificar se duas variáveis se referem ao mesmo objeto, você pode usar o operador `is`:"
      ]
    },
    {
      "cell_type": "code",
      "metadata": {
        "id": "WUJgzq92T8xp",
        "outputId": "b099f782-9f34-4aa6-d384-302c878e6cb0",
        "colab": {
          "base_uri": "https://localhost:8080/"
        }
      },
      "source": [
        "a is b"
      ],
      "execution_count": 8,
      "outputs": [
        {
          "output_type": "execute_result",
          "data": {
            "text/plain": [
              "True"
            ]
          },
          "metadata": {},
          "execution_count": 8
        }
      ]
    },
    {
      "cell_type": "markdown",
      "metadata": {
        "id": "W87X-gK8T8xp"
      },
      "source": [
        "Nesse exemplo, o Python criou apenas um objeto de string e tanto `a` quanto `b` se referem a ele. Mas quando você cria duas listas, você tem dois objetos:"
      ]
    },
    {
      "cell_type": "code",
      "metadata": {
        "id": "dVM2fLgTT8xp",
        "outputId": "695ec7ce-166a-4b99-bb8e-150c6f9ecd5c",
        "colab": {
          "base_uri": "https://localhost:8080/"
        }
      },
      "source": [
        "a = [1, 2, 3]\n",
        "b = [1, 2, 3]\n",
        "a is b"
      ],
      "execution_count": 9,
      "outputs": [
        {
          "output_type": "execute_result",
          "data": {
            "text/plain": [
              "False"
            ]
          },
          "metadata": {},
          "execution_count": 9
        }
      ]
    },
    {
      "cell_type": "markdown",
      "metadata": {
        "id": "-HBUNwAnT8xp"
      },
      "source": [
        "Então o diagrama de estado fica igual ao da Figura 10.3.\n",
        "\n",
        "![Figura 10.3 – Diagrama de estado com variáveis associadas a listas distintas, de mesmo valor.](https://github.com/PenseAllen/PensePython2e/raw/master/fig/tnkp_1003.png)\n",
        "\n",
        "<br>_Figura 10.3 – Diagrama de estado com variáveis associadas a listas distintas, de mesmo valor._"
      ]
    },
    {
      "cell_type": "markdown",
      "metadata": {
        "id": "6J5sUG43T8xp"
      },
      "source": [
        "Nesse caso, diríamos que as duas listas são **equivalentes**, porque elas têm os mesmos elementos, mas não **idênticas**, porque elas não são o mesmo objeto. Se dois objetos forem idênticos, eles também são equivalentes, mas se eles forem equivalentes, não são necessariamente idênticos.\n",
        "\n",
        "Até agora, temos usado “objeto” e “valor” de forma intercambiável, mas é mais exato dizer que um objeto tem um valor. Se avaliar `[1, 2, 3]`, você tem um objeto de lista cujo valor é uma sequência de números inteiros. Se outra lista tem os mesmos elementos, dizemos que tem o mesmo valor, mas não é o mesmo objeto."
      ]
    },
    {
      "cell_type": "markdown",
      "metadata": {
        "id": "eZlsXzhdT8xp"
      },
      "source": [
        "## 10.11 - <i>Alias</i>\n",
        "\n",
        "Se `a` se refere a um objeto e você atribui `b = a`, então ambas as variáveis se referem ao mesmo objeto."
      ]
    },
    {
      "cell_type": "code",
      "metadata": {
        "id": "CqV69bCVT8xq",
        "outputId": "1d2a8731-b2b6-4dab-98cb-bae50b3f4daa",
        "colab": {
          "base_uri": "https://localhost:8080/"
        }
      },
      "source": [
        "a = [1, 2, 3]\n",
        "b = a\n",
        "b is a"
      ],
      "execution_count": 10,
      "outputs": [
        {
          "output_type": "execute_result",
          "data": {
            "text/plain": [
              "True"
            ]
          },
          "metadata": {},
          "execution_count": 10
        }
      ]
    },
    {
      "cell_type": "markdown",
      "metadata": {
        "id": "2LmkzVXsT8xq"
      },
      "source": [
        "O diagrama de estado ficará igual à Figura 10.4.\n",
        "\n",
        "![Figura 10.4 – Diagrama de estado com duas variáveis associadas à mesma lista.](https://github.com/PenseAllen/PensePython2e/raw/master/fig/tnkp_1004.png)\n",
        "<br>_Figura 10.4 – Diagrama de estado com duas variáveis associadas à mesma lista._\n",
        "\n",
        "A associação de uma variável com um objeto é chamada de **referência**. Neste exemplo, há duas referências ao mesmo objeto.\n",
        "\n",
        "Um objeto com mais de uma referência tem mais de um nome, então dizemos que o objeto tem um **_alias_**.\n",
        "\n",
        "Se o objeto com *alias* é mutável, alterações feitas em um *alias* afetam o outro também."
      ]
    },
    {
      "cell_type": "code",
      "metadata": {
        "id": "LHQpIqxwT8xq",
        "outputId": "083a70b7-114a-4dac-8677-9d8caa59ee25",
        "colab": {
          "base_uri": "https://localhost:8080/"
        }
      },
      "source": [
        "b[0] = 42\n",
        "a"
      ],
      "execution_count": 11,
      "outputs": [
        {
          "output_type": "execute_result",
          "data": {
            "text/plain": [
              "[42, 2, 3]"
            ]
          },
          "metadata": {},
          "execution_count": 11
        }
      ]
    },
    {
      "cell_type": "markdown",
      "metadata": {
        "id": "BrN9wRLAT8xq"
      },
      "source": [
        "Apesar de esse comportamento poder ser útil, ele é passível de erros. Em geral, é mais seguro evitar usar *alias* ao trabalhar com objetos mutáveis.\n",
        "\n",
        "Para objetos imutáveis como strings, usar *alias* não é um problema tão grande. Neste exemplo:"
      ]
    },
    {
      "cell_type": "code",
      "metadata": {
        "id": "0ucb5-erT8xq"
      },
      "source": [
        "a = 'banana'\n",
        "b = 'banana'"
      ],
      "execution_count": 12,
      "outputs": []
    },
    {
      "cell_type": "markdown",
      "metadata": {
        "id": "NkUecLfIT8xq"
      },
      "source": [
        "Quase nunca faz diferença se `a` e `b` se referem à mesma string ou não."
      ]
    },
    {
      "cell_type": "markdown",
      "metadata": {
        "id": "Z50X3UeVT8xq"
      },
      "source": [
        "## 10.12 - Argumentos de listas\n",
        "\n",
        "Ao passar uma lista a uma função, a função recebe uma referência à lista. Se a função alterar a lista, quem faz a chamada vê a mudança. Por exemplo, `delete_head` remove o primeiro elemento de uma lista:"
      ]
    },
    {
      "cell_type": "code",
      "metadata": {
        "id": "TKZaLogUT8xq"
      },
      "source": [
        "def delete_head(t):\n",
        "    del t[0]"
      ],
      "execution_count": 13,
      "outputs": []
    },
    {
      "cell_type": "markdown",
      "metadata": {
        "id": "0Cj82rptT8xr"
      },
      "source": [
        "Ela é usada assim:"
      ]
    },
    {
      "cell_type": "code",
      "metadata": {
        "id": "rHuROah5T8xr",
        "outputId": "7d0cab35-3e75-4d50-9faf-e7e8edf880f9",
        "colab": {
          "base_uri": "https://localhost:8080/"
        }
      },
      "source": [
        "letters = ['a', 'b', 'c']\n",
        "delete_head(letters)\n",
        "letters"
      ],
      "execution_count": 14,
      "outputs": [
        {
          "output_type": "execute_result",
          "data": {
            "text/plain": [
              "['b', 'c']"
            ]
          },
          "metadata": {},
          "execution_count": 14
        }
      ]
    },
    {
      "cell_type": "markdown",
      "metadata": {
        "id": "1PM0ZhUaT8xr"
      },
      "source": [
        "O parâmetro `t` e a variável `letters` são _alias_ para o mesmo objeto. O diagrama da pilha fica igual ao da Figura 10.5.\n",
        "\n",
        "![Figura 10.5 – Diagrama da pilha: `__main__` e `delete_head` compartilham referências à mesma lista.](https://github.com/PenseAllen/PensePython2e/raw/master/fig/tnkp_1005.png)\n",
        "\n",
        "<br>_Figura 10.5 – Diagrama da pilha:_ `__main__` _e_ `delete_head` _compartilham referências à mesma lista._"
      ]
    },
    {
      "cell_type": "markdown",
      "metadata": {
        "id": "9xBLvGv3T8xr"
      },
      "source": [
        "Como a lista é compartilhada por dois frames, desenhei-a entre eles.\n",
        "\n",
        "É importante distinguir entre operações que alteram listas e operações que criam novas listas. Por exemplo, o método `append` altera a lista, mas o operador `+` cria uma nova lista:"
      ]
    },
    {
      "cell_type": "code",
      "metadata": {
        "id": "RG5ILm-TT8xr",
        "outputId": "c3ea374c-f854-41db-c11d-30f379a01a83",
        "colab": {
          "base_uri": "https://localhost:8080/"
        }
      },
      "source": [
        "t1 = [1, 2]\n",
        "t2 = t1.append(3)\n",
        "t1"
      ],
      "execution_count": 15,
      "outputs": [
        {
          "output_type": "execute_result",
          "data": {
            "text/plain": [
              "[1, 2, 3]"
            ]
          },
          "metadata": {},
          "execution_count": 15
        }
      ]
    },
    {
      "cell_type": "code",
      "metadata": {
        "id": "dRlAU-nhT8xs"
      },
      "source": [
        "t2"
      ],
      "execution_count": 16,
      "outputs": []
    },
    {
      "cell_type": "markdown",
      "metadata": {
        "id": "FKPUo13UT8xs"
      },
      "source": [
        "Note que `append` altera a lista e retorna `None` (na realidade, o console do Python omite o `None` da saída, mas você pode conferir usando `t2 is None`)."
      ]
    },
    {
      "cell_type": "code",
      "metadata": {
        "id": "GSDVV3QxT8xs",
        "outputId": "9a3fffb4-5570-4660-8a08-9d14c6946f88",
        "colab": {
          "base_uri": "https://localhost:8080/"
        }
      },
      "source": [
        "t3 = t1 + [4]\n",
        "t1"
      ],
      "execution_count": 17,
      "outputs": [
        {
          "output_type": "execute_result",
          "data": {
            "text/plain": [
              "[1, 2, 3]"
            ]
          },
          "metadata": {},
          "execution_count": 17
        }
      ]
    },
    {
      "cell_type": "code",
      "metadata": {
        "id": "RxSX8jzYT8xs",
        "outputId": "479c9fe1-ca9f-4ea6-c61b-5613597ac0b5",
        "colab": {
          "base_uri": "https://localhost:8080/"
        }
      },
      "source": [
        "t3"
      ],
      "execution_count": 18,
      "outputs": [
        {
          "output_type": "execute_result",
          "data": {
            "text/plain": [
              "[1, 2, 3, 4]"
            ]
          },
          "metadata": {},
          "execution_count": 18
        }
      ]
    },
    {
      "cell_type": "code",
      "metadata": {
        "id": "zXkH4KFPT8xs",
        "outputId": "03591afe-185a-48d0-ebd3-1383e574879b",
        "colab": {
          "base_uri": "https://localhost:8080/"
        }
      },
      "source": [
        "t1"
      ],
      "execution_count": 19,
      "outputs": [
        {
          "output_type": "execute_result",
          "data": {
            "text/plain": [
              "[1, 2, 3]"
            ]
          },
          "metadata": {},
          "execution_count": 19
        }
      ]
    },
    {
      "cell_type": "markdown",
      "metadata": {
        "id": "wT20OmpbT8xs"
      },
      "source": [
        "O operador `+` cria uma nova lista e deixa a lista original inalterada.\n",
        "\n",
        "Essa diferença é importante quando você escreve funções que devem alterar listas. Por exemplo, esta função não remove a cabeça de uma lista:"
      ]
    },
    {
      "cell_type": "code",
      "metadata": {
        "id": "PCrfzsT_T8xt"
      },
      "source": [
        "def bad_delete_head(t):\n",
        "    t = t [1: ]    # ERRADO!"
      ],
      "execution_count": 20,
      "outputs": []
    },
    {
      "cell_type": "markdown",
      "metadata": {
        "id": "s4XUM4Z_T8xt"
      },
      "source": [
        "O operador de fatia cria uma nova lista e a atribuição faz `t` se referir a ela, mas isso não afeta quem faz a chamada."
      ]
    },
    {
      "cell_type": "code",
      "metadata": {
        "id": "0pPuLCnAT8xt",
        "outputId": "2f3be858-f2b3-4ffd-baca-3d96f1e3f908",
        "colab": {
          "base_uri": "https://localhost:8080/"
        }
      },
      "source": [
        "t4 = [1, 2, 3]\n",
        "bad_delete_head(t4)\n",
        "t4"
      ],
      "execution_count": 21,
      "outputs": [
        {
          "output_type": "execute_result",
          "data": {
            "text/plain": [
              "[1, 2, 3]"
            ]
          },
          "metadata": {},
          "execution_count": 21
        }
      ]
    },
    {
      "cell_type": "markdown",
      "metadata": {
        "id": "Djb08ZLoT8xt"
      },
      "source": [
        "No início de `bad_delete_head`, `t` e `t4` se referem à mesma lista. No final, `t` se refere a uma nova lista, mas `t4` ainda se refere à lista original, inalterada.\n",
        "\n",
        "Uma alternativa é escrever uma função que crie e retorne uma nova lista. Por exemplo, `tail` retorna tudo, exceto o primeiro elemento de uma lista:"
      ]
    },
    {
      "cell_type": "code",
      "metadata": {
        "id": "1rSkLLEuT8xt"
      },
      "source": [
        "def tail(t):\n",
        "    return t[1:]"
      ],
      "execution_count": 22,
      "outputs": []
    },
    {
      "cell_type": "markdown",
      "metadata": {
        "id": "QOFA81IFT8xt"
      },
      "source": [
        "Esta função deixa a lista original inalterada. Ela é usada assim:"
      ]
    },
    {
      "cell_type": "code",
      "metadata": {
        "id": "BsTgAgv3T8xt",
        "outputId": "1bc10eb8-f219-4cda-84e0-b8d1e58478e3",
        "colab": {
          "base_uri": "https://localhost:8080/"
        }
      },
      "source": [
        "letters = ['a', 'b', 'c']\n",
        "rest = tail(letters)\n",
        "rest"
      ],
      "execution_count": 23,
      "outputs": [
        {
          "output_type": "execute_result",
          "data": {
            "text/plain": [
              "['b', 'c']"
            ]
          },
          "metadata": {},
          "execution_count": 23
        }
      ]
    },
    {
      "cell_type": "markdown",
      "metadata": {
        "id": "EaPPvJU3T8xt"
      },
      "source": [
        "## 10.13 - Depuração"
      ]
    },
    {
      "cell_type": "markdown",
      "metadata": {
        "id": "FcvJqUQMT8xu"
      },
      "source": [
        "O uso descuidado de listas (e de outros objetos mutáveis) pode levar a longas horas de depuração. Aqui estão algumas armadilhas comuns e formas de evitá-las:\n",
        "\n",
        "1- A maior parte dos métodos de listas alteram o argumento e retornam `None`. Isto é o oposto dos métodos de strings, que retornam uma nova string e deixam a original intocada.\n",
        "\n",
        "> Se você está acostumado a escrever código de strings desta forma:"
      ]
    },
    {
      "cell_type": "markdown",
      "metadata": {
        "id": "1EI6ElaaT8xu"
      },
      "source": [
        "```python \n",
        "        word = word.strip()\n",
        "```"
      ]
    },
    {
      "cell_type": "markdown",
      "metadata": {
        "id": "Bc0wNfMvT8xu"
      },
      "source": [
        "> É tentador escrever código de listas como este:"
      ]
    },
    {
      "cell_type": "markdown",
      "metadata": {
        "id": "7R7wPL8UT8xu"
      },
      "source": [
        "```python \n",
        "        t = t.sort()            # ERRADO!\n",
        "```"
      ]
    },
    {
      "cell_type": "markdown",
      "metadata": {
        "id": "d-0GtcxlT8xu"
      },
      "source": [
        "> Como `sort` retorna `None`, a próxima operação que você executar com `t` provavelmente vai falhar.\n",
        "\n",
        "> Antes de usar métodos e operadores de listas, você deve ler a documentação com cuidado e testá-los no modo interativo."
      ]
    },
    {
      "cell_type": "markdown",
      "metadata": {
        "id": "KJJRAroPT8xu"
      },
      "source": [
        "2- Escolha o termo e fique com ele.\n",
        "\n",
        "> Parte do problema com listas é que há muitas formas de fazer coisas com elas. Por exemplo, para remover um elemento de uma lista você pode usar `pop`, `remove`, `del` ou até uma atribuição de fatia.\n",
        "\n",
        "> Para adicionar um elemento você pode usar o método `append` ou o operador `+`. Assumindo que `t` é uma lista e `x` é um elemento da lista, isto está correto:"
      ]
    },
    {
      "cell_type": "markdown",
      "metadata": {
        "id": "w5_RidvgT8xu"
      },
      "source": [
        "```python         \n",
        "        t.append(x)\n",
        "        t = t + [x]\n",
        "        t += [x]\n",
        "```"
      ]
    },
    {
      "cell_type": "markdown",
      "metadata": {
        "id": "vknWBWkhT8xu"
      },
      "source": [
        "> E isto está errado:"
      ]
    },
    {
      "cell_type": "markdown",
      "metadata": {
        "id": "wwB84Tm0T8xu"
      },
      "source": [
        "```python         \n",
        "        t.append([x])          # ERRADO!\n",
        "        t = t.append(x)        # ERRADO!\n",
        "        t + [x]                # ERRADO!\n",
        "        t = t + x              # ERRADO!\n",
        "```"
      ]
    },
    {
      "cell_type": "markdown",
      "metadata": {
        "id": "qOTqMQVQT8xv"
      },
      "source": [
        "> Experimente cada um desses exemplos no modo interativo para conferir se você entendeu o que fazem. Note que apenas o último causa um erro de tempo de execução; os outros três são legais, mas eles fazem a coisa errada."
      ]
    },
    {
      "cell_type": "markdown",
      "metadata": {
        "id": "tQlA4nQsT8xv"
      },
      "source": [
        "3- Faça cópias para evitar o uso de *alias*.\n",
        "\n",
        "> Se quiser usar um método como `sort`, que altera o argumento, mas precisa manter a lista original, você pode fazer uma cópia:"
      ]
    },
    {
      "cell_type": "code",
      "metadata": {
        "id": "eKvPY36CT8xv",
        "outputId": "d405a39b-5ee3-4e54-f0b7-c2c6674e5561",
        "colab": {
          "base_uri": "https://localhost:8080/"
        }
      },
      "source": [
        "t = [3, 1, 2]\n",
        "t2 = t[:]\n",
        "t2.sort()\n",
        "t\n",
        "t2"
      ],
      "execution_count": 24,
      "outputs": [
        {
          "output_type": "execute_result",
          "data": {
            "text/plain": [
              "[1, 2, 3]"
            ]
          },
          "metadata": {},
          "execution_count": 24
        }
      ]
    },
    {
      "cell_type": "markdown",
      "metadata": {
        "id": "oVCEiaPyT8xv"
      },
      "source": [
        "> Neste exemplo você poderia usar também a função integrada `sorted`, que retorna uma nova lista classificada e deixa a original intocada."
      ]
    },
    {
      "cell_type": "code",
      "metadata": {
        "id": "fN2fASvuT8xv",
        "outputId": "8621782c-f30d-4a59-8459-1c84b9bdbe74",
        "colab": {
          "base_uri": "https://localhost:8080/"
        }
      },
      "source": [
        "t2 = sorted(t)\n",
        "t\n",
        "t2"
      ],
      "execution_count": 25,
      "outputs": [
        {
          "output_type": "execute_result",
          "data": {
            "text/plain": [
              "[1, 2, 3]"
            ]
          },
          "metadata": {},
          "execution_count": 25
        }
      ]
    },
    {
      "cell_type": "markdown",
      "metadata": {
        "id": "TfS9HAI5T8xv"
      },
      "source": [
        "## 10.14 - Glossário\n",
        "\n",
        "**lista** <br>\n",
        "&emsp;Uma sequência de valores.\n",
        "\n",
        "**elemento** <br>\n",
        "&emsp;Um dos valores em uma lista (ou outra sequência), também chamado de item.\n",
        "\n",
        "**lista aninhada** <br>\n",
        "&emsp;Uma lista que é um elemento de outra lista.\n",
        "\n",
        "**acumuladora** <br>\n",
        "&emsp;Variável usada em um loop para adicionar ou acumular um resultado.\n",
        "\n",
        "**atribuição aumentada** <br>\n",
        "&emsp;Instrução que atualiza o valor de uma variável usando um operador como +=.\n",
        "\n",
        "**redução** <br>\n",
        "&emsp;Padrão de processamento que atravessa uma sequência e acumula os elementos em um único resultado.\n",
        "\n",
        "**mapeamento** <br>\n",
        "&emsp;Padrão de processamento que atravessa uma sequência e executa uma operação em cada elemento.\n",
        "\n",
        "**filtragem** <br>\n",
        "&emsp;Padrão de processamento que atravessa uma lista e seleciona os elementos que satisfazem algum critério.\n",
        "\n",
        "**objeto** <br>\n",
        "&emsp;Algo a que uma variável pode se referir. Um objeto tem um tipo e um valor.\n",
        "\n",
        "**equivalente** <br>\n",
        "&emsp;Ter o mesmo valor.\n",
        "\n",
        "**idêntico** <br>\n",
        "&emsp;Ser o mesmo objeto (o que implica equivalência).\n",
        "\n",
        "**referência** <br>\n",
        "&emsp;Associação entre uma variável e seu valor.\n",
        "\n",
        "**alias** <br>\n",
        "&emsp;Uma circunstância onde duas ou mais variáveis se referem ao mesmo objeto.\n",
        "\n",
        "**delimitador** <br>\n",
        "&emsp;Um caractere ou uma string usada para indicar onde uma string deve ser dividida."
      ]
    },
    {
      "cell_type": "markdown",
      "metadata": {
        "id": "c8LxJvu1T8xv"
      },
      "source": [
        "## 10.15 - Exercícios\n",
        "\n",
        "Você pode baixar as soluções para estes exercícios em http://thinkpython2.com/code/list\\_exercises.py.\n",
        "\n",
        "### Exercício 10.1\n",
        "\n",
        "Escreva uma função chamada `nested_sum` que receba uma lista de listas de números inteiros e adicione os elementos de todas as listas aninhadas. Por exemplo:"
      ]
    },
    {
      "cell_type": "markdown",
      "metadata": {
        "id": "yAbtWcDUT8xv"
      },
      "source": [
        "```python\n",
        "t = [[1, 2], [3], [4, 5, 6]]\n",
        "nested_sum(t)\n",
        "21\n",
        "```"
      ]
    },
    {
      "cell_type": "markdown",
      "metadata": {
        "id": "ydBEZyCTT8xw"
      },
      "source": [
        "### Exercício 10.2\n",
        "\n",
        "Escreva uma função chamada `cumsum` que receba uma lista de números e retorne a soma cumulativa; isto é, uma nova lista onde o i-ésimo elemento é a soma dos primeiros i+1 elementos da lista original. Por exemplo:"
      ]
    },
    {
      "cell_type": "markdown",
      "metadata": {
        "id": "tK7p8llMT8xw"
      },
      "source": [
        "```python\n",
        "t = [1, 2, 3]\n",
        "cumsum(t)\n",
        "[1, 3, 6]\n",
        "```"
      ]
    },
    {
      "cell_type": "markdown",
      "metadata": {
        "id": "v6-2Gpg3T8xw"
      },
      "source": [
        "### Exercício 10.3\n",
        "\n",
        "Escreva uma função chamada `middle` que receba uma lista e retorne uma nova lista com todos os elementos originais, exceto os primeiros e os últimos elementos. Por exemplo:"
      ]
    },
    {
      "cell_type": "markdown",
      "metadata": {
        "id": "fqoeDgHCT8xw"
      },
      "source": [
        "```python\n",
        "t = [1, 2, 3, 4]\n",
        "middle(t)\n",
        "[2, 3]\n",
        "```"
      ]
    },
    {
      "cell_type": "markdown",
      "metadata": {
        "id": "PlqIW891T8xw"
      },
      "source": [
        "### Exercício 10.4\n",
        "\n",
        "Escreva uma função chamada `chop` que tome uma lista alterando-a para remover o primeiro e o último elementos, e retorne `None`. Por exemplo:"
      ]
    },
    {
      "cell_type": "markdown",
      "metadata": {
        "id": "-Etk-mxST8xw"
      },
      "source": [
        "```python\n",
        "t = [1, 2, 3, 4]\n",
        "chop(t)\n",
        "t\n",
        "[2, 3]\n",
        "```"
      ]
    },
    {
      "cell_type": "markdown",
      "metadata": {
        "id": "z5ABwLUUT8xw"
      },
      "source": [
        "### Exercício 10.5\n",
        "\n",
        "Escreva uma função chamada `is_sorted` que tome uma lista como parâmetro e retorne `True` se a lista estiver classificada em ordem ascendente, e `False` se não for o caso. Por exemplo:"
      ]
    },
    {
      "cell_type": "markdown",
      "metadata": {
        "id": "485R1DlGT8xw"
      },
      "source": [
        "```python\n",
        "is_sorted([1, 2, 2])\n",
        "True\n",
        "is_sorted(['b', 'a'])\n",
        "False\n",
        "```"
      ]
    },
    {
      "cell_type": "markdown",
      "metadata": {
        "id": "E_OfZOO_T8xw"
      },
      "source": [
        "### Exercício 10.6\n",
        "\n",
        "Duas palavras são anagramas se você puder soletrar uma rearranjando as letras da outra. Escreva uma função chamada `is_anagram` que tome duas strings e retorne `True` se forem anagramas."
      ]
    },
    {
      "cell_type": "markdown",
      "metadata": {
        "id": "cowP7n_0T8xx"
      },
      "source": [
        "### Exercício 10.7\n",
        "\n",
        "Escreva uma função chamada `has_duplicates` que tome uma lista e retorne `True` se houver algum elemento que apareça mais de uma vez. Ela não deve modificar a lista original."
      ]
    },
    {
      "cell_type": "markdown",
      "metadata": {
        "id": "7t4YAE1dT8xx"
      },
      "source": [
        "### Exercício 10.8\n",
        "\n",
        "Este exercício pertence ao assim chamado Paradoxo de aniversário, sobre o qual você pode ler em http://en.wikipedia.org/wiki/Birthday\\_paradox.\n",
        "\n",
        "Se há 23 alunos na sua sala, quais são as chances de dois deles fazerem aniversário no mesmo dia? Você pode estimar esta probabilidade gerando amostras aleatórias de 23 dias de aniversário e verificando as correspondências. Dica: você pode gerar aniversários aleatórios com a função `randint` no módulo random.\n",
        "\n",
        "Se quiser, você pode baixar minha solução em http://thinkpython2.com/code/birthday.py."
      ]
    },
    {
      "cell_type": "markdown",
      "metadata": {
        "id": "NZdqSvoZT8xx"
      },
      "source": [
        "### Exercício 10.9\n",
        "\n",
        "Escreva uma função que leia o arquivo `words.txt` e construa uma lista com um elemento por palavra. Escreva duas versões desta função, uma usando o método `append` e outra usando a expressão `t = t + [x]`. Qual leva mais tempo para ser executada? Por quê?\n",
        "\n",
        "Solução: http://thinkpython2.com/code/wordlist.py."
      ]
    },
    {
      "cell_type": "markdown",
      "metadata": {
        "id": "Ws2_lmk0T8xx"
      },
      "source": [
        "### Exercício 10.10\n",
        "\n",
        "Para verificar se uma palavra está na lista de palavras, você pode usar o operador `in`, mas isso seria lento porque pesquisaria as palavras em ordem.\n",
        "\n",
        "Como as palavras estão em ordem alfabética, podemos acelerar as coisas com uma busca por bisseção (também conhecida como pesquisa binária), que é semelhante ao que você faz quando procura uma palavra no dicionário. Você começa no meio e verifica se a palavra que está procurando vem antes da palavra no meio da lista. Se for o caso, procura na primeira metade da lista. Se não, procura na segunda metade.\n",
        "\n",
        "De qualquer forma, você corta o espaço de busca restante pela metade. Se a lista de palavras tiver 113.809 palavras, o programa seguirá uns 17 passos para encontrar a palavra ou concluir que não está lá.\n",
        "\n",
        "Escreva uma função chamada `in_bisect` que receba uma lista ordenada, um valor-alvo e devolva o índice do valor na lista se ele estiver lá, ou None se não estiver.\n",
        "\n",
        "Ou você pode ler a documentação do módulo `bisect` e usá-lo!\n",
        "\n",
        "Solução: http://thinkpython2.com/code/inlist.py."
      ]
    },
    {
      "cell_type": "markdown",
      "metadata": {
        "id": "0GcXz4gRT8xx"
      },
      "source": [
        "### Exercício 10.11\n",
        "\n",
        "Duas palavras são um “par inverso” se uma for o contrário da outra. Escreva um programa que encontre todos os pares inversos na lista de palavras.\n",
        "\n",
        "Solução: http://thinkpython2.com/code/reverse_pair.py."
      ]
    },
    {
      "cell_type": "markdown",
      "metadata": {
        "id": "omYSfCexT8xx"
      },
      "source": [
        "### Exercício 10.12\n",
        "\n",
        "Duas palavras “interligam-se” quando, ao tomarmos letras alternadas de cada uma, formamos uma palavra nova. Por exemplo, “shoe” e “cold” interligam-se para formar “schooled”.\n",
        "\n",
        "Solução: http://thinkpython2.com/code/interlock.py. Crédito: este exercício foi inspirado por um exemplo em http://puzzlers.org.\n",
        "\n",
        "1. Escreva um programa que encontre todos os pares de palavras que se interligam. Dica: não enumere todos os pares!\n",
        "\n",
        "2. Você pode encontrar palavras que sejam interligadas de três em três; isto é, cada terceira letra forma uma palavra, começando da primeira, segunda ou terceira?"
      ]
    }
  ]
}