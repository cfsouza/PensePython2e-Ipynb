{
 "cells": [
  {
   "cell_type": "markdown",
   "metadata": {},
   "source": [
    "<div id=\"readme\" class=\"Box-body readme blob instapaper_body js-code-block-container\">\n",
    "    <article class=\"markdown-body entry-content p-3 p-md-6\" itemprop=\"text\"><h1><a id=\"user-content-capítulo-16-classes-e-funções\" class=\"anchor\" aria-hidden=\"true\" href=\"#capítulo-16-classes-e-funções\"><svg class=\"octicon octicon-link\" viewBox=\"0 0 16 16\" version=\"1.1\" width=\"16\" height=\"16\" aria-hidden=\"true\"><path fill-rule=\"evenodd\" d=\"M4 9h1v1H4c-1.5 0-3-1.69-3-3.5S2.55 3 4 3h4c1.45 0 3 1.69 3 3.5 0 1.41-.91 2.72-2 3.25V8.59c.58-.45 1-1.27 1-2.09C10 5.22 8.98 4 8 4H4c-.98 0-2 1.22-2 2.5S3 9 4 9zm9-3h-1v1h1c1 0 2 1.22 2 2.5S13.98 12 13 12H9c-.98 0-2-1.22-2-2.5 0-.83.42-1.64 1-2.09V6.25c-1.09.53-2 1.84-2 3.25C6 11.31 7.55 13 9 13h4c1.45 0 3-1.69 3-3.5S14.5 6 13 6z\"></path></svg></a>Capítulo 16: Classes e funções</h1>\n",
    "<p>Agora que sabemos como criar tipos, o próximo passo deve ser escrever funções que recebam objetos definidos pelo programador como parâmetros e os retornem como resultados. Neste capítulo também vou apresentar o “estilo funcional de programação” e dois novos planos de desenvolvimento de programas.</p>\n",
    "<p>Os exemplos de código deste capítulo estão disponíveis em <a href=\"http://thinkpython2.com/code/Time1.py\" rel=\"nofollow\">http://thinkpython2.com/code/Time1.py</a>. As soluções para os exercícios estão em <a href=\"http://thinkpython2.com/code/Time1%5C_soln.py\" rel=\"nofollow\">http://thinkpython2.com/code/Time1\\_soln.py</a>.</p>\n",
    "<h2><a id=\"user-content-161---time\" class=\"anchor\" aria-hidden=\"true\" href=\"#161---time\"><svg class=\"octicon octicon-link\" viewBox=\"0 0 16 16\" version=\"1.1\" width=\"16\" height=\"16\" aria-hidden=\"true\"><path fill-rule=\"evenodd\" d=\"M4 9h1v1H4c-1.5 0-3-1.69-3-3.5S2.55 3 4 3h4c1.45 0 3 1.69 3 3.5 0 1.41-.91 2.72-2 3.25V8.59c.58-.45 1-1.27 1-2.09C10 5.22 8.98 4 8 4H4c-.98 0-2 1.22-2 2.5S3 9 4 9zm9-3h-1v1h1c1 0 2 1.22 2 2.5S13.98 12 13 12H9c-.98 0-2-1.22-2-2.5 0-.83.42-1.64 1-2.09V6.25c-1.09.53-2 1.84-2 3.25C6 11.31 7.55 13 9 13h4c1.45 0 3-1.69 3-3.5S14.5 6 13 6z\"></path></svg></a>16.1 - <i>Time</i></h2>\n",
    "<p>Para ter mais um exemplo de tipo definido pelo programador, criaremos uma classe chamada <code>Time</code> (hora), que registra um horário no dia. A definição da classe é assim:</p>"
   ]
  },
  {
   "cell_type": "code",
   "execution_count": 2,
   "metadata": {},
   "outputs": [],
   "source": [
    "class Time:\n",
    "    \"\"\" Represents the time of day.\n",
    "    attributes: hour, minute, second\n",
    "    \"\"\""
   ]
  },
  {
   "cell_type": "markdown",
   "metadata": {},
   "source": [
    "<p>Podemos criar um objeto <code>Time</code> e ter atributos para horas, minutos e segundos:</p>"
   ]
  },
  {
   "cell_type": "code",
   "execution_count": 3,
   "metadata": {},
   "outputs": [],
   "source": [
    "time = Time()\n",
    "time.hour = 11\n",
    "time.minute = 59\n",
    "time.second = 30"
   ]
  },
  {
   "cell_type": "markdown",
   "metadata": {},
   "source": [
    "<p>O diagrama de estado do objeto Time está na Figura 16.1.</p>\n",
    "<p><a target=\"_blank\" rel=\"noopener noreferrer\" href=\"https://github.com/PenseAllen/PensePython2e/raw/master/fig/tnkp_1601.png\"><img src=\"https://github.com/PenseAllen/PensePython2e/raw/master/fig/tnkp_1601.png\" alt=\"Figura 16.1 – Diagrama de um objeto Time.\" style=\"max-width:100%;\"></a>\n",
    "<br><em>Figura 16.1 – Diagrama de um objeto</em> <code>Time</code>.</p>\n",
    "<p>Como exercício, escreva uma função chamada <code>print_time</code>, que receba um objeto <code>Time</code> e o exiba na forma hour:minute:second. Dica: a sequência de formatação <code>'%.2d'</code> exibe um número inteiro com, pelo menos, dois dígitos, incluindo um zero à esquerda, se for necessário.</p>\n",
    "<p>Escreva uma função booleana chamada <code>is_after</code>, que receba dois objetos Time, <code>t1</code> e <code>t2</code>, e devolva <code>True</code> se <code>t1</code> for cronologicamente depois de <code>t2</code> e <code>False</code> se não for. Desafio: não use uma instrução <code>if</code>.</p>\n",
    "<h2><a id=\"user-content-162---funções-puras\" class=\"anchor\" aria-hidden=\"true\" href=\"#162---funções-puras\"><svg class=\"octicon octicon-link\" viewBox=\"0 0 16 16\" version=\"1.1\" width=\"16\" height=\"16\" aria-hidden=\"true\"><path fill-rule=\"evenodd\" d=\"M4 9h1v1H4c-1.5 0-3-1.69-3-3.5S2.55 3 4 3h4c1.45 0 3 1.69 3 3.5 0 1.41-.91 2.72-2 3.25V8.59c.58-.45 1-1.27 1-2.09C10 5.22 8.98 4 8 4H4c-.98 0-2 1.22-2 2.5S3 9 4 9zm9-3h-1v1h1c1 0 2 1.22 2 2.5S13.98 12 13 12H9c-.98 0-2-1.22-2-2.5 0-.83.42-1.64 1-2.09V6.25c-1.09.53-2 1.84-2 3.25C6 11.31 7.55 13 9 13h4c1.45 0 3-1.69 3-3.5S14.5 6 13 6z\"></path></svg></a>16.2 - Funções puras</h2>\n",
    "<p>Nas próximas seções, vamos escrever duas funções que adicionam valores de tempo. Elas demonstram dois tipos de funções: funções puras e modificadores. Também demonstram um plano de desenvolvimento que chamarei de <b>protótipo e correção</b>, que é uma forma de atacar um problema complexo começando com um protótipo simples e lidando com as complicações de forma incremental.</p>\n",
    "<p>Aqui está um protótipo simples de <code>add_time</code>:</p>"
   ]
  },
  {
   "cell_type": "code",
   "execution_count": 4,
   "metadata": {},
   "outputs": [],
   "source": [
    "def add_time(t1, t2):\n",
    "    sum = Time()\n",
    "    sum.hour = t1.hour + t2.hour\n",
    "    sum.minute = t1.minute + t2.minute\n",
    "    sum.second = t1.second + t2.second\n",
    "    return sum"
   ]
  },
  {
   "cell_type": "markdown",
   "metadata": {},
   "source": [
    "<p>A função cria um novo objeto <code>Time</code>, inicializa seus atributos e retorna uma referência ao novo objeto. A <b>função pura</b> é chamada assim porque não altera nenhum dos objetos passados a ela como argumentos; além disso, ela não tem efeitos, como exibir um valor ou receber entradas de usuário, apenas retorna um valor.</p>\n",
    "<p>Para testar esta função, criarei objetos <code>Time</code>: <code>start</code>, que contém o tempo de início de um filme, como <em>Monty Python e o cálice sagrado</em>, e <code>duration</code>, que contém o tempo de execução do filme, que é de 1 hora e 35 minutos.</p>\n",
    "<p><code>add_time</code> calcula quando o filme acaba:</p>"
   ]
  },
  {
   "cell_type": "code",
   "execution_count": 6,
   "metadata": {},
   "outputs": [],
   "source": [
    ">>> start = Time()\n",
    ">>> start.hour = 9\n",
    ">>> start.minute = 45\n",
    ">>> start.second = 0\n",
    ">>> duration = Time()\n",
    ">>> duration.hour = 1\n",
    ">>> duration.minute = 35\n",
    ">>> duration.second = 0\n",
    ">>> done = add_time(start, duration)"
   ]
  },
  {
   "cell_type": "markdown",
   "metadata": {},
   "source": [
    "```python\n",
    ">>> print_time(done)```"
   ]
  },
  {
   "cell_type": "raw",
   "metadata": {},
   "source": [
    "10:80:00"
   ]
  },
  {
   "cell_type": "markdown",
   "metadata": {},
   "source": [
    "<p>O resultado, 10:80:00, pode não ser o que você esperava. O problema é que esta função não trata casos onde o número de segundos ou minutos é maior que 60. Quando isso acontece, precisamos transportar os segundos extras à coluna dos minutos ou os minutos extras à coluna das horas.</p>\n",
    "<p>Aqui está uma versão melhorada:</p>"
   ]
  },
  {
   "cell_type": "code",
   "execution_count": 8,
   "metadata": {},
   "outputs": [],
   "source": [
    "def add_time(t1, t2):\n",
    "    sum = Time()\n",
    "    sum.hour = t1.hour + t2.hour\n",
    "    sum.minute = t1.minute + t2.minute\n",
    "    sum.second = t1.second + t2.second\n",
    "    if sum.second > 60:\n",
    "        sum.second -= 60\n",
    "        sum.minute += 1\n",
    "    if sum.minute > 60:\n",
    "        sum.minute -= 60\n",
    "        sum.hour += 1\n",
    "    return sum"
   ]
  },
  {
   "cell_type": "markdown",
   "metadata": {},
   "source": [
    "<p>Embora esta função esteja correta, é um pouco extensa. Veremos uma alternativa menor mais adiante.</p>\n",
    "<h2><a id=\"user-content-163---modificadores\" class=\"anchor\" aria-hidden=\"true\" href=\"#163---modificadores\"><svg class=\"octicon octicon-link\" viewBox=\"0 0 16 16\" version=\"1.1\" width=\"16\" height=\"16\" aria-hidden=\"true\"><path fill-rule=\"evenodd\" d=\"M4 9h1v1H4c-1.5 0-3-1.69-3-3.5S2.55 3 4 3h4c1.45 0 3 1.69 3 3.5 0 1.41-.91 2.72-2 3.25V8.59c.58-.45 1-1.27 1-2.09C10 5.22 8.98 4 8 4H4c-.98 0-2 1.22-2 2.5S3 9 4 9zm9-3h-1v1h1c1 0 2 1.22 2 2.5S13.98 12 13 12H9c-.98 0-2-1.22-2-2.5 0-.83.42-1.64 1-2.09V6.25c-1.09.53-2 1.84-2 3.25C6 11.31 7.55 13 9 13h4c1.45 0 3-1.69 3-3.5S14.5 6 13 6z\"></path></svg></a>16.3 - Modificadores</h2>\n",
    "<p>Às vezes é útil uma função alterar os objetos que recebe como parâmetros. Nesse caso, as mudanças são visíveis a quem chama a função. As funções que fazem isso chamam-se <b>modificadores</b>.</p>\n",
    "<p><code>increment</code>, que acrescenta um dado número de segundos a um objeto <code>Time</code>, pode ser escrita naturalmente como um modificador. Aqui está um primeiro esboço:</p>"
   ]
  },
  {
   "cell_type": "code",
   "execution_count": 9,
   "metadata": {},
   "outputs": [],
   "source": [
    "def increment(time, seconds):\n",
    "    time.second += seconds\n",
    "    if time.second > 60:\n",
    "        time.second -= 60\n",
    "        time.minute += 1\n",
    "    if time.minute > 60:\n",
    "        time.minute -= 60\n",
    "        time.hour += 1"
   ]
  },
  {
   "cell_type": "markdown",
   "metadata": {},
   "source": [
    "<p>A primeira linha executa a operação básica; o resto lida com os casos especiais que vimos antes.</p>\n",
    "<p>Esta função está correta? O que acontece se <code>second</code> for muito mais que 60?</p>\n",
    "<p>Neste caso não basta transportar uma vez, temos que continuar fazendo isso até que <code>time.second</code> seja menos de 60. Uma solução é substituir a instrução <code>if</code> pela instrução <code>while</code>. Isso tornaria a função correta, mas não muito eficiente. Como exercício, escreva uma versão correta de <code>increment</code> que não contenha <i>loops</i>.</p>\n",
    "<p>O que se faz com modificadores também pode ser feito com funções puras. Na verdade, algumas linguagens de programação só permitem funções puras. Há evidências de que os programas que usam funções puras são mais rápidos para serem desenvolvidos e menos propensos a erros que programas que usam modificadores. No entanto, modificadores são convenientes de vez em quando, e os programas funcionais tendem a ser menos eficientes.</p>\n",
    "<p>De forma geral, recomendo que você escreva funções puras sempre que achar razoável e recorra a modificadores só se houver alguma vantagem clara. Esta abordagem pode ser chamada de <b>programação funcional</b>.</p>\n",
    "<p>Como exercício, escreva uma versão “pura” de <code>increment</code> que cria e retorna um objeto <code>Time</code> em vez de alterar o parâmetro.</p>\n",
    "<h2><a id=\"user-content-164---prototipação-versus-planejamento\" class=\"anchor\" aria-hidden=\"true\" href=\"#164---prototipação-versus-planejamento\"><svg class=\"octicon octicon-link\" viewBox=\"0 0 16 16\" version=\"1.1\" width=\"16\" height=\"16\" aria-hidden=\"true\"><path fill-rule=\"evenodd\" d=\"M4 9h1v1H4c-1.5 0-3-1.69-3-3.5S2.55 3 4 3h4c1.45 0 3 1.69 3 3.5 0 1.41-.91 2.72-2 3.25V8.59c.58-.45 1-1.27 1-2.09C10 5.22 8.98 4 8 4H4c-.98 0-2 1.22-2 2.5S3 9 4 9zm9-3h-1v1h1c1 0 2 1.22 2 2.5S13.98 12 13 12H9c-.98 0-2-1.22-2-2.5 0-.83.42-1.64 1-2.09V6.25c-1.09.53-2 1.84-2 3.25C6 11.31 7.55 13 9 13h4c1.45 0 3-1.69 3-3.5S14.5 6 13 6z\"></path></svg></a>16.4 - Prototipação versus planejamento</h2>\n",
    "<p>O plano de desenvolvimento que estou demonstrando chama-se “protótipo e correção”. Para cada função, escrevi um protótipo que executa o cálculo básico e então testa a função, corrigindo erros no decorrer do caminho.</p>\n",
    "<p>Esta abordagem pode ser eficaz, especialmente se você ainda não tem uma compreensão profunda do problema. Porém, as correções incrementais podem gerar código que se complica desnecessariamente (pois trata de muitos casos especiais) e pouco confiáveis (já que é difícil saber se todos os erros foram encontrados).</p>\n",
    "<p>Uma alternativa é o <b>desenvolvimento planejado</b>, no qual a compreensão de alto nível do problema pode facilitar muito a programação. Neste caso, descobre-se que um objeto Time é, na verdade, um número de três dígitos na base 60 (veja <a href=\"http://en.wikipedia.org/wiki/Sexagesimal\" rel=\"nofollow\">http://en.wikipedia.org/wiki/Sexagesimal</a>)! O atributo <code>second</code> é a “coluna de unidades”, o atributo <code>minute</code> é a “coluna dos 60”, e o atributo <code>hour</code> é a “coluna do 3.600”.</p>\n",
    "<p>Quando escrevemos <code>add_time</code> e <code>increment</code>, estávamos na verdade fazendo adições na base 60, e por isso transportávamos os resultados de uma coluna à seguinte.</p>\n",
    "<p>Essa observação sugere outra abordagem para o problema inteiro – podemos converter objetos <code>Time</code> em números inteiros e aproveitar o fato de que o computador sabe trabalhar com aritmética de números inteiros.</p>\n",
    "<p>Aqui está uma função que converte objetos <code>Time</code> em números inteiros:</p>"
   ]
  },
  {
   "cell_type": "code",
   "execution_count": 10,
   "metadata": {},
   "outputs": [],
   "source": [
    "def time_to_int(time):\n",
    "    minutes = time.hour * 60 + time.minute\n",
    "    seconds = minutes * 60 + time.second\n",
    "    return seconds"
   ]
  },
  {
   "cell_type": "markdown",
   "metadata": {},
   "source": [
    "<p>E aqui está uma função que converte um número inteiro em um <code>Time</code> (lembre-se de que <code>divmod</code> divide o primeiro argumento pelo segundo e devolve o quociente e o resto como uma tupla):</p>"
   ]
  },
  {
   "cell_type": "code",
   "execution_count": 11,
   "metadata": {},
   "outputs": [],
   "source": [
    "def int_to_time(seconds):\n",
    "    time = Time()\n",
    "    minutes, time.second = divmod(seconds, 60)\n",
    "    time.hour, time.minute = divmod(minutes, 60)\n",
    "    return time"
   ]
  },
  {
   "cell_type": "markdown",
   "metadata": {},
   "source": [
    "<p>Você pode ter que pensar um pouco e fazer alguns testes, para se convencer de que essas funções estão corretas. Um modo de testá-las é ver se <code>time_to_int(int_to_time(x)) == x</code> para muitos valores de <code>x</code>. Este é um exemplo de uma verificação de consistência.</p>\n",
    "<p>Uma vez que esteja convencido de que estão corretas, você pode usá-las para reescrever <code>add_time</code>:</p>"
   ]
  },
  {
   "cell_type": "code",
   "execution_count": 12,
   "metadata": {},
   "outputs": [],
   "source": [
    "def add_time (t1, t2):\n",
    "    seconds = time_to_int(t1) + time_to_int(t2)\n",
    "    return int_to_time(seconds)"
   ]
  },
  {
   "cell_type": "markdown",
   "metadata": {},
   "source": [
    "<p>Esta versão é mais curta que a original, e mais fácil de verificar. Como exercício, reescreva <code>increment</code> usando <code>time_to_int</code> e <code>int_to_time</code>.</p>\n",
    "<p>Em algumas situações, converter da base 60 para a base 10 e de volta é mais difícil que apenas lidar com as horas. A conversão de base é mais abstrata; nossa intuição para lidar com valores temporais é melhor.</p>\n",
    "<p>No entanto, se tivermos discernimento para lidar com horas como números de base 60 e investirmos esforço em escrever as funções de conversão (<code>time_to_int</code> e <code>int_to_time</code>), chegamos a um programa que é mais curto, mais fácil de ler e depurar, e mais confiável.</p>\n",
    "<p>Também é mais fácil acrescentar recursos depois. Por exemplo, imagine subtrair dois objetos <code>Time</code> para encontrar a duração entre eles. Uma abordagem ingênua seria implementar a subtração com transporte. Porém, usar funções de conversão seria mais fácil e, provavelmente, mais correto.</p>\n",
    "<p>Ironicamente, tornar um problema mais difícil (ou mais geral) facilita (porque há menos casos especiais e menos oportunidades de erro).</p>\n",
    "<h2><a id=\"user-content-165---depuração\" class=\"anchor\" aria-hidden=\"true\" href=\"#165---depuração\"><svg class=\"octicon octicon-link\" viewBox=\"0 0 16 16\" version=\"1.1\" width=\"16\" height=\"16\" aria-hidden=\"true\"><path fill-rule=\"evenodd\" d=\"M4 9h1v1H4c-1.5 0-3-1.69-3-3.5S2.55 3 4 3h4c1.45 0 3 1.69 3 3.5 0 1.41-.91 2.72-2 3.25V8.59c.58-.45 1-1.27 1-2.09C10 5.22 8.98 4 8 4H4c-.98 0-2 1.22-2 2.5S3 9 4 9zm9-3h-1v1h1c1 0 2 1.22 2 2.5S13.98 12 13 12H9c-.98 0-2-1.22-2-2.5 0-.83.42-1.64 1-2.09V6.25c-1.09.53-2 1.84-2 3.25C6 11.31 7.55 13 9 13h4c1.45 0 3-1.69 3-3.5S14.5 6 13 6z\"></path></svg></a>16.5 - Depuração</h2>\n",
    "<p>Um objeto <code>Time</code> é bem formado se os valores de <code>minute</code> e <code>second</code> estiverem entre 0 e 60 (incluindo 0, mas não 60) e se <code>hour</code> for positivo. <code>hour</code> e <code>minute</code> devem ser valores inteiros, mas podemos permitir que <code>second</code> tenha uma parte fracionária.</p>\n",
    "<p>Requisitos como esses chamam-se <b>invariáveis</b> porque sempre devem ser verdadeiros. Para dizer de outra forma, se não forem verdadeiros, algo deu errado.</p>\n",
    "<p>Escrever código para verificar requisitos invariáveis pode ajudar a descobrir erros e encontrar suas causas. Por exemplo, você pode ter uma função como <code>valid_time</code>, que receba um objeto <code>Time</code> e retorne <code>False</code> se ele violar um requisito invariável:</p>"
   ]
  },
  {
   "cell_type": "code",
   "execution_count": 13,
   "metadata": {},
   "outputs": [],
   "source": [
    "def valid_time (time):\n",
    "    if time.hour < 0 or time.minute < 0 or time.second < 0:\n",
    "        return False\n",
    "    if time.minute > 60 or time.second > 60:\n",
    "        return False\n",
    "    return True"
   ]
  },
  {
   "cell_type": "markdown",
   "metadata": {},
   "source": [
    "<p>No início de cada função você pode verificar os argumentos para ter certeza de que são válidos:</p>"
   ]
  },
  {
   "cell_type": "code",
   "execution_count": 15,
   "metadata": {},
   "outputs": [],
   "source": [
    "def add_time (t1, t2):\n",
    "    if not valid_time(t1) or not valid_time(t2):\n",
    "        raise ValueError ('invalid Time object in add_time')\n",
    "\n",
    "    seconds = time_to_int(t1) + time_to_int(t2)\n",
    "    return int_to_time(seconds)"
   ]
  },
  {
   "cell_type": "markdown",
   "metadata": {},
   "source": [
    "<p>Ou você pode usar uma <b>instrução <code>assert</code></b>, que verifica determinado requisito invariável e cria uma exceção se ela falhar:</p>"
   ]
  },
  {
   "cell_type": "code",
   "execution_count": 16,
   "metadata": {},
   "outputs": [],
   "source": [
    "def add_time (t1, t2):\n",
    "    assert valid_time(t1) and valid_time(t2)\n",
    "    seconds = time_to_int(t1) + time_to_int(t2)\n",
    "    return int_to_time(seconds)"
   ]
  },
  {
   "cell_type": "markdown",
   "metadata": {},
   "source": [
    "<p>Instruções <code>assert</code> são úteis porque distinguem o código que lida com condições normais do código que verifica erros.</p>\n",
    "<h2><a id=\"user-content-166---glossário\" class=\"anchor\" aria-hidden=\"true\" href=\"#166---glossário\"><svg class=\"octicon octicon-link\" viewBox=\"0 0 16 16\" version=\"1.1\" width=\"16\" height=\"16\" aria-hidden=\"true\"><path fill-rule=\"evenodd\" d=\"M4 9h1v1H4c-1.5 0-3-1.69-3-3.5S2.55 3 4 3h4c1.45 0 3 1.69 3 3.5 0 1.41-.91 2.72-2 3.25V8.59c.58-.45 1-1.27 1-2.09C10 5.22 8.98 4 8 4H4c-.98 0-2 1.22-2 2.5S3 9 4 9zm9-3h-1v1h1c1 0 2 1.22 2 2.5S13.98 12 13 12H9c-.98 0-2-1.22-2-2.5 0-.83.42-1.64 1-2.09V6.25c-1.09.53-2 1.84-2 3.25C6 11.31 7.55 13 9 13h4c1.45 0 3-1.69 3-3.5S14.5 6 13 6z\"></path></svg></a>16.6 - Glossário</h2>\n",
    "<dl>\n",
    "<dt><a id=\"user-content-glos:protótipo e correção\"><b>protótipo e correção</b></a></dt>\n",
    "<dd>Plano de desenvolvimento no qual a escrita do programa parte de um esboço inicial, e depois segue ao teste e correção de erros, conforme sejam encontrados.</dd>\n",
    "<dt><a id=\"user-content-glos:desenvolvimento planejado\"><b>desenvolvimento planejado</b></a></dt>\n",
    "<dd>Plano de desenvolvimento que implica uma compreensão de alto nível do problema e mais planejamento que desenvolvimento incremental ou desenvolvimento prototipado.</dd>\n",
    "<dt><a id=\"user-content-glos:função pura\"><b>função pura</b></a></dt>\n",
    "<dd>Função que não altera nenhum dos objetos que recebe como argumento. A maior parte das funções puras gera resultado.</dd>\n",
    "<dt><a id=\"user-content-glos:modificador\"><b>modificador</b></a></dt>\n",
    "<dd>Função que modifica um ou vários dos objetos que recebe como argumento. A maior parte dos modificadores são nulos; isto é, retornam <code>None</code>.</dd>\n",
    "<dt><a id=\"user-content-glos:programação funcional\"><b>programação funcional</b></a></dt>\n",
    "<dd>Estilo de projeto de programa no qual a maioria das funções são puras.</dd>\n",
    "<dt><a id=\"user-content-glos:invariável\"><b>invariável</b></a></dt>\n",
    "<dd>Condição que sempre deve ser verdadeira durante a execução de um programa.</dd>\n",
    "<dt><a id=\"user-content-glos:instrução assert\"><b>instrução assert</b></a></dt>\n",
    "<dd>Instrução que verifica uma condição e levanta uma exceção se esta falhar.</dd>\n",
    "</dl>\n",
    "<h2><a id=\"user-content-167---exercícios\" class=\"anchor\" aria-hidden=\"true\" href=\"#167---exercícios\"><svg class=\"octicon octicon-link\" viewBox=\"0 0 16 16\" version=\"1.1\" width=\"16\" height=\"16\" aria-hidden=\"true\"><path fill-rule=\"evenodd\" d=\"M4 9h1v1H4c-1.5 0-3-1.69-3-3.5S2.55 3 4 3h4c1.45 0 3 1.69 3 3.5 0 1.41-.91 2.72-2 3.25V8.59c.58-.45 1-1.27 1-2.09C10 5.22 8.98 4 8 4H4c-.98 0-2 1.22-2 2.5S3 9 4 9zm9-3h-1v1h1c1 0 2 1.22 2 2.5S13.98 12 13 12H9c-.98 0-2-1.22-2-2.5 0-.83.42-1.64 1-2.09V6.25c-1.09.53-2 1.84-2 3.25C6 11.31 7.55 13 9 13h4c1.45 0 3-1.69 3-3.5S14.5 6 13 6z\"></path></svg></a>16.7 - Exercícios</h2>\n",
    "<p>Os exemplos de código deste capítulo estão disponíveis em <a href=\"http://thinkpython2.com/code/Time1.py\" rel=\"nofollow\">http://thinkpython2.com/code/Time1.py</a>; as soluções para os exercícios estão disponíveis em <a href=\"http://thinkpython2.com/code/Time1_soln.py\" rel=\"nofollow\">http://thinkpython2.com/code/Time1_soln.py</a>.</p>\n",
    "<h3><a id=\"user-content-exercício-161\" class=\"anchor\" aria-hidden=\"true\" href=\"#exercício-161\"><svg class=\"octicon octicon-link\" viewBox=\"0 0 16 16\" version=\"1.1\" width=\"16\" height=\"16\" aria-hidden=\"true\"><path fill-rule=\"evenodd\" d=\"M4 9h1v1H4c-1.5 0-3-1.69-3-3.5S2.55 3 4 3h4c1.45 0 3 1.69 3 3.5 0 1.41-.91 2.72-2 3.25V8.59c.58-.45 1-1.27 1-2.09C10 5.22 8.98 4 8 4H4c-.98 0-2 1.22-2 2.5S3 9 4 9zm9-3h-1v1h1c1 0 2 1.22 2 2.5S13.98 12 13 12H9c-.98 0-2-1.22-2-2.5 0-.83.42-1.64 1-2.09V6.25c-1.09.53-2 1.84-2 3.25C6 11.31 7.55 13 9 13h4c1.45 0 3-1.69 3-3.5S14.5 6 13 6z\"></path></svg></a>Exercício 16.1</h3>\n",
    "<p>Escreva uma função chamada <code>mul_time</code> que receba um objeto <code>Time</code> e um número e retorne um novo objeto <code>Time</code> que contenha o produto do <code>Time</code> original e do número.</p>\n",
    "<p>Então use <code>mul_time</code> para escrever uma função que receba um objeto <code>Time</code> representando o tempo até o fim de uma corrida e um número que represente a distância, e retorne um objeto <code>Time</code> com o passo médio (tempo por milha).</p>\n",
    "<h3><a id=\"user-content-exercício-162\" class=\"anchor\" aria-hidden=\"true\" href=\"#exercício-162\"><svg class=\"octicon octicon-link\" viewBox=\"0 0 16 16\" version=\"1.1\" width=\"16\" height=\"16\" aria-hidden=\"true\"><path fill-rule=\"evenodd\" d=\"M4 9h1v1H4c-1.5 0-3-1.69-3-3.5S2.55 3 4 3h4c1.45 0 3 1.69 3 3.5 0 1.41-.91 2.72-2 3.25V8.59c.58-.45 1-1.27 1-2.09C10 5.22 8.98 4 8 4H4c-.98 0-2 1.22-2 2.5S3 9 4 9zm9-3h-1v1h1c1 0 2 1.22 2 2.5S13.98 12 13 12H9c-.98 0-2-1.22-2-2.5 0-.83.42-1.64 1-2.09V6.25c-1.09.53-2 1.84-2 3.25C6 11.31 7.55 13 9 13h4c1.45 0 3-1.69 3-3.5S14.5 6 13 6z\"></path></svg></a>Exercício 16.2</h3>\n",
    "<p>O módulo <code>datetime</code> fornece objetos <code>time</code> que são semelhantes aos objetos <code>Time</code> deste capítulo, mas ele oferece um grande conjunto de métodos e operadores. Leia a documentação em <a href=\"http://docs.python.org/3/library/datetime.html\" rel=\"nofollow\">http://docs.python.org/3/library/datetime.html</a>.</p>\n",
    "<ol>\n",
    "<li>\n",
    "<p>Use o módulo <code>datetime</code> para escrever um programa que receba a data atual e exiba o dia da semana.</p>\n",
    "</li>\n",
    "<li>\n",
    "<p>Escreva um programa que receba um aniversário como entrada e exiba a idade do usuário e o número de dias, horas, minutos e segundos até o seu próximo aniversário.</p>\n",
    "</li>\n",
    "<li>\n",
    "<p>Para duas pessoas nascidas em dias diferentes, há um dia em que a idade de uma equivale a duas vezes a da outra. Este é o Dia Duplo delas. Escreva um programa que receba dois aniversários e calcule o Dia Duplo dos aniversariantes.</p>\n",
    "</li>\n",
    "<li>\n",
    "<p>Para um desafio um pouco maior, escreva a versão mais geral que calcule o dia em que uma pessoa é N vezes mais velha que a outra.</p>\n",
    "</li>\n",
    "</ol>\n",
    "</article>\n",
    "  </div>"
   ]
  }
 ],
 "metadata": {
  "kernelspec": {
   "display_name": "Python 3",
   "language": "python",
   "name": "python3"
  },
  "language_info": {
   "codemirror_mode": {
    "name": "ipython",
    "version": 3
   },
   "file_extension": ".py",
   "mimetype": "text/x-python",
   "name": "python",
   "nbconvert_exporter": "python",
   "pygments_lexer": "ipython3",
   "version": "3.7.3"
  }
 },
 "nbformat": 4,
 "nbformat_minor": 2
}
