{
 "cells": [
  {
   "cell_type": "markdown",
   "metadata": {},
   "source": [
    "# Capítulo 9: Estudo de caso: jogos de palavras"
   ]
  },
  {
   "cell_type": "markdown",
   "metadata": {},
   "source": [
    "Este capítulo apresenta o segundo estudo de caso que envolve solucionar quebra-cabeças usando palavras com certas propriedades. Por exemplo, encontraremos os palíndromos mais longos em inglês e procuraremos palavras cujas letras apareçam em ordem alfabética. E apresentarei outro plano de desenvolvimento de programa: a redução a um problema resolvido anteriormente."
   ]
  },
  {
   "cell_type": "markdown",
   "metadata": {},
   "source": [
    "## 9.1 - Leitura de listas de palavras"
   ]
  },
  {
   "cell_type": "markdown",
   "metadata": {},
   "source": [
    "Para os exercícios deste capítulo vamos usar uma lista de palavras em inglês. Há muitas listas de palavras disponíveis na internet, mas a mais conveniente ao nosso propósito é uma das listas de palavras disponibilizadas em domínio público por Grady Ward como parte do projeto \"_Lexical Moby_\" (ver http://wikipedia.org/wiki/Moby\\_Project). É uma lista de 113.809 palavras cruzadas oficiais; isto é, as palavras que se consideram válidas em quebra-cabeças de palavras cruzadas e outros jogos de palavras. Na coleção Moby, o nome do arquivo é 113809of.fic; você pode baixar uma cópia, com um nome mais simples como `words.txt`, de http://thinkpython2.com/code/words.txt."
   ]
  },
  {
   "cell_type": "markdown",
   "metadata": {},
   "source": [
    "Este arquivo está em texto simples, então você pode abri-lo com um editor de texto, mas também pode lê-lo no Python. A função integrada `open` recebe o nome do arquivo como um parâmetro e retorna um **objeto de arquivo** que você pode usar para ler o arquivo."
   ]
  },
  {
   "cell_type": "markdown",
   "metadata": {},
   "source": [
    "```python\n",
    ">>> fin = open('words.txt')\n",
    "```"
   ]
  },
  {
   "cell_type": "markdown",
   "metadata": {},
   "source": [
    "`fin` é um nome comum de objeto de arquivo usado para entrada de dados. O objeto de arquivo oferece vários métodos de leitura, inclusive `readline`, que lê caracteres no arquivo até chegar a um comando de nova linha, devolvendo o resultado como uma string:"
   ]
  },
  {
   "cell_type": "markdown",
   "metadata": {},
   "source": [
    "```python\n",
    ">>> fin.readline()\n",
    "'aa\\r\\n'\n",
    "```"
   ]
  },
  {
   "cell_type": "markdown",
   "metadata": {},
   "source": [
    "A primeira palavra nesta lista específica é `“aa”`, uma espécie de lava. A sequência `'\\r\\n'` representa dois caracteres que representam espaços em branco (_whitespace_), um retorno de carro e uma nova linha, que separa esta palavra da seguinte.\n",
    "\n",
    "O objeto de arquivo grava a posição em que está no arquivo, então se você chamar `readline` mais uma vez, receberá a seguinte palavra:"
   ]
  },
  {
   "cell_type": "markdown",
   "metadata": {},
   "source": [
    "```python\n",
    ">>> fin.readline()\n",
    "'aah\\r\\n'\n",
    "```"
   ]
  },
  {
   "cell_type": "markdown",
   "metadata": {},
   "source": [
    "A palavra seguinte é `“aah”`, uma palavra perfeitamente legítima, então pare de olhar para mim desse jeito. Ou, se é o *whitespace* que está incomodando você, podemos nos livrar dele com o método de string `strip`:"
   ]
  },
  {
   "cell_type": "markdown",
   "metadata": {},
   "source": [
    "```python\n",
    ">>> line = fin.readline()\n",
    ">>> word = line.strip()\n",
    ">>> word\n",
    "'aahed'\n",
    "```"
   ]
  },
  {
   "cell_type": "markdown",
   "metadata": {},
   "source": [
    "Você também pode usar um objeto de arquivo como parte de um _loop_ `for`. Este programa lê `words.txt` e imprime cada palavra, uma por linha:"
   ]
  },
  {
   "cell_type": "markdown",
   "metadata": {},
   "source": [
    "```python\n",
    "fin = open('words.txt')\n",
    "for line in fin:\n",
    "    word = line.strip()\n",
    "    print(word)\n",
    "    ```"
   ]
  },
  {
   "cell_type": "markdown",
   "metadata": {},
   "source": [
    "## 9.2 - Exercícios"
   ]
  },
  {
   "cell_type": "markdown",
   "metadata": {},
   "source": [
    "Há soluções para estes exercícios na próxima seção. Mas é bom você tentar fazer cada um antes de ver as soluções."
   ]
  },
  {
   "cell_type": "markdown",
   "metadata": {},
   "source": [
    "### Exercício 9.1"
   ]
  },
  {
   "cell_type": "markdown",
   "metadata": {},
   "source": [
    "Escreva um programa que leia `words.txt` e imprima apenas as palavras com mais de 20 caracteres (sem contar *whitespace*)."
   ]
  },
  {
   "cell_type": "markdown",
   "metadata": {},
   "source": [
    "### Exercício 9.2"
   ]
  },
  {
   "cell_type": "markdown",
   "metadata": {},
   "source": [
    "Em 1939, Ernest Vincent Wright publicou uma novela de 50.000 palavras, chamada \"Gadsby\", que não contém a letra `“e”`. Como o `“e”` é a letra mais comum em inglês, isso não é algo fácil de fazer.\n",
    "\n",
    "Na verdade, é difícil até construir um único pensamento sem usar o símbolo mais comum do idioma. No início é lento, mas com prudência e horas de treino, vai ficando cada vez mais fácil."
   ]
  },
  {
   "cell_type": "markdown",
   "metadata": {},
   "source": [
    "*All right, I’ll stop now.*"
   ]
  },
  {
   "cell_type": "markdown",
   "metadata": {},
   "source": [
    "Escreva uma função chamada `has_no_e` que retorne `True` se a palavra dada não tiver a letra `“e”` nela.\n",
    "\n",
    "Altere seu programa na seção anterior para imprimir apenas as palavras que não têm `“e”` e calcule a porcentagem de palavras na lista que não têm `“e”`."
   ]
  },
  {
   "cell_type": "markdown",
   "metadata": {},
   "source": [
    "### Exercício 9.3\n",
    "\n",
    "Escreva uma função chamada `avoids` que receba uma palavra e uma série de letras proibidas, e retorne `True` se a palavra não usar nenhuma das letras proibidas.\n",
    "\n",
    "Altere o código para que o usuário digite uma série de letras proibidas e o programa imprima o número de palavras que não contêm nenhuma delas. Você pode encontrar uma combinação de cinco letras proibidas que exclua o menor número possível de palavras?"
   ]
  },
  {
   "cell_type": "markdown",
   "metadata": {},
   "source": [
    "### Exercício 9.4\n",
    "\n",
    "Escreva uma função chamada `uses_only` que receba uma palavra e uma série de letras e retorne `True`, se a palavra só contiver letras da lista. Você pode fazer uma frase usando só as letras `acefhlo`? Que não seja `“Hoe alfalfa?”`"
   ]
  },
  {
   "cell_type": "markdown",
   "metadata": {},
   "source": [
    "### Exercício 9.5\n",
    "\n",
    "Escreva uma função chamada `uses_all` que receba uma palavra e uma série de letras obrigatórias e retorne `True` se a palavra usar todas as letras obrigatórias pelo menos uma vez. Quantas palavras usam todas as vogais `aeiou`? E que tal `aeiouy`?"
   ]
  },
  {
   "cell_type": "markdown",
   "metadata": {},
   "source": [
    "### Exercício 9.6\n",
    "\n",
    "Escreva uma função chamada `is_abecedarian` que retorne `True` se as letras numa palavra aparecerem em ordem alfabética (tudo bem se houver letras duplas). Quantas palavras em ordem alfabética existem?"
   ]
  },
  {
   "cell_type": "markdown",
   "metadata": {},
   "source": [
    "## 9.3 - Busca\n",
    "\n",
    "Todos os exercícios na seção anterior têm algo em comum; eles podem ser resolvidos com o modelo de busca que vimos na Seção 8.6. O exemplo mais simples é:"
   ]
  },
  {
   "cell_type": "markdown",
   "metadata": {},
   "source": [
    "```python\n",
    "def has_no_e(word):\n",
    "    for letter in word:\n",
    "        if letter == 'e':\n",
    "            return False\n",
    "    return True\n",
    "```"
   ]
  },
  {
   "cell_type": "markdown",
   "metadata": {},
   "source": [
    "O _loop_ `for` atravessa os caracteres em `word`. Se encontrarmos a letra “e”, podemos retornar `False` imediatamente; se não for o caso, temos que ir à letra seguinte. Se sairmos do _loop_ normalmente, isso quer dizer que não encontramos um `“e”`, então retornamos `True`.\n",
    "\n",
    "Você pode escrever esta função de forma mais concisa usando o operador `in`, mas comecei com esta versão porque ela demonstra a lógica do modelo de busca.\n",
    "\n",
    "`avoids` é uma versão mais geral de `has_no_e`, mas tem a mesma estrutura:"
   ]
  },
  {
   "cell_type": "markdown",
   "metadata": {},
   "source": [
    "```python\n",
    "def avoids(word, forbidden):\n",
    "    for letter in word:\n",
    "        if letter in forbidden:\n",
    "            return False\n",
    "    return True\n",
    "```"
   ]
  },
  {
   "cell_type": "markdown",
   "metadata": {},
   "source": [
    "Podemos retornar `False` logo que encontrarmos uma letra proibida; se chegarmos ao fim do _loop_, retornamos `True`.\n",
    "\n",
    "`uses_only` é semelhante, exceto pelo sentido da condição, que se inverte:"
   ]
  },
  {
   "cell_type": "markdown",
   "metadata": {},
   "source": [
    "```python\n",
    "def uses_only(word, available):\n",
    "    for letter in word:\n",
    "        if letter not in available:\n",
    "            return False\n",
    "    return True\n",
    "```"
   ]
  },
  {
   "cell_type": "markdown",
   "metadata": {},
   "source": [
    "Em vez de uma lista de letras proibidas, temos uma lista de letras disponíveis. Se encontrarmos uma letra em `word` que não está em `available`, podemos retornar `False`.\n",
    "\n",
    "`uses_all` é semelhante, mas invertemos a função da palavra e a string de letras:"
   ]
  },
  {
   "cell_type": "markdown",
   "metadata": {},
   "source": [
    "```python\n",
    "def uses_all(word, required):\n",
    "    for letter in required:\n",
    "        if letter not in word:\n",
    "            return False\n",
    "    return True\n",
    "```"
   ]
  },
  {
   "cell_type": "markdown",
   "metadata": {},
   "source": [
    "Em vez de atravessar as letras em `word`, o _loop_ atravessa as letras obrigatórias. Se alguma das letras obrigatórias não aparecer na palavra, podemos retornar `False`.\n",
    "\n",
    "Se você realmente estivesse pensando como um cientista da computação, teria reconhecido que `uses_all` foi um exemplo de um problema resolvido anteriormente e escreveria:"
   ]
  },
  {
   "cell_type": "markdown",
   "metadata": {},
   "source": [
    "```python \n",
    "def uses_all(word, required):\n",
    "    return uses_only(required, word)\n",
    "```"
   ]
  },
  {
   "cell_type": "markdown",
   "metadata": {},
   "source": [
    "Esse é um exemplo de um plano de desenvolvimento de programa chamado __redução a um problema resolvido anteriormente__, ou seja, você reconhece o problema no qual está trabalhando como um exemplo de um problema já resolvido e aplica uma solução existente."
   ]
  },
  {
   "cell_type": "markdown",
   "metadata": {},
   "source": [
    "## 9.4 - <i>Loop</i> com índices\n",
    "\n",
    "Escrevi as funções na seção anterior com _loops_ `for` porque eu só precisava dos caracteres nas strings; não precisava fazer nada com os índices.\n",
    "\n",
    "Para `is_abecedarian` temos que comparar letras adjacentes, o que é um pouco complicado para o _loop_ `for`:"
   ]
  },
  {
   "cell_type": "markdown",
   "metadata": {},
   "source": [
    "```python\n",
    "def is_abecedarian(word):\n",
    "    previous = word[0]\n",
    "    for c in word:\n",
    "        if c < previous:\n",
    "            return False\n",
    "        previous = c\n",
    "    return True\n",
    "```"
   ]
  },
  {
   "cell_type": "markdown",
   "metadata": {},
   "source": [
    "Uma alternativa é usar a recursividade:"
   ]
  },
  {
   "cell_type": "markdown",
   "metadata": {},
   "source": [
    "```python\n",
    "def is_abecedarian(word):\n",
    "    if len(word) <= 1:\n",
    "        return True\n",
    "    if word[0] > word[1]:\n",
    "        return False\n",
    "    return is_abecedarian(word[1:])\n",
    "```"
   ]
  },
  {
   "cell_type": "markdown",
   "metadata": {},
   "source": [
    "Outra opção é usar um _loop_ `while`:"
   ]
  },
  {
   "cell_type": "markdown",
   "metadata": {},
   "source": [
    "```python\n",
    "def is_abecedarian(word):\n",
    "    i = 0\n",
    "    while i < len(word)-1:\n",
    "        if word[i+1] < word[i]:\n",
    "            return False\n",
    "        i = i+1\n",
    "    return True\n",
    "    ```"
   ]
  },
  {
   "cell_type": "markdown",
   "metadata": {},
   "source": [
    "O _loop_ começa com `i == 0` e termina quando `i == len(word)-1`. Cada vez que passa pelo _loop_, o programa compara o “i-ésimo” caractere (que você pode considerar o caractere atual) com o caractere de posição `i+1` (que pode ser considerado o caractere seguinte).\n",
    "\n",
    "Se o próximo caractere for de uma posição anterior (alfabeticamente anterior) à atual, então descobrimos uma quebra na tendência alfabética, e retornamos `False`.\n",
    "\n",
    "Se chegarmos ao fim do loop sem encontrar uma quebra, então a palavra passa no teste. Para convencer-se de que o _loop_ termina corretamente, considere um exemplo como `'flossy'`. O comprimento da palavra é 6, então o _loop_ é executado pela última vez quando i for igual a 4, que é o índice do segundo caractere de trás para frente. Na última iteração, o programa compara o penúltimo caractere com o último, que é o que queremos.\n",
    "\n",
    "Aqui está uma versão de `is_palindrome` (veja o Exercício 6.3) que usa dois índices: um começa no início e aumenta; o outro começa no final e diminui."
   ]
  },
  {
   "cell_type": "markdown",
   "metadata": {},
   "source": [
    "```python\n",
    "def is_palindrome(word):\n",
    "    i = 0\n",
    "    j = len(word)-1\n",
    "    while i<j:\n",
    "        if word[i] != word[j]:\n",
    "            return False\n",
    "        i = i+1\n",
    "        j = j-1\n",
    "    return True\n",
    "```"
   ]
  },
  {
   "cell_type": "markdown",
   "metadata": {},
   "source": [
    "Ou podemos reduzir a um problema resolvido anteriormente e escrever:"
   ]
  },
  {
   "cell_type": "markdown",
   "metadata": {},
   "source": [
    "```python\n",
    "def is_palindrome(word):\n",
    "    return is_reverse(word, word)\n",
    "```"
   ]
  },
  {
   "cell_type": "markdown",
   "metadata": {},
   "source": [
    "Usando `is_reverse` da seção 8.11."
   ]
  },
  {
   "cell_type": "markdown",
   "metadata": {},
   "source": [
    "## 9.5 - Depuração\n",
    "\n",
    "Testar programas é difícil. As funções neste capítulo são relativamente fáceis para testar porque é possível verificar os resultados à mão. Ainda assim, pode ser difícil ou até impossível escolher um grupo de palavras que teste todos os erros possíveis.\n",
    "\n",
    "Tomando `has_no_e` como exemplo, há dois casos óbvios para verificar: as palavras que têm um `\"e\"` devem retornar `False`, e as palavras que não têm devem retornar `True`. Não deverá ser um problema pensar em um exemplo de cada uma.\n",
    "\n",
    "Dentro de cada caso, há alguns subcasos menos óbvios. Entre as palavras que têm um `“e”`, você deve testar palavras com um `“e”` no começo, no fim e em algum lugar no meio. Você deve testar palavras longas, palavras curtas e palavras muito curtas, como a string vazia. A string vazia é um exemplo de um **caso especial**, não óbvio, onde erros muitas vezes espreitam.\n",
    "\n",
    "Além dos casos de teste que você gerar, também pode ser uma boa ideia testar seu programa com uma lista de palavras como `words.txt`. Ao analisar a saída, pode ser que os erros apareçam, mas tenha cuidado: você pode pegar um tipo de erro (palavras que não deveriam ser incluídas, mas foram) e não outro (palavras que deveriam ser incluídas, mas não foram).\n",
    "\n",
    "Em geral, o teste pode ajudar a encontrar *bugs*, mas não é fácil gerar um bom conjunto de casos de teste, e, mesmo se conseguir, não há como ter certeza de que o programa está correto. Segundo um lendário cientista da computação:\n",
    "\n",
    "> Testar programas pode ser usado para mostrar a presença de *bugs*, mas nunca para mostrar a ausência deles! – Edsger W. Dijkstra"
   ]
  },
  {
   "cell_type": "markdown",
   "metadata": {},
   "source": [
    "## 9.6 - Glossário\n",
    "\n",
    "**objeto de arquivo**<br>\n",
    "&emsp;Um valor que representa um arquivo aberto.\n",
    "\n",
    "**redução a um problema resolvido anteriormente**<br>\n",
    "&emsp;Um modo de resolver um problema expressando-o como uma instância de um problema resolvido anteriormente.\n",
    "\n",
    "**caso especial**<br>\n",
    "&emsp;Um caso de teste que é atípico ou não é óbvio (e com probabilidade menor de ser tratado corretamente)."
   ]
  },
  {
   "cell_type": "markdown",
   "metadata": {},
   "source": [
    "## 9.7 - Exercícios"
   ]
  },
  {
   "cell_type": "markdown",
   "metadata": {},
   "source": [
    "### Exercício 9.7\n",
    "\n",
    "Esta pergunta é baseada em um quebra-cabeça veiculado em um programa de rádio chamado \"_Car Talk_\" (http://www.cartalk.com/content/puzzlers):\n",
    "\n",
    "> Dê uma palavra com três letras duplas consecutivas. Vou dar exemplos de palavras que quase cumprem a condição, mas não chegam lá. Por exemplo, a palavra committee, c-o-m-m-i-t-t-e-e. Seria perfeita se não fosse aquele ‘i’ que se meteu ali no meio. Ou Mississippi: M-i-s-s-i-s-s-i-p-p-i. Se pudesse tirar aqueles ‘is’, daria certo. Mas há uma palavra que tem três pares consecutivos de letras e, que eu saiba, pode ser a única palavra que existe. É claro que provavelmente haja mais umas 500, mas só consigo pensar nessa. Qual é a palavra?\n",
    "\n",
    "Escreva um programa que a encontre.\n",
    "\n",
    "Solução: http://thinkpython2.com/code/cartalk1.py."
   ]
  },
  {
   "cell_type": "markdown",
   "metadata": {},
   "source": [
    "### Exercício 9.8\n",
    "\n",
    "Aqui está outro quebra-cabeça do programa \"_Car Talk_\" (http://www.cartalk.com/content/puzzlers):\n",
    "\n",
    "> “Estava dirigindo outro dia e percebi algo no hodômetro que chamou a minha atenção. Como a maior parte dos hodômetros, ele mostra seis dígitos, apenas em milhas inteiras. Por exemplo, se o meu carro tivesse 300.000 milhas, eu veria 3-0-0-0-0-0.\n",
    "\n",
    "> “Agora, o que vi naquele dia foi muito interessante. Notei que os últimos 4 dígitos eram um palíndromo; isto é, podiam ser lidos da mesma forma no sentido correto e no sentido inverso. Por exemplo, 5-4-4-5 é um palíndromo, então no meu hodômetro poderia ser 3-1-5-4-4-5.\n",
    "\n",
    "> “Uma milha depois, os últimos 5 números formaram um palíndromo. Por exemplo, poderia ser 3-6-5-4-5-6. Uma milha depois disso, os 4 números do meio, dentro dos 6, formavam um palíndromo. E adivinhe só? Um milha depois, todos os 6 formavam um palíndromo!\n",
    "\n",
    "> “A pergunta é: o que estava no hodômetro quando olhei primeiro?”\n",
    "\n",
    "Escreva um programa Python que teste todos os números de seis dígitos e imprima qualquer número que satisfaça essas condições.\n",
    "\n",
    "Solução: http://thinkpython2.com/code/cartalk2.py."
   ]
  },
  {
   "cell_type": "markdown",
   "metadata": {},
   "source": [
    "### Exercício 9.9\n",
    "\n",
    "Aqui está outro problema do \"_Car Talk_\" que você pode resolver com uma busca (http://www.cartalk.com/content/puzzlers):\n",
    "\n",
    "> “Há pouco tempo recebi uma visita da minha mãe e percebemos que os dois dígitos que compõem a minha idade, quando invertidos, representavam a idade dela. Por exemplo, se ela tem 73 anos, eu tenho 37 anos. Ficamos imaginando com que frequência isto aconteceu nos anos anteriores, mas acabamos mudando de assunto e não chegamos a uma resposta.\n",
    "\n",
    "> “Quando cheguei em casa, cheguei à conclusão de que os dígitos das nossas idades tinham sido reversíveis seis vezes até então. Também percebi que, se tivéssemos sorte, isso aconteceria novamente dali a alguns anos, e se fôssemos muito sortudos, aconteceria mais uma vez depois disso. Em outras palavras, aconteceria 8 vezes no total. Então a pergunta é: quantos anos tenho agora?”\n",
    "\n",
    "Escreva um programa em Python que busque soluções para esse problema. Dica: pode ser uma boa ideia usar o método de string `zfill`."
   ]
  }
 ],
 "metadata": {
  "kernelspec": {
   "display_name": "Python 3",
   "language": "python",
   "name": "python3"
  },
  "language_info": {
   "codemirror_mode": {
    "name": "ipython",
    "version": 3
   },
   "file_extension": ".py",
   "mimetype": "text/x-python",
   "name": "python",
   "nbconvert_exporter": "python",
   "pygments_lexer": "ipython3",
   "version": "3.6.8"
  }
 },
 "nbformat": 4,
 "nbformat_minor": 2
}
