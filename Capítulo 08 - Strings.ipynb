{
 "cells": [
  {
   "cell_type": "markdown",
   "metadata": {},
   "source": [
    "# Capítulo 8: Strings\n",
    "\n",
    "Strings não são como números inteiros, de ponto flutuante ou booleanos. Uma string é uma **sequência**, ou seja, uma coleção ordenada de outros valores. Neste capítulo você verá como acessar os caracteres que compõem uma string e aprenderá alguns métodos que as strings oferecem.\n",
    "\n",
    "## 8.1 - Uma string é uma sequência\n",
    "\n",
    "Uma string é uma sequência de caracteres. Você pode acessar um caractere de cada vez com o operador de colchete:"
   ]
  },
  {
   "cell_type": "code",
   "execution_count": null,
   "metadata": {},
   "outputs": [],
   "source": [
    ">>> fruit = 'banana'\n",
    ">>> letter = fruit[1]"
   ]
  },
  {
   "cell_type": "markdown",
   "metadata": {},
   "source": [
    "A segunda instrução seleciona o caractere número `1` de `fruit` e o atribui a `letter`.\n",
    "\n",
    "A expressão entre colchetes chama-se **índice**. O índice aponta qual caractere da sequência você quer (daí o nome).\n",
    "\n",
    "Mas pode ser que você não obtenha o que espera:"
   ]
  },
  {
   "cell_type": "code",
   "execution_count": null,
   "metadata": {},
   "outputs": [],
   "source": [
    ">>> letter\n",
    "'a'"
   ]
  },
  {
   "cell_type": "markdown",
   "metadata": {},
   "source": [
    "Para a maior parte das pessoas, a primeira letra de `'banana'` é `b`, não `a`. Mas para os cientistas da computação, o índice é uma referência do começo da string, e a referência da primeira letra é zero."
   ]
  },
  {
   "cell_type": "code",
   "execution_count": null,
   "metadata": {},
   "outputs": [],
   "source": [
    ">>> letter = fruit[0]\n",
    ">>> letter\n",
    "'b'"
   ]
  },
  {
   "cell_type": "markdown",
   "metadata": {},
   "source": [
    "Então `b` é a 0ª (“zerésima”) letra de `'banana'`, `a` é a 1ª (primeira) letra e `n` é a 2ª (segunda) letra.\n",
    "\n",
    "Você pode usar uma expressão que contenha variáveis e operadores como índice:"
   ]
  },
  {
   "cell_type": "code",
   "execution_count": null,
   "metadata": {},
   "outputs": [],
   "source": [
    ">>> i = 1\n",
    ">>> fruit[i]\n",
    "'a'\n",
    ">>> fruit[i+1]\n",
    "'n'"
   ]
  },
  {
   "cell_type": "markdown",
   "metadata": {},
   "source": [
    "Porém, o valor do índice tem que ser um número inteiro. Se não for, é isso que aparece:"
   ]
  },
  {
   "cell_type": "markdown",
   "metadata": {},
   "source": [
    "```python\n",
    ">>> letter = fruit[1.5]```"
   ]
  },
  {
   "cell_type": "raw",
   "metadata": {},
   "source": [
    "TypeError: string indices must be integers"
   ]
  },
  {
   "cell_type": "markdown",
   "metadata": {},
   "source": [
    "## 8.2 - len\n",
    "\n",
    "`len` é uma função integrada que devolve o número de caracteres em uma string:"
   ]
  },
  {
   "cell_type": "code",
   "execution_count": null,
   "metadata": {},
   "outputs": [],
   "source": [
    ">>> fruit = 'banana'\n",
    ">>> len(fruit)\n",
    "6"
   ]
  },
  {
   "cell_type": "markdown",
   "metadata": {},
   "source": [
    "Para obter a última letra de uma string, pode parecer uma boa ideia tentar algo assim:"
   ]
  },
  {
   "cell_type": "code",
   "execution_count": null,
   "metadata": {},
   "outputs": [],
   "source": [
    ">>> length = len(fruit)"
   ]
  },
  {
   "cell_type": "markdown",
   "metadata": {},
   "source": [
    "```python\n",
    ">>> last = fruit[length]```"
   ]
  },
  {
   "cell_type": "raw",
   "metadata": {},
   "source": [
    "IndexError: string index out of range"
   ]
  },
  {
   "cell_type": "markdown",
   "metadata": {},
   "source": [
    "A razão de haver um `IndexError` aqui é que não há nenhuma letra em `'banana'` com o índice `6`. Como a contagem inicia no zero, as seis letras são numeradas de `0` a `5`. Para obter o último caractere, você deve subtrair `1` de `length`:"
   ]
  },
  {
   "cell_type": "code",
   "execution_count": null,
   "metadata": {},
   "outputs": [],
   "source": [
    ">>> last = fruit[length-1]\n",
    ">>> last\n",
    "'a'"
   ]
  },
  {
   "cell_type": "markdown",
   "metadata": {},
   "source": [
    "Ou você pode usar índices negativos, que contam de trás para a frente a partir do fim da string. A expressão `fruit[-1]` apresenta a última letra, `fruit[-2]` apresenta a segunda letra de trás para a frente, e assim por diante.\n",
    "\n",
    "## 8.3 - Travessia com loop for\n",
    "\n",
    "Muitos cálculos implicam o processamento de um caractere por vez em uma string. Muitas vezes começam no início, selecionam um caractere por vez, fazem algo e continuam até o fim. Este modelo do processamento chama-se **travessia**. Um modo de escrever uma travessia é com o _loop_ `while`:"
   ]
  },
  {
   "cell_type": "code",
   "execution_count": null,
   "metadata": {},
   "outputs": [],
   "source": [
    "index = 0\n",
    "while index < len(fruit):\n",
    "    letter = fruit[index]\n",
    "    print(letter)\n",
    "    index = index + 1"
   ]
  },
  {
   "cell_type": "markdown",
   "metadata": {},
   "source": [
    "Este _loop_ atravessa a string e exibe cada letra sozinha em uma linha. A condição do _loop_ é `index < len (fruit)`, então quando `index` é igual ao comprimento da string, a condição é falsa e o corpo do _loop_ não é mais executado. O último caractere acessado é aquele com o índice `len (fruit)-1`, que é o último caractere na string.\n",
    "\n",
    "Como exercício, escreva uma função que receba uma string como argumento e exiba as letras de trás para a frente, uma por linha.\n",
    "\n",
    "Outra forma de escrever uma travessia é com um _loop_ `for`:"
   ]
  },
  {
   "cell_type": "code",
   "execution_count": null,
   "metadata": {},
   "outputs": [],
   "source": [
    "for letter in fruit:\n",
    "    print(letter)"
   ]
  },
  {
   "cell_type": "markdown",
   "metadata": {},
   "source": [
    "Cada vez que o programa passar pelo _loop_, o caractere seguinte na string é atribuído à variável `letter`. O _loop_ continua até que não sobre nenhum caractere.\n",
    "\n",
    "O próximo exemplo mostra como usar a concatenação (adição de strings) e um _loop_ `for` para gerar uma série abecedária (isto é, em ordem alfabética). No livro de Robert McCloskey, \"_Make Way for Ducklings_\" (Abram caminho para os patinhos), os nomes dos patinhos são Jack, Kack, Lack, Mack, Nack, Ouack, Pack e Quack. Este _loop_ produz estes nomes em ordem:"
   ]
  },
  {
   "cell_type": "code",
   "execution_count": null,
   "metadata": {},
   "outputs": [],
   "source": [
    "prefixes = 'JKLMNOPQ'\n",
    "suffix = 'ack'\n",
    "for letter in prefixes:\n",
    "    print(letter + suffix)"
   ]
  },
  {
   "cell_type": "markdown",
   "metadata": {},
   "source": [
    "A saída é:"
   ]
  },
  {
   "cell_type": "raw",
   "metadata": {},
   "source": [
    "Jack\n",
    "Kack\n",
    "Lack\n",
    "Mack\n",
    "Nack\n",
    "Oack\n",
    "Pack\n",
    "Qack"
   ]
  },
  {
   "cell_type": "markdown",
   "metadata": {},
   "source": [
    "Claro que não está exatamente certo porque “Ouack” e “Quack” foram mal soletrados. Como exercício, altere o programa para corrigir este erro.\n",
    "\n",
    "## 8.4 - Fatiamento de strings\n",
    "\n",
    "Um segmento de uma string é chamado de **fatia**. Selecionar uma fatia é como selecionar um caractere:"
   ]
  },
  {
   "cell_type": "code",
   "execution_count": null,
   "metadata": {},
   "outputs": [],
   "source": [
    ">>> s = 'Monty Python'\n",
    ">>> s[0:5]\n",
    "'Monty'\n",
    ">>> s[6:12]\n",
    "'Python'"
   ]
  },
  {
   "cell_type": "markdown",
   "metadata": {},
   "source": [
    "O operador `[n:m]` retorna a parte da string do “enésimo” caractere ao “emésimo” caractere, incluindo o primeiro, mas excluindo o último. Este comportamento é contraintuitivo, porém pode ajudar a imaginar os índices que indicam a parte *entre* os caracteres, como na Figura 8.1.\n",
    "\n",
    "![Figura 8.1 – Índices de fatias.](https://github.com/PenseAllen/PensePython2e/raw/master/fig/tnkp_0801.png)\n",
    "<br>_Figura 8.1 – Índices de fatias._\n",
    "\n",
    "Se você omitir o primeiro índice (antes dos dois pontos), a fatia começa no início da string. Se omitir o segundo índice, a fatia vai ao fim da string:"
   ]
  },
  {
   "cell_type": "code",
   "execution_count": null,
   "metadata": {},
   "outputs": [],
   "source": [
    ">>> fruit = 'banana'\n",
    ">>> fruit[:3]"
   ]
  },
  {
   "cell_type": "code",
   "execution_count": null,
   "metadata": {},
   "outputs": [],
   "source": [
    ">>> fruit[3:]"
   ]
  },
  {
   "cell_type": "markdown",
   "metadata": {},
   "source": [
    "Se o primeiro índice for maior ou igual ao segundo, o resultado é uma **string vazia**, representada por duas aspas:"
   ]
  },
  {
   "cell_type": "code",
   "execution_count": null,
   "metadata": {},
   "outputs": [],
   "source": [
    ">>> fruit = 'banana'\n",
    ">>> fruit[3:3]"
   ]
  },
  {
   "cell_type": "markdown",
   "metadata": {},
   "source": [
    "Uma string vazia não contém nenhum caractere e tem o comprimento 0, fora isso, é igual a qualquer outra string.\n",
    "\n",
    "Continuando este exemplo, o que você acha que `fruit[:]` significa? Teste e veja."
   ]
  },
  {
   "cell_type": "code",
   "execution_count": null,
   "metadata": {},
   "outputs": [],
   "source": [
    ">> fruit[:]"
   ]
  },
  {
   "cell_type": "markdown",
   "metadata": {},
   "source": [
    "## 8.5 - Strings são imutáveis\n",
    "\n",
    "É tentador usar o operador `[]` no lado esquerdo de uma atribuição, com a intenção de alterar um caractere em uma string. Por exemplo:"
   ]
  },
  {
   "cell_type": "code",
   "execution_count": null,
   "metadata": {},
   "outputs": [],
   "source": [
    ">>> greeting = 'Hello, world!'"
   ]
  },
  {
   "cell_type": "markdown",
   "metadata": {},
   "source": [
    "```python\n",
    ">>> greeting[0] = 'J'```"
   ]
  },
  {
   "cell_type": "raw",
   "metadata": {},
   "source": [
    "TypeError: 'str' object does not support item assignment"
   ]
  },
  {
   "cell_type": "markdown",
   "metadata": {},
   "source": [
    "O “objeto” neste caso é a string e o “item” é o caractere que você tentou atribuir. Por enquanto, um objeto é a mesma coisa que um valor, mas refinaremos esta definição mais adiante (Objetos e valores, no capítulo 10).\n",
    "\n",
    "A razão do erro é que as strings são **imutáveis**, o que significa que você não pode alterar uma string existente. O melhor que você pode fazer é criar uma string que seja uma variação da original:"
   ]
  },
  {
   "cell_type": "code",
   "execution_count": null,
   "metadata": {},
   "outputs": [],
   "source": [
    ">>> new_greeting = 'J' + greeting[1:]\n",
    ">>> new_greeting"
   ]
  },
  {
   "cell_type": "markdown",
   "metadata": {},
   "source": [
    "Esse exemplo concatena uma nova primeira letra a uma fatia de `greeting`. Não tem efeito sobre a string original.\n",
    "\n",
    "## 8.6 - Buscando"
   ]
  },
  {
   "cell_type": "markdown",
   "metadata": {},
   "source": [
    "O que faz a seguinte função?"
   ]
  },
  {
   "cell_type": "code",
   "execution_count": null,
   "metadata": {},
   "outputs": [],
   "source": [
    "def find(word, letter):\n",
    "    index = 0\n",
    "    while index < len(word):\n",
    "        if word[index] == letter:\n",
    "            return index\n",
    "        index = index + 1\n",
    "    return-1"
   ]
  },
  {
   "cell_type": "markdown",
   "metadata": {},
   "source": [
    "De certo modo, `find` é o inverso do operador `[]`. Em vez de tomar um índice e extrair o caractere correspondente, ele toma um caractere e encontra o índice onde aquele caractere aparece. Se o caractere não for encontrado, a função retorna -1.\n",
    "\n",
    "Esse é o primeiro exemplo que vimos de uma instrução `return` dentro de um _loop_. Se `word[index] == letter`, a função sai do loop e retorna imediatamente.\n",
    "\n",
    "Se o caractere não aparecer na string, o programa sai do _loop_ normalmente e devolve `-1`.\n",
    "\n",
    "Este modelo de cálculo – atravessar uma sequência e retornar quando encontramos o que estamos procurando – chama-se **busca**.\n",
    "\n",
    "Como exercício, altere `find` para que tenha um terceiro parâmetro: o índice em `word` onde deve começar a busca.\n",
    "\n",
    "## 8.7 - <i>Loop</i> e contagem\n",
    "\n",
    "O seguinte programa conta o número de vezes que a letra `a` aparece em uma string:"
   ]
  },
  {
   "cell_type": "code",
   "execution_count": null,
   "metadata": {},
   "outputs": [],
   "source": [
    "word = 'banana'\n",
    "count = 0\n",
    "for letter in word:\n",
    "    if letter == 'a':\n",
    "        count = count + 1\n",
    "print(count)"
   ]
  },
  {
   "cell_type": "markdown",
   "metadata": {},
   "source": [
    "Este programa demonstra outro padrão de computação chamado **contador**. A variável `count` é inicializada com `0` e então incrementada cada vez que um a é encontrado. Ao sair do loop, `count` contém o resultado – o número total de letras `'a'`.\n",
    "\n",
    "Como exercício, encapsule este código em uma função denominada `count` e generalize-o para que aceite a string e a letra como argumentos.\n",
    "\n",
    "Então reescreva a função para que, em vez de atravessar a string, ela use a versão de três parâmetros do `find` da seção anterior.\n",
    "\n",
    "## 8.8 - Métodos de strings\n",
    "\n",
    "As strings oferecem métodos que executam várias operações úteis. Um método é semelhante a uma função – toma argumentos e devolve um valor –, mas a sintaxe é diferente. Por exemplo, o método `upper` recebe uma string e devolve uma nova string com todas as letras maiúsculas.\n",
    "\n",
    "Em vez da sintaxe de função `upper(word)`, ela usa a sintaxe de método `word.upper()`:"
   ]
  },
  {
   "cell_type": "code",
   "execution_count": null,
   "metadata": {},
   "outputs": [],
   "source": [
    ">>> word = 'banana'\n",
    ">>> new_word = word.upper()\n",
    ">>> new_word"
   ]
  },
  {
   "cell_type": "markdown",
   "metadata": {},
   "source": [
    "Esta forma de notação de ponto especifica o nome do método, `upper` e o nome da string, `word`, à qual o método será aplicado. Os parênteses vazios indicam que este método não toma nenhum argumento.\n",
    "\n",
    "Uma chamada de método denomina-se **invocação**; neste caso, diríamos que estamos invocando `upper` em `word`.\n",
    "\n",
    "E, na verdade, há um método de string denominado `find`, que é notavelmente semelhante à função que escrevemos:"
   ]
  },
  {
   "cell_type": "code",
   "execution_count": null,
   "metadata": {},
   "outputs": [],
   "source": [
    ">>> word = 'banana'\n",
    ">>> index = word.find('a')\n",
    ">>> index"
   ]
  },
  {
   "cell_type": "markdown",
   "metadata": {},
   "source": [
    "Neste exemplo, invocamos `find` em `word` e passamos a letra que estamos procurando como um parâmetro.\n",
    "\n",
    "Na verdade, o método `find` é mais geral que a nossa função; ele pode encontrar substrings, não apenas caracteres:"
   ]
  },
  {
   "cell_type": "code",
   "execution_count": null,
   "metadata": {},
   "outputs": [],
   "source": [
    ">>> word.find('na')"
   ]
  },
  {
   "cell_type": "markdown",
   "metadata": {},
   "source": [
    "Por padrão, `find` inicia no começo da string, mas pode receber um segundo argumento, o índice onde deve começar:"
   ]
  },
  {
   "cell_type": "code",
   "execution_count": null,
   "metadata": {},
   "outputs": [],
   "source": [
    ">>> word.find('na', 3)"
   ]
  },
  {
   "cell_type": "markdown",
   "metadata": {},
   "source": [
    "Este é um exemplo de um **argumento opcional**. `find` também pode receber um terceiro argumento, o índice para onde deve parar:"
   ]
  },
  {
   "cell_type": "code",
   "execution_count": null,
   "metadata": {},
   "outputs": [],
   "source": [
    ">>> name = 'bob'\n",
    ">>> name.find('b', 1, 2)"
   ]
  },
  {
   "cell_type": "markdown",
   "metadata": {},
   "source": [
    "Esta busca falha porque `'b'` não aparece no intervalo do índice de 1 a 2, não incluindo 2. Fazer buscas até (mas não incluindo) o segundo índice torna `find` similar ao operador de fatiamento.\n",
    "\n",
    "## 8.9 - Operador in\n",
    "\n",
    "A palavra `in` é um operador booleano que recebe duas strings e retorna `True` se a primeira aparecer como uma substring da segunda:"
   ]
  },
  {
   "cell_type": "code",
   "execution_count": null,
   "metadata": {},
   "outputs": [],
   "source": [
    ">>> 'a' in 'banana'"
   ]
  },
  {
   "cell_type": "code",
   "execution_count": null,
   "metadata": {},
   "outputs": [],
   "source": [
    ">>> 'seed' in 'banana'"
   ]
  },
  {
   "cell_type": "markdown",
   "metadata": {},
   "source": [
    "Por exemplo, a seguinte função imprime todas as letras de `word1` que também aparecem em `word2`:"
   ]
  },
  {
   "cell_type": "code",
   "execution_count": null,
   "metadata": {},
   "outputs": [],
   "source": [
    "def in_both(word1, word2):\n",
    "    for letter in word1:\n",
    "        if letter in word2:\n",
    "            print(letter)"
   ]
  },
  {
   "cell_type": "markdown",
   "metadata": {},
   "source": [
    "Com nomes de variáveis bem escolhidos, o Python às vezes pode ser lido como um texto em inglês. Você pode ler este _loop_, “para (cada) letra em (a primeira) palavra, se (a) letra (aparecer) em (a segunda) palavra, exiba (a) letra”.\n",
    "\n",
    "Veja o que é apresentado ao se comparar maçãs e laranjas:"
   ]
  },
  {
   "cell_type": "code",
   "execution_count": null,
   "metadata": {},
   "outputs": [],
   "source": [
    ">>> in_both('apples', 'oranges')"
   ]
  },
  {
   "cell_type": "markdown",
   "metadata": {},
   "source": [
    "## 8.10 - Comparação de strings\n",
    "\n",
    "Os operadores relacionais funcionam em strings. Para ver se duas strings são iguais:"
   ]
  },
  {
   "cell_type": "code",
   "execution_count": null,
   "metadata": {},
   "outputs": [],
   "source": [
    "if word == 'banana':\n",
    "    print('All right, bananas.')"
   ]
  },
  {
   "cell_type": "markdown",
   "metadata": {},
   "source": [
    "Outras operações relacionais são úteis para colocar palavras em ordem alfabética:"
   ]
  },
  {
   "cell_type": "code",
   "execution_count": null,
   "metadata": {},
   "outputs": [],
   "source": [
    "if word < 'banana':\n",
    "    print('Your word, ' + word + ', comes before banana.')\n",
    "elif word > 'banana':\n",
    "    print('Your word, ' + word + ', comes after banana.')\n",
    "else:\n",
    "    print('All right, bananas.')"
   ]
  },
  {
   "cell_type": "markdown",
   "metadata": {},
   "source": [
    "O Python não lida com letras maiúsculas e minúsculas do mesmo jeito que as pessoas. Todas as letras maiúsculas vêm antes de todas as letras minúsculas, portanto:"
   ]
  },
  {
   "cell_type": "raw",
   "metadata": {},
   "source": [
    "Your word, Pineapple, comes before banana."
   ]
  },
  {
   "cell_type": "markdown",
   "metadata": {},
   "source": [
    "Uma forma comum de lidar com este problema é converter strings em um formato padrão, como letras minúsculas, antes de executar a comparação. Lembre-se disso caso tenha que se defender de um [homem armado com um abacaxi](https://www.youtube.com/watch?v=jfIkMXw_YM4).\n",
    "\n",
    "## 8.11 - Depuração\n",
    "\n",
    "Ao usar índices para atravessar os valores em uma sequência, é complicado acertar o começo e o fim da travessia. Aqui está uma função que supostamente compara duas palavras e retorna `True` se uma das palavras for o reverso da outra, mas contém dois erros:"
   ]
  },
  {
   "cell_type": "markdown",
   "metadata": {},
   "source": [
    "```python\n",
    "def is_reverse(word1, word2):\n",
    "    if len(word1) != len(word2):\n",
    "        return False\n",
    "    i = 0\n",
    "    j = len(word2)\n",
    "    while j > 0:\n",
    "        if word1[i] != word2[j]:\n",
    "            return False\n",
    "        i = i+1\n",
    "        j = j-1\n",
    "    return True\n",
    "    ```"
   ]
  },
  {
   "cell_type": "markdown",
   "metadata": {},
   "source": [
    "A primeira instrução `if` verifica se as palavras têm o mesmo comprimento. Se não for o caso, podemos retornar `False` imediatamente. Do contrário, para o resto da função, podemos supor que as palavras tenham o mesmo comprimento. Este é um exemplo do modelo guardião em “Verificação de tipos”, na página 101.\n",
    "\n",
    "`i` e `j` são índices: `i` atravessa `word1` para a frente, enquanto `j` atravessa `word2` para trás. Se encontrarmos duas letras que não combinam, podemos retornar `False` imediatamente. Se terminarmos o _loop_ inteiro e todas as letras corresponderem, retornamos `True`.\n",
    "\n",
    "Se testarmos esta função com as palavras `“pots”` e `“stop”`, esperamos o valor de retorno `True`, mas recebemos um `IndexError`:"
   ]
  },
  {
   "cell_type": "markdown",
   "metadata": {},
   "source": [
    "```python\n",
    ">>> is_reverse('pots', 'stop')\n",
    "```"
   ]
  },
  {
   "cell_type": "raw",
   "metadata": {},
   "source": [
    "...\n",
    "  File \"reverse.py\", line 15, in is_reverse\n",
    "    if word1[i] != word2[j]:\n",
    "IndexError: string index out of range"
   ]
  },
  {
   "cell_type": "markdown",
   "metadata": {},
   "source": [
    "Para depurar este tipo de erro, minha primeira ação é exibir os valores dos índices imediatamente antes da linha onde o erro aparece."
   ]
  },
  {
   "cell_type": "markdown",
   "metadata": {},
   "source": [
    "```python\n",
    "while j > 0:\n",
    "    print(i, j)        # exibir aqui\n",
    "    if word1[i] != word2[j]:\n",
    "        return False\n",
    "    i = i+1\n",
    "    j = j-1\n",
    "    ```"
   ]
  },
  {
   "cell_type": "markdown",
   "metadata": {},
   "source": [
    "Agora quando executo o programa novamente, recebo mais informação:"
   ]
  },
  {
   "cell_type": "markdown",
   "metadata": {},
   "source": [
    "```python\n",
    ">>> is_reverse('pots', 'stop')\n",
    "```"
   ]
  },
  {
   "cell_type": "raw",
   "metadata": {},
   "source": [
    "0 4\n",
    "...\n",
    "IndexError: string index out of range"
   ]
  },
  {
   "cell_type": "markdown",
   "metadata": {},
   "source": [
    "Na primeira vez que o programa passar pelo _loop_ , o valor de `j` é `4`, que está fora do intervalo da string `'pots'`. O índice do último caractere é `3`, então o valor inicial de `j` deve ser `len(word2)-1`.\n",
    "\n",
    "Se corrigir esse erro e executar o programa novamente, recebo:"
   ]
  },
  {
   "cell_type": "code",
   "execution_count": null,
   "metadata": {},
   "outputs": [],
   "source": [
    "def is_reverse(word1, word2):\n",
    "    if len(word1) != len(word2):\n",
    "        return False\n",
    "    i = 0\n",
    "    j = len(word2)-1\n",
    "    while j > 0:\n",
    "        print(i, j)\n",
    "        if word1[i] != word2[j]:\n",
    "            return False\n",
    "        i = i+1\n",
    "        j = j-1\n",
    "    return True"
   ]
  },
  {
   "cell_type": "code",
   "execution_count": null,
   "metadata": {},
   "outputs": [],
   "source": [
    ">>> is_reverse('pots', 'stop')"
   ]
  },
  {
   "cell_type": "markdown",
   "metadata": {},
   "source": [
    "Desta vez, recebemos a resposta certa, mas parece que o _loop_ só foi executado três vezes, o que é suspeito. Para ter uma ideia melhor do que está acontecendo, é útil desenhar um diagrama de estado. Durante a primeira iteração, o frame de `is_reverse` é mostrado na Figura 8.2.\n",
    "\n",
    "![Figura 8.2 – Diagrama de estado de is_reverse.](https://github.com/PenseAllen/PensePython2e/raw/master/fig/tnkp_0802.png)\n",
    "<br>_8.2 – Diagrama de estado de is&#95;reverse._\n",
    "\n",
    "Tomei a liberdade de arrumar as variáveis no _frame_ e acrescentei linhas pontilhadas para mostrar que os valores de `i` e `j` indicam caracteres em `word1` e `word2`.\n",
    "\n",
    "Começando com este diagrama, execute o programa em papel, alterando os valores de `i` e `j` durante cada iteração. Encontre e corrija o segundo erro desta função.\n",
    "\n",
    "## 8.12 - Glossário\n",
    "\n",
    "**objeto** <br>\n",
    "&emsp;Algo a que uma variável pode se referir. Por enquanto, você pode usar “objeto” e “valor” de forma intercambiável.\n",
    "\n",
    "**sequência** <br>\n",
    "&emsp;Uma coleção ordenada de valores onde cada valor é identificado por um índice de número inteiro.\n",
    "\n",
    "**item** <br>\n",
    "&emsp;Um dos valores em uma sequência.\n",
    "\n",
    "**índice** <br>\n",
    "&emsp;Um valor inteiro usado para selecionar um item em uma sequência, como um caractere em uma string. No Python, os índices começam em 0.\n",
    "\n",
    "**fatia** <br>\n",
    "&emsp;Parte de uma string especificada por um intervalo de índices.\n",
    "\n",
    "**string vazia** <br>\n",
    "&emsp;Uma string sem caracteres e de comprimento 0, representada por duas aspas.\n",
    "\n",
    "**imutável** <br>\n",
    "&emsp;A propriedade de uma sequência cujos itens não podem ser alterados.\n",
    "\n",
    "**atravessar** <br>\n",
    "&emsp;Repetir os itens em uma sequência, executando uma operação semelhante em cada um.\n",
    "\n",
    "**busca** <br>\n",
    "&emsp;Um modelo de travessia que é interrompido quando encontra o que está procurando.\n",
    "\n",
    "**contador** <br>\n",
    "&emsp;Uma variável usada para contar algo, normalmente inicializada com zero e então incrementada.\n",
    "\n",
    "**invocação** <br>\n",
    "&emsp;Uma instrução que chama um método.\n",
    "\n",
    "**argumento opcional** <br>\n",
    "&emsp;Um argumento de função ou método que não é necessário.\n",
    "\n",
    "\n",
    "## 8.13 - Exercícios\n",
    "\n",
    "### Exercício 8.1\n",
    "\n",
    "Leia a documentação dos métodos de strings em http://docs.python.org/3/library/stdtypes.html#string-methods. Pode ser uma boa ideia experimentar alguns deles para entender como funcionam. `strip` e `replace` são especialmente úteis.\n",
    "\n",
    "A documentação usa uma sintaxe que pode ser confusa. Por exemplo, em `find(sub[, start[, end]])`, os colchetes indicam argumentos opcionais. Então `sub` é exigido, mas `start` é opcional, e se você incluir `start`, então `end` é opcional.\n",
    "\n",
    "### Exercício 8.2\n",
    "\n",
    "Há um método de string chamado `count`, que é semelhante à função em “_Loop_ e contagem”, na página 123. Leia a documentação deste método e escreva uma invocação que conte o número de letras `'a'` em 'banana'.\n",
    "\n",
    "### Exercício 8.3\n",
    "\n",
    "Uma fatia de string pode receber um terceiro índice que especifique o “tamanho do passo”; isto é, o número de espaços entre caracteres sucessivos. Um tamanho de passo 2 significa tomar um caractere e outro não; 3 significa tomar um e dois não etc."
   ]
  },
  {
   "cell_type": "code",
   "execution_count": null,
   "metadata": {},
   "outputs": [],
   "source": [
    ">>> fruit = 'banana'\n",
    ">>> fruit[0:5:2]"
   ]
  },
  {
   "cell_type": "markdown",
   "metadata": {},
   "source": [
    "Um tamanho de passo -1 atravessa a palavra de trás para a frente, então a fatia `[::-1]` gera uma string invertida.\n",
    "\n",
    "Use isso para escrever uma versão de uma linha de `is_palindrome` do Exercício 6.3.\n",
    "\n",
    "### Exercício 8.4\n",
    "\n",
    "As seguintes funções pretendem verificar se uma string contém alguma letra minúscula, mas algumas delas estão erradas. Para cada função, descreva o que ela faz (assumindo que o parâmetro seja uma string)."
   ]
  },
  {
   "cell_type": "markdown",
   "metadata": {},
   "source": [
    "```python\n",
    "def any_lowercase1(s):\n",
    "    for c in s:\n",
    "        if c.islower():\n",
    "            return True\n",
    "        else:\n",
    "            return False\n",
    "\n",
    "def any_lowercase2(s):\n",
    "    for c in s:\n",
    "        if 'c'.islower():\n",
    "            return 'True'\n",
    "        else:\n",
    "            return 'False'\n",
    "\n",
    "def any_lowercase3(s):\n",
    "    for c in s:\n",
    "        flag = c.islower()\n",
    "    return flag\n",
    "\n",
    "def any_lowercase4(s):\n",
    "    flag = False\n",
    "    for c in s:\n",
    "        flag = flag or c.islower()\n",
    "    return flag\n",
    "\n",
    "def any_lowercase5(s):\n",
    "    for c in s:\n",
    "        if not c.islower():\n",
    "            return False\n",
    "    return True\n",
    "```"
   ]
  },
  {
   "cell_type": "markdown",
   "metadata": {},
   "source": [
    "### Exercício 8.5\n",
    "\n",
    "Uma cifra de César é uma forma fraca de criptografia que implica “rotacionar” cada letra por um número fixo de lugares. Rotacionar uma letra significa deslocá-lo pelo alfabeto, voltando ao início se for necessário, portanto `‘A’` rotacionado por 3 é `‘D’` e `‘Z’` rotacionado por 1 é `‘A’`.\n",
    "\n",
    "Para rotacionar uma palavra, faça cada letra se mover pela mesma quantidade de posições. Por exemplo, `“cheer”` rotacionado por 7 é `“jolly”` e `“melon”` rotacionado por -10 é `“cubed”`. No filme 2001: Uma odisseia no espaço, o computador da nave chama-se HAL, que é IBM rotacionado por -1.\n",
    "\n",
    "Escreva uma função chamada `rotate_word` que receba uma string e um número inteiro como parâmetros, e retorne uma nova string que contém as letras da string original rotacionadas pelo número dado.\n",
    "\n",
    "Você pode usar a função integrada `ord`, que converte um caractere em um código numérico e `chr`, que converte códigos numéricos em caracteres. As letras do alfabeto são codificadas em ordem alfabética, então, por exemplo:"
   ]
  },
  {
   "cell_type": "code",
   "execution_count": null,
   "metadata": {},
   "outputs": [],
   "source": [
    ">>> ord('c') - ord('a')"
   ]
  },
  {
   "cell_type": "markdown",
   "metadata": {},
   "source": [
    "Porque `'c'` é a “segunda” letra do alfabeto. Mas tenha cuidado: os códigos numéricos de letras maiúsculas são diferentes.\n",
    "\n",
    "Piadas potencialmente ofensivas na internet às vezes são codificadas em ROT13, que é uma cifra de César com rotação 13. Se não se ofender facilmente, encontre e decifre algumas delas."
   ]
  }
 ],
 "metadata": {
  "kernelspec": {
   "display_name": "Python 3",
   "language": "python",
   "name": "python3"
  },
  "language_info": {
   "codemirror_mode": {
    "name": "ipython",
    "version": 3
   },
   "file_extension": ".py",
   "mimetype": "text/x-python",
   "name": "python",
   "nbconvert_exporter": "python",
   "pygments_lexer": "ipython3",
   "version": "3.6.8"
  }
 },
 "nbformat": 4,
 "nbformat_minor": 2
}
