{
  "nbformat": 4,
  "nbformat_minor": 0,
  "metadata": {
    "kernelspec": {
      "display_name": "Python 3",
      "language": "python",
      "name": "python3"
    },
    "language_info": {
      "codemirror_mode": {
        "name": "ipython",
        "version": 3
      },
      "file_extension": ".py",
      "mimetype": "text/x-python",
      "name": "python",
      "nbconvert_exporter": "python",
      "pygments_lexer": "ipython3",
      "version": "3.7.3"
    },
    "colab": {
      "name": "Capítulo 02 - Variáveis, expressões e instruções.ipynb",
      "provenance": []
    }
  },
  "cells": [
    {
      "cell_type": "markdown",
      "metadata": {
        "id": "DofI4LVA1HeQ"
      },
      "source": [
        "# Capítulo 2: Variáveis, expressões e instruções"
      ]
    },
    {
      "cell_type": "markdown",
      "metadata": {
        "id": "Zf8gcQlw1HeT"
      },
      "source": [
        "Um dos recursos mais eficientes de uma linguagem de programação é a capacidade de manipular variáveis. Uma **variável** é um nome que se refere a um valor."
      ]
    },
    {
      "cell_type": "markdown",
      "metadata": {
        "id": "PIs_A8Tp1HeT"
      },
      "source": [
        "## 2.1 - Instruções de atribuição"
      ]
    },
    {
      "cell_type": "markdown",
      "metadata": {
        "id": "2zgllCHH1HeU"
      },
      "source": [
        "Uma **instrução de atribuição** cria uma nova variável e dá um valor a ela:"
      ]
    },
    {
      "cell_type": "code",
      "metadata": {
        "id": "YwW2L7cN1HeU"
      },
      "source": [
        ">>> message = 'And now for something completely different'"
      ],
      "execution_count": 7,
      "outputs": []
    },
    {
      "cell_type": "code",
      "metadata": {
        "id": "SwvHL0Bn1HeV"
      },
      "source": [
        ">>> n = 17"
      ],
      "execution_count": 8,
      "outputs": []
    },
    {
      "cell_type": "code",
      "metadata": {
        "id": "oUa8PoDs1HeV"
      },
      "source": [
        ">>> pi = 3.141592653589793"
      ],
      "execution_count": 9,
      "outputs": []
    },
    {
      "cell_type": "markdown",
      "metadata": {
        "id": "PTjfF_It1HeW"
      },
      "source": [
        "Esse exemplo faz três atribuições. A primeira atribui uma string a uma nova variável chamada `message`; a segunda dá o número inteiro 17 a `n`; a terceira atribui o valor (aproximado) de π a `pi`."
      ]
    },
    {
      "cell_type": "markdown",
      "metadata": {
        "id": "sppP2i6N1HeX"
      },
      "source": [
        "Uma forma comum de representar variáveis por escrito é colocar o nome com uma flecha apontando para o seu valor. Este tipo de número é chamado de **diagrama de estado** porque mostra o estado no qual cada uma das variáveis está (pense nele como o estado de espírito da variável). A Figura 2.1 mostra o resultado do exemplo anterior."
      ]
    },
    {
      "cell_type": "markdown",
      "metadata": {
        "id": "XgLpYM_g1HeX"
      },
      "source": [
        "<center><image src=\"https://github.com/PenseAllen/PensePython2e/raw/master/fig/tnkp_0201.png\"></center>"
      ]
    },
    {
      "cell_type": "markdown",
      "metadata": {
        "id": "5SFFqkkA1HeY"
      },
      "source": [
        "<h5><center>Figura 2.1 - Diagrama de estado.</center></h5>"
      ]
    },
    {
      "cell_type": "markdown",
      "metadata": {
        "id": "z-IdTxaQ1HeY"
      },
      "source": [
        "## 2.2 - Nomes de variáveis"
      ]
    },
    {
      "cell_type": "markdown",
      "metadata": {
        "id": "WWu4VAfo1HeY"
      },
      "source": [
        "Os programadores geralmente escolhem nomes significativos para as suas variáveis – eles documentam o uso da variável."
      ]
    },
    {
      "cell_type": "markdown",
      "metadata": {
        "id": "VKr3f_vD1HeY"
      },
      "source": [
        "Nomes de variáveis podem ser tão longos quanto você queira. Podem conter tanto letras como números, mas não podem começar com um número. É legal usar letras maiúsculas, mas a convenção é usar apenas letras minúsculas para nomes de variáveis."
      ]
    },
    {
      "cell_type": "markdown",
      "metadata": {
        "id": "PPloCsIE1HeZ"
      },
      "source": [
        "O caractere de sublinhar (\\_) pode aparecer em um nome. Muitas vezes é usado em nomes com várias palavras, como `seu_nome` ou `velocidade_do_ar_em_uma_fungada`."
      ]
    },
    {
      "cell_type": "markdown",
      "metadata": {
        "id": "MXjKvmi61HeZ"
      },
      "source": [
        "Se você der um nome ilegal a uma variável, recebe um erro de sintaxe:"
      ]
    },
    {
      "cell_type": "code",
      "metadata": {
        "id": "l2PDG1W22AKu",
        "outputId": "359245d0-99b9-4767-c991-c42b37d087ad",
        "colab": {
          "base_uri": "https://localhost:8080/",
          "height": 130
        }
      },
      "source": [
        ">>> 76trombones = 'big parade"
      ],
      "execution_count": 1,
      "outputs": [
        {
          "output_type": "error",
          "ename": "SyntaxError",
          "evalue": "ignored",
          "traceback": [
            "\u001b[0;36m  File \u001b[0;32m\"<ipython-input-1-48406204d4fa>\"\u001b[0;36m, line \u001b[0;32m1\u001b[0m\n\u001b[0;31m    76trombones = 'big parade\u001b[0m\n\u001b[0m              ^\u001b[0m\n\u001b[0;31mSyntaxError\u001b[0m\u001b[0;31m:\u001b[0m invalid syntax\n"
          ]
        }
      ]
    },
    {
      "cell_type": "code",
      "metadata": {
        "id": "24g7ZNyE2MMA",
        "outputId": "51584348-2849-4dc9-8e7f-edbf00d4b36f",
        "colab": {
          "base_uri": "https://localhost:8080/",
          "height": 130
        }
      },
      "source": [
        "mais@ = 1000000"
      ],
      "execution_count": 3,
      "outputs": [
        {
          "output_type": "error",
          "ename": "SyntaxError",
          "evalue": "ignored",
          "traceback": [
            "\u001b[0;36m  File \u001b[0;32m\"<ipython-input-3-93affdce75ad>\"\u001b[0;36m, line \u001b[0;32m1\u001b[0m\n\u001b[0;31m    mais@ = 1000000\u001b[0m\n\u001b[0m          ^\u001b[0m\n\u001b[0;31mSyntaxError\u001b[0m\u001b[0;31m:\u001b[0m invalid syntax\n"
          ]
        }
      ]
    },
    {
      "cell_type": "code",
      "metadata": {
        "id": "n1hHqbEc2pLC",
        "outputId": "605493c1-873a-490e-c52c-02c4d2251e6e",
        "colab": {
          "base_uri": "https://localhost:8080/",
          "height": 130
        }
      },
      "source": [
        "class = 'Advanced Theoretical Zymurgy'"
      ],
      "execution_count": 4,
      "outputs": [
        {
          "output_type": "error",
          "ename": "SyntaxError",
          "evalue": "ignored",
          "traceback": [
            "\u001b[0;36m  File \u001b[0;32m\"<ipython-input-4-73fc4ce1a15a>\"\u001b[0;36m, line \u001b[0;32m1\u001b[0m\n\u001b[0;31m    class = 'Advanced Theoretical Zymurgy'\u001b[0m\n\u001b[0m          ^\u001b[0m\n\u001b[0;31mSyntaxError\u001b[0m\u001b[0;31m:\u001b[0m invalid syntax\n"
          ]
        }
      ]
    },
    {
      "cell_type": "markdown",
      "metadata": {
        "id": "twXHtGUJ1Heb"
      },
      "source": [
        "`76trombones` é ilegal porque começa com um número. `mais@` é ilegal porque contém um caractere ilegal, o `@`. Mas o que há de errado com `class`?"
      ]
    },
    {
      "cell_type": "markdown",
      "metadata": {
        "id": "L1_CdWXl1Heb"
      },
      "source": [
        "A questão é que `class` é uma das **palavras-chave** do Python. O interpretador usa palavras-chave para reconhecer a estrutura do programa e elas não podem ser usadas como nomes de variável."
      ]
    },
    {
      "cell_type": "markdown",
      "metadata": {
        "id": "EmCAARq_1Heb"
      },
      "source": [
        "O Python 3 tem estas palavras-chave:"
      ]
    },
    {
      "cell_type": "raw",
      "metadata": {
        "id": "E_eGLFNY1Heb"
      },
      "source": [
        "<table>\n",
        "  <tr>\n",
        "    <th>and</th>\n",
        "    <th>del</th>\n",
        "    <th>from</th>\n",
        "    <th>None</th>\n",
        "    <th>True</th>\n",
        "  </tr>\n",
        "  <tr>\n",
        "    <th>as</th>\n",
        "    <th>elif</th>\n",
        "    <th>global</th>\n",
        "    <th>nonlocal</th>\n",
        "    <th>try</th>\n",
        "  </tr>\n",
        "  <tr>\n",
        "    <th>assert</th>\n",
        "    <th>else</th>\n",
        "    <th>if</th>\n",
        "    <th>not</th>\n",
        "    <th>while</th>\n",
        "  </tr>\n",
        "  <tr>\n",
        "    <th>break</th>\n",
        "    <th>except</th>\n",
        "    <th>import</th>\n",
        "    <th>or</th>\n",
        "    <th>with</th>\n",
        "  </tr>\n",
        "  <tr>\n",
        "    <th>class</th>\n",
        "    <th>False</th>\n",
        "    <th>in</th>\n",
        "    <th>pass</th>\n",
        "    <th>yield</th>\n",
        "  </tr>\n",
        "  <tr>\n",
        "    <th>continue</th>\n",
        "    <th>finally</th>\n",
        "    <th>is</th>\n",
        "    <th>raise</th>\n",
        "  </tr>\n",
        "  <tr>\n",
        "    <th>def</th>\n",
        "    <th>for</th>\n",
        "    <th>lambda</th>\n",
        "    <th>return</th>\n",
        "  </tr>\n",
        "</table>"
      ]
    },
    {
      "cell_type": "markdown",
      "metadata": {
        "id": "vegmbfOz1Heb"
      },
      "source": [
        "Você não precisa memorizar essa lista. Na maior parte dos ambientes de desenvolvimento, as palavras-chave são exibidas em uma cor diferente; se você tentar usar uma como nome de variável, vai perceber."
      ]
    },
    {
      "cell_type": "markdown",
      "metadata": {
        "id": "x3ZwcAjO1Heb"
      },
      "source": [
        "## 2.3 - Expressões e instruções"
      ]
    },
    {
      "cell_type": "markdown",
      "metadata": {
        "id": "HwbzvxLa1Hec"
      },
      "source": [
        "Uma **expressão** é uma combinação de valores, variáveis e operadores. Um valor por si mesmo é considerado uma expressão, assim como uma variável, portanto as expressões seguintes são todas legais:"
      ]
    },
    {
      "cell_type": "code",
      "metadata": {
        "id": "4MY1SXEQ1Hec"
      },
      "source": [
        ">>> 42"
      ],
      "execution_count": null,
      "outputs": []
    },
    {
      "cell_type": "code",
      "metadata": {
        "id": "q4EIhDmt1Hec",
        "outputId": "a5f46cb3-b316-412c-94d8-bc1783bc2167",
        "colab": {
          "base_uri": "https://localhost:8080/"
        }
      },
      "source": [
        ">>> n"
      ],
      "execution_count": 10,
      "outputs": [
        {
          "output_type": "execute_result",
          "data": {
            "text/plain": [
              "17"
            ]
          },
          "metadata": {},
          "execution_count": 10
        }
      ]
    },
    {
      "cell_type": "code",
      "metadata": {
        "id": "FzLGu1v81Hec",
        "outputId": "cf7988cd-cfe9-46b0-84ef-d9ed91307b1d",
        "colab": {
          "base_uri": "https://localhost:8080/"
        }
      },
      "source": [
        ">>> n + 25"
      ],
      "execution_count": 11,
      "outputs": [
        {
          "output_type": "execute_result",
          "data": {
            "text/plain": [
              "42"
            ]
          },
          "metadata": {},
          "execution_count": 11
        }
      ]
    },
    {
      "cell_type": "markdown",
      "metadata": {
        "id": "04y8Fz3T1Hec"
      },
      "source": [
        "Quando você digita uma expressão no prompt, o interpretador a avalia, ou seja, ele encontra o valor da expressão. Neste exemplo, o `n` tem o valor 17 e `n + 25` tem o valor 42."
      ]
    },
    {
      "cell_type": "markdown",
      "metadata": {
        "id": "dfoR0y5E1Hec"
      },
      "source": [
        "Uma **instrução** é uma unidade de código que tem um efeito, como criar uma variável ou exibir um valor."
      ]
    },
    {
      "cell_type": "code",
      "metadata": {
        "id": "ZuiNbxpx1Hed"
      },
      "source": [
        ">>> n = 17"
      ],
      "execution_count": 12,
      "outputs": []
    },
    {
      "cell_type": "code",
      "metadata": {
        "id": "67FQ_6GJ1Hed",
        "outputId": "7becdd5a-be11-4423-bc74-881db5705720",
        "colab": {
          "base_uri": "https://localhost:8080/"
        }
      },
      "source": [
        ">>> print(n)"
      ],
      "execution_count": 13,
      "outputs": [
        {
          "output_type": "stream",
          "name": "stdout",
          "text": [
            "17\n"
          ]
        }
      ]
    },
    {
      "cell_type": "markdown",
      "metadata": {
        "id": "FwEU4Dnu1Hed"
      },
      "source": [
        "A primeira linha é uma instrução de atribuição que dá um valor a `n`. A segunda linha é uma instrução de exibição que exibe o valor de `n`."
      ]
    },
    {
      "cell_type": "markdown",
      "metadata": {
        "id": "vL-cgbjh1Hed"
      },
      "source": [
        "Quando você digita uma instrução, o interpretador a **executa**, o que significa que ele faz o que a instrução diz. Em geral, instruções não têm valores."
      ]
    },
    {
      "cell_type": "markdown",
      "metadata": {
        "id": "T3ZIrf491Hed"
      },
      "source": [
        "## 2.4 - Modo script"
      ]
    },
    {
      "cell_type": "markdown",
      "metadata": {
        "id": "bTfrnfHD1Hed"
      },
      "source": [
        "Até agora executamos o Python no **modo interativo**, no qual você interage diretamente com o interpretador. O modo interativo é uma boa forma de começar, mas se estiver trabalhando com mais do que algumas linhas do código, o processo pode ficar desorganizado."
      ]
    },
    {
      "cell_type": "markdown",
      "metadata": {
        "id": "oSX6Zt9L1Hee"
      },
      "source": [
        "A alternativa é salvar o código em um arquivo chamado **script** e então executar o interpretador no **modo script** para executá-lo. Por convenção, os scripts no Python têm nomes que terminam com .py."
      ]
    },
    {
      "cell_type": "markdown",
      "metadata": {
        "id": "xCEhkDX71Hee"
      },
      "source": [
        "Se souber como criar e executar um script no seu computador, você está pronto. Senão, recomendo usar o PythonAnywhere novamente. Inseri instruções sobre como executar programas no modo script em *http://tinyurl.com/thinkpython2e*."
      ]
    },
    {
      "cell_type": "markdown",
      "metadata": {
        "id": "w-5gauRj1Hee"
      },
      "source": [
        "Como o Python oferece os dois modos, você pode testar pedaços do código no modo interativo antes de colocá-los em um script. Mas há diferenças entre o modo interativo e o modo script que podem confundir as pessoas."
      ]
    },
    {
      "cell_type": "markdown",
      "metadata": {
        "id": "SaSCAi7A1Hee"
      },
      "source": [
        "Por exemplo, se estiver usando o Python como uma calculadora, você poderia digitar:\n",
        "\n"
      ]
    },
    {
      "cell_type": "code",
      "metadata": {
        "id": "1E8wG6Zu1Hee",
        "outputId": "7b18f02c-1228-4481-ec06-c838e7f63fc4",
        "colab": {
          "base_uri": "https://localhost:8080/"
        }
      },
      "source": [
        ">>> miles = 26.2\n",
        ">>> miles * 1.61"
      ],
      "execution_count": 14,
      "outputs": [
        {
          "output_type": "execute_result",
          "data": {
            "text/plain": [
              "42.182"
            ]
          },
          "metadata": {},
          "execution_count": 14
        }
      ]
    },
    {
      "cell_type": "markdown",
      "metadata": {
        "id": "risX1Nyo1Hee"
      },
      "source": [
        "A primeira linha atribui um valor a miles, mas não tem efeito visível. A segunda linha é uma expressão, então o interpretador a avalia e exibe o resultado. No fim, chega-se ao resultado de que uma maratona tem aproximadamente 42 quilômetros.\n",
        "\n",
        "Mas se você digitar o mesmo código em um script e executá-lo, não recebe nenhuma saída. Uma expressão, por conta própria, não tem efeito visível no modo script. O Python, na verdade, avalia a expressão, mas não exibe o valor a menos que você especifique:"
      ]
    },
    {
      "cell_type": "code",
      "metadata": {
        "id": "GDR-1ztQ1Hef",
        "outputId": "2c497ac6-7c08-4e2a-f6e2-405c25b46884",
        "colab": {
          "base_uri": "https://localhost:8080/"
        }
      },
      "source": [
        "miles = 26.2\n",
        "print (miles * 1.61)"
      ],
      "execution_count": 15,
      "outputs": [
        {
          "output_type": "stream",
          "name": "stdout",
          "text": [
            "42.182\n"
          ]
        }
      ]
    },
    {
      "cell_type": "markdown",
      "metadata": {
        "id": "U9sCzAi_1Hef"
      },
      "source": [
        "Este comportamento pode confundir um pouco no início.\n",
        "\n",
        "Um script normalmente contém uma sequência de instruções. Se houver mais de uma instrução, os resultados aparecem um após o outro, conforme as instruções sejam executadas.\n",
        "\n",
        "Por exemplo, o script"
      ]
    },
    {
      "cell_type": "markdown",
      "metadata": {
        "id": "Sd7bTuiB5el3"
      },
      "source": [
        "```python\n",
        "print (1)\n",
        "x = 2\n",
        "print (x)\n",
        "```"
      ]
    },
    {
      "cell_type": "markdown",
      "metadata": {
        "id": "Ja1gQAaN1Hef"
      },
      "source": [
        "produz a saída"
      ]
    },
    {
      "cell_type": "raw",
      "metadata": {
        "id": "cIqgZC4E1Hef"
      },
      "source": [
        "```python\n",
        "1\n",
        "2\n",
        "```"
      ]
    },
    {
      "cell_type": "markdown",
      "metadata": {
        "id": "cJVdHfdo1Hef"
      },
      "source": [
        "A instrução de atribuição não produz nenhuma saída.\n",
        "\n",
        "Para verificar sua compreensão, digite as seguintes instruções no interpretador do Python e veja o que fazem:"
      ]
    },
    {
      "cell_type": "code",
      "metadata": {
        "id": "-BbwAV5e1Heg",
        "outputId": "0fb45d4b-77fe-4979-803e-167e0d98b117",
        "colab": {
          "base_uri": "https://localhost:8080/"
        }
      },
      "source": [
        ">>> 5\n",
        ">>> x = 5\n",
        ">>> x + 1"
      ],
      "execution_count": 17,
      "outputs": [
        {
          "output_type": "execute_result",
          "data": {
            "text/plain": [
              "6"
            ]
          },
          "metadata": {},
          "execution_count": 17
        }
      ]
    },
    {
      "cell_type": "markdown",
      "metadata": {
        "id": "NQCbAnSo1Heg"
      },
      "source": [
        "Agora ponha as mesmas instruções em um script e o execute. Qual é a saída? Altere o script transformando cada expressão em uma instrução de exibição e então o execute novamente.\n",
        "\n",
        "Obs.: A partir do item 2.5, indicamos o desenvolvimento de programas em scripts e passamos a indicar o uso do Python interativo (\">>>\") apenas para testes de expressões e comandos. "
      ]
    },
    {
      "cell_type": "markdown",
      "metadata": {
        "id": "jirNzJxU1Heg"
      },
      "source": [
        "## 2.5 - Ordem das operações"
      ]
    },
    {
      "cell_type": "markdown",
      "metadata": {
        "id": "-ymemgLR1Heg"
      },
      "source": [
        "Quando uma expressão contém mais de um operador, a ordem da avaliação depende da ordem das operações. Para operadores matemáticos, o Python segue a convenção matemática. O acrônimo **PEMDAS** pode ser útil para lembrar das regras:\n",
        "\n",
        "Os **P**arênteses têm a precedência mais alta e podem ser usados para forçar a avaliação de uma expressão na ordem que você quiser. Como as expressões em parênteses são avaliadas primeiro, `2 * (3 - 1)` é 4, e `(1 + 1) ** (5 - 2)` é 8. Também é possível usar parênteses para facilitar a leitura de uma expressão, como no caso de `(minute * 100) / 60`, mesmo se o resultado não for alterado.\n",
        "\n",
        "A **E**xponenciação tem a próxima precedência mais alta, então `1 + 2 ** 3` é 9, não 27, e `2 * 3 ** 2` é 18, não 36.\n",
        "\n",
        "A **M**ultiplicação e a Divisão têm precedência mais alta que a **A**dição e a **S**ubtração. Assim, `2 * 3 - 1` é 5, não 4, e `6 + 4 / 2` é 8, não 5.\n",
        "\n",
        "Os operadores com a mesma precedência são avaliados da esquerda para a direita (exceto na exponenciação). Assim, na expressão `degrees / 2 * pi`, a divisão acontece primeiro e o resultado é multiplicado por `pi`. Para dividir por 2π, você pode usar parênteses ou escrever `degrees / 2 / pi`.\n",
        "    \n",
        "Eu não fico sempre tentando lembrar da precedência de operadores. Se a expressão não estiver clara à primeira vista, uso parênteses para fazer isso."
      ]
    },
    {
      "cell_type": "markdown",
      "metadata": {
        "id": "Ynyw2ORs1Heg"
      },
      "source": [
        "## 2.6 - Operações com strings "
      ]
    },
    {
      "cell_type": "markdown",
      "metadata": {
        "id": "WOkmk1b81Heg"
      },
      "source": [
        "Em geral, não é possível executar operações matemáticas com strings, mesmo se elas parecerem números, então coisas assim são ilegais:"
      ]
    },
    {
      "cell_type": "markdown",
      "metadata": {
        "id": "i-8BKtpt1Heh"
      },
      "source": [
        "```python\n",
        "'2'-'1'    'eggs'/'easy'    'third'*'a charm'\n",
        "```"
      ]
    },
    {
      "cell_type": "markdown",
      "metadata": {
        "id": "cjMEdoEb1Heh"
      },
      "source": [
        "Mas há duas exceções, `+` e `*`.\n",
        "\n",
        "O operador `+` executa uma **concatenação de strings**, ou seja, une as strings pelas extremidades. Por exemplo:"
      ]
    },
    {
      "cell_type": "code",
      "metadata": {
        "id": "KtiZyp371Heh",
        "outputId": "d177bdc1-9dbd-4efc-af8f-e4bca7be35cd",
        "colab": {
          "base_uri": "https://localhost:8080/",
          "height": 35
        }
      },
      "source": [
        "first = 'papa'\n",
        "second = 'capim'\n",
        "first + second"
      ],
      "execution_count": 19,
      "outputs": [
        {
          "output_type": "execute_result",
          "data": {
            "application/vnd.google.colaboratory.intrinsic+json": {
              "type": "string"
            },
            "text/plain": [
              "'papacapim'"
            ]
          },
          "metadata": {},
          "execution_count": 19
        }
      ]
    },
    {
      "cell_type": "markdown",
      "metadata": {
        "id": "x4lclMp_1Heh"
      },
      "source": [
        "O operador `*` também funciona em strings; ele executa a repetição. Por exemplo, ‘Spam’ `*` 3 é ‘SpamSpamSpam’. Se um dos valores for uma string, o outro tem de ser um número inteiro.\n",
        "\n",
        "Este uso de `+` e `*` faz sentido por analogia com a adição e a multiplicação. Tal como `4 * 3` é equivalente a `4 + 4 + 4`, esperamos que `'Spam' * 3` seja o mesmo que ‘Spam’+’Spam’+’Spam’, e assim é. Por outro lado, há uma diferença significativa entre a concatenação de strings e a repetição em relação à adição e à multiplicação de números inteiros. Você consegue pensar em uma propriedade que a adição tem, mas a concatenação de strings não tem?\n"
      ]
    },
    {
      "cell_type": "markdown",
      "metadata": {
        "id": "daSuAabo1Heh"
      },
      "source": [
        "## 2.7 - Comentários"
      ]
    },
    {
      "cell_type": "markdown",
      "metadata": {
        "id": "NQ-zlAz21Heh"
      },
      "source": [
        "Conforme os programas ficam maiores e mais complicados, eles são mais difíceis de ler. As linguagens formais são densas e muitas vezes é difícil ver um pedaço de código e compreender o que ele faz ou por que faz isso.\n",
        "\n",
        "Por essa razão, é uma boa ideia acrescentar notas aos seus programas para explicar em linguagem natural o que o programa está fazendo. Essas notas são chamadas de **comentários**, e começam com o símbolo `#`:"
      ]
    },
    {
      "cell_type": "markdown",
      "metadata": {
        "id": "QF-OnYxm1Heh"
      },
      "source": [
        "```python\n",
        "# computa a percentagem da hora que passou\n",
        "percentage = (minute * 100) / 60\n",
        "```"
      ]
    },
    {
      "cell_type": "markdown",
      "metadata": {
        "id": "xo0olvCa1Heh"
      },
      "source": [
        "Nesse caso, o comentário aparece sozinho em uma linha. Você também pode pôr comentários no fim das linhas:"
      ]
    },
    {
      "cell_type": "markdown",
      "metadata": {
        "id": "nsTrmIPK1Hei"
      },
      "source": [
        "```python\n",
        "percentage = (minute * 100) / 60    # percentagem de uma hora\n",
        "```"
      ]
    },
    {
      "cell_type": "markdown",
      "metadata": {
        "id": "jnZtOgVW1Hei"
      },
      "source": [
        "Tudo do `#` ao fim da linha é ignorado – não tem efeito na execução do programa.\n",
        "\n",
        "Os comentários tornam-se mais úteis quando documentam algo no código que não está óbvio. Podemos supor que o leitor compreenda o que o código faz; assim, é mais útil explicar porque faz o que faz.\n",
        "\n",
        "Este comentário é redundante em relação ao código, além de inútil:"
      ]
    },
    {
      "cell_type": "markdown",
      "metadata": {
        "id": "ljjH7__W1Hei"
      },
      "source": [
        "```python\n",
        "v = 5    # atribui 5 a v\n",
        "```"
      ]
    },
    {
      "cell_type": "markdown",
      "metadata": {
        "id": "zMisUDbU1Hei"
      },
      "source": [
        "Este comentário contém informações úteis que não estão no código:"
      ]
    },
    {
      "cell_type": "markdown",
      "metadata": {
        "id": "9P6_wK5M1Hei"
      },
      "source": [
        "```python\n",
        "v = 5    # velocidade em metros/segundo.\n",
        "```"
      ]
    },
    {
      "cell_type": "markdown",
      "metadata": {
        "id": "JJZew47e1Hei"
      },
      "source": [
        "Bons nomes de variáveis podem reduzir a necessidade de comentários, mas nomes longos podem tornar expressões complexas difíceis de ler, então é preciso analisar o que vale mais a pena."
      ]
    },
    {
      "cell_type": "markdown",
      "metadata": {
        "id": "XonRMxak1Hei"
      },
      "source": [
        "## 2.8 - Depuração"
      ]
    },
    {
      "cell_type": "markdown",
      "metadata": {
        "id": "JavnlqpK1Hei"
      },
      "source": [
        "Há três tipos de erros que podem ocorrer em um programa: erros de sintaxe, erros de tempo de execução e erros semânticos. É útil distinguir entre eles para rastreá-los mais rapidamente."
      ]
    },
    {
      "cell_type": "markdown",
      "metadata": {
        "id": "F9aRgp7I1Hej"
      },
      "source": [
        "**Erro de sintaxe**\n",
        "> A “sintaxe” refere-se à estrutura de um programa e suas respectivas regras. Por exemplo, os parênteses devem vir em pares correspondentes, então (1 + 2) é legal, mas 8) é um erro de sintaxe.\n",
        "Se houver um erro de sintaxe em algum lugar no seu programa, o Python exibe uma mensagem de erro e para, e não será possível executar o programa. Nas primeiras poucas semanas da sua carreira em programação, você pode passar muito tempo rastreando erros de sintaxe. Ao adquirir experiência, você fará menos erros e os encontrará mais rápido.\n",
        "\n",
        "**Erro de tempo de execução**\n",
        "> O segundo tipo de erro é o erro de tempo de execução, assim chamado porque o erro não aparece até que o programa seja executado. Esses erros também se chamam de exceções porque normalmente indicam que algo excepcional (e ruim) aconteceu.\n",
        "Os erros de tempo de execução são raros nos programas simples que veremos nos primeiros capítulos, então pode demorar um pouco até você encontrar algum.\n",
        "\n",
        "**Erro semântico**\n",
        "> O terceiro tipo do erro é “semântico”, ou seja, relacionado ao significado. Se houver um erro semântico no seu programa, ele será executado sem gerar mensagens de erro, mas não vai fazer a coisa certa. Vai fazer algo diferente. Especificamente, vai fazer o que você disser para fazer.\n",
        "Identificar erros semânticos pode ser complicado, porque é preciso trabalhar de trás para a frente, vendo a saída do programa e tentando compreender o que ele está fazendo."
      ]
    },
    {
      "cell_type": "markdown",
      "metadata": {
        "id": "Rs67soe51Hej"
      },
      "source": [
        "## 2.9 - Glossário"
      ]
    },
    {
      "cell_type": "markdown",
      "metadata": {
        "id": "_OzBod7j1Hej"
      },
      "source": [
        "**variável**<br>\n",
        "&emsp;Um nome que se refere a um valor.\n",
        "\n",
        "**atribuição**<br>\n",
        "&emsp;Uma instrução que atribui um valor a uma variável.\n",
        "\n",
        "**diagrama de estado**<br>\n",
        "&emsp;Uma representação gráfica de um grupo de variáveis e os valores a que se referem.\n",
        "\n",
        "**palavra-chave**<br>\n",
        "&emsp;Uma palavra reservada, usada para analisar um programa; não é possível usar palavras-chave como `if`, `def` e `while` como nomes de variáveis.\n",
        "\n",
        "**operando**<br>\n",
        "&emsp;Um dos valores que um operador produz.\n",
        "\n",
        "**expressão**<br>\n",
        "&emsp;Uma combinação de variáveis, operadores e valores que representa um resultado único.\n",
        "\n",
        "**avaliar**<br>\n",
        "&emsp;Simplificar uma expressão executando as operações para produzir um valor único.\n",
        "\n",
        "**instrução**<br>\n",
        "&emsp;Uma seção do código que representa um comando ou ação. Por enquanto, as instruções que vimos são instruções de atribuições e de exibição.\n",
        "\n",
        "**executar**<br>\n",
        "&emsp;Executar uma instrução para fazer o que ela diz.\n",
        "\n",
        "**modo interativo**\n",
        "Um modo de usar o interpretador do Python, digitando o código no prompt.\n",
        "\n",
        "**modo script**<br>\n",
        "&emsp;Um modo de usar o interpretador do Python para ler código em um script e executá-lo.\n",
        "\n",
        "**script**<br>\n",
        "&emsp;Um programa armazenado em um arquivo.\n",
        "\n",
        "**ordem das operações**<br>\n",
        "&emsp;As regras que governam a ordem na qual as expressões que envolvem vários operadores e operandos são avaliadas.\n",
        "\n",
        "**concatenar**<br>\n",
        "&emsp;Juntar dois operandos pelas extremidades.\n",
        "\n",
        "**comentários**<br>\n",
        "&emsp;Informações em um programa destinadas a outros programadores (ou qualquer pessoa que leia o texto fonte) que não têm efeito sobre a execução do programa.\n",
        "\n",
        "**erro de sintaxe**<br>\n",
        "&emsp;Um erro em um programa que torna sua análise impossível (e por isso impossível de interpretar).\n",
        "\n",
        "**exceção**<br>\n",
        "&emsp;Um erro que se descobre quando o programa é executado.\n",
        "\n",
        "**semântica**<br>\n",
        "&emsp;O significado de um programa.\n",
        "\n",
        "**erro semântico**<br>\n",
        "&emsp;Um erro que faz com que um programa faça algo diferente do que o programador pretendia."
      ]
    },
    {
      "cell_type": "markdown",
      "metadata": {
        "id": "kKJVQ4e51Hej"
      },
      "source": [
        "## 2.10 - Exercícios"
      ]
    },
    {
      "cell_type": "markdown",
      "metadata": {
        "id": "suH1jPkL1Hek"
      },
      "source": [
        "### Exercício 2.1"
      ]
    },
    {
      "cell_type": "markdown",
      "metadata": {
        "id": "VXlc3vmr1Hek"
      },
      "source": [
        "Repetindo o meu conselho do capítulo anterior, sempre que você aprender um recurso novo, você deve testá-lo no modo interativo e fazer erros de propósito para ver o que acontece."
      ]
    },
    {
      "cell_type": "markdown",
      "metadata": {
        "id": "QvoONA7E1Hek"
      },
      "source": [
        "+ Vimos que n = 42 é legal. E 42 = n?\n",
        "+ Ou x = y = 1?\n",
        "+ Em algumas linguagens, cada instrução termina em um ponto e vírgula, ;. O que acontece se você puser um ponto e vírgula no fim de uma instrução no Python?\n",
        "+ E se puser um ponto no fim de uma instrução?\n",
        "+ Em notação matemática é possível multiplicar x e y desta forma: xy. O que acontece se você tentar fazer o mesmo no Python?"
      ]
    },
    {
      "cell_type": "markdown",
      "metadata": {
        "id": "ebIfa38G1Hek"
      },
      "source": [
        "### Exercício 2.2"
      ]
    },
    {
      "cell_type": "markdown",
      "metadata": {
        "id": "VQOctuga1Hek"
      },
      "source": [
        "Pratique o uso do interpretador do Python como uma calculadora:"
      ]
    },
    {
      "cell_type": "markdown",
      "metadata": {
        "id": "yVlOK8K81Hek"
      },
      "source": [
        "1. O volume de uma esfera com raio r é $\\dfrac{4 \\pi r^3}{3}$. Qual é o volume de uma esfera com raio 5?\n",
        "2. Suponha que o preço de capa de um livro seja R\\\\$ 24,95, mas as livrarias recebem um desconto de 40%. O transporte custa R\\\\$ 3,00 para o primeiro exemplar e 75 centavos para cada exemplar adicional. Qual é o custo total de atacado para 60 cópias?\n",
        "3. Se eu sair da minha casa às 6h52 e correr 1 quilômetro a um certo passo (8min 15s por quilômetro), então 3 quilômetros a um passo mais rápido (7min 12s por quilômetro) e 1 quilômetro no mesmo passo usado em primeiro lugar, que horas chego em casa para o café da manhã?"
      ]
    }
  ]
}