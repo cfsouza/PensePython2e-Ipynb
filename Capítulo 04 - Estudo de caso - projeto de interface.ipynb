{
  "nbformat": 4,
  "nbformat_minor": 0,
  "metadata": {
    "kernelspec": {
      "display_name": "Python 3",
      "language": "python",
      "name": "python3"
    },
    "language_info": {
      "codemirror_mode": {
        "name": "ipython",
        "version": 3
      },
      "file_extension": ".py",
      "mimetype": "text/x-python",
      "name": "python",
      "nbconvert_exporter": "python",
      "pygments_lexer": "ipython3",
      "version": "3.7.3"
    },
    "colab": {
      "name": "Capítulo 04 - Estudo de caso - projeto de interface.ipynb",
      "provenance": []
    }
  },
  "cells": [
    {
      "cell_type": "markdown",
      "metadata": {
        "id": "7lVRFm8YUhNG"
      },
      "source": [
        "<section class=\"main-content\">\n",
        "      <h1 id=\"capítulo-4-estudo-de-caso-projeto-de-interface\">Capítulo 4: Estudo de caso: projeto de interface</h1>\n",
        "\n",
        "<p>Este capítulo apresenta um estudo de caso que demonstra o processo de criação de funções que operam simultaneamente.</p>\n",
        "\n",
        "<p>Ele apresenta o módulo <code>turtle</code>, que permite criar imagens usando [<em>turtle graphics</em>][1]. O módulo <code>turtle</code> é incluído na maior parte das instalações do Python, mas se estiver executando a linguagem com o PythonAnywhere você não poderá executar os exemplos do turtle (pelo menos não era possível quando escrevi este livro).</p>\n",
        "\n",
        "<p>Se já tiver instalado o Python no seu computador, você poderá executar os exemplos. Caso não, agora é uma boa hora para instalar. Publiquei instruções no site <a href=\"http://tinyurl.com/thinkpython2e\">http://tinyurl.com/thinkpython2e</a>.</p>\n",
        "\n",
        "<p>Os exemplos de código deste capítulo estão disponíveis em <a href=\"http://thinkpython2.com/code/polygon.py\">http://thinkpython2.com/code/polygon.py</a>.</p>\n",
        "\n",
        "<h2 id=\"41---módulo-turtle\">4.1 - Módulo turtle</h2>\n",
        "\n",
        "<p>Para conferir se você tem o módulo <code>turtle</code>, abra o interpretador do Python e digite:</p>\n",
        "    </section>"
      ]
    },
    {
      "cell_type": "code",
      "metadata": {
        "id": "b2DThbgnn8XU",
        "outputId": "5a7facc6-9196-437f-b4db-e0a5b956d1dc",
        "colab": {
          "base_uri": "https://localhost:8080/"
        }
      },
      "source": [
        "!pip3 install ColabTurtle # linha inserida para rodar no Google Colab / Binder"
      ],
      "execution_count": 5,
      "outputs": [
        {
          "output_type": "stream",
          "name": "stdout",
          "text": [
            "Requirement already satisfied: ColabTurtle in /usr/local/lib/python3.7/dist-packages (2.1.0)\n"
          ]
        }
      ]
    },
    {
      "cell_type": "code",
      "metadata": {
        "id": "ESpQxMfGUhNK",
        "outputId": "149e69e5-9a4d-4ee7-c951-97a26049d159",
        "colab": {
          "base_uri": "https://localhost:8080/",
          "height": 521
        }
      },
      "source": [
        "#import turtle # '#' inserido no começo da linha para não rodar no jupyter notebook / binder \n",
        "#bob = turtle.Turtle()\n",
        "import ColabTurtle.Turtle as bob # linha inserida para rodar no Google Colab / Binder\n",
        "bob.initializeTurtle() # linha inserida para rodar no Google Colab / Binder"
      ],
      "execution_count": 6,
      "outputs": [
        {
          "output_type": "display_data",
          "data": {
            "text/html": [
              "\n",
              "      <svg width=\"800\" height=\"500\">\n",
              "        <rect width=\"100%\" height=\"100%\" fill=\"black\"/>\n",
              "        \n",
              "        <g visibility=visible transform=\"rotate(360,400,250) translate(382, 232)\">\n",
              "<path style=\" stroke:none;fill-rule:evenodd;fill:white;fill-opacity:1;\" d=\"M 18.214844 0.632812 C 16.109375 1.800781 15.011719 4.074219 15.074219 7.132812 L 15.085938 7.652344 L 14.785156 7.496094 C 13.476562 6.824219 11.957031 6.671875 10.40625 7.066406 C 8.46875 7.550781 6.515625 9.15625 4.394531 11.992188 C 3.0625 13.777344 2.679688 14.636719 3.042969 15.027344 L 3.15625 15.152344 L 3.519531 15.152344 C 4.238281 15.152344 4.828125 14.886719 8.1875 13.039062 C 9.386719 12.378906 10.371094 11.839844 10.378906 11.839844 C 10.386719 11.839844 10.355469 11.929688 10.304688 12.035156 C 9.832031 13.09375 9.257812 14.820312 8.96875 16.078125 C 7.914062 20.652344 8.617188 24.53125 11.070312 27.660156 C 11.351562 28.015625 11.363281 27.914062 10.972656 28.382812 C 8.925781 30.84375 7.945312 33.28125 8.238281 35.1875 C 8.289062 35.527344 8.28125 35.523438 8.917969 35.523438 C 10.941406 35.523438 13.074219 34.207031 15.136719 31.6875 C 15.359375 31.417969 15.328125 31.425781 15.5625 31.574219 C 16.292969 32.042969 18.023438 32.964844 18.175781 32.964844 C 18.335938 32.964844 19.941406 32.210938 20.828125 31.71875 C 20.996094 31.625 21.136719 31.554688 21.136719 31.558594 C 21.203125 31.664062 21.898438 32.414062 22.222656 32.730469 C 23.835938 34.300781 25.5625 35.132812 27.582031 35.300781 C 27.90625 35.328125 27.9375 35.308594 28.007812 34.984375 C 28.382812 33.242188 27.625 30.925781 25.863281 28.425781 L 25.542969 27.96875 L 25.699219 27.785156 C 28.945312 23.960938 29.132812 18.699219 26.257812 11.96875 L 26.207031 11.84375 L 27.945312 12.703125 C 31.53125 14.476562 32.316406 14.800781 33.03125 14.800781 C 33.976562 14.800781 33.78125 13.9375 32.472656 12.292969 C 28.519531 7.355469 25.394531 5.925781 21.921875 7.472656 L 21.558594 7.636719 L 21.578125 7.542969 C 21.699219 6.992188 21.761719 5.742188 21.699219 5.164062 C 21.496094 3.296875 20.664062 1.964844 19.003906 0.855469 C 18.480469 0.503906 18.457031 0.5 18.214844 0.632812\"/>\n",
              "</g>\n",
              "      </svg>\n",
              "    "
            ],
            "text/plain": [
              "<IPython.core.display.HTML object>"
            ]
          },
          "metadata": {}
        }
      ]
    },
    {
      "cell_type": "markdown",
      "metadata": {
        "id": "RgPsnI4cUhNL"
      },
      "source": [
        "<section class=\"main-content\">\n",
        "<p>Ao executar este código o programa deve abrir uma nova janela com uma pequena flecha que representa o turtle. Feche a janela.</p>\n",
        "\n",
        "<p>Crie um arquivo chamado <code>meupoligono.py</code> e digite o seguinte código:</p>\n",
        "    </section>"
      ]
    },
    {
      "cell_type": "markdown",
      "metadata": {
        "id": "JwDh1bZNUhNM"
      },
      "source": [
        "```python\n",
        "import turtle\n",
        "bob = turtle.Turtle()\n",
        "print(bob)\n",
        "turtle.mainloop()\n",
        "```"
      ]
    },
    {
      "cell_type": "markdown",
      "metadata": {
        "id": "gfCxDNyCUhNM"
      },
      "source": [
        "<section class=\"main-content\">\n",
        "<p>O módulo <code>turtle</code> (com t minúsculo) apresenta uma função chamada <code>Turtle</code> (com T maiúsculo), que cria um objeto Turtle, ao qual atribuímos uma variável chamada <code>bob</code>. Exibir bob faz algo assim:</p>\n",
        "    </section>"
      ]
    },
    {
      "cell_type": "markdown",
      "metadata": {
        "id": "PRdnxqBJUhNM"
      },
      "source": [
        "```python\n",
        "<turtle.Turtle object at 0xb7bfbf4c>\n",
        "```"
      ]
    },
    {
      "cell_type": "markdown",
      "metadata": {
        "id": "ZfUB8TANUhNN"
      },
      "source": [
        "<section class=\"main-content\">\n",
        "<p>Isto significa que bob se refere a um objeto com o tipo <code>Turtle</code> definido no módulo <code>turtle</code>.</p>\n",
        "\n",
        "<p><code>mainloop</code> diz que a janela deve esperar que o usuário faça algo, embora neste caso não haja muito a fazer, exceto fechar a janela.</p>\n",
        "\n",
        "<p>Uma vez que tenha criado o Turtle, você pode chamar um <b>método</b> para movê-lo pela janela. Método é semelhante a uma função, mas usa uma sintaxe ligeiramente diferente. Por exemplo, para mover o turtle para a frente:</p>\n",
        "    </section>"
      ]
    },
    {
      "cell_type": "code",
      "metadata": {
        "id": "4W5Wi_flUhNN",
        "outputId": "b6ebcd93-4f28-4a9c-e7ef-00e3760dd5b2",
        "colab": {
          "base_uri": "https://localhost:8080/",
          "height": 521
        }
      },
      "source": [
        "bob.forward(100)"
      ],
      "execution_count": 7,
      "outputs": [
        {
          "output_type": "display_data",
          "data": {
            "text/html": [
              "\n",
              "      <svg width=\"800\" height=\"500\">\n",
              "        <rect width=\"100%\" height=\"100%\" fill=\"black\"/>\n",
              "        <line x1=\"400\" y1=\"250\" x2=\"400.0\" y2=\"150.0\" stroke-linecap=\"round\" style=\"stroke:white;stroke-width:4\"/>\n",
              "        <g visibility=visible transform=\"rotate(360,400.0,150.0) translate(382.0, 132.0)\">\n",
              "<path style=\" stroke:none;fill-rule:evenodd;fill:white;fill-opacity:1;\" d=\"M 18.214844 0.632812 C 16.109375 1.800781 15.011719 4.074219 15.074219 7.132812 L 15.085938 7.652344 L 14.785156 7.496094 C 13.476562 6.824219 11.957031 6.671875 10.40625 7.066406 C 8.46875 7.550781 6.515625 9.15625 4.394531 11.992188 C 3.0625 13.777344 2.679688 14.636719 3.042969 15.027344 L 3.15625 15.152344 L 3.519531 15.152344 C 4.238281 15.152344 4.828125 14.886719 8.1875 13.039062 C 9.386719 12.378906 10.371094 11.839844 10.378906 11.839844 C 10.386719 11.839844 10.355469 11.929688 10.304688 12.035156 C 9.832031 13.09375 9.257812 14.820312 8.96875 16.078125 C 7.914062 20.652344 8.617188 24.53125 11.070312 27.660156 C 11.351562 28.015625 11.363281 27.914062 10.972656 28.382812 C 8.925781 30.84375 7.945312 33.28125 8.238281 35.1875 C 8.289062 35.527344 8.28125 35.523438 8.917969 35.523438 C 10.941406 35.523438 13.074219 34.207031 15.136719 31.6875 C 15.359375 31.417969 15.328125 31.425781 15.5625 31.574219 C 16.292969 32.042969 18.023438 32.964844 18.175781 32.964844 C 18.335938 32.964844 19.941406 32.210938 20.828125 31.71875 C 20.996094 31.625 21.136719 31.554688 21.136719 31.558594 C 21.203125 31.664062 21.898438 32.414062 22.222656 32.730469 C 23.835938 34.300781 25.5625 35.132812 27.582031 35.300781 C 27.90625 35.328125 27.9375 35.308594 28.007812 34.984375 C 28.382812 33.242188 27.625 30.925781 25.863281 28.425781 L 25.542969 27.96875 L 25.699219 27.785156 C 28.945312 23.960938 29.132812 18.699219 26.257812 11.96875 L 26.207031 11.84375 L 27.945312 12.703125 C 31.53125 14.476562 32.316406 14.800781 33.03125 14.800781 C 33.976562 14.800781 33.78125 13.9375 32.472656 12.292969 C 28.519531 7.355469 25.394531 5.925781 21.921875 7.472656 L 21.558594 7.636719 L 21.578125 7.542969 C 21.699219 6.992188 21.761719 5.742188 21.699219 5.164062 C 21.496094 3.296875 20.664062 1.964844 19.003906 0.855469 C 18.480469 0.503906 18.457031 0.5 18.214844 0.632812\"/>\n",
              "</g>\n",
              "      </svg>\n",
              "    "
            ],
            "text/plain": [
              "<IPython.core.display.HTML object>"
            ]
          },
          "metadata": {}
        }
      ]
    },
    {
      "cell_type": "markdown",
      "metadata": {
        "id": "9k9b3W12UhNO"
      },
      "source": [
        "<section class=\"main-content\">\n",
        "<p>O método <code>forward</code> é associado com o objeto turtle, que denominamos <code>bob</code>. Chamar um método é como fazer um pedido: você está pedindo que <code>bob</code> avance.</p>\n",
        "\n",
        "<p>O argumento de <code>forward</code> é uma distância em píxeis, então o tamanho real depende da sua tela.</p>\n",
        "\n",
        "<p>Outros métodos que você pode chamar em um Turtle são <code>backward</code> para mover-se para trás, <code>left</code> para virar à esquerda e <code>right</code> para virar à direita. O argumento para <code>left</code> e <code>right</code> é um ângulo em graus.</p>\n",
        "\n",
        "<p>Além disso, cada Turtle segura uma caneta, que está abaixada ou levantada; se a caneta estiver abaixada, o Turtle deixa um rastro quando se move. Os métodos <code>penup</code> e <code>pendown</code> representam “caneta para cima” e “caneta para baixo”.</p>\n",
        "\n",
        "<p>Para desenhar um ângulo reto, acrescente estas linhas ao programa (depois de criar <code>bob</code> e antes de chamar o <code>mainloop</code>):</p>\n",
        "    </section>"
      ]
    },
    {
      "cell_type": "code",
      "metadata": {
        "id": "2fcr82Y-UhNP"
      },
      "source": [
        "bob.forward(100)\n",
        "bob.left(90)\n",
        "bob.forward(100)"
      ],
      "execution_count": null,
      "outputs": []
    },
    {
      "cell_type": "markdown",
      "metadata": {
        "id": "8dBrjGrQUhNQ"
      },
      "source": [
        "<section class=\"main-content\">\n",
        "<p>Ao executar este programa, você deveria ver <code>bob</code> mover-se para o leste e depois para o norte, deixando dois segmentos de reta para trás.</p>\n",
        "\n",
        "<p>Agora altere o programa para desenhar um quadrado. Só siga adiante neste capítulo se ele funcionar adequadamente!</p>\n",
        "\n",
        "<h2 id=\"42---repetição-simples\">4.2 - Repetição simples</h2>\n",
        "\n",
        "<p>Provavelmente você escreveu algo assim:</p>\n",
        "    </section>"
      ]
    },
    {
      "cell_type": "code",
      "metadata": {
        "id": "ssf9ltSeUhNQ",
        "outputId": "a883c205-31a2-4cdf-9cbf-5a1c45b3a93a",
        "colab": {
          "base_uri": "https://localhost:8080/",
          "height": 521
        }
      },
      "source": [
        "bob.clear() # limpa o desenho\n",
        "bob.forward(100)\n",
        "bob.left(90)\n",
        "bob.forward(100)\n",
        "bob.left(90)\n",
        "bob.forward(100)\n",
        "bob.left(90)\n",
        "bob.forward(100)"
      ],
      "execution_count": 12,
      "outputs": [
        {
          "output_type": "display_data",
          "data": {
            "text/html": [
              "\n",
              "      <svg width=\"800\" height=\"500\">\n",
              "        <rect width=\"100%\" height=\"100%\" fill=\"black\"/>\n",
              "        <line x1=\"400.0\" y1=\"150.0\" x2=\"500.0\" y2=\"150.0\" stroke-linecap=\"round\" style=\"stroke:white;stroke-width:4\"/><line x1=\"500.0\" y1=\"150.0\" x2=\"500.0\" y2=\"50.0\" stroke-linecap=\"round\" style=\"stroke:white;stroke-width:4\"/><line x1=\"500.0\" y1=\"50.0\" x2=\"400.0\" y2=\"50.0\" stroke-linecap=\"round\" style=\"stroke:white;stroke-width:4\"/><line x1=\"400.0\" y1=\"50.0\" x2=\"400.0\" y2=\"150.0\" stroke-linecap=\"round\" style=\"stroke:white;stroke-width:4\"/>\n",
              "        <g visibility=visible transform=\"rotate(180,400.0,150.0) translate(382.0, 132.0)\">\n",
              "<path style=\" stroke:none;fill-rule:evenodd;fill:white;fill-opacity:1;\" d=\"M 18.214844 0.632812 C 16.109375 1.800781 15.011719 4.074219 15.074219 7.132812 L 15.085938 7.652344 L 14.785156 7.496094 C 13.476562 6.824219 11.957031 6.671875 10.40625 7.066406 C 8.46875 7.550781 6.515625 9.15625 4.394531 11.992188 C 3.0625 13.777344 2.679688 14.636719 3.042969 15.027344 L 3.15625 15.152344 L 3.519531 15.152344 C 4.238281 15.152344 4.828125 14.886719 8.1875 13.039062 C 9.386719 12.378906 10.371094 11.839844 10.378906 11.839844 C 10.386719 11.839844 10.355469 11.929688 10.304688 12.035156 C 9.832031 13.09375 9.257812 14.820312 8.96875 16.078125 C 7.914062 20.652344 8.617188 24.53125 11.070312 27.660156 C 11.351562 28.015625 11.363281 27.914062 10.972656 28.382812 C 8.925781 30.84375 7.945312 33.28125 8.238281 35.1875 C 8.289062 35.527344 8.28125 35.523438 8.917969 35.523438 C 10.941406 35.523438 13.074219 34.207031 15.136719 31.6875 C 15.359375 31.417969 15.328125 31.425781 15.5625 31.574219 C 16.292969 32.042969 18.023438 32.964844 18.175781 32.964844 C 18.335938 32.964844 19.941406 32.210938 20.828125 31.71875 C 20.996094 31.625 21.136719 31.554688 21.136719 31.558594 C 21.203125 31.664062 21.898438 32.414062 22.222656 32.730469 C 23.835938 34.300781 25.5625 35.132812 27.582031 35.300781 C 27.90625 35.328125 27.9375 35.308594 28.007812 34.984375 C 28.382812 33.242188 27.625 30.925781 25.863281 28.425781 L 25.542969 27.96875 L 25.699219 27.785156 C 28.945312 23.960938 29.132812 18.699219 26.257812 11.96875 L 26.207031 11.84375 L 27.945312 12.703125 C 31.53125 14.476562 32.316406 14.800781 33.03125 14.800781 C 33.976562 14.800781 33.78125 13.9375 32.472656 12.292969 C 28.519531 7.355469 25.394531 5.925781 21.921875 7.472656 L 21.558594 7.636719 L 21.578125 7.542969 C 21.699219 6.992188 21.761719 5.742188 21.699219 5.164062 C 21.496094 3.296875 20.664062 1.964844 19.003906 0.855469 C 18.480469 0.503906 18.457031 0.5 18.214844 0.632812\"/>\n",
              "</g>\n",
              "      </svg>\n",
              "    "
            ],
            "text/plain": [
              "<IPython.core.display.HTML object>"
            ]
          },
          "metadata": {}
        }
      ]
    },
    {
      "cell_type": "markdown",
      "metadata": {
        "id": "Vd747azOUhNR"
      },
      "source": [
        "<section class=\"main-content\">\n",
        "<p>Podemos fazer a mesma coisa de forma mais concisa com uma instrução <code>for</code>. Acrescente este exemplo a <code>meupoligono.py</code> e execute-o novamente:</p>\n",
        "    </section>"
      ]
    },
    {
      "cell_type": "code",
      "metadata": {
        "id": "3UGVspYHUhNR",
        "outputId": "0de2a1ef-f192-4c42-8e56-34b05716e292"
      },
      "source": [
        "for i in range(4):\n",
        "    print('Hello!')"
      ],
      "execution_count": null,
      "outputs": [
        {
          "name": "stdout",
          "output_type": "stream",
          "text": [
            "Hello!\n",
            "Hello!\n",
            "Hello!\n",
            "Hello!\n"
          ]
        }
      ]
    },
    {
      "cell_type": "markdown",
      "metadata": {
        "id": "boy_KXPWUhNS"
      },
      "source": [
        "<section class=\"main-content\">\n",
        "<p>Você deve ver algo assim:</p>\n",
        "    </section>"
      ]
    },
    {
      "cell_type": "raw",
      "metadata": {
        "id": "3T492T22UhNS"
      },
      "source": [
        "```python\n",
        "Hello!\n",
        "Hello!\n",
        "Hello!\n",
        "Hello!\n",
        "```"
      ]
    },
    {
      "cell_type": "markdown",
      "metadata": {
        "id": "PBDSns4eUhNS"
      },
      "source": [
        "<section class=\"main-content\">\n",
        "<p>Este é o uso mais simples da instrução <code>for</code>; depois veremos mais sobre isso. Mas isso deve ser o suficiente para que você possa reescrever o seu programa de desenhar quadrados. Não continue a leitura até que dê certo.</p>\n",
        "\n",
        "<p>Aqui está uma instrução for que desenha um quadrado:</p>\n",
        "    </section>"
      ]
    },
    {
      "cell_type": "code",
      "metadata": {
        "id": "Ha8kW2uYUhNS",
        "outputId": "082f5e62-bd15-442e-d696-5fcaabe0aeae",
        "colab": {
          "base_uri": "https://localhost:8080/",
          "height": 521
        }
      },
      "source": [
        "bob.clear()\n",
        "for i in range(4):\n",
        "    bob.forward(100)\n",
        "    bob.left(90)"
      ],
      "execution_count": 13,
      "outputs": [
        {
          "output_type": "display_data",
          "data": {
            "text/html": [
              "\n",
              "      <svg width=\"800\" height=\"500\">\n",
              "        <rect width=\"100%\" height=\"100%\" fill=\"black\"/>\n",
              "        <line x1=\"400.0\" y1=\"150.0\" x2=\"400.0\" y2=\"250.0\" stroke-linecap=\"round\" style=\"stroke:white;stroke-width:4\"/><line x1=\"400.0\" y1=\"250.0\" x2=\"500.0\" y2=\"250.0\" stroke-linecap=\"round\" style=\"stroke:white;stroke-width:4\"/><line x1=\"500.0\" y1=\"250.0\" x2=\"500.0\" y2=\"150.0\" stroke-linecap=\"round\" style=\"stroke:white;stroke-width:4\"/><line x1=\"500.0\" y1=\"150.0\" x2=\"400.0\" y2=\"150.0\" stroke-linecap=\"round\" style=\"stroke:white;stroke-width:4\"/>\n",
              "        <g visibility=visible transform=\"rotate(180,400.0,150.0) translate(382.0, 132.0)\">\n",
              "<path style=\" stroke:none;fill-rule:evenodd;fill:white;fill-opacity:1;\" d=\"M 18.214844 0.632812 C 16.109375 1.800781 15.011719 4.074219 15.074219 7.132812 L 15.085938 7.652344 L 14.785156 7.496094 C 13.476562 6.824219 11.957031 6.671875 10.40625 7.066406 C 8.46875 7.550781 6.515625 9.15625 4.394531 11.992188 C 3.0625 13.777344 2.679688 14.636719 3.042969 15.027344 L 3.15625 15.152344 L 3.519531 15.152344 C 4.238281 15.152344 4.828125 14.886719 8.1875 13.039062 C 9.386719 12.378906 10.371094 11.839844 10.378906 11.839844 C 10.386719 11.839844 10.355469 11.929688 10.304688 12.035156 C 9.832031 13.09375 9.257812 14.820312 8.96875 16.078125 C 7.914062 20.652344 8.617188 24.53125 11.070312 27.660156 C 11.351562 28.015625 11.363281 27.914062 10.972656 28.382812 C 8.925781 30.84375 7.945312 33.28125 8.238281 35.1875 C 8.289062 35.527344 8.28125 35.523438 8.917969 35.523438 C 10.941406 35.523438 13.074219 34.207031 15.136719 31.6875 C 15.359375 31.417969 15.328125 31.425781 15.5625 31.574219 C 16.292969 32.042969 18.023438 32.964844 18.175781 32.964844 C 18.335938 32.964844 19.941406 32.210938 20.828125 31.71875 C 20.996094 31.625 21.136719 31.554688 21.136719 31.558594 C 21.203125 31.664062 21.898438 32.414062 22.222656 32.730469 C 23.835938 34.300781 25.5625 35.132812 27.582031 35.300781 C 27.90625 35.328125 27.9375 35.308594 28.007812 34.984375 C 28.382812 33.242188 27.625 30.925781 25.863281 28.425781 L 25.542969 27.96875 L 25.699219 27.785156 C 28.945312 23.960938 29.132812 18.699219 26.257812 11.96875 L 26.207031 11.84375 L 27.945312 12.703125 C 31.53125 14.476562 32.316406 14.800781 33.03125 14.800781 C 33.976562 14.800781 33.78125 13.9375 32.472656 12.292969 C 28.519531 7.355469 25.394531 5.925781 21.921875 7.472656 L 21.558594 7.636719 L 21.578125 7.542969 C 21.699219 6.992188 21.761719 5.742188 21.699219 5.164062 C 21.496094 3.296875 20.664062 1.964844 19.003906 0.855469 C 18.480469 0.503906 18.457031 0.5 18.214844 0.632812\"/>\n",
              "</g>\n",
              "      </svg>\n",
              "    "
            ],
            "text/plain": [
              "<IPython.core.display.HTML object>"
            ]
          },
          "metadata": {}
        }
      ]
    },
    {
      "cell_type": "markdown",
      "metadata": {
        "id": "goppUvtKUhNT"
      },
      "source": [
        "<section class=\"main-content\">\n",
        "<p>A sintaxe de uma instrução <code>for</code> é semelhante à definição de uma função. Tem um cabeçalho que termina em dois pontos e um corpo endentado. O corpo pode conter qualquer número de instruções.</p>\n",
        "\n",
        "<p>Uma instrução <code>for</code> também é chamada de <b>loop</b> porque o fluxo da execução passa pelo corpo e depois volta ao topo. Neste caso, ele passa pelo corpo quatro vezes.</p>\n",
        "\n",
        "<p>Esta versão, na verdade, é um pouco diferente do código anterior que desenha quadrados porque faz outra volta depois de desenhar o último lado do quadrado. A volta extra leva mais tempo, mas simplifica o código se fizermos a mesma coisa a cada vez pelo loop. Esta versão também tem o efeito de trazer o turtle de volta à posição inicial, de frente para a mesma direção em que estava.</p>\n",
        "\n",
        "<h2 id=\"43---exercícios\">4.3 - Exercícios</h2>\n",
        "\n",
        "<p>A seguir, uma série de exercícios usando TurtleWorld. Eles servem para divertir, mas também têm outro objetivo. Enquanto trabalha neles, pense que objetivo pode ser.</p>\n",
        "\n",
        "<p>As seções seguintes têm as soluções para os exercícios, mas não olhe até que tenha terminado (ou, pelo menos, tentado).</p>\n",
        "\n",
        "<ol>\n",
        "  <li>\n",
        "   <p>Escreva uma função chamada <code>quadrado</code> que receba um parâmetro chamado <code>t</code>, que é um turtle. Ela deve usar o turtle para desenhar um quadrado.<br>\n",
        "Escreva uma chamada de função que passe <code>bob</code> como um argumento para o <code>quadrado</code> e então execute o programa novamente.</p>\n",
        "  </li>\n",
        "\n",
        "  <li>\n",
        "    <p>Acrescente outro parâmetro, chamado <code>comprimento</code>, ao <code>quadrado</code>. Altere o corpo para que o comprimento dos lados seja <code>comprimento</code> e então altere a chamada da função para fornecer um segundo argumento. Execute o programa novamente. Teste o seu programa com uma variedade de valores para <code>comprimento</code>.</p>\n",
        "  </li>\n",
        "  \n",
        "  <li>\n",
        "    <p>Faça uma cópia do <code>quadrado</code> e mude o nome para <code>poligono</code>. Acrescente outro parâmetro chamado <code>n</code> e altere o corpo para que desenhe um polígono regular de n lados.<br>\n",
        "Dica: os ângulos exteriores de um polígono regular de n lados são 360/*n* graus.</p>\n",
        "  </li>\n",
        "\n",
        "  <li>\n",
        "    <p>Escreva uma função chamada <code>circulo</code> que use o turtle, <code>t</code> e um raio <code>r</code> como parâmetros e desenhe um círculo aproximado ao chamar <code>poligono</code> com um comprimento e número de lados adequados. Teste a sua função com uma série de valores de <code>r</code>.<br>\n",
        "Dica: descubra a circunferência do círculo e certifique-se de que <code>comprimento * n = circunferencia</code>.</p>\n",
        " </li>\n",
        "\n",
        "  <li>\n",
        "    <p>Faça uma versão mais geral do <code>circulo</code> chamada <code>arco</code>, que receba um parâmetro adicional de <code>angulo</code>, para determinar qual fração do círculo deve ser desenhada. <code>angulo</code> está em unidades de graus, então quando <code>angulo=360</code>, o <code>arco</code> deve desenhar um círculo completo.</p>\n",
        "  </li>\n",
        "</ol>\n",
        "\n",
        "<h2 id=\"44---encapsulamento\">4.4 - Encapsulamento</h2>\n",
        "\n",
        "<p>O primeiro exercício pede que você ponha seu código para desenhar quadrados em uma definição de função e então chame a função, passando o turtle como parâmetro. Aqui está uma solução:</p>\n",
        "    </section>"
      ]
    },
    {
      "cell_type": "code",
      "metadata": {
        "id": "WM57K9plUhNT",
        "outputId": "1fb7b964-8584-46fd-c795-6715d75957f6",
        "colab": {
          "base_uri": "https://localhost:8080/",
          "height": 521
        }
      },
      "source": [
        "def quadrado(t):\n",
        "    for i in range(4):\n",
        "        t.forward(100)\n",
        "        t.left(90)\n",
        "bob.clear()\n",
        "quadrado(bob)"
      ],
      "execution_count": 14,
      "outputs": [
        {
          "output_type": "display_data",
          "data": {
            "text/html": [
              "\n",
              "      <svg width=\"800\" height=\"500\">\n",
              "        <rect width=\"100%\" height=\"100%\" fill=\"black\"/>\n",
              "        <line x1=\"400.0\" y1=\"150.0\" x2=\"400.0\" y2=\"250.0\" stroke-linecap=\"round\" style=\"stroke:white;stroke-width:4\"/><line x1=\"400.0\" y1=\"250.0\" x2=\"500.0\" y2=\"250.0\" stroke-linecap=\"round\" style=\"stroke:white;stroke-width:4\"/><line x1=\"500.0\" y1=\"250.0\" x2=\"500.0\" y2=\"150.0\" stroke-linecap=\"round\" style=\"stroke:white;stroke-width:4\"/><line x1=\"500.0\" y1=\"150.0\" x2=\"400.0\" y2=\"150.0\" stroke-linecap=\"round\" style=\"stroke:white;stroke-width:4\"/>\n",
              "        <g visibility=visible transform=\"rotate(180,400.0,150.0) translate(382.0, 132.0)\">\n",
              "<path style=\" stroke:none;fill-rule:evenodd;fill:white;fill-opacity:1;\" d=\"M 18.214844 0.632812 C 16.109375 1.800781 15.011719 4.074219 15.074219 7.132812 L 15.085938 7.652344 L 14.785156 7.496094 C 13.476562 6.824219 11.957031 6.671875 10.40625 7.066406 C 8.46875 7.550781 6.515625 9.15625 4.394531 11.992188 C 3.0625 13.777344 2.679688 14.636719 3.042969 15.027344 L 3.15625 15.152344 L 3.519531 15.152344 C 4.238281 15.152344 4.828125 14.886719 8.1875 13.039062 C 9.386719 12.378906 10.371094 11.839844 10.378906 11.839844 C 10.386719 11.839844 10.355469 11.929688 10.304688 12.035156 C 9.832031 13.09375 9.257812 14.820312 8.96875 16.078125 C 7.914062 20.652344 8.617188 24.53125 11.070312 27.660156 C 11.351562 28.015625 11.363281 27.914062 10.972656 28.382812 C 8.925781 30.84375 7.945312 33.28125 8.238281 35.1875 C 8.289062 35.527344 8.28125 35.523438 8.917969 35.523438 C 10.941406 35.523438 13.074219 34.207031 15.136719 31.6875 C 15.359375 31.417969 15.328125 31.425781 15.5625 31.574219 C 16.292969 32.042969 18.023438 32.964844 18.175781 32.964844 C 18.335938 32.964844 19.941406 32.210938 20.828125 31.71875 C 20.996094 31.625 21.136719 31.554688 21.136719 31.558594 C 21.203125 31.664062 21.898438 32.414062 22.222656 32.730469 C 23.835938 34.300781 25.5625 35.132812 27.582031 35.300781 C 27.90625 35.328125 27.9375 35.308594 28.007812 34.984375 C 28.382812 33.242188 27.625 30.925781 25.863281 28.425781 L 25.542969 27.96875 L 25.699219 27.785156 C 28.945312 23.960938 29.132812 18.699219 26.257812 11.96875 L 26.207031 11.84375 L 27.945312 12.703125 C 31.53125 14.476562 32.316406 14.800781 33.03125 14.800781 C 33.976562 14.800781 33.78125 13.9375 32.472656 12.292969 C 28.519531 7.355469 25.394531 5.925781 21.921875 7.472656 L 21.558594 7.636719 L 21.578125 7.542969 C 21.699219 6.992188 21.761719 5.742188 21.699219 5.164062 C 21.496094 3.296875 20.664062 1.964844 19.003906 0.855469 C 18.480469 0.503906 18.457031 0.5 18.214844 0.632812\"/>\n",
              "</g>\n",
              "      </svg>\n",
              "    "
            ],
            "text/plain": [
              "<IPython.core.display.HTML object>"
            ]
          },
          "metadata": {}
        }
      ]
    },
    {
      "cell_type": "markdown",
      "metadata": {
        "id": "qaIBs2hyUhNT"
      },
      "source": [
        "<section class=\"main-content\">\n",
        "<p>As instruções mais internas, <code>forward</code> e <code>left</code>, são endentadas duas vezes para mostrar que estão dentro do loop <code>for</code>, que está dentro da definição da função. A linha seguinte, <code>quadrado(bob)</code>, está alinhada à margem esquerda, o que indica tanto o fim do loop <code>for</code> como da definição de função.</p>\n",
        "\n",
        "<p>Dentro da função, o <code>t</code> indica o mesmo turtle <code>bob</code>, então <code>t.left (90)</code> tem o mesmo efeito que <code>bob.left (90)</code>. Neste caso, por que não chamar o parâmetro <code>bob</code>? A ideia é que <code>t</code> pode ser qualquer turtle, não apenas <code>bob</code>, então você pode criar um segundo turtle e passá-lo como argumento ao <code>quadrado</code>:</p>\n",
        "    </section>"
      ]
    },
    {
      "cell_type": "code",
      "metadata": {
        "id": "wR1KlCmxUhNT",
        "outputId": "056bf9e6-b4ec-46c2-c58d-ce9bb71b6423",
        "colab": {
          "base_uri": "https://localhost:8080/",
          "height": 521
        }
      },
      "source": [
        "import ColabTurtle.Turtle as alice # linha inserida para rodar no Google Colab / Binder\n",
        "alice.initializeTurtle() # linha inserida para rodar no Google Colab / Binder\n",
        "#alice = turtle.Turtle()\n",
        "quadrado(alice)"
      ],
      "execution_count": 15,
      "outputs": [
        {
          "output_type": "display_data",
          "data": {
            "text/html": [
              "\n",
              "      <svg width=\"800\" height=\"500\">\n",
              "        <rect width=\"100%\" height=\"100%\" fill=\"black\"/>\n",
              "        <line x1=\"400\" y1=\"250\" x2=\"400.0\" y2=\"150.0\" stroke-linecap=\"round\" style=\"stroke:white;stroke-width:4\"/><line x1=\"400.0\" y1=\"150.0\" x2=\"300.0\" y2=\"150.0\" stroke-linecap=\"round\" style=\"stroke:white;stroke-width:4\"/><line x1=\"300.0\" y1=\"150.0\" x2=\"300.0\" y2=\"250.0\" stroke-linecap=\"round\" style=\"stroke:white;stroke-width:4\"/><line x1=\"300.0\" y1=\"250.0\" x2=\"400.0\" y2=\"250.0\" stroke-linecap=\"round\" style=\"stroke:white;stroke-width:4\"/>\n",
              "        <g visibility=visible transform=\"rotate(360,400.0,250.0) translate(382.0, 232.0)\">\n",
              "<path style=\" stroke:none;fill-rule:evenodd;fill:white;fill-opacity:1;\" d=\"M 18.214844 0.632812 C 16.109375 1.800781 15.011719 4.074219 15.074219 7.132812 L 15.085938 7.652344 L 14.785156 7.496094 C 13.476562 6.824219 11.957031 6.671875 10.40625 7.066406 C 8.46875 7.550781 6.515625 9.15625 4.394531 11.992188 C 3.0625 13.777344 2.679688 14.636719 3.042969 15.027344 L 3.15625 15.152344 L 3.519531 15.152344 C 4.238281 15.152344 4.828125 14.886719 8.1875 13.039062 C 9.386719 12.378906 10.371094 11.839844 10.378906 11.839844 C 10.386719 11.839844 10.355469 11.929688 10.304688 12.035156 C 9.832031 13.09375 9.257812 14.820312 8.96875 16.078125 C 7.914062 20.652344 8.617188 24.53125 11.070312 27.660156 C 11.351562 28.015625 11.363281 27.914062 10.972656 28.382812 C 8.925781 30.84375 7.945312 33.28125 8.238281 35.1875 C 8.289062 35.527344 8.28125 35.523438 8.917969 35.523438 C 10.941406 35.523438 13.074219 34.207031 15.136719 31.6875 C 15.359375 31.417969 15.328125 31.425781 15.5625 31.574219 C 16.292969 32.042969 18.023438 32.964844 18.175781 32.964844 C 18.335938 32.964844 19.941406 32.210938 20.828125 31.71875 C 20.996094 31.625 21.136719 31.554688 21.136719 31.558594 C 21.203125 31.664062 21.898438 32.414062 22.222656 32.730469 C 23.835938 34.300781 25.5625 35.132812 27.582031 35.300781 C 27.90625 35.328125 27.9375 35.308594 28.007812 34.984375 C 28.382812 33.242188 27.625 30.925781 25.863281 28.425781 L 25.542969 27.96875 L 25.699219 27.785156 C 28.945312 23.960938 29.132812 18.699219 26.257812 11.96875 L 26.207031 11.84375 L 27.945312 12.703125 C 31.53125 14.476562 32.316406 14.800781 33.03125 14.800781 C 33.976562 14.800781 33.78125 13.9375 32.472656 12.292969 C 28.519531 7.355469 25.394531 5.925781 21.921875 7.472656 L 21.558594 7.636719 L 21.578125 7.542969 C 21.699219 6.992188 21.761719 5.742188 21.699219 5.164062 C 21.496094 3.296875 20.664062 1.964844 19.003906 0.855469 C 18.480469 0.503906 18.457031 0.5 18.214844 0.632812\"/>\n",
              "</g>\n",
              "      </svg>\n",
              "    "
            ],
            "text/plain": [
              "<IPython.core.display.HTML object>"
            ]
          },
          "metadata": {}
        }
      ]
    },
    {
      "cell_type": "markdown",
      "metadata": {
        "id": "oiVUMUdYUhNU"
      },
      "source": [
        "<section class=\"main-content\">\n",
        "<p>Incluir uma parte do código em uma função chama-se <b>encapsulamento</b>. Um dos benefícios do encapsulamento é que ele atribui um nome ao código, o que serve como uma espécie de documentação. Outra vantagem é que se você reutilizar o código, é mais conciso chamar uma função duas vezes que copiar e colar o corpo!</p>\n",
        "\n",
        "<h2 id=\"45---generalização\">4.5 - Generalização</h2>\n",
        "\n",
        "<p>O próximo passo é acrescentar um parâmetro <code>comprimento</code> ao <code>quadrado</code>. Aqui está uma solução:</p>\n",
        "    </section>"
      ]
    },
    {
      "cell_type": "code",
      "metadata": {
        "id": "s5514sZgUhNU",
        "outputId": "11994cd1-151d-4fe1-8780-075a05823fee",
        "colab": {
          "base_uri": "https://localhost:8080/",
          "height": 521
        }
      },
      "source": [
        "def quadrado(t, comprimento):\n",
        "    for i in range(4):\n",
        "        t.forward(comprimento)\n",
        "        t.left(90)\n",
        "bob.clear()\n",
        "quadrado(bob, 100)"
      ],
      "execution_count": 16,
      "outputs": [
        {
          "output_type": "display_data",
          "data": {
            "text/html": [
              "\n",
              "      <svg width=\"800\" height=\"500\">\n",
              "        <rect width=\"100%\" height=\"100%\" fill=\"black\"/>\n",
              "        <line x1=\"400.0\" y1=\"250.0\" x2=\"400.0\" y2=\"150.0\" stroke-linecap=\"round\" style=\"stroke:white;stroke-width:4\"/><line x1=\"400.0\" y1=\"150.0\" x2=\"300.0\" y2=\"150.0\" stroke-linecap=\"round\" style=\"stroke:white;stroke-width:4\"/><line x1=\"300.0\" y1=\"150.0\" x2=\"300.0\" y2=\"250.0\" stroke-linecap=\"round\" style=\"stroke:white;stroke-width:4\"/><line x1=\"300.0\" y1=\"250.0\" x2=\"400.0\" y2=\"250.0\" stroke-linecap=\"round\" style=\"stroke:white;stroke-width:4\"/>\n",
              "        <g visibility=visible transform=\"rotate(360,400.0,250.0) translate(382.0, 232.0)\">\n",
              "<path style=\" stroke:none;fill-rule:evenodd;fill:white;fill-opacity:1;\" d=\"M 18.214844 0.632812 C 16.109375 1.800781 15.011719 4.074219 15.074219 7.132812 L 15.085938 7.652344 L 14.785156 7.496094 C 13.476562 6.824219 11.957031 6.671875 10.40625 7.066406 C 8.46875 7.550781 6.515625 9.15625 4.394531 11.992188 C 3.0625 13.777344 2.679688 14.636719 3.042969 15.027344 L 3.15625 15.152344 L 3.519531 15.152344 C 4.238281 15.152344 4.828125 14.886719 8.1875 13.039062 C 9.386719 12.378906 10.371094 11.839844 10.378906 11.839844 C 10.386719 11.839844 10.355469 11.929688 10.304688 12.035156 C 9.832031 13.09375 9.257812 14.820312 8.96875 16.078125 C 7.914062 20.652344 8.617188 24.53125 11.070312 27.660156 C 11.351562 28.015625 11.363281 27.914062 10.972656 28.382812 C 8.925781 30.84375 7.945312 33.28125 8.238281 35.1875 C 8.289062 35.527344 8.28125 35.523438 8.917969 35.523438 C 10.941406 35.523438 13.074219 34.207031 15.136719 31.6875 C 15.359375 31.417969 15.328125 31.425781 15.5625 31.574219 C 16.292969 32.042969 18.023438 32.964844 18.175781 32.964844 C 18.335938 32.964844 19.941406 32.210938 20.828125 31.71875 C 20.996094 31.625 21.136719 31.554688 21.136719 31.558594 C 21.203125 31.664062 21.898438 32.414062 22.222656 32.730469 C 23.835938 34.300781 25.5625 35.132812 27.582031 35.300781 C 27.90625 35.328125 27.9375 35.308594 28.007812 34.984375 C 28.382812 33.242188 27.625 30.925781 25.863281 28.425781 L 25.542969 27.96875 L 25.699219 27.785156 C 28.945312 23.960938 29.132812 18.699219 26.257812 11.96875 L 26.207031 11.84375 L 27.945312 12.703125 C 31.53125 14.476562 32.316406 14.800781 33.03125 14.800781 C 33.976562 14.800781 33.78125 13.9375 32.472656 12.292969 C 28.519531 7.355469 25.394531 5.925781 21.921875 7.472656 L 21.558594 7.636719 L 21.578125 7.542969 C 21.699219 6.992188 21.761719 5.742188 21.699219 5.164062 C 21.496094 3.296875 20.664062 1.964844 19.003906 0.855469 C 18.480469 0.503906 18.457031 0.5 18.214844 0.632812\"/>\n",
              "</g>\n",
              "      </svg>\n",
              "    "
            ],
            "text/plain": [
              "<IPython.core.display.HTML object>"
            ]
          },
          "metadata": {}
        }
      ]
    },
    {
      "cell_type": "markdown",
      "metadata": {
        "id": "o1rdrJY_UhNU"
      },
      "source": [
        "<section class=\"main-content\">\n",
        "<p>Acrescentar um parâmetro a uma função chama-se <b>generalização</b> porque ele torna a função mais geral: na versão anterior, o quadrado é sempre do mesmo tamanho; nesta versão, pode ser de qualquer tamanho.</p>\n",
        "\n",
        "<p>O próximo passo também é uma generalização. Em vez de desenhar quadrados, <code>poligono</code> desenha polígonos regulares com qualquer número de lados. Aqui está uma solução:</p>\n",
        "    </section>"
      ]
    },
    {
      "cell_type": "code",
      "metadata": {
        "id": "TPYYxOtHUhNU",
        "outputId": "f8939cda-46e7-4eff-deb7-87f93c05b7fb",
        "colab": {
          "base_uri": "https://localhost:8080/",
          "height": 521
        }
      },
      "source": [
        "def poligono(t, n, comprimento):\n",
        "    angulo = 360 / n\n",
        "    for i in range(n):\n",
        "        t.forward(comprimento)\n",
        "        t.left(angulo)\n",
        "bob.clear()\n",
        "poligono(bob, 7, 70)"
      ],
      "execution_count": 17,
      "outputs": [
        {
          "output_type": "display_data",
          "data": {
            "text/html": [
              "\n",
              "      <svg width=\"800\" height=\"500\">\n",
              "        <rect width=\"100%\" height=\"100%\" fill=\"black\"/>\n",
              "        <line x1=\"400.0\" y1=\"250.0\" x2=\"400.0\" y2=\"180.0\" stroke-linecap=\"round\" style=\"stroke:white;stroke-width:4\"/><line x1=\"400.0\" y1=\"180.0\" x2=\"345.272\" y2=\"136.356\" stroke-linecap=\"round\" style=\"stroke:white;stroke-width:4\"/><line x1=\"345.272\" y1=\"136.356\" x2=\"277.027\" y2=\"151.932\" stroke-linecap=\"round\" style=\"stroke:white;stroke-width:4\"/><line x1=\"277.027\" y1=\"151.932\" x2=\"246.655\" y2=\"215.0\" stroke-linecap=\"round\" style=\"stroke:white;stroke-width:4\"/><line x1=\"246.655\" y1=\"215.0\" x2=\"277.027\" y2=\"278.068\" stroke-linecap=\"round\" style=\"stroke:white;stroke-width:4\"/><line x1=\"277.027\" y1=\"278.068\" x2=\"345.272\" y2=\"293.644\" stroke-linecap=\"round\" style=\"stroke:white;stroke-width:4\"/><line x1=\"345.272\" y1=\"293.644\" x2=\"400.0\" y2=\"250.0\" stroke-linecap=\"round\" style=\"stroke:white;stroke-width:4\"/>\n",
              "        <g visibility=visible transform=\"rotate(359.99999999999994,400.0,250.0) translate(382.0, 232.0)\">\n",
              "<path style=\" stroke:none;fill-rule:evenodd;fill:white;fill-opacity:1;\" d=\"M 18.214844 0.632812 C 16.109375 1.800781 15.011719 4.074219 15.074219 7.132812 L 15.085938 7.652344 L 14.785156 7.496094 C 13.476562 6.824219 11.957031 6.671875 10.40625 7.066406 C 8.46875 7.550781 6.515625 9.15625 4.394531 11.992188 C 3.0625 13.777344 2.679688 14.636719 3.042969 15.027344 L 3.15625 15.152344 L 3.519531 15.152344 C 4.238281 15.152344 4.828125 14.886719 8.1875 13.039062 C 9.386719 12.378906 10.371094 11.839844 10.378906 11.839844 C 10.386719 11.839844 10.355469 11.929688 10.304688 12.035156 C 9.832031 13.09375 9.257812 14.820312 8.96875 16.078125 C 7.914062 20.652344 8.617188 24.53125 11.070312 27.660156 C 11.351562 28.015625 11.363281 27.914062 10.972656 28.382812 C 8.925781 30.84375 7.945312 33.28125 8.238281 35.1875 C 8.289062 35.527344 8.28125 35.523438 8.917969 35.523438 C 10.941406 35.523438 13.074219 34.207031 15.136719 31.6875 C 15.359375 31.417969 15.328125 31.425781 15.5625 31.574219 C 16.292969 32.042969 18.023438 32.964844 18.175781 32.964844 C 18.335938 32.964844 19.941406 32.210938 20.828125 31.71875 C 20.996094 31.625 21.136719 31.554688 21.136719 31.558594 C 21.203125 31.664062 21.898438 32.414062 22.222656 32.730469 C 23.835938 34.300781 25.5625 35.132812 27.582031 35.300781 C 27.90625 35.328125 27.9375 35.308594 28.007812 34.984375 C 28.382812 33.242188 27.625 30.925781 25.863281 28.425781 L 25.542969 27.96875 L 25.699219 27.785156 C 28.945312 23.960938 29.132812 18.699219 26.257812 11.96875 L 26.207031 11.84375 L 27.945312 12.703125 C 31.53125 14.476562 32.316406 14.800781 33.03125 14.800781 C 33.976562 14.800781 33.78125 13.9375 32.472656 12.292969 C 28.519531 7.355469 25.394531 5.925781 21.921875 7.472656 L 21.558594 7.636719 L 21.578125 7.542969 C 21.699219 6.992188 21.761719 5.742188 21.699219 5.164062 C 21.496094 3.296875 20.664062 1.964844 19.003906 0.855469 C 18.480469 0.503906 18.457031 0.5 18.214844 0.632812\"/>\n",
              "</g>\n",
              "      </svg>\n",
              "    "
            ],
            "text/plain": [
              "<IPython.core.display.HTML object>"
            ]
          },
          "metadata": {}
        }
      ]
    },
    {
      "cell_type": "markdown",
      "metadata": {
        "id": "YtUE6CYtUhNV"
      },
      "source": [
        "<section class=\"main-content\">\n",
        "<p>Este exemplo desenha um polígono de 7 lados, cada um de comprimento 70.</p>\n",
        "\n",
        "<p>Se estiver usando Python 2, o valor do <code>angulo</code> poderia estar errado por causa da divisão de número inteiro. Uma solução simples é calcular <code>angulo = 360.0 / n</code>. Como o numerador é um número de ponto flutuante, o resultado é em ponto flutuante.</p>\n",
        "\n",
        "<p>Quando uma função tem vários argumentos numéricos, é fácil esquecer o que eles são ou a ordem na qual eles devem estar. Neste caso, muitas vezes é uma boa ideia incluir os nomes dos parâmetros na lista de argumentos:</p>\n",
        "    </section>"
      ]
    },
    {
      "cell_type": "code",
      "metadata": {
        "id": "FA7KpRFOUhNV",
        "outputId": "af6c2513-bf43-4e9d-bf6b-4a835b19ddd8",
        "colab": {
          "base_uri": "https://localhost:8080/",
          "height": 521
        }
      },
      "source": [
        "bob.clear()\n",
        "poligono (bob, n=7, comprimento=70)"
      ],
      "execution_count": 18,
      "outputs": [
        {
          "output_type": "display_data",
          "data": {
            "text/html": [
              "\n",
              "      <svg width=\"800\" height=\"500\">\n",
              "        <rect width=\"100%\" height=\"100%\" fill=\"black\"/>\n",
              "        <line x1=\"400.0\" y1=\"250.0\" x2=\"400.0\" y2=\"180.0\" stroke-linecap=\"round\" style=\"stroke:white;stroke-width:4\"/><line x1=\"400.0\" y1=\"180.0\" x2=\"345.272\" y2=\"136.356\" stroke-linecap=\"round\" style=\"stroke:white;stroke-width:4\"/><line x1=\"345.272\" y1=\"136.356\" x2=\"277.027\" y2=\"151.932\" stroke-linecap=\"round\" style=\"stroke:white;stroke-width:4\"/><line x1=\"277.027\" y1=\"151.932\" x2=\"246.655\" y2=\"215.0\" stroke-linecap=\"round\" style=\"stroke:white;stroke-width:4\"/><line x1=\"246.655\" y1=\"215.0\" x2=\"277.027\" y2=\"278.068\" stroke-linecap=\"round\" style=\"stroke:white;stroke-width:4\"/><line x1=\"277.027\" y1=\"278.068\" x2=\"345.272\" y2=\"293.644\" stroke-linecap=\"round\" style=\"stroke:white;stroke-width:4\"/><line x1=\"345.272\" y1=\"293.644\" x2=\"400.0\" y2=\"250.0\" stroke-linecap=\"round\" style=\"stroke:white;stroke-width:4\"/>\n",
              "        <g visibility=visible transform=\"rotate(359.9999999999999,400.0,250.0) translate(382.0, 232.0)\">\n",
              "<path style=\" stroke:none;fill-rule:evenodd;fill:white;fill-opacity:1;\" d=\"M 18.214844 0.632812 C 16.109375 1.800781 15.011719 4.074219 15.074219 7.132812 L 15.085938 7.652344 L 14.785156 7.496094 C 13.476562 6.824219 11.957031 6.671875 10.40625 7.066406 C 8.46875 7.550781 6.515625 9.15625 4.394531 11.992188 C 3.0625 13.777344 2.679688 14.636719 3.042969 15.027344 L 3.15625 15.152344 L 3.519531 15.152344 C 4.238281 15.152344 4.828125 14.886719 8.1875 13.039062 C 9.386719 12.378906 10.371094 11.839844 10.378906 11.839844 C 10.386719 11.839844 10.355469 11.929688 10.304688 12.035156 C 9.832031 13.09375 9.257812 14.820312 8.96875 16.078125 C 7.914062 20.652344 8.617188 24.53125 11.070312 27.660156 C 11.351562 28.015625 11.363281 27.914062 10.972656 28.382812 C 8.925781 30.84375 7.945312 33.28125 8.238281 35.1875 C 8.289062 35.527344 8.28125 35.523438 8.917969 35.523438 C 10.941406 35.523438 13.074219 34.207031 15.136719 31.6875 C 15.359375 31.417969 15.328125 31.425781 15.5625 31.574219 C 16.292969 32.042969 18.023438 32.964844 18.175781 32.964844 C 18.335938 32.964844 19.941406 32.210938 20.828125 31.71875 C 20.996094 31.625 21.136719 31.554688 21.136719 31.558594 C 21.203125 31.664062 21.898438 32.414062 22.222656 32.730469 C 23.835938 34.300781 25.5625 35.132812 27.582031 35.300781 C 27.90625 35.328125 27.9375 35.308594 28.007812 34.984375 C 28.382812 33.242188 27.625 30.925781 25.863281 28.425781 L 25.542969 27.96875 L 25.699219 27.785156 C 28.945312 23.960938 29.132812 18.699219 26.257812 11.96875 L 26.207031 11.84375 L 27.945312 12.703125 C 31.53125 14.476562 32.316406 14.800781 33.03125 14.800781 C 33.976562 14.800781 33.78125 13.9375 32.472656 12.292969 C 28.519531 7.355469 25.394531 5.925781 21.921875 7.472656 L 21.558594 7.636719 L 21.578125 7.542969 C 21.699219 6.992188 21.761719 5.742188 21.699219 5.164062 C 21.496094 3.296875 20.664062 1.964844 19.003906 0.855469 C 18.480469 0.503906 18.457031 0.5 18.214844 0.632812\"/>\n",
              "</g>\n",
              "      </svg>\n",
              "    "
            ],
            "text/plain": [
              "<IPython.core.display.HTML object>"
            ]
          },
          "metadata": {}
        }
      ]
    },
    {
      "cell_type": "markdown",
      "metadata": {
        "id": "L82rikmWUhNV"
      },
      "source": [
        "<section class=\"main-content\">\n",
        "<p>Esses são os <b>argumentos de palavra-chave</b> porque incluem os nomes dos parâmetros como “palavras-chave” (para não confundir com palavras-chave do Python, tais como <code>while</code> e <code>def</code>).</p>\n",
        "\n",
        "<p>Esta sintaxe torna o programa mais legível. Também é uma lembrança sobre como os argumentos e os parâmetros funcionam: quando você chama uma função, os argumentos são atribuídos aos parâmetros.</p>\n",
        "\n",
        "<h2 id=\"46---projeto-da-interface\">4.6 - Projeto da interface</h2>\n",
        "\n",
        "<p>O próximo passo é escrever <code>circulo</code>, que recebe um raio <code>r</code>, como parâmetro. Aqui está uma solução simples que usa o <code>poligono</code> para desenhar um polígono de 50 lados:</p>\n",
        "    </section>"
      ]
    },
    {
      "cell_type": "code",
      "metadata": {
        "id": "kA_ZvSj8UhNW"
      },
      "source": [
        "import math\n",
        "def circulo(t, r):\n",
        "    circunferencia = 2 * math.pi * r\n",
        "    n = 50\n",
        "    comprimento = circunferencia / n\n",
        "    poligono(t, n, comprimento)"
      ],
      "execution_count": 19,
      "outputs": []
    },
    {
      "cell_type": "markdown",
      "metadata": {
        "id": "fUdS18rPUhNW"
      },
      "source": [
        "<section class=\"main-content\">\n",
        "<p>A primeira linha calcula a circunferência de um círculo com o raio <code>r</code> usando a fórmula 2πr. Já que usamos <code>math.pi</code>, temos que importar <code>math</code>. Por convenção, instruções <code>import</code> normalmente ficam no início do script.</p>\n",
        "\n",
        "<p><code>n</code> é o número de segmentos de reta na nossa aproximação de um círculo, então <code>comprimento</code> é o comprimento de cada segmento. Assim, <code>poligono</code> desenha um polígono 50 lados que se aproxima de um círculo com o raio <code>r</code>.</p>\n",
        "\n",
        "<p>Uma limitação desta solução é que <code>n</code> é uma constante. Para círculos muito grandes, os segmentos de reta são longos demais, e para círculos pequenos, perdemos tempo desenhando segmentos muito pequenos. Uma solução seria generalizar a função tomando <code>n</code> como parâmetro. Isso daria ao usuário (seja quem for que chame <code>circulo</code>) mais controle, mas a interface seria menos limpa.</p>\n",
        "\n",
        "<p>A <b>interface</b> de uma função é um resumo de como ela é usada: Quais são os parâmetros? O que a função faz? E qual é o valor de retorno? Uma interface é “limpa” se permitir à pessoa que a chama fazer o que quiser sem ter que lidar com detalhes desnecessários.</p>\n",
        "\n",
        "<p>Neste exemplo, <code>r</code> pertence à interface porque especifica o círculo a ser desenhado. <code>n</code> é menos adequado porque pertence aos detalhes de <i>como</i> o círculo deve ser apresentado.</p>\n",
        "\n",
        "<p>Em vez de poluir a interface, é melhor escolher um valor adequado para <code>n</code>, dependendo da <code>circunferencia</code>:</p>\n",
        "    </section>"
      ]
    },
    {
      "cell_type": "code",
      "metadata": {
        "id": "sJjvXNJfUhNW"
      },
      "source": [
        "def circulo(t, r):\n",
        "    circunferencia = 2 * math.pi * r\n",
        "    n = int(circunferencia / 3) + 1\n",
        "    comprimento = circunferencia / n\n",
        "    poligono(t, n, comprimento)"
      ],
      "execution_count": 20,
      "outputs": []
    },
    {
      "cell_type": "markdown",
      "metadata": {
        "id": "D12jSNKPUhNW"
      },
      "source": [
        "<section class=\"main-content\">\n",
        "<p>Neste ponto, o número de segmentos é um número inteiro próximo a <code>circunferencia/3</code>, então o comprimento de cada segmento é aproximadamente 3, pequeno o suficiente para que os círculos fiquem bons, mas grandes o suficiente para serem eficientes e aceitáveis para círculos de qualquer tamanho.</p>\n",
        "\n",
        "<p><a id=\"sec:4.7 - Refatoração\"></a></p>\n",
        "<h2 id=\"47---refatoração\">4.7 - Refatoração</h2>\n",
        "\n",
        "<p>Quando escrevi <code>circulo</code>, pude reutilizar <code>poligono</code> porque um polígono de muitos lados é uma boa aproximação de um círculo. Mas o <code>arco</code> não é tão cooperativo; não podemos usar <code>poligono</code> ou <code>circulo</code> para desenhar um arco.</p>\n",
        "\n",
        "<p>Uma alternativa é começar com uma cópia de <code>poligono</code> e transformá-la em <code>arco</code>. O resultado poderia ser algo assim:</p>\n",
        "    </section>"
      ]
    },
    {
      "cell_type": "code",
      "metadata": {
        "id": "AMmOZE_7UhNX"
      },
      "source": [
        "def arc(t, r, angle):\n",
        "    arc_length = 2 * math.pi * r * angle / 360\n",
        "    n = int(arc_length / 3) + 1\n",
        "    step_length = arc_length / n\n",
        "    step_angle = angle / n\n",
        "    for i in range(n):\n",
        "        t.forward(step_length)\n",
        "        t.left(step_angle)"
      ],
      "execution_count": null,
      "outputs": []
    },
    {
      "cell_type": "markdown",
      "metadata": {
        "id": "FizThodbUhNX"
      },
      "source": [
        "<section class=\"main-content\">\n",
        "<p>A segunda metade desta função parece com a do <code>poligono</code>, mas não é possível reutilizar o <code>poligono</code> sem mudar a interface. Poderíamos generalizar <code>poligono</code> para receber um ângulo como um terceiro argumento, mas então <code>poligono</code> não seria mais um nome adequado! Em vez disso, vamos chamar a função mais geral de <code>polilinha</code>:</p>\n",
        "    </section>"
      ]
    },
    {
      "cell_type": "code",
      "metadata": {
        "id": "fNxL3jOWUhNX"
      },
      "source": [
        "def polilinha(t, n, comprimento, angulo):\n",
        "    for i in range(n):\n",
        "        t.forward(comprimento)\n",
        "        t.left(angulo)"
      ],
      "execution_count": 21,
      "outputs": []
    },
    {
      "cell_type": "markdown",
      "metadata": {
        "id": "O7gM-gJKUhNX"
      },
      "source": [
        "<section class=\"main-content\">\n",
        "<p>Agora podemos reescrever <code>poligono</code> e <code>arco</code> para usar <code>polilinha</code>:</p>\n",
        "    </section>"
      ]
    },
    {
      "cell_type": "code",
      "metadata": {
        "id": "0xvrZLDWUhNX"
      },
      "source": [
        "def poligono(t, n, comprimento):\n",
        "    angulo = 360.0 / n\n",
        "    polilinha(t, n, comprimento, angulo)\n",
        "def arco(t, r, angulo):\n",
        "    comprimento_arco = 2 * math.pi * r * angulo / 360\n",
        "    n = int(comprimento_arco / 3) + 1\n",
        "    passo_comprimento = comprimento_arco / n\n",
        "    passo_angulo = float(angulo) / n\n",
        "    polilinha(t, n, passo_comprimento, passo_angulo)"
      ],
      "execution_count": 22,
      "outputs": []
    },
    {
      "cell_type": "markdown",
      "metadata": {
        "id": "Qy3fYnuDUhNX"
      },
      "source": [
        "<section class=\"main-content\">\n",
        "<p>Finalmente, podemos reescrever <code>circulo</code> para usar <code>arco</code>:</p>\n",
        "    </section>"
      ]
    },
    {
      "cell_type": "code",
      "metadata": {
        "id": "kD0pNB-JUhNX"
      },
      "source": [
        "def circulo(t, r):\n",
        "    arco(t, r, 360)"
      ],
      "execution_count": 23,
      "outputs": []
    },
    {
      "cell_type": "markdown",
      "metadata": {
        "id": "0SnnWyOEUhNY"
      },
      "source": [
        "<section class=\"main-content\">\n",
        "<p>Este processo – recompor um programa para melhorar interfaces e facilitar a reutilização do código – é chamado de <b>refatoração</b>. Neste caso, notamos que houve código semelhante em <code>arco</code> e <code>poligono</code>, então nós o “fatoramos” no <code>polilinha</code>.</p>\n",
        "\n",
        "<p>Se tivéssemos planejado, poderíamos ter escrito <code>polilinha</code> primeiro e evitado a refatoração, mas muitas vezes não sabemos o suficiente já no início de um projeto para projetar todas as interfaces. Quando começarmos a escrever código, entenderemos melhor o problema. Às vezes, a refatoração é um sinal de que aprendemos algo.</p>\n",
        "\n",
        "<h2 id=\"48---um-plano-de-desenvolvimento\">4.8 - Um plano de desenvolvimento</h2>\n",
        "\n",
        "<p>Um <b>plano de desenvolvimento</b> é um processo para escrever programas. O processo que usamos neste estudo de caso é “encapsulamento e generalização”. Os passos deste processo são:</p>\n",
        "\n",
        "<ol>\n",
        "  <li>\n",
        "    <p>Comece escrevendo um pequeno programa sem definições de função.</p>\n",
        "  </li>\n",
        "  <li>\n",
        "    <p>Uma vez que o programa esteja funcionando, identifique uma parte coerente dele, encapsule essa parte em uma função e dê um nome a ela.</p>\n",
        "  </li>\n",
        "  <li>\n",
        "    <p>Generalize a função acrescentando os parâmetros adequados.</p>\n",
        "  </li>\n",
        "  <li>\n",
        "    <p>Repita os passos 1-3 até que tenha um conjunto de funções operantes. Copie e cole o código operante para evitar a redigitação (e redepuração).</p>\n",
        "  </li>\n",
        "  <li>\n",
        "    <p>Procure oportunidades de melhorar o programa pela refatoração. Por exemplo, se você tem um código semelhante em vários lugares, pode ser uma boa ideia fatorá-lo em uma função geral adequada.</p>\n",
        "  </li>\n",
        "</ol>\n",
        "\n",
        "<p>Este processo tem algumas desvantagens – veremos alternativas mais tarde – mas pode ser útil se você não souber de antemão como dividir o programa em funções. Esta abordagem permite criar o projeto no decorrer do trabalho.</p>\n",
        "\n",
        "<h2 id=\"49---docstring\">4.9 - <i>docstring</i></h2>\n",
        "\n",
        "<p>Uma <b><i>docstring</i></b> é uma string no início de uma função que explica a interface (“doc” é uma abreviação para “documentação”). Aqui está um exemplo:</p>\n",
        "    </section>"
      ]
    },
    {
      "cell_type": "code",
      "metadata": {
        "id": "gQ21a2tFUhNY"
      },
      "source": [
        "def polilinha(t, n, comprimento, angulo):\n",
        "    \"\"\"Desenha n segmentos de reta com o comprimento dado e\n",
        "    ângulo (em graus) entre eles. t é um turtle.\n",
        "    \"\"\"\n",
        "    for i in range(n):\n",
        "        t.forward(comprimento)\n",
        "        t.left(angulo)"
      ],
      "execution_count": 24,
      "outputs": []
    },
    {
      "cell_type": "markdown",
      "metadata": {
        "id": "I-6JTlDDUhNY"
      },
      "source": [
        "<section class=\"main-content\">\n",
        "<p>Por convenção, todas as docstrings têm aspas triplas, também conhecidas como strings multilinha porque as aspas triplas permitem que a string se estenda por mais de uma linha.</p>\n",
        "\n",
        "<p>É conciso, mas contém a informação essencial que alguém precisaria para usar esta função. Explica sucintamente o que a função faz (sem entrar nos detalhes de como o faz). Explica que efeito cada parâmetro tem sobre o comportamento da função e o tipo que cada parâmetro deve ser (se não for óbvio).</p>\n",
        "\n",
        "<p>Escrever este tipo de documentação é uma parte importante do projeto da interface. Uma interface bem projetada deve ser simples de explicar; se não for assim, talvez a interface possa ser melhorada.</p>\n",
        "\n",
        "<h2 id=\"410---depuração\">4.10 - Depuração</h2>\n",
        "\n",
        "<p>Uma interface é como um contrato entre uma função e quem a chama. Quem chama concorda em fornecer certos parâmetros e a função concorda em fazer certa ação.</p>\n",
        "\n",
        "<p>Por exemplo, <code>polilinha</code> precisa de quatro argumentos: <code>t</code> tem que ser um Turtle; <code>n</code> tem que ser um número inteiro; <code>comprimento</code> deve ser um número positivo; e o <code>angulo</code> tem que ser um número, que se espera estar em graus.</p>\n",
        "\n",
        "<p>Essas exigências são chamadas de <b>precondições</b> porque se supõe que sejam verdade antes que a função seja executada. De forma inversa, as condições no fim da função são <b>pós-condições</b>. As pós-condições incluem o efeito desejado da função (como o desenho de segmentos de reta) e qualquer efeito colateral (como mover o Turtle ou fazer outras mudanças).</p>\n",
        "\n",
        "<p>Precondições são responsabilidade de quem chama. Se quem chama violar uma precondição (adequadamente documentada!) e a função não funcionar corretamente, o problema está nesta pessoa, não na função.</p>\n",
        "\n",
        "<p>Se as precondições forem satisfeitas e as pós-condições não forem, o problema está na função. Se as suas precondições e pós-condições forem claras, elas podem ajudar na depuração.</p>\n",
        "\n",
        "<h2 id=\"411---glossário\">4.11 - Glossário</h2>\n",
        "\n",
        "<b>método</b><br />\n",
        "&nbsp;&nbsp;&nbsp;&nbsp;Uma função associada a um objeto e chamada usando a notação de ponto.\n",
        "<br /><br /><b>loop</b><br />\n",
        "&nbsp;&nbsp;&nbsp;&nbsp;Parte de um programa que pode ser executada repetidamente.\n",
        "<br />\n",
        "<br><b>encapsulamento</b><br />\n",
        "&nbsp;&nbsp;&nbsp;&nbsp;O processo de transformar uma sequência de instruções em uma definição de função.\n",
        "<br />\n",
        "<br><b>generalização</b><br />\n",
        "&nbsp;&nbsp;&nbsp;&nbsp;O processo de substituir algo desnecessariamente específico (como um número) por algo adequadamente geral (como uma variável ou parâmetro).\n",
        "<br />\n",
        "<br><b>argumento de palavra-chave</b><br />\n",
        "&nbsp;&nbsp;&nbsp;&nbsp;Um argumento que inclui o nome do parâmetro como uma “palavra-chave”.\n",
        "<br />\n",
        "<br><b>interface</b><br />\n",
        "&nbsp;&nbsp;&nbsp;&nbsp;Uma descrição de como usar uma função, incluindo o nome e as descrições dos argumentos e do valor de retorno.\n",
        "<br />\n",
        "<br><b>refatoração</b><br />\n",
        "&nbsp;&nbsp;&nbsp;&nbsp;O processo de alterar um programa funcional para melhorar a interface de funções e outras qualidades do código.\n",
        "<br />\n",
        "<br><b>plano de desenvolvimento</b><br />\n",
        "&nbsp;&nbsp;&nbsp;&nbsp;Um processo de escrever programas.\n",
        "<br />\n",
        "<br><b><i>docstring</i></b><br />\n",
        "&nbsp;&nbsp;&nbsp;&nbsp;Uma string que aparece no início de uma definição de função para documentar a interface da função.\n",
        "<br />\n",
        "<br><b>precondição</b><br />\n",
        "&nbsp;&nbsp;&nbsp;&nbsp;Uma exigência que deve ser satisfeita por quem chama a função, antes de executá-la.\n",
        "<br />\n",
        "<br><b>pós-condição</b><br />\n",
        "&nbsp;&nbsp;&nbsp;&nbsp;Uma exigência que deve ser satisfeita pela função antes que ela seja encerrada.\n",
        "<br />\n",
        "<h2 id=\"412---exercícios\">4.12 - Exercícios</h2>\n",
        "\n",
        "<h3 id=\"exercício-41\">Exercício 4.1</h3>\n",
        "\n",
        "<p>Baixe o código deste capítulo no site http://thinkpython2.com/code/polygon.py.</p>\n",
        "\n",
        "<ol>\n",
        "  <li>\n",
        "    <p>Desenhe um diagrama da pilha que mostre o estado do programa enquanto executa <code>circulo (bob, raio)</code>. Você pode fazer a aritmética à mão ou acrescentar instruções <code>print</code> ao código.</p>\n",
        "  </li>\n",
        "  <li>\n",
        "    <p>A versão de <code class=\"highlighter-rouge\">arc</code> na seção <a href=\"#sec:4.7 - Refatoração\">4.7 - Refatoração</a> não é muito precisa porque a aproximação linear do círculo está sempre do lado de fora do círculo verdadeiro. Consequentemente, o Turtle acaba ficando alguns píxeis de distância do destino correto. Minha solução mostra um modo de reduzir o efeito deste erro. Leia o código e veja se faz sentido para você. Se desenhar um diagrama, poderá ver como funciona.</p>\n",
        "  </li>\n",
        "</ol>\n",
        "\n",
        "<h3 id=\"exercício-42\">Exercício 4.2</h3>\n",
        "\n",
        "<p>Escreva um conjunto de funções adequadamente geral que possa desenhar flores como as da Figura 4.1.</p>\n",
        "\n",
        "<p><img src=\"https://github.com/PenseAllen/PensePython2e/raw/master/fig/tnkp_0401.png\" alt=\"Figura 4.1 – Flores de tartaruga.\">\n",
        "<br><em>Figura 4.1 – Flores de tartaruga.</em></p>\n",
        "\n",
        "<p>Solução: http://thinkpython2.com/code/flower.py, também exige http://thinkpython2.com/code/polygon.py.</p>\n",
        "\n",
        "<h3 id=\"exercício-43\">Exercício 4.3</h3>\n",
        "\n",
        "<p>Escreva um conjunto de funções adequadamente geral que possa desenhar formas como as da Figura 4.2.</p>\n",
        "\n",
        "<p><img src=\"https://github.com/PenseAllen/PensePython2e/raw/master/fig/tnkp_0402.png\" alt=\"Figura 4.2 – Tortas de tartaruga.\">\n",
        "<br><em>Figura 4.2 – Tortas de tartaruga.</em></p>\n",
        "\n",
        "<p>Solução: http://thinkpython2.com/code/pie.py.</p>\n",
        "\n",
        "<h3 id=\"exercício-44\">Exercício 4.4</h3>\n",
        "\n",
        "<p>As letras do alfabeto podem ser construídas a partir de um número moderado de elementos básicos, como linhas verticais e horizontais e algumas curvas. Crie um alfabeto que possa ser desenhado com um número mínimo de elementos básicos e então escreva funções que desenhem as letras.</p>\n",
        "\n",
        "<p>Você deve escrever uma função para cada letra, com os nomes <code>desenha_a</code>, <code>desenha_b</code> etc., e colocar suas funções em um arquivo chamado <code>letras.py</code>. Você pode baixar uma “máquina de escrever de turtle” no site http://thinkpython2.com/code/typewriter.py para ajudar a testar o seu código.</p>\n",
        "\n",
        "<p>Você pode ver uma solução no site http://thinkpython2.com/code/letters.py; ela também exige http://thinkpython2.com/code/polygon.py.</p>\n",
        "\n",
        "<h3 id=\"exercício-45\">Exercício 4.5</h3>\n",
        "\n",
        "<p>Leia sobre espirais em https://pt.wikipedia.org/wiki/Espiral; então escreva um programa que desenhe uma espiral de Arquimedes (ou um dos outros tipos).</p>\n",
        "\n",
        "<p>[1] <em>turtle graphics</em> ou gráficos de tartaruga é o sistema de desenho popularizado pela linguagem Logo, onde os comandos movimentam um cursor triangular pela tela, conhecido como <em>turtle</em> ou tartaruga. A tartaruga deixa um rastro à medida que é movimentada, e é com esses rastros que se forma um desenho. Diferente dos sistemas usuais de desenho em computação gráfica, o sistema <em>turtle graphics</em> não exige o uso de coordenadas cartesianas.</p>\n",
        "    </section>"
      ]
    }
  ]
}