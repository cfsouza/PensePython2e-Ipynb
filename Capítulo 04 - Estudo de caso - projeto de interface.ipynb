{
 "cells": [
  {
   "cell_type": "markdown",
   "metadata": {},
   "source": [
    "<section class=\"main-content\">\n",
    "      <h1 id=\"capítulo-4-estudo-de-caso-projeto-de-interface\">Capítulo 4: Estudo de caso: projeto de interface</h1>\n",
    "\n",
    "<p>Este capítulo apresenta um estudo de caso que demonstra o processo de criação de funções que operam simultaneamente.</p>\n",
    "\n",
    "<p>Ele apresenta o módulo turtle, que permite criar imagens usando [<em>turtle graphics</em>][1]. O módulo <code>turtle</code> é incluído na maior parte das instalações do Python, mas se estiver executando a linguagem com o PythonAnywhere você não poderá executar os exemplos do turtle (pelo menos não era possível quando escrevi este livro).</p>\n",
    "\n",
    "<p>Se já tiver instalado o Python no seu computador, você poderá executar os exemplos. Caso não, agora é uma boa hora para instalar. Publiquei instruções no site http://tinyurl.com/thinkpython2e.</p>\n",
    "\n",
    "<p>Os exemplos de código deste capítulo estão disponíveis em http://thinkpython2.com/code/polygon.py.</p>\n",
    "\n",
    "<h2 id=\"41---módulo-turtle\">4.1 - Módulo turtle</h2>\n",
    "\n",
    "<p>Para conferir se você tem o módulo <code>turtle</code>, abra o interpretador do Python e digite:</p>\n",
    "    </section>"
   ]
  },
  {
   "cell_type": "code",
   "execution_count": null,
   "metadata": {},
   "outputs": [],
   "source": [
    ">>> import turtle\n",
    ">>> bob = turtle.Turtle()"
   ]
  },
  {
   "cell_type": "markdown",
   "metadata": {},
   "source": [
    "<section class=\"main-content\">\n",
    "<p>Ao executar este código o programa deve abrir uma nova janela com uma pequena flecha que representa o turtle. Feche a janela.</p>\n",
    "\n",
    "<p>Crie um arquivo chamado <code>mypolygon.py</code> e digite o seguinte código:</p>\n",
    "    </section>"
   ]
  },
  {
   "cell_type": "markdown",
   "metadata": {},
   "source": [
    "```python\n",
    "import turtle\n",
    "bob = turtle.Turtle()\n",
    "print(bob)\n",
    "turtle.mainloop()```"
   ]
  },
  {
   "cell_type": "markdown",
   "metadata": {},
   "source": [
    "<section class=\"main-content\">\n",
    "<p>O módulo <code>turtle</code> (com t minúsculo) apresenta uma função chamada <code>Turtle</code> (com T maiúsculo), que cria um objeto Turtle, ao qual atribuímos uma variável chamada <code>bob</code>. Exibir bob faz algo assim:</p>\n",
    "    </section>"
   ]
  },
  {
   "cell_type": "markdown",
   "metadata": {},
   "source": [
    "```python\n",
    "<turtle.Turtle object at 0xb7bfbf4c>```"
   ]
  },
  {
   "cell_type": "markdown",
   "metadata": {},
   "source": [
    "<section class=\"main-content\">\n",
    "<p>Isto significa que bob se refere a um objeto com o tipo <code>Turtle</code> definido no módulo <code>turtle</code>.</p>\n",
    "\n",
    "<p><code>mainloop</code> diz que a janela deve esperar que o usuário faça algo, embora neste caso não haja muito a fazer, exceto fechar a janela.</p>\n",
    "\n",
    "<p>Uma vez que tenha criado o Turtle, você pode chamar um <b>método</b> para movê-lo pela janela. Método é semelhante a uma função, mas usa uma sintaxe ligeiramente diferente. Por exemplo, para mover o turtle para a frente:</p>\n",
    "    </section>"
   ]
  },
  {
   "cell_type": "code",
   "execution_count": null,
   "metadata": {},
   "outputs": [],
   "source": [
    "bob.fd(100)"
   ]
  },
  {
   "cell_type": "markdown",
   "metadata": {},
   "source": [
    "<section class=\"main-content\">\n",
    "<p>O método <code>fd</code> é associado com o objeto turtle, que denominamos <code>bob</code>. Chamar de um método é como fazer um pedido: você está pedindo que <code>bob</code> avance.</p>\n",
    "\n",
    "<p>O argumento de <code>fd</code> é uma distância em píxeis, então o tamanho real depende da sua tela.</p>\n",
    "\n",
    "<p>Outros métodos que você pode chamar em um Turtle são <code>bk</code> para mover-se para trás, <code>lt</code> para virar à esquerda e <code>rt</code> para virar à direita. O argumento para <code>lt</code> e <code>rt</code> é um ângulo em graus.</p>\n",
    "\n",
    "<p>Além disso, cada Turtle segura uma caneta, que está abaixada ou levantada; se a caneta estiver abaixada, o Turtle deixa um rastro quando se move. Os métodos <code>pu</code> e <code>pd</code> representam “caneta para cima” e “caneta para baixo”.</p>\n",
    "\n",
    "<p>Para desenhar um ângulo reto, acrescente estas linhas ao programa (depois de criar <code>bob</code> e antes de chamar o <code>mainloop</code>):</p>\n",
    "    </section>"
   ]
  },
  {
   "cell_type": "code",
   "execution_count": null,
   "metadata": {},
   "outputs": [],
   "source": [
    "bob.fd(100)\n",
    "bob.lt(90)\n",
    "bob.fd(100)"
   ]
  },
  {
   "cell_type": "markdown",
   "metadata": {},
   "source": [
    "<section class=\"main-content\">\n",
    "<p>Ao executar este programa, você deveria ver <code>bob</code> mover-se para o leste e depois para o norte, deixando dois segmentos de reta para trás.</p>\n",
    "\n",
    "<p>Agora altere o programa para desenhar um quadrado. Só siga adiante neste capítulo se ele funcionar adequadamente!</p>\n",
    "\n",
    "<h2 id=\"42---repetição-simples\">4.2 - Repetição simples</h2>\n",
    "\n",
    "<p>Provavelmente você escreveu algo assim:</p>\n",
    "    </section>"
   ]
  },
  {
   "cell_type": "code",
   "execution_count": null,
   "metadata": {},
   "outputs": [],
   "source": [
    "bob.fd(100)\n",
    "bob.lt(90)\n",
    "bob.fd(100)\n",
    "bob.lt(90)\n",
    "bob.fd(100)\n",
    "bob.lt(90)\n",
    "bob.fd(100)"
   ]
  },
  {
   "cell_type": "markdown",
   "metadata": {},
   "source": [
    "<section class=\"main-content\">\n",
    "<p>Podemos fazer a mesma coisa de forma mais concisa com uma instrução <code>for</code>. Acrescente este exemplo a <code>mypolygon.py</code> e execute-o novamente:</p>\n",
    "    </section>"
   ]
  },
  {
   "cell_type": "code",
   "execution_count": null,
   "metadata": {},
   "outputs": [],
   "source": [
    "for i in range(4):\n",
    "    print('Hello!')"
   ]
  },
  {
   "cell_type": "markdown",
   "metadata": {},
   "source": [
    "<section class=\"main-content\">\n",
    "<p>Você deve ver algo assim:</p>\n",
    "    </section>"
   ]
  },
  {
   "cell_type": "raw",
   "metadata": {},
   "source": [
    "Hello!\n",
    "Hello!\n",
    "Hello!\n",
    "Hello!"
   ]
  },
  {
   "cell_type": "markdown",
   "metadata": {},
   "source": [
    "<section class=\"main-content\">\n",
    "<p>Este é o uso mais simples da instrução <code>for</code>; depois veremos mais sobre isso. Mas isso deve ser o suficiente para que você possa reescrever o seu programa de desenhar quadrados. Não continue a leitura até que dê certo.</p>\n",
    "\n",
    "<p>Aqui está uma instrução for que desenha um quadrado:</p>\n",
    "    </section>"
   ]
  },
  {
   "cell_type": "code",
   "execution_count": null,
   "metadata": {},
   "outputs": [],
   "source": [
    "for i in range(4):\n",
    "    bob.fd(100)\n",
    "    bob.lt(90)"
   ]
  },
  {
   "cell_type": "markdown",
   "metadata": {},
   "source": [
    "<section class=\"main-content\">\n",
    "<p>A sintaxe de uma instrução <code>for</code> é semelhante à definição de uma função. Tem um cabeçalho que termina em dois pontos e um corpo endentado. O corpo pode conter qualquer número de instruções.</p>\n",
    "\n",
    "<p>Uma instrução for também é chamada de <b>loop</b> porque o fluxo da execução passa pelo corpo e depois volta ao topo. Neste caso, ele passa pelo corpo quatro vezes.</p>\n",
    "\n",
    "<p>Esta versão, na verdade, é um pouco diferente do código anterior que desenha quadrados porque faz outra volta depois de desenhar o último lado do quadrado. A volta extra leva mais tempo, mas simplifica o código se fizermos a mesma coisa a cada vez pelo loop. Esta versão também tem o efeito de trazer o turtle de volta à posição inicial, de frente para a mesma direção em que estava.</p>\n",
    "\n",
    "<h2 id=\"43---exercícios\">4.3 - Exercícios</h2>\n",
    "\n",
    "<p>A seguir, uma série de exercícios usando TurtleWorld. Eles servem para divertir, mas também têm outro objetivo. Enquanto trabalha neles, pense que objetivo pode ser.</p>\n",
    "\n",
    "<p>As seções seguintes têm as soluções para os exercícios, mas não olhe até que tenha terminado (ou, pelo menos, tentado).</p>\n",
    "\n",
    "<ol>\n",
    "  <li>\n",
    "   <p>Escreva uma função chamada <code>square</code> que receba um parâmetro chamado <code>t</code>, que é um turtle. Ela deve usar o turtle para desenhar um quadrado.<br>\n",
    "Escreva uma chamada de função que passe <code>bob</code> como um argumento para o <code>square</code> e então execute o programa novamente.</p>\n",
    "  </li>\n",
    "\n",
    "  <li>\n",
    "    <p>Acrescente outro parâmetro, chamado <code>length</code>, ao <code>square</code>. Altere o corpo para que o comprimento dos lados seja <code>length</code> e então altere a chamada da função para fornecer um segundo argumento. Execute o programa novamente. Teste o seu programa com uma variedade de valores para <code>length</code>.</p>\n",
    "  </li>\n",
    "  \n",
    "  <li>\n",
    "    <p>Faça uma cópia do <code>square</code> e mude o nome para <code>polygon</code>. Acrescente outro parâmetro chamado <code>n</code> e altere o corpo para que desenhe um polígono regular de n lados.<br>\n",
    "Dica: os ângulos exteriores de um polígono regular de n lados são 360/*n* graus.</p>\n",
    "  </li>\n",
    "\n",
    "  <li>\n",
    "    <p>Escreva uma função chamada <code>circle</code> que use o turtle, <code>t</code> e um raio <code>r</code> como parâmetros e desenhe um círculo aproximado ao chamar <code>polygon</code> com um comprimento e número de lados adequados. Teste a sua função com uma série de valores de <code>r</code>.<br>\n",
    "Dica: descubra a circunferência do círculo e certifique-se de que <code>length * n = circumference</code>.</p>\n",
    " </li>\n",
    "\n",
    "  <li>\n",
    "    <p>Faça uma versão mais geral do <code>circle</code> chamada <code>arc</code>, que receba um parâmetro adicional de <code>angle</code>, para determinar qual fração do círculo deve ser desenhada. <code>angle</code> está em unidades de graus, então quando <code>angle=360</code>, o <code>arc</code> deve desenhar um círculo completo.</p>\n",
    "  </li>\n",
    "</ol>\n",
    "\n",
    "<h2 id=\"44---encapsulamento\">4.4 - Encapsulamento</h2>\n",
    "\n",
    "<p>O primeiro exercício pede que você ponha seu código para desenhar quadrados em uma definição de função e então chame a função, passando o turtle como parâmetro. Aqui está uma solução:</p>\n",
    "    </section>"
   ]
  },
  {
   "cell_type": "code",
   "execution_count": null,
   "metadata": {},
   "outputs": [],
   "source": [
    "def square(t):\n",
    "    for i in range(4):\n",
    "        t.fd(100)\n",
    "        t.lt(90)\n",
    "\n",
    "square(bob)"
   ]
  },
  {
   "cell_type": "markdown",
   "metadata": {},
   "source": [
    "<section class=\"main-content\">\n",
    "<p>As instruções mais internas, <code>fd</code> e <code>lt</code>, são endentadas duas vezes para mostrar que estão dentro do loop <code>for</code>, que está dentro da definição da função. A linha seguinte, <code>square(bob)</code>, está alinhada à margem esquerda, o que indica tanto o fim do loop <code>for</code> como da definição de função.</p>\n",
    "\n",
    "<p>Dentro da função, o <code>t</code> indica o mesmo turtle <code>bob</code>, então <code>t.lt (90)</code> tem o mesmo efeito que <code>bob.lt (90)</code>. Neste caso, por que não chamar o parâmetro <code>bob</code>? A ideia é que <code>t</code> pode ser qualquer turtle, não apenas <code>bob</code>, então você pode criar um segundo turtle e passá-lo como argumento ao <code>square</code>:</p>\n",
    "    </section>"
   ]
  },
  {
   "cell_type": "code",
   "execution_count": null,
   "metadata": {},
   "outputs": [],
   "source": [
    "alice = turtle.Turtle()\n",
    "square(alice)"
   ]
  },
  {
   "cell_type": "markdown",
   "metadata": {},
   "source": [
    "<section class=\"main-content\">\n",
    "<p>Incluir uma parte do código em uma função chama-se <b>encapsulamento</b>. Um dos benefícios do encapsulamento é que ele atribui um nome ao código, o que serve como uma espécie de documentação. Outra vantagem é que se você reutilizar o código, é mais conciso chamar uma função duas vezes que copiar e colar o corpo!</p>\n",
    "\n",
    "<h2 id=\"45---generalização\">4.5 - Generalização</h2>\n",
    "\n",
    "<p>O próximo passo é acrescentar um parâmetro <code>length</code> ao <code>square</code>. Aqui está uma solução:</p>\n",
    "    </section>"
   ]
  },
  {
   "cell_type": "code",
   "execution_count": null,
   "metadata": {},
   "outputs": [],
   "source": [
    "def square(t, length):\n",
    "    for i in range(4):\n",
    "        t.fd(length)\n",
    "        t.lt(90)\n",
    "\n",
    "square(bob, 100)"
   ]
  },
  {
   "cell_type": "markdown",
   "metadata": {},
   "source": [
    "<section class=\"main-content\">\n",
    "<p>Acrescentar um parâmetro a uma função chama-se <b>generalização</b> porque ele torna a função mais geral: na versão anterior, o quadrado é sempre do mesmo tamanho; nesta versão, pode ser de qualquer tamanho.</p>\n",
    "\n",
    "<p>O próximo passo também é uma generalização. Em vez de desenhar quadrados, <code>polygon</code> desenha polígonos regulares com qualquer número de lados. Aqui está uma solução:</p>\n",
    "    </section>"
   ]
  },
  {
   "cell_type": "code",
   "execution_count": null,
   "metadata": {},
   "outputs": [],
   "source": [
    "def polygon(t, n, length):\n",
    "    angle = 360 / n\n",
    "    for i in range(n):\n",
    "        t.fd(length)\n",
    "        t.lt(angle)\n",
    "\n",
    "polygon(bob, 7, 70)"
   ]
  },
  {
   "cell_type": "markdown",
   "metadata": {},
   "source": [
    "<section class=\"main-content\">\n",
    "<p>Este exemplo desenha um polígono de 7 lados, cada um de comprimento 70.</p>\n",
    "\n",
    "<p>Se estiver usando Python 2, o valor do <code>angle</code> poderia estar errado por causa da divisão de número inteiro. Uma solução simples é calcular <code>angle = 360.0 / n</code>. Como o numerador é um número de ponto flutuante, o resultado é em ponto flutuante.</p>\n",
    "\n",
    "<p>Quando uma função tem vários argumentos numéricos, é fácil esquecer o que eles são ou a ordem na qual eles devem estar. Neste caso, muitas vezes é uma boa ideia incluir os nomes dos parâmetros na lista de argumentos:</p>\n",
    "    </section>"
   ]
  },
  {
   "cell_type": "code",
   "execution_count": null,
   "metadata": {},
   "outputs": [],
   "source": [
    "polygon (bob, n=7, length=70)"
   ]
  },
  {
   "cell_type": "markdown",
   "metadata": {},
   "source": [
    "<section class=\"main-content\">\n",
    "<p>Esses são os <b>argumentos de palavra-chave</b> porque incluem os nomes dos parâmetros como “palavras-chave” (para não confundir com palavras-chave do Python, tais como <code>while</code> e <code>def</code>).</p>\n",
    "\n",
    "<p>Esta sintaxe torna o programa mais legível. Também é uma lembrança sobre como os argumentos e os parâmetros funcionam: quando você chama uma função, os argumentos são atribuídos aos parâmetros.</p>\n",
    "\n",
    "<h2 id=\"46---projeto-da-interface\">4.6 - Projeto da interface</h2>\n",
    "\n",
    "<p>O próximo passo é escrever <code>circle</code>, que recebe um raio <code>r</code>, como parâmetro. Aqui está uma solução simples que usa o <code>polygon</code> para desenhar um polígono de 50 lados:</p>\n",
    "    </section>"
   ]
  },
  {
   "cell_type": "code",
   "execution_count": null,
   "metadata": {},
   "outputs": [],
   "source": [
    "import math\n",
    "def circle(t, r):\n",
    "    circumference = 2 * math.pi * r\n",
    "    n = 50\n",
    "    length = circumference / n\n",
    "    polygon(t, n, length)"
   ]
  },
  {
   "cell_type": "markdown",
   "metadata": {},
   "source": [
    "<section class=\"main-content\">\n",
    "<p>A primeira linha calcula a circunferência de um círculo com o raio <code>r</code> usando a fórmula 2πr. Já que usamos <code>math.pi</code>, temos que importar <code>math</code>. Por convenção, instruções <code>import</code> normalmente ficam no início do script.</p>\n",
    "\n",
    "<p><code>n</code> é o número de segmentos de reta na nossa aproximação de um círculo, então <code>length</code> é o comprimento de cada segmento. Assim, <code>polygon</code> desenha um polígono 50 lados que se aproxima de um círculo com o raio <code>r</code>.</p>\n",
    "\n",
    "<p>Uma limitação desta solução é que <code>n</code> é uma constante. Para círculos muito grandes, os segmentos de reta são longos demais, e para círculos pequenos, perdemos tempo desenhando segmentos muito pequenos. Uma solução seria generalizar a função tomando <code>n</code> como parâmetro. Isso daria ao usuário (seja quem for que chame <code>circle</code>) mais controle, mas a interface seria menos limpa.</p>\n",
    "\n",
    "<p>A <b>interface</b> de uma função é um resumo de como ela é usada: Quais são os parâmetros? O que a função faz? E qual é o valor de retorno? Uma interface é “limpa” se permitir à pessoa que a chama fazer o que quiser sem ter que lidar com detalhes desnecessários.</p>\n",
    "\n",
    "<p>Neste exemplo, <code>r</code> pertence à interface porque especifica o círculo a ser desenhado. <code>n</code> é menos adequado porque pertence aos detalhes de <i>como</i> o círculo deve ser apresentado.</p>\n",
    "\n",
    "<p>Em vez de poluir a interface, é melhor escolher um valor adequado para <code>n</code>, dependendo da <code>circumference</code>:</p>\n",
    "    </section>"
   ]
  },
  {
   "cell_type": "code",
   "execution_count": null,
   "metadata": {},
   "outputs": [],
   "source": [
    "def circle(t, r):\n",
    "    circumference = 2 * math.pi * r\n",
    "    n = int(circumference / 3) + 1\n",
    "    length = circumference / n\n",
    "    polygon(t, n, length)"
   ]
  },
  {
   "cell_type": "markdown",
   "metadata": {},
   "source": [
    "<section class=\"main-content\">\n",
    "<p>Neste ponto, o número de segmentos é um número inteiro próximo a <code>circumference/3</code>, então o comprimento de cada segmento é aproximadamente 3, pequeno o suficiente para que os círculos fiquem bons, mas grandes o suficiente para serem eficientes e aceitáveis para círculos de qualquer tamanho.</p>\n",
    "\n",
    "<p><a id=\"sec:4.7 - Refatoração\"></a></p>\n",
    "<h2 id=\"47---refatoração\">4.7 - Refatoração</h2>\n",
    "\n",
    "<p>Quando escrevi <code>circle</code>, pude reutilizar <code>polygon</code> porque um polígono de muitos lados é uma boa aproximação de um círculo. Mas o <code>arc</code> não é tão cooperativo; não podemos usar <code>polygon</code> ou <code>circle</code> para desenhar um arco.</p>\n",
    "\n",
    "<p>Uma alternativa é começar com uma cópia de <code>polygon</code> e transformá-la em <code>arc</code>. O resultado poderia ser algo assim:</p>\n",
    "    </section>"
   ]
  },
  {
   "cell_type": "code",
   "execution_count": null,
   "metadata": {},
   "outputs": [],
   "source": [
    "def arc(t, r, angle):\n",
    "    arc_length = 2 * math.pi * r * angle / 360\n",
    "    n = int(arc_length / 3) + 1\n",
    "    step_length = arc_length / n\n",
    "    step_angle = angle / n\n",
    "    for i in range(n):\n",
    "        t.fd(step_length)\n",
    "        t.lt(step_angle)"
   ]
  },
  {
   "cell_type": "markdown",
   "metadata": {},
   "source": [
    "<section class=\"main-content\">\n",
    "<p>A segunda metade desta função parece com a do <code>polygon</code>, mas não é possível reutilizar o <code>polygon</code> sem mudar a interface. Poderíamos generalizar <code>polygon</code> para receber um ângulo como um terceiro argumento, mas então <code>polygon</code> não seria mais um nome adequado! Em vez disso, vamos chamar a função mais geral de <code>polyline</code>:</p>\n",
    "    </section>"
   ]
  },
  {
   "cell_type": "code",
   "execution_count": null,
   "metadata": {},
   "outputs": [],
   "source": [
    "def polyline(t, n, length, angle):\n",
    "    for i in range(n):\n",
    "        t.fd(length)\n",
    "        t.lt(angle)"
   ]
  },
  {
   "cell_type": "markdown",
   "metadata": {},
   "source": [
    "<section class=\"main-content\">\n",
    "<p>Agora podemos reescrever <code>polygon</code> e <code>arc</code> para usar <code>polyline</code>:</p>\n",
    "    </section>"
   ]
  },
  {
   "cell_type": "code",
   "execution_count": null,
   "metadata": {},
   "outputs": [],
   "source": [
    "def polygon(t, n, length):\n",
    "    angle = 360.0 / n\n",
    "    polyline(t, n, length, angle)\n",
    "def arc(t, r, angle):\n",
    "    arc_length = 2 * math.pi * r * angle / 360\n",
    "    n = int(arc_length / 3) + 1\n",
    "    step_length = arc_length / n\n",
    "    step_angle = float(angle) / n\n",
    "    polyline(t, n, step_length, step_angle)"
   ]
  },
  {
   "cell_type": "markdown",
   "metadata": {},
   "source": [
    "<section class=\"main-content\">\n",
    "<p>Finalmente, podemos reescrever <code>circle</code> para usar <code>arc</code>:</p>\n",
    "    </section>"
   ]
  },
  {
   "cell_type": "code",
   "execution_count": null,
   "metadata": {},
   "outputs": [],
   "source": [
    "def circle(t, r):\n",
    "    arc(t, r, 360)"
   ]
  },
  {
   "cell_type": "markdown",
   "metadata": {},
   "source": [
    "<section class=\"main-content\">\n",
    "<p>Este processo – recompor um programa para melhorar interfaces e facilitar a reutilização do código – é chamado de <b>refatoração</b>. Neste caso, notamos que houve código semelhante em <code>arc</code> e <code>polygon</code>, então nós o “fatoramos” no <code>polyline</code>.</p>\n",
    "\n",
    "<p>Se tivéssemos planejado, poderíamos ter escrito <code>polyline</code> primeiro e evitado a refatoração, mas muitas vezes não sabemos o suficiente já no início de um projeto para projetar todas as interfaces. Quando começarmos a escrever código, entenderemos melhor o problema. Às vezes, a refatoração é um sinal de que aprendemos algo.</p>\n",
    "\n",
    "<h2 id=\"48---um-plano-de-desenvolvimento\">4.8 - Um plano de desenvolvimento</h2>\n",
    "\n",
    "<p>Um <b>plano de desenvolvimento</b> é um processo para escrever programas. O processo que usamos neste estudo de caso é “encapsulamento e generalização”. Os passos deste processo são:</p>\n",
    "\n",
    "<ol>\n",
    "  <li>\n",
    "    <p>Comece escrevendo um pequeno programa sem definições de função.</p>\n",
    "  </li>\n",
    "  <li>\n",
    "    <p>Uma vez que o programa esteja funcionando, identifique uma parte coerente dele, encapsule essa parte em uma função e dê um nome a ela.</p>\n",
    "  </li>\n",
    "  <li>\n",
    "    <p>Generalize a função acrescentando os parâmetros adequados.</p>\n",
    "  </li>\n",
    "  <li>\n",
    "    <p>Repita os passos 1-3 até que tenha um conjunto de funções operantes. Copie e cole o código operante para evitar a redigitação (e redepuração).</p>\n",
    "  </li>\n",
    "  <li>\n",
    "    <p>Procure oportunidades de melhorar o programa pela refatoração. Por exemplo, se você tem um código semelhante em vários lugares, pode ser uma boa ideia fatorá-lo em uma função geral adequada.</p>\n",
    "  </li>\n",
    "</ol>\n",
    "\n",
    "<p>Este processo tem algumas desvantagens – veremos alternativas mais tarde – mas pode ser útil se você não souber de antemão como dividir o programa em funções. Esta abordagem permite criar o projeto no decorrer do trabalho.</p>\n",
    "\n",
    "<h2 id=\"49---docstring\">4.9 - docstring</h2>\n",
    "\n",
    "<p>Uma <b>docstring</b> é uma string no início de uma função que explica a interface (“doc” é uma abreviação para “documentação”). Aqui está um exemplo:</p>\n",
    "    </section>"
   ]
  },
  {
   "cell_type": "code",
   "execution_count": null,
   "metadata": {},
   "outputs": [],
   "source": [
    "def polyline(t, n, length, angle):\n",
    "    \"\"\"Desenha n segmentos de reta com o comprimento dado e\n",
    "    ângulo (em graus) entre eles. t é um turtle.\n",
    "    \"\"\"\n",
    "    for i in range(n):\n",
    "        t.fd(length)\n",
    "        t.lt(angle)"
   ]
  },
  {
   "cell_type": "markdown",
   "metadata": {},
   "source": [
    "<section class=\"main-content\">\n",
    "<p>Por convenção, todas as docstrings têm aspas triplas, também conhecidas como strings multilinha porque as aspas triplas permitem que a string se estenda por mais de uma linha.</p>\n",
    "\n",
    "<p>É conciso, mas contém a informação essencial que alguém precisaria para usar esta função. Explica sucintamente o que a função faz (sem entrar nos detalhes de como o faz). Explica que efeito cada parâmetro tem sobre o comportamento da função e o tipo que cada parâmetro deve ser (se não for óbvio).</p>\n",
    "\n",
    "<p>Escrever este tipo de documentação é uma parte importante do projeto da interface. Uma interface bem projetada deve ser simples de explicar; se não for assim, talvez a interface possa ser melhorada.</p>\n",
    "\n",
    "<h2 id=\"410---depuração\">4.10 - Depuração</h2>\n",
    "\n",
    "<p>Uma interface é como um contrato entre uma função e quem a chama. Quem chama concorda em fornecer certos parâmetros e a função concorda em fazer certa ação.</p>\n",
    "\n",
    "<p>Por exemplo, <code>polyline</code> precisa de quatro argumentos: <code>t</code> tem que ser um Turtle; <code>n</code> tem que ser um número inteiro; <code>length</code> deve ser um número positivo; e o <code>angle</code> tem que ser um número, que se espera estar em graus.</p>\n",
    "\n",
    "<p>Essas exigências são chamadas de <b>precondições</b> porque se supõe que sejam verdade antes que a função seja executada. De forma inversa, as condições no fim da função são <b>pós-condições</b>. As pós-condições incluem o efeito desejado da função (como o desenho de segmentos de reta) e qualquer efeito colateral (como mover o Turtle ou fazer outras mudanças).</p>\n",
    "\n",
    "<p>Precondições são responsabilidade de quem chama. Se quem chama violar uma precondição (adequadamente documentada!) e a função não funcionar corretamente, o problema está nesta pessoa, não na função.</p>\n",
    "\n",
    "<p>Se as precondições forem satisfeitas e as pós-condições não forem, o problema está na função. Se as suas precondições e pós-condições forem claras, elas podem ajudar na depuração.</p>\n",
    "\n",
    "<h2 id=\"411---glossário\">4.11 - Glossário</h2>\n",
    "\n",
    "<b>método</b><br />\n",
    "&nbsp;&nbsp;&nbsp;&nbsp;Uma função associada a um objeto e chamada usando a notação de ponto.\n",
    "<br /><br /><b>loop</b><br />\n",
    "&nbsp;&nbsp;&nbsp;&nbsp;Parte de um programa que pode ser executada repetidamente.\n",
    "<br />\n",
    "<br><b>encapsulamento</b><br />\n",
    "&nbsp;&nbsp;&nbsp;&nbsp;O processo de transformar uma sequência de instruções em uma definição de função.\n",
    "<br />\n",
    "<br><b>generalização</b><br />\n",
    "&nbsp;&nbsp;&nbsp;&nbsp;O processo de substituir algo desnecessariamente específico (como um número) por algo adequadamente geral (como uma variável ou parâmetro).\n",
    "<br />\n",
    "<br><b>argumento de palavra-chave</b><br />\n",
    "&nbsp;&nbsp;&nbsp;&nbsp;Um argumento que inclui o nome do parâmetro como uma “palavra-chave”.\n",
    "<br />\n",
    "<br><b>interface</b><br />\n",
    "&nbsp;&nbsp;&nbsp;&nbsp;Uma descrição de como usar uma função, incluindo o nome e as descrições dos argumentos e do valor de retorno.\n",
    "<br />\n",
    "<br><b>refatoração</b><br />\n",
    "&nbsp;&nbsp;&nbsp;&nbsp;O processo de alterar um programa funcional para melhorar a interface de funções e outras qualidades do código.\n",
    "<br />\n",
    "<br><b>plano de desenvolvimento</b><br />\n",
    "&nbsp;&nbsp;&nbsp;&nbsp;Um processo de escrever programas.\n",
    "<br />\n",
    "<br><b>docstring</b><br />\n",
    "&nbsp;&nbsp;&nbsp;&nbsp;Uma string que aparece no início de uma definição de função para documentar a interface da função.\n",
    "<br />\n",
    "<br><b>precondição</b><br />\n",
    "&nbsp;&nbsp;&nbsp;&nbsp;Uma exigência que deve ser satisfeita por quem chama a função, antes de executá-la.\n",
    "<br />\n",
    "<br><b>pós-condição</b><br />\n",
    "&nbsp;&nbsp;&nbsp;&nbsp;Uma exigência que deve ser satisfeita pela função antes que ela seja encerrada.\n",
    "<br />\n",
    "<h2 id=\"412---exercícios\">4.12 - Exercícios</h2>\n",
    "\n",
    "<h3 id=\"exercício-41\">Exercício 4.1</h3>\n",
    "\n",
    "<p>Baixe o código deste capítulo no site http://thinkpython2.com/code/polygon.py.</p>\n",
    "\n",
    "<ol>\n",
    "  <li>\n",
    "    <p>Desenhe um diagrama da pilha que mostre o estado do programa enquanto executa <code>circle (bob, radius)</code>. Você pode fazer a aritmética à mão ou acrescentar instruções <code>print</code> ao código.</p>\n",
    "  </li>\n",
    "  <li>\n",
    "    <p>A versão de <code class=\"highlighter-rouge\">arc</code> na seção <a href=\"#sec:4.7 - Refatoração\">4.7 - Refatoração</a> não é muito precisa porque a aproximação linear do círculo está sempre do lado de fora do círculo verdadeiro. Consequentemente, o Turtle acaba ficando alguns píxeis de distância do destino correto. Minha solução mostra um modo de reduzir o efeito deste erro. Leia o código e veja se faz sentido para você. Se desenhar um diagrama, poderá ver como funciona.</p>\n",
    "  </li>\n",
    "</ol>\n",
    "\n",
    "<h3 id=\"exercício-42\">Exercício 4.2</h3>\n",
    "\n",
    "<p>Escreva um conjunto de funções adequadamente geral que possa desenhar flores como as da Figura 4.1.</p>\n",
    "\n",
    "<p><img src=\"https://github.com/PenseAllen/PensePython2e/raw/master/fig/tnkp_0401.png\" alt=\"Figura 4.1 – Flores de tartaruga.\">\n",
    "<br><em>Figura 4.1 – Flores de tartaruga.</em></p>\n",
    "\n",
    "<p>Solução: http://thinkpython2.com/code/flower.py, também exige http://thinkpython2.com/code/polygon.py.</p>\n",
    "\n",
    "<h3 id=\"exercício-43\">Exercício 4.3</h3>\n",
    "\n",
    "<p>Escreva um conjunto de funções adequadamente geral que possa desenhar formas como as da Figura 4.2.</p>\n",
    "\n",
    "<p><img src=\"https://github.com/PenseAllen/PensePython2e/raw/master/fig/tnkp_0402.png\" alt=\"Figura 4.2 – Tortas de tartaruga.\">\n",
    "<br><em>Figura 4.2 – Tortas de tartaruga.</em></p>\n",
    "\n",
    "<p>Solução: http://thinkpython2.com/code/pie.py.</p>\n",
    "\n",
    "<h3 id=\"exercício-44\">Exercício 4.4</h3>\n",
    "\n",
    "<p>As letras do alfabeto podem ser construídas a partir de um número moderado de elementos básicos, como linhas verticais e horizontais e algumas curvas. Crie um alfabeto que possa ser desenhado com um número mínimo de elementos básicos e então escreva funções que desenhem as letras.</p>\n",
    "\n",
    "<p>Você deve escrever uma função para cada letra, com os nomes <code>draw_a</code>, <code>draw_b</code> etc., e colocar suas funções em um arquivo chamado <code>letters.py</code>. Você pode baixar uma “máquina de escrever de turtle” no site http://thinkpython2.com/code/typewriter.py para ajudar a testar o seu código.</p>\n",
    "\n",
    "<p>Você pode ver uma solução no site http://thinkpython2.com/code/letters.py; ela também exige http://thinkpython2.com/code/polygon.py.</p>\n",
    "\n",
    "<h3 id=\"exercício-45\">Exercício 4.5</h3>\n",
    "\n",
    "<p>Leia sobre espirais em https://pt.wikipedia.org/wiki/Espiral; então escreva um programa que desenhe uma espiral de Arquimedes (ou um dos outros tipos).</p>\n",
    "\n",
    "<p>[1] <em>turtle graphics</em> ou gráficos de tartaruga é o sistema de desenho popularizado pela linguagem Logo, onde os comandos movimentam um cursor triangular pela tela, conhecido como <em>turtle</em> ou tartaruga. A tartaruga deixa um rastro à medida que é movimentada, e é com esses rastros que se forma um desenho. Diferente dos sistemas usuais de desenho em computação gráfica, o sistema <em>turtle graphics</em> não exige o uso de coordenadas cartesianas.</p>\n",
    "    </section>"
   ]
  }
 ],
 "metadata": {
  "kernelspec": {
   "display_name": "Python 3",
   "language": "python",
   "name": "python3"
  },
  "language_info": {
   "codemirror_mode": {
    "name": "ipython",
    "version": 3
   },
   "file_extension": ".py",
   "mimetype": "text/x-python",
   "name": "python",
   "nbconvert_exporter": "python",
   "pygments_lexer": "ipython3",
   "version": "3.5.2"
  }
 },
 "nbformat": 4,
 "nbformat_minor": 2
}
