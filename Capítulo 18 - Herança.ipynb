{
 "cells": [
  {
   "cell_type": "markdown",
   "metadata": {},
   "source": [
    "<div id=\"readme\" class=\"Box-body readme blob instapaper_body js-code-block-container\">\n",
    "    <article class=\"markdown-body entry-content p-3 p-md-6\" itemprop=\"text\"><h1><a id=\"user-content-capítulo-18-herança\" class=\"anchor\" aria-hidden=\"true\" href=\"#capítulo-18-herança\"><svg class=\"octicon octicon-link\" viewBox=\"0 0 16 16\" version=\"1.1\" width=\"16\" height=\"16\" aria-hidden=\"true\"><path fill-rule=\"evenodd\" d=\"M4 9h1v1H4c-1.5 0-3-1.69-3-3.5S2.55 3 4 3h4c1.45 0 3 1.69 3 3.5 0 1.41-.91 2.72-2 3.25V8.59c.58-.45 1-1.27 1-2.09C10 5.22 8.98 4 8 4H4c-.98 0-2 1.22-2 2.5S3 9 4 9zm9-3h-1v1h1c1 0 2 1.22 2 2.5S13.98 12 13 12H9c-.98 0-2-1.22-2-2.5 0-.83.42-1.64 1-2.09V6.25c-1.09.53-2 1.84-2 3.25C6 11.31 7.55 13 9 13h4c1.45 0 3-1.69 3-3.5S14.5 6 13 6z\"></path></svg></a>Capítulo 18: Herança</h1>\n",
    "<p>O termo mais associado com a programação orientada a objeto é <b>herança</b>. A herança é a capacidade de definir uma nova classe que seja uma versão modificada de uma classe existente. Neste capítulo demonstrarei a herança usando classes que representam jogos de cartas, baralhos e mãos de pôquer.</p>\n",
    "<p>Se você não joga pôquer, pode ler sobre ele em <a href=\"http://en.wikipedia.org/wiki/Poker\" rel=\"nofollow\">http://en.wikipedia.org/wiki/Poker</a>, mas não é necessário; vou dizer tudo o que precisa saber para os exercícios.</p>\n",
    "<p>Os exemplos de código deste capítulo estão disponíveis em <a href=\"http://thinkpython2.com/code/Card.py\" rel=\"nofollow\">http://thinkpython2.com/code/Card.py</a>.</p>\n",
    "<h2><a id=\"user-content-181---objetos-card\" class=\"anchor\" aria-hidden=\"true\" href=\"#181---objetos-card\"><svg class=\"octicon octicon-link\" viewBox=\"0 0 16 16\" version=\"1.1\" width=\"16\" height=\"16\" aria-hidden=\"true\"><path fill-rule=\"evenodd\" d=\"M4 9h1v1H4c-1.5 0-3-1.69-3-3.5S2.55 3 4 3h4c1.45 0 3 1.69 3 3.5 0 1.41-.91 2.72-2 3.25V8.59c.58-.45 1-1.27 1-2.09C10 5.22 8.98 4 8 4H4c-.98 0-2 1.22-2 2.5S3 9 4 9zm9-3h-1v1h1c1 0 2 1.22 2 2.5S13.98 12 13 12H9c-.98 0-2-1.22-2-2.5 0-.83.42-1.64 1-2.09V6.25c-1.09.53-2 1.84-2 3.25C6 11.31 7.55 13 9 13h4c1.45 0 3-1.69 3-3.5S14.5 6 13 6z\"></path></svg></a>18.1 - Objetos Card</h2>\n",
    "<p>Há 52 cartas em um baralho, e cada uma pertence a 1 dos 4 naipes e a 1 dos 13 valores. Os naipes são espadas, copas, ouros e paus (no bridge, em ordem descendente). A ordem dos valores é ás, 2, 3, 4, 5, 6, 7, 8, 9, 10, valete, dama e rei. Dependendo do jogo que estiver jogando, um ás pode ser mais alto que o rei ou mais baixo que 2.</p>\n",
    "<p>Se quiséssemos definir um novo objeto para representar uma carta de jogo, os atributos óbvios seriam <i>rank</i> (valor) e <i>suit</i> (naipe). Mas não é tão óbvio qual tipo de atributo deveriam ser. Uma possibilidade é usar strings com palavras como <i>'Spade'</i> (Espadas) para naipes e <i>'Queen'</i> (Dama) para valores. Um problema com esta implementação é que não seria fácil comparar cartas para ver qual valor ou naipe tem classificação mais alta em relação aos outros.</p>\n",
    "<p>Uma alternativa é usar números inteiros para <b>codificar</b> os valores e os naipes. Neste contexto, “codificar” significa que vamos definir um mapeamento entre números e naipes, ou entre números e valores. Este tipo de codificação não tem nada a ver com criptografia.</p>\n",
    "<p>Por exemplo, esta tabela mostra os naipes e os códigos de número inteiro correspondentes:</p>\n",
    "<pre><code><i>Spades</i> (Espadas)     ↦ 3\n",
    "<i>Hearts</i> (Copas)       ↦ 2\n",
    "<i>Diamonds</i> (Ouros)     ↦ 1\n",
    "<i>Clubs</i> (Paus)         ↦ 0\n",
    "</code></pre>\n",
    "<p>Este código facilita a comparação entre as cartas; como naipes mais altos mapeiam a números mais altos, podemos comparar naipes aos seus códigos.</p>\n",
    "<p>O mapeamento de valores é até óbvio; cada um dos valores numéricos é mapeado ao número inteiro correspondente, e para cartas com figuras:</p>\n",
    "<pre><code><i>Jack</i> (Valete)       ↦ 11\n",
    "<i>Queen</i> (Dama)        ↦ 12\n",
    "<i>King</i> (Rei)          ↦ 13\n",
    "</code></pre>\n",
    "<p>Estou usando o símbolo <code>↦</code> para deixar claro que esses mapeamentos não são parte do programa em Python. Eles são parte do projeto do programa, mas não aparecem explicitamente no código.</p>\n",
    "<p>A definição de classe para <i>Card</i> (carta) é assim:</p>"
   ]
  },
  {
   "cell_type": "markdown",
   "metadata": {},
   "source": [
    "```python\n",
    "class Card:\n",
    "    \"\"\"Represents a standard playing card.\"\"\"\n",
    "    def __init__(self, suit=0, rank=2):\n",
    "        self.suit = suit\n",
    "        self.rank = rank```"
   ]
  },
  {
   "cell_type": "markdown",
   "metadata": {},
   "source": [
    "<p>Como sempre, o método <code>__init__</code> recebe um parâmetro opcional de cada atributo. A carta padrão é 2 de paus.</p>\n",
    "<p>Para criar um <code>Card</code>, você chama <code>Card</code> com o naipe e valor desejados:</p>"
   ]
  },
  {
   "cell_type": "markdown",
   "metadata": {},
   "source": [
    "<div class=\"highlight highlight-source-python\"><pre>queen_of_diamonds <span class=\"pl-k\">=</span> Card(<span class=\"pl-c1\">1</span>, <span class=\"pl-c1\">12</span>)</pre></div>"
   ]
  },
  {
   "cell_type": "markdown",
   "metadata": {},
   "source": [
    "<h2><a id=\"user-content-182---atributos-de-classe\" class=\"anchor\" aria-hidden=\"true\" href=\"#182---atributos-de-classe\"><svg class=\"octicon octicon-link\" viewBox=\"0 0 16 16\" version=\"1.1\" width=\"16\" height=\"16\" aria-hidden=\"true\"><path fill-rule=\"evenodd\" d=\"M4 9h1v1H4c-1.5 0-3-1.69-3-3.5S2.55 3 4 3h4c1.45 0 3 1.69 3 3.5 0 1.41-.91 2.72-2 3.25V8.59c.58-.45 1-1.27 1-2.09C10 5.22 8.98 4 8 4H4c-.98 0-2 1.22-2 2.5S3 9 4 9zm9-3h-1v1h1c1 0 2 1.22 2 2.5S13.98 12 13 12H9c-.98 0-2-1.22-2-2.5 0-.83.42-1.64 1-2.09V6.25c-1.09.53-2 1.84-2 3.25C6 11.31 7.55 13 9 13h4c1.45 0 3-1.69 3-3.5S14.5 6 13 6z\"></path></svg></a>18.2 - Atributos de classe</h2>\n",
    "<p>Para exibir objetos <code>Card</code> de uma forma que as pessoas possam ler com facilidade, precisamos de um mapeamento dos códigos de número inteiro aos naipes e valores correspondentes. Uma forma natural de fazer isso é com listas de strings. Atribuímos essas listas a <b>atributos de classe</b>:</p>"
   ]
  },
  {
   "cell_type": "markdown",
   "metadata": {},
   "source": [
    "```python\n",
    "# dentro da classe Card:\n",
    "\n",
    "    suit_names = ['Clubs', 'Diamonds', 'Hearts', 'Spades']\n",
    "    rank_names = [None, 'Ace', '2', '3', '4', '5', '6', '7',\n",
    "                  '8', '9', '10', 'Jack', 'Queen', 'King']\n",
    "\n",
    "    def __str__(self):\n",
    "        return '%s of %s' % (Card.rank_names[self.rank],\n",
    "                             Card.suit_names[self.suit])```"
   ]
  },
  {
   "cell_type": "markdown",
   "metadata": {},
   "source": [
    "<p>Variáveis como <code>suit_names</code> e <code>rank_names</code>, que são definidas dentro de uma classe, mas fora de qualquer método, chamam-se atributos de classe porque são associadas com o objeto de classe <code>Card</code>.</p>\n",
    "<p>Este termo as distingue de variáveis como <code>suit</code> e <code>rank</code>, chamadas de <b>atributos de instância</b> porque são associados com determinada instância.</p>\n",
    "<p>Ambos os tipos de atributo são acessados usando a notação de ponto. Por exemplo, em <code>__str__</code>, <code>self</code> é um objeto <code>Card</code>, e <code>self.rank</code> é o seu valor. De forma semelhante, <code>Card</code> é um objeto de classe, e <code>Card.rank_names</code> é uma lista de strings associadas à essa classe.</p>\n",
    "<p>Cada carta tem seu próprio <code>suit</code> e <code>rank</code>, mas há só uma cópia de <code>suit_names</code> e <code>rank_names</code>.</p>\n",
    "<p>Juntando tudo, a expressão <code>Card.rank_names[self.rank]</code> significa “use o <i>rank</i> (valor) do atributo do objeto <code>self</code> como um índice na lista <code>rank_names</code> da classe <code>Card</code> e selecione a string adequada”.</p>\n",
    "<p>O primeiro elemento de <code>rank_names</code> é <code>None</code>, porque não há nenhuma carta com valor zero. Incluindo <code>None</code> para ocupar uma variável, conseguimos fazer um belo mapeamento onde o índice 2 é associado à string '2', e assim por diante. Para evitar ter que usar esse truque, poderíamos usar um dicionário em vez de uma lista.</p>\n",
    "<p>Com os métodos que temos por enquanto, podemos criar e exibir cartas:</p>"
   ]
  },
  {
   "cell_type": "code",
   "execution_count": 1,
   "metadata": {},
   "outputs": [
    {
     "name": "stdout",
     "output_type": "stream",
     "text": [
      "Jack of Diamonds\n"
     ]
    }
   ],
   "source": [
    "from book_code import Card # importado para mesclar células anteriores\n",
    ">>> card1 = Card(1, 11)\n",
    ">>> print(card1)"
   ]
  },
  {
   "cell_type": "markdown",
   "metadata": {},
   "source": [
    "<p>A Figura 18.1 é um diagrama do objeto de classe <code>Card</code> e uma instância de <code>Card</code>. <code>Card</code> é um objeto de classe; seu tipo é <code>type</code>. <code>card1</code> é uma instância de <code>Card</code>, então seu tipo é <code>Card</code>. Para economizar espaço, não incluí o conteúdo de <code>suit_names</code> e <code>rank_names</code>.</p>\n",
    "<p><a target=\"_blank\" rel=\"noopener noreferrer\" href=\"https://github.com/PenseAllen/PensePython2e/raw/master/fig/tnkp_1801.png\"><img src=\"https://github.com/PenseAllen/PensePython2e/raw/master/fig/tnkp_1801.png\" alt=\"Figura 18.1 – Diagrama de objetos: classe Card e card1, uma instância de Card.\" style=\"max-width:100%;\"></a>\n",
    "<br><em>Figura 18.1 – Diagrama de objetos: classe</em> <code>Card</code> <em>e</em> <code>card1</code>, <em>uma instância de</em> <code>Card</code>.</p>\n",
    "<h2><a id=\"user-content-183---comparação-de-cartas\" class=\"anchor\" aria-hidden=\"true\" href=\"#183---comparação-de-cartas\"><svg class=\"octicon octicon-link\" viewBox=\"0 0 16 16\" version=\"1.1\" width=\"16\" height=\"16\" aria-hidden=\"true\"><path fill-rule=\"evenodd\" d=\"M4 9h1v1H4c-1.5 0-3-1.69-3-3.5S2.55 3 4 3h4c1.45 0 3 1.69 3 3.5 0 1.41-.91 2.72-2 3.25V8.59c.58-.45 1-1.27 1-2.09C10 5.22 8.98 4 8 4H4c-.98 0-2 1.22-2 2.5S3 9 4 9zm9-3h-1v1h1c1 0 2 1.22 2 2.5S13.98 12 13 12H9c-.98 0-2-1.22-2-2.5 0-.83.42-1.64 1-2.09V6.25c-1.09.53-2 1.84-2 3.25C6 11.31 7.55 13 9 13h4c1.45 0 3-1.69 3-3.5S14.5 6 13 6z\"></path></svg></a>18.3 - Comparação de cartas</h2>\n",
    "<p>Para tipos integrados, há operadores relacionais (<code>&lt;</code>, <code>&gt;</code>, <code>==</code> etc.) que comparam valores e determinam quando um é maior, menor ou igual a outro. Para tipos definidos pelo programador, podemos ignorar o comportamento dos operadores integrados fornecendo um método denominado <code>__lt__</code>, que representa “menos que”.</p>\n",
    "<p><code>__lt__</code> recebe dois parâmetros, <code>self</code> e <code>other</code>, e <code>True</code> se <code>self</code> for estritamente menor que <code>other</code>.</p>\n",
    "<p>A ordem correta das cartas não é óbvia. Por exemplo, qual é melhor, o 3 de paus ou o 2 de ouros? Uma tem o valor mais alto, mas a outra tem um naipe mais alto. Para comparar cartas, é preciso decidir o que é mais importante, o valor ou o naipe.</p>\n",
    "<p>A resposta pode depender de que jogo você está jogando, mas, para manter a simplicidade, vamos fazer a escolha arbitrária de que o naipe é mais importante, então todas as cartas de espadas são mais importantes que as de ouros, e assim por diante.</p>\n",
    "<p>Com isto decidido, podemos escrever <code>__lt__</code>:</p>"
   ]
  },
  {
   "cell_type": "markdown",
   "metadata": {},
   "source": [
    "```python\n",
    "# dentro da classe Card:\n",
    "\n",
    "    def __lt__(self, other):\n",
    "        # conferir os naipes\n",
    "        if self.suit < other.suit: return True\n",
    "        if self.suit > other.suit: return False\n",
    "\n",
    "        # os naipes são os mesmos... conferir valores\n",
    "        return self.rank < other.rank```"
   ]
  },
  {
   "cell_type": "markdown",
   "metadata": {},
   "source": [
    "<p>Você pode escrever isso de forma mais concisa usando uma comparação de tuplas:</p>"
   ]
  },
  {
   "cell_type": "markdown",
   "metadata": {},
   "source": [
    "```python\n",
    "# dentro da classe Card:\n",
    "\n",
    "    def __lt__(self, other):\n",
    "        t1 = self.suit, self.rank\n",
    "        t2 = other.suit, other.rank\n",
    "        return t1 < t2```"
   ]
  },
  {
   "cell_type": "markdown",
   "metadata": {},
   "source": [
    "<p>Como exercício, escreva um método <code>__lt__</code> para objetos <code>Time</code>. Você pode usar uma comparação de tuplas, mas também pode usar a comparação de números inteiros.</p>\n",
    "<h2><a id=\"user-content-184---baralhos\" class=\"anchor\" aria-hidden=\"true\" href=\"#184---baralhos\"><svg class=\"octicon octicon-link\" viewBox=\"0 0 16 16\" version=\"1.1\" width=\"16\" height=\"16\" aria-hidden=\"true\"><path fill-rule=\"evenodd\" d=\"M4 9h1v1H4c-1.5 0-3-1.69-3-3.5S2.55 3 4 3h4c1.45 0 3 1.69 3 3.5 0 1.41-.91 2.72-2 3.25V8.59c.58-.45 1-1.27 1-2.09C10 5.22 8.98 4 8 4H4c-.98 0-2 1.22-2 2.5S3 9 4 9zm9-3h-1v1h1c1 0 2 1.22 2 2.5S13.98 12 13 12H9c-.98 0-2-1.22-2-2.5 0-.83.42-1.64 1-2.09V6.25c-1.09.53-2 1.84-2 3.25C6 11.31 7.55 13 9 13h4c1.45 0 3-1.69 3-3.5S14.5 6 13 6z\"></path></svg></a>18.4 - Baralhos</h2>\n",
    "<p>Agora que temos <code>Card</code>, o próximo passo é definir <i>Deck</i> (baralho). Como um baralho é composto de cartas, é natural que um baralho contenha uma lista de cartas como atributo.</p>\n",
    "<p>Veja a seguir uma definição de classe para <code>Deck</code>. O método init cria o atributo <code>cards</code> e gera o conjunto padrão de 52 cartas:</p>"
   ]
  },
  {
   "cell_type": "markdown",
   "metadata": {},
   "source": [
    "```python\n",
    "class Deck:\n",
    "    def __init__(self):\n",
    "        self.cards = []\n",
    "        for suit in range(4):\n",
    "            for rank in range(1, 14):\n",
    "                card = Card(suit, rank)\n",
    "                self.cards.append(card)```"
   ]
  },
  {
   "cell_type": "markdown",
   "metadata": {},
   "source": [
    "<p>A forma mais fácil de preencher o baralho é com um <i>loop</i> aninhado. O <i>loop</i> exterior enumera os naipes de 0 a 3. O <i>loop</i> interior enumera os valores de 1 a 13. Cada iteração cria um novo <code>Card</code> com o naipe e valor atual, e a acrescenta a <code>self.cards</code>.</p>\n",
    "<h2><a id=\"user-content-185---exibição-do-baralho\" class=\"anchor\" aria-hidden=\"true\" href=\"#185---exibição-do-baralho\"><svg class=\"octicon octicon-link\" viewBox=\"0 0 16 16\" version=\"1.1\" width=\"16\" height=\"16\" aria-hidden=\"true\"><path fill-rule=\"evenodd\" d=\"M4 9h1v1H4c-1.5 0-3-1.69-3-3.5S2.55 3 4 3h4c1.45 0 3 1.69 3 3.5 0 1.41-.91 2.72-2 3.25V8.59c.58-.45 1-1.27 1-2.09C10 5.22 8.98 4 8 4H4c-.98 0-2 1.22-2 2.5S3 9 4 9zm9-3h-1v1h1c1 0 2 1.22 2 2.5S13.98 12 13 12H9c-.98 0-2-1.22-2-2.5 0-.83.42-1.64 1-2.09V6.25c-1.09.53-2 1.84-2 3.25C6 11.31 7.55 13 9 13h4c1.45 0 3-1.69 3-3.5S14.5 6 13 6z\"></path></svg></a>18.5 - Exibição do baralho</h2>\n",
    "<p>Aqui está um método <strong>str</strong> para <code>Deck</code>:</p>"
   ]
  },
  {
   "cell_type": "markdown",
   "metadata": {},
   "source": [
    "```python\n",
    "# dentro da classe Deck:\n",
    "\n",
    "    def __str__(self):\n",
    "        res = []\n",
    "        for card in self.cards:\n",
    "            res.append(str(card))\n",
    "        return '\\n'.join(res)```"
   ]
  },
  {
   "cell_type": "markdown",
   "metadata": {},
   "source": [
    "<p>Este método demonstra uma forma eficiente de acumular uma string grande: a criação de uma lista de strings e a utilização do método de string <code>join</code>. A função integrada <code>str</code> invoca o método <code>__str__</code> em cada carta e retorna a representação da string.</p>\n",
    "<p>Como invocamos <code>join</code> em um caractere <i>newline</i>, as cartas são separadas por quebras de linha. O resultado é esse:</p>"
   ]
  },
  {
   "cell_type": "code",
   "execution_count": 2,
   "metadata": {},
   "outputs": [
    {
     "name": "stdout",
     "output_type": "stream",
     "text": [
      "Ace of Clubs\n",
      "2 of Clubs\n",
      "3 of Clubs\n",
      "4 of Clubs\n",
      "5 of Clubs\n",
      "6 of Clubs\n",
      "7 of Clubs\n",
      "8 of Clubs\n",
      "9 of Clubs\n",
      "10 of Clubs\n",
      "Jack of Clubs\n",
      "Queen of Clubs\n",
      "King of Clubs\n",
      "Ace of Diamonds\n",
      "2 of Diamonds\n",
      "3 of Diamonds\n",
      "4 of Diamonds\n",
      "5 of Diamonds\n",
      "6 of Diamonds\n",
      "7 of Diamonds\n",
      "8 of Diamonds\n",
      "9 of Diamonds\n",
      "10 of Diamonds\n",
      "Jack of Diamonds\n",
      "Queen of Diamonds\n",
      "King of Diamonds\n",
      "Ace of Hearts\n",
      "2 of Hearts\n",
      "3 of Hearts\n",
      "4 of Hearts\n",
      "5 of Hearts\n",
      "6 of Hearts\n",
      "7 of Hearts\n",
      "8 of Hearts\n",
      "9 of Hearts\n",
      "10 of Hearts\n",
      "Jack of Hearts\n",
      "Queen of Hearts\n",
      "King of Hearts\n",
      "Ace of Spades\n",
      "2 of Spades\n",
      "3 of Spades\n",
      "4 of Spades\n",
      "5 of Spades\n",
      "6 of Spades\n",
      "7 of Spades\n",
      "8 of Spades\n",
      "9 of Spades\n",
      "10 of Spades\n",
      "Jack of Spades\n",
      "Queen of Spades\n",
      "King of Spades\n"
     ]
    }
   ],
   "source": [
    "from book_code import Deck\n",
    ">>> deck = Deck()\n",
    ">>> print(deck)"
   ]
  },
  {
   "cell_type": "markdown",
   "metadata": {},
   "source": [
    "<p>Embora o resultado apareça em 52 linhas, na verdade ele é uma string longa com quebras de linha.</p>\n",
    "<h2><a id=\"user-content-186---adição-remoção-embaralhamento-e-classificação\" class=\"anchor\" aria-hidden=\"true\" href=\"#186---adição-remoção-embaralhamento-e-classificação\"><svg class=\"octicon octicon-link\" viewBox=\"0 0 16 16\" version=\"1.1\" width=\"16\" height=\"16\" aria-hidden=\"true\"><path fill-rule=\"evenodd\" d=\"M4 9h1v1H4c-1.5 0-3-1.69-3-3.5S2.55 3 4 3h4c1.45 0 3 1.69 3 3.5 0 1.41-.91 2.72-2 3.25V8.59c.58-.45 1-1.27 1-2.09C10 5.22 8.98 4 8 4H4c-.98 0-2 1.22-2 2.5S3 9 4 9zm9-3h-1v1h1c1 0 2 1.22 2 2.5S13.98 12 13 12H9c-.98 0-2-1.22-2-2.5 0-.83.42-1.64 1-2.09V6.25c-1.09.53-2 1.84-2 3.25C6 11.31 7.55 13 9 13h4c1.45 0 3-1.69 3-3.5S14.5 6 13 6z\"></path></svg></a>18.6 - Adição, remoção, embaralhamento e classificação</h2>\n",
    "<p>Para lidar com as cartas, gostaríamos de ter um método que removesse uma carta do baralho e a devolvesse. O método de lista <code>pop</code> oferece uma forma conveniente de fazer isso:</p>"
   ]
  },
  {
   "cell_type": "markdown",
   "metadata": {},
   "source": [
    "```python\n",
    "# dentro da classe Deck:\n",
    "\n",
    "    def pop_card(self):\n",
    "        return self.cards.pop()```"
   ]
  },
  {
   "cell_type": "markdown",
   "metadata": {},
   "source": [
    "<p>Como <code>pop</code> retira a última carta na lista, estamos lidando com o fundo do baralho.</p>\n",
    "<p>Para adicionar uma carta, podemos usar o método de lista <code>append</code>:</p>"
   ]
  },
  {
   "cell_type": "markdown",
   "metadata": {},
   "source": [
    "```python\n",
    "# dentro da classe Deck:\n",
    "\n",
    "    def add_card(self, card):\n",
    "        self.cards.append(card)```"
   ]
  },
  {
   "cell_type": "markdown",
   "metadata": {},
   "source": [
    "<p>Um método como esse, que usa outro método sem dar muito trabalho, às vezes é chamado de <b>folheado</b>. A metáfora vem do trabalho em madeira, onde o folheado é uma camada fina de madeira de boa qualidade colada à superfície de uma madeira mais barata para melhorar a aparência.</p>\n",
    "<p>Nesse caso, <code>add_card</code> é um método “fino” que expressa uma operação de lista em termos adequados a baralhos. Ele melhora a aparência ou interface da implementação.</p>\n",
    "<p>Em outro exemplo, podemos escrever um método <code>Deck</code> denominado <code>shuffle</code>, usando a função <code>shuffle</code> do módulo <code>random</code>:</p>"
   ]
  },
  {
   "cell_type": "markdown",
   "metadata": {},
   "source": [
    "```python\n",
    "# dentro da classe Deck:\n",
    "\n",
    "    def shuffle(self):\n",
    "        random.shuffle(self.cards)```"
   ]
  },
  {
   "cell_type": "markdown",
   "metadata": {},
   "source": [
    "<p>Não se esqueça de importar random.</p>\n",
    "<p>Como exercício, escreva um método de <code>Deck</code> chamado <code>sort</code>, que use o método de lista <code>sort</code> para classificar as cartas em um <code>Deck</code>. <code>sort</code> usa o método <code>__lt__</code> que definimos para determinar a ordem.</p>\n",
    "<h2><a id=\"user-content-187---herança\" class=\"anchor\" aria-hidden=\"true\" href=\"#187---herança\"><svg class=\"octicon octicon-link\" viewBox=\"0 0 16 16\" version=\"1.1\" width=\"16\" height=\"16\" aria-hidden=\"true\"><path fill-rule=\"evenodd\" d=\"M4 9h1v1H4c-1.5 0-3-1.69-3-3.5S2.55 3 4 3h4c1.45 0 3 1.69 3 3.5 0 1.41-.91 2.72-2 3.25V8.59c.58-.45 1-1.27 1-2.09C10 5.22 8.98 4 8 4H4c-.98 0-2 1.22-2 2.5S3 9 4 9zm9-3h-1v1h1c1 0 2 1.22 2 2.5S13.98 12 13 12H9c-.98 0-2-1.22-2-2.5 0-.83.42-1.64 1-2.09V6.25c-1.09.53-2 1.84-2 3.25C6 11.31 7.55 13 9 13h4c1.45 0 3-1.69 3-3.5S14.5 6 13 6z\"></path></svg></a>18.7 - Herança</h2>\n",
    "<p>A herança é a capacidade de definir uma nova classe que seja uma versão modificada de uma classe existente. Como exemplo, digamos que queremos que uma classe represente uma “mão”, isto é, as cartas mantidas por um jogador. Uma mão é semelhante a um baralho: ambos são compostos por uma coleção de cartas, e ambos exigem operações como adicionar e remover cartas.</p>\n",
    "<p>Uma mão também é diferente de um baralho; há operações que queremos para mãos que não fazem sentido para um baralho. Por exemplo, no pôquer poderíamos comparar duas mãos para ver qual ganha. No <i>bridge</i>, poderíamos calcular a pontuação de uma mão para fazer uma aposta.</p>\n",
    "<p>Essa relação entre classes – semelhante, mas diferente – adequa-se à herança. Para definir uma nova classe que herda algo de uma classe existente, basta colocar o nome da classe existente entre parênteses:</p>"
   ]
  },
  {
   "cell_type": "markdown",
   "metadata": {},
   "source": [
    "```python\n",
    "class Hand(Deck):\n",
    "    \"\"\"Represents a hand of playing cards.\"\"\"```"
   ]
  },
  {
   "cell_type": "markdown",
   "metadata": {},
   "source": [
    "<p>Esta definição indica que <code>Hand</code> herda de <code>Deck</code>; isso significa que podemos usar métodos como <code>pop_card</code> e <code>add_card</code> para <code>Hand</code> bem como para <code>Deck</code>.</p>\n",
    "<p>Quando uma nova classe herda de uma existente, a existente chama-se <b>pai</b> e a nova classe chama-se <b>filho</b>.</p>\n",
    "<p>Neste exemplo, <code>Hand</code> herda <code>__init__</code> de <code>Deck</code>, mas na verdade não faz o que queremos: em vez de preencher a mão com 52 cartas novas, o método init de <code>Hand</code> deve inicializar <code>card</code> com uma lista vazia.</p>\n",
    "<p>Se fornecermos um método init na classe <code>Hand</code>, ele ignora o da classe <code>Deck</code>:</p>"
   ]
  },
  {
   "cell_type": "markdown",
   "metadata": {},
   "source": [
    "```python\n",
    "# dentro da classe Hand:\n",
    "\n",
    "    def __init__(self, label=''):\n",
    "        self.cards = []\n",
    "        self.label = label```"
   ]
  },
  {
   "cell_type": "markdown",
   "metadata": {},
   "source": [
    "<p>Ao criar <code>Hand</code>, o Python invoca este método init, não o de <code>Deck</code>.</p>"
   ]
  },
  {
   "cell_type": "code",
   "execution_count": 3,
   "metadata": {},
   "outputs": [
    {
     "data": {
      "text/plain": [
       "[]"
      ]
     },
     "execution_count": 3,
     "metadata": {},
     "output_type": "execute_result"
    }
   ],
   "source": [
    "from book_code import Hand\n",
    ">>> hand = Hand('new hand')\n",
    ">>> hand.cards"
   ]
  },
  {
   "cell_type": "code",
   "execution_count": 4,
   "metadata": {},
   "outputs": [
    {
     "data": {
      "text/plain": [
       "'new hand'"
      ]
     },
     "execution_count": 4,
     "metadata": {},
     "output_type": "execute_result"
    }
   ],
   "source": [
    ">>> hand.label"
   ]
  },
  {
   "cell_type": "markdown",
   "metadata": {},
   "source": [
    "<p>Outros métodos são herdados de <code>Deck</code>, portanto podemos usar <code>pop_card</code> e <code>add_card</code> para lidar com uma carta:</p>"
   ]
  },
  {
   "cell_type": "code",
   "execution_count": 5,
   "metadata": {},
   "outputs": [
    {
     "name": "stdout",
     "output_type": "stream",
     "text": [
      "King of Spades\n"
     ]
    }
   ],
   "source": [
    ">>> deck = Deck()\n",
    ">>> card = deck.pop_card()\n",
    ">>> hand.add_card(card)\n",
    ">>> print(hand)"
   ]
  },
  {
   "cell_type": "markdown",
   "metadata": {},
   "source": [
    "<p>Um próximo passo natural seria encapsular este código em um método chamado <code>move_cards</code>:</p>"
   ]
  },
  {
   "cell_type": "markdown",
   "metadata": {},
   "source": [
    "```python\n",
    "# dentro da classe Deck:\n",
    "\n",
    "    def move_cards(self, hand, num):\n",
    "        for i in range(num):\n",
    "            hand.add_card(self.pop_card())```"
   ]
  },
  {
   "cell_type": "markdown",
   "metadata": {},
   "source": [
    "<p><code>move_cards</code> recebe dois argumentos, um objeto <code>Hand</code> e o número de cartas com que vai lidar. Ele altera tanto <code>self</code> como <code>hand</code> e retorna <code>None</code>.</p>\n",
    "<p>Em alguns jogos, as cartas são movidas de uma mão a outra, ou de uma mão de volta ao baralho. É possível usar <code>move_cards</code> para algumas dessas operações: <code>self</code> pode ser um <code>Deck</code> ou <code>Hand</code>, e <code>hand</code>, apesar do nome, também pode ser um <code>Deck</code>.</p>\n",
    "<p>A herança é um recurso útil. Alguns programas que poderiam ser repetitivos sem herança podem ser escritos de forma mais elegante com ela. A herança pode facilitar a reutilização de código, já que você pode personalizar o comportamento de classes pais sem ter que alterá-las. Em alguns casos, a estrutura de herança reflete a estrutura natural do problema, o que torna o projeto mais fácil de entender.</p>\n",
    "<p>De outro lado, a herança pode tornar os programas difíceis de ler. Quando um método é invocado, às vezes não está claro onde encontrar sua definição. O código relevante pode ser espalhado por vários módulos. Além disso, muitas das coisas que podem ser feitas usando a herança podem ser feitas sem elas, às vezes, até de forma melhor.</p>\n",
    "<h2><a id=\"user-content-188---diagramas-de-classe\" class=\"anchor\" aria-hidden=\"true\" href=\"#188---diagramas-de-classe\"><svg class=\"octicon octicon-link\" viewBox=\"0 0 16 16\" version=\"1.1\" width=\"16\" height=\"16\" aria-hidden=\"true\"><path fill-rule=\"evenodd\" d=\"M4 9h1v1H4c-1.5 0-3-1.69-3-3.5S2.55 3 4 3h4c1.45 0 3 1.69 3 3.5 0 1.41-.91 2.72-2 3.25V8.59c.58-.45 1-1.27 1-2.09C10 5.22 8.98 4 8 4H4c-.98 0-2 1.22-2 2.5S3 9 4 9zm9-3h-1v1h1c1 0 2 1.22 2 2.5S13.98 12 13 12H9c-.98 0-2-1.22-2-2.5 0-.83.42-1.64 1-2.09V6.25c-1.09.53-2 1.84-2 3.25C6 11.31 7.55 13 9 13h4c1.45 0 3-1.69 3-3.5S14.5 6 13 6z\"></path></svg></a>18.8 - Diagramas de classe</h2>\n",
    "<p>Por enquanto vimos diagramas de pilha, que mostram o estado de um programa e diagramas de objeto, que mostram os atributos de um objeto e seus valores. Esses diagramas representam um retrato da execução de um programa, então eles mudam no decorrer da execução do programa.</p>\n",
    "<p>Eles também são altamente detalhados; para alguns objetivos, detalhados demais. Um diagrama de classe é uma representação mais abstrata da estrutura de um programa. Em vez de mostrar objetos individuais, ele mostra classes e as relações entre elas.</p>\n",
    "<p>Há vários tipos de relações entre as classes:</p>\n",
    "<ul>\n",
    "<li>\n",
    "<p>Os objetos de uma classe podem conter referências a objetos em outra classe. Por exemplo, cada <code>Rectangle</code> contém uma referência a um <code>Point</code>, e cada <code>Deck</code> contém referências a muitos <code>Card</code>s. Esse tipo de relação chama-se <b>composição</b>. É uma relação do tipo <b><i>HAS-A</i></b> (tem um), com a ideia de “um <code>Rectangle</code> tem um <code>Point</code>”.</p>\n",
    "</li>\n",
    "<li>\n",
    "<p>Uma classe pode herdar de outra. Esta relação chama-se <b><i>IS-A</i></b> (é um), com a ideia de “um <code>Hand</code> é um tipo de <code>Deck</code>”.</p>\n",
    "</li>\n",
    "<li>\n",
    "<p>Uma classe pode depender de outra no sentido de que os objetos em uma classe possam receber objetos na segunda classe como parâmetros ou usar esses objetos como parte de um cálculo. Este tipo de relação chama-se <b>dependência</b>.</p>\n",
    "</li>\n",
    "</ul>\n",
    "<p>Um <b>diagrama de classe</b> é uma representação gráfica dessas relações. Por exemplo, a Figura 18.2 mostra as relações entre <code>Card</code>, <code>Deck</code> e <code>Hand</code>.</p>\n",
    "<p><a target=\"_blank\" rel=\"noopener noreferrer\" href=\"https://github.com/PenseAllen/PensePython2e/raw/master/fig/tnkp_1802.png\"><img src=\"https://github.com/PenseAllen/PensePython2e/raw/master/fig/tnkp_1802.png\" alt=\"Figura 18.2 – Diagrama de classes.\" style=\"max-width:100%;\"></a>\n",
    "<br><em>Figura 18.2 – Diagrama de classes.</em></p>\n",
    "<p>A flecha com um triângulo oco representa uma relação <i>IS-A</i>; nesse caso, indica que <code>Hand</code> herda de <code>Deck</code>.</p>\n",
    "<p>A ponta de flecha padrão representa uma relação <i>HAS-A</i>; nesse caso, um <code>Deck</code> tem referências a objetos <code>Card</code>.</p>\n",
    "<p>A estrela <strong>*</strong>  perto da ponta de flecha indica a <b>multiplicidade</b>; ela indica quantos <code>Card</code>s um <code>Deck</code> tem. Uma multiplicidade pode ser um número simples como 52, um intervalo como 5..7 ou uma estrela, que indica que um <code>Deck</code> pode ter qualquer número de <code>Card</code>s.</p>\n",
    "<p>Não há nenhuma dependência neste diagrama. Elas normalmente apareceriam com uma flecha tracejada. Ou, se houver muitas dependências, às vezes elas são omitidas.</p>\n",
    "<p>Um diagrama mais detalhado poderia mostrar que um <code>Deck</code> na verdade contém uma lista de <code>Card</code>s, mas os tipos integrados como lista e <code>dict</code> não são normalmente incluídos em diagramas de classe.</p>\n",
    "<h2><a id=\"user-content-189---encapsulamento-de-dados\" class=\"anchor\" aria-hidden=\"true\" href=\"#189---encapsulamento-de-dados\"><svg class=\"octicon octicon-link\" viewBox=\"0 0 16 16\" version=\"1.1\" width=\"16\" height=\"16\" aria-hidden=\"true\"><path fill-rule=\"evenodd\" d=\"M4 9h1v1H4c-1.5 0-3-1.69-3-3.5S2.55 3 4 3h4c1.45 0 3 1.69 3 3.5 0 1.41-.91 2.72-2 3.25V8.59c.58-.45 1-1.27 1-2.09C10 5.22 8.98 4 8 4H4c-.98 0-2 1.22-2 2.5S3 9 4 9zm9-3h-1v1h1c1 0 2 1.22 2 2.5S13.98 12 13 12H9c-.98 0-2-1.22-2-2.5 0-.83.42-1.64 1-2.09V6.25c-1.09.53-2 1.84-2 3.25C6 11.31 7.55 13 9 13h4c1.45 0 3-1.69 3-3.5S14.5 6 13 6z\"></path></svg></a>18.9 - Encapsulamento de dados</h2>\n",
    "<p>Os capítulos anteriores demonstram um plano de desenvolvimento que poderíamos chamar de “projeto orientado a objeto”. Identificamos os objetos de que precisamos – como <code>Point</code>, <code>Rectangle</code> e <code>Time</code> – e definimos classes para representá-los. Em cada caso há uma correspondência óbvia entre o objeto e alguma entidade no mundo real (ou, pelo menos, no mundo matemático).</p>\n",
    "<p>Mas, às vezes, é menos óbvio quais objetos você precisa e como eles devem interagir. Nesse caso é necessário um plano de desenvolvimento diferente. Da mesma forma em que descobrimos interfaces de função por encapsulamento e generalização, podemos descobrir interfaces de classe por <b>encapsulamento de dados</b>.</p>\n",
    "<p>A análise de Markov, de “Análise de Markov”, na página 200, apresenta um bom exemplo. Se baixar o meu código em <a href=\"http://thinkpython2.com/code/markov.py\" rel=\"nofollow\">http://thinkpython2.com/code/markov.py</a>, você vai ver que ele usa duas variáveis globais – <code>suffix_map</code> e <code>prefix</code> – que são lidas e escritas a partir de várias funções.</p>"
   ]
  },
  {
   "cell_type": "markdown",
   "metadata": {},
   "source": [
    "```python\n",
    "suffix_map = {}\n",
    "prefix = ()```"
   ]
  },
  {
   "cell_type": "markdown",
   "metadata": {},
   "source": [
    "<p>Como essas variáveis são globais, só podemos executar uma análise de cada vez. Se lermos dois textos, seus prefixos e sufixos seriam acrescentados às mesmas estruturas de dados (o que geraria textos interessantes).</p>\n",
    "<p>Para executar análises múltiplas e guardá-las separadamente, podemos encapsular o estado de cada análise em um objeto. É assim que fica:</p>"
   ]
  },
  {
   "cell_type": "markdown",
   "metadata": {},
   "source": [
    "```python\n",
    "class Markov:\n",
    "    def __init__(self):\n",
    "        self.suffix_map = {}\n",
    "        self.prefix = ()```"
   ]
  },
  {
   "cell_type": "markdown",
   "metadata": {},
   "source": [
    "<p>Em seguida, transformamos as funções em métodos. Por exemplo, aqui está <code>process_word</code>:</p>"
   ]
  },
  {
   "cell_type": "markdown",
   "metadata": {},
   "source": [
    "```python\n",
    "def process_word(self, word, order=2):\n",
    "    if len(self.prefix) < order:\n",
    "        self.prefix += (word,)\n",
    "        return\n",
    "    try:\n",
    "        self.suffix_map[self.prefix].append(word)\n",
    "    except KeyError:\n",
    "        # se não houver entradas deste prefixo, crie uma.\n",
    "        self.suffix_map[self.prefix] = [word]\n",
    "\n",
    "    self.prefix = shift(self.prefix, word)```"
   ]
  },
  {
   "cell_type": "markdown",
   "metadata": {},
   "source": [
    "<p>Transformar um programa como esse – alterando o projeto sem mudar o comportamento – é outro exemplo de refatoração (veja “Refatoração”, na página 70).</p>\n",
    "<p>Este exemplo sugere um plano de desenvolvimento para projetar objetos e métodos:</p>\n",
    "<ol>\n",
    "<li>\n",
    "<p>Comece escrevendo funções que leiam e criem variáveis globais (quando necessário).</p>\n",
    "</li>\n",
    "<li>\n",
    "<p>Uma vez que o programa esteja funcionando, procure associações entre variáveis globais e funções que as usem.</p>\n",
    "</li>\n",
    "<li>\n",
    "<p>Encapsule variáveis relacionadas como atributos de objeto.</p>\n",
    "</li>\n",
    "<li>\n",
    "<p>Transforme as funções associadas em métodos da nova classe.</p>\n",
    "</li>\n",
    "</ol>\n",
    "<p>Como exercício, baixe o meu código de Markov de <a href=\"http://thinkpython2.com/code/markov.py\" rel=\"nofollow\">http://thinkpython2.com/code/markov.py</a> e siga os passos descritos acima para encapsular as variáveis globais como atributos de uma nova classe chamada Markov.</p>\n",
    "<p>Solução: <a href=\"http://thinkpython2.com/code/Markov.py\" rel=\"nofollow\">http://thinkpython2.com/code/Markov.py</a> (observe o M maiúsculo).</p>\n",
    "<h2><a id=\"user-content-1810---depuração\" class=\"anchor\" aria-hidden=\"true\" href=\"#1810---depuração\"><svg class=\"octicon octicon-link\" viewBox=\"0 0 16 16\" version=\"1.1\" width=\"16\" height=\"16\" aria-hidden=\"true\"><path fill-rule=\"evenodd\" d=\"M4 9h1v1H4c-1.5 0-3-1.69-3-3.5S2.55 3 4 3h4c1.45 0 3 1.69 3 3.5 0 1.41-.91 2.72-2 3.25V8.59c.58-.45 1-1.27 1-2.09C10 5.22 8.98 4 8 4H4c-.98 0-2 1.22-2 2.5S3 9 4 9zm9-3h-1v1h1c1 0 2 1.22 2 2.5S13.98 12 13 12H9c-.98 0-2-1.22-2-2.5 0-.83.42-1.64 1-2.09V6.25c-1.09.53-2 1.84-2 3.25C6 11.31 7.55 13 9 13h4c1.45 0 3-1.69 3-3.5S14.5 6 13 6z\"></path></svg></a>18.10 - Depuração</h2>\n",
    "<p>A herança pode dificultar a depuração porque quando você invoca um método em um objeto, pode ser difícil compreender qual método será invocado.</p>\n",
    "<p>Suponha que esteja escrevendo uma função que funcione com objetos <code>Hand</code>. Você gostaria que ela funcionasse com todos os tipos de <code>Hand</code>, como <code>PokerHands</code>, <code>BridgeHands</code> etc. Se invocar um método como <code>shuffle</code>, poderá receber o que foi definido em <code>Deck</code>, mas se alguma das subclasses ignorar este método, você receberá outra versão. Este comportamento pode ser bom, mas também confuso.</p>\n",
    "<p>A qualquer momento em que não esteja seguro a respeito do fluxo de execução do seu programa, a solução mais simples é acrescentar instruções de exibição no início dos métodos em questão. Se <code>Deck.shuffle</code> exibir uma mensagem que diz algo como <code>Running Deck.shuffle</code>, então no decorrer da execução do programa ele monitora seu fluxo.</p>\n",
    "<p>Uma alternativa é usar esta função, que recebe um objeto e um nome de método (como uma string) e retorna a classe que fornece a definição do método:</p>"
   ]
  },
  {
   "cell_type": "code",
   "execution_count": 6,
   "metadata": {},
   "outputs": [],
   "source": [
    "def find_defining_class(obj, meth_name):\n",
    "    for ty in type(obj).mro():\n",
    "        if meth_name in ty.__dict__:\n",
    "            return ty"
   ]
  },
  {
   "cell_type": "markdown",
   "metadata": {},
   "source": [
    "<p>Aqui está um exemplo:</p>"
   ]
  },
  {
   "cell_type": "code",
   "execution_count": 7,
   "metadata": {},
   "outputs": [
    {
     "data": {
      "text/plain": [
       "book_code.Deck"
      ]
     },
     "execution_count": 7,
     "metadata": {},
     "output_type": "execute_result"
    }
   ],
   "source": [
    ">>> hand = Hand()\n",
    ">>> find_defining_class(hand, 'shuffle')"
   ]
  },
  {
   "cell_type": "markdown",
   "metadata": {},
   "source": [
    "<p>Então o método <code>shuffle</code> deste <code>Hand</code> é o de <code>Deck</code>.</p>\n",
    "<p><code>find_defining_class</code> usa o método <code>mro</code> para obter a lista de objetos de classe (tipos) onde os métodos serão procurados. “MRO” significa “ordem de resolução do método”, que é a sequência de classes que o Python pesquisa para “descobrir” um nome de método.</p>\n",
    "<p>Aqui está uma sugestão de projeto: quando você ignora um método, a interface do novo método deve ser a mesma que a do antigo. Ela deve receber os mesmos parâmetros, retornar o mesmo tipo e obedecer às mesmas precondições e pós-condições. Se seguir esta regra, você descobrirá que qualquer função projetada para funcionar com uma instância de uma classe pai, como <code>Deck</code>, também funcionará com instâncias de classes filho como <code>Hand</code> e <code>PokerHand</code>.</p>\n",
    "<p>Se violar esta regra, o que se chama de “princípio de substituição de Liskov”, seu código cairá como (desculpe) um castelo de cartas.</p>\n",
    "<h2><a id=\"user-content-1811---glossário\" class=\"anchor\" aria-hidden=\"true\" href=\"#1811---glossário\"><svg class=\"octicon octicon-link\" viewBox=\"0 0 16 16\" version=\"1.1\" width=\"16\" height=\"16\" aria-hidden=\"true\"><path fill-rule=\"evenodd\" d=\"M4 9h1v1H4c-1.5 0-3-1.69-3-3.5S2.55 3 4 3h4c1.45 0 3 1.69 3 3.5 0 1.41-.91 2.72-2 3.25V8.59c.58-.45 1-1.27 1-2.09C10 5.22 8.98 4 8 4H4c-.98 0-2 1.22-2 2.5S3 9 4 9zm9-3h-1v1h1c1 0 2 1.22 2 2.5S13.98 12 13 12H9c-.98 0-2-1.22-2-2.5 0-.83.42-1.64 1-2.09V6.25c-1.09.53-2 1.84-2 3.25C6 11.31 7.55 13 9 13h4c1.45 0 3-1.69 3-3.5S14.5 6 13 6z\"></path></svg></a>18.11 - Glossário</h2>\n",
    "<dl>\n",
    "<dt><a id=\"user-content-glos:codificar\"><b>codificar</b></a></dt>\n",
    "<dd>Representar um conjunto de valores usando outro conjunto de valores construindo um mapeamento entre eles.</dd>\n",
    "<dt><a id=\"user-content-glos:atributo de classe\"><b>atributo de classe</b></a></dt>\n",
    "<dd>Atributo associado a um objeto de classe. Os atributos de classe são definidos dentro de uma definição de classe, mas fora de qualquer método.</dd>\n",
    "<dt><a id=\"user-content-glos:atributo de instância\"><b>atributo de instância</b></a></dt>\n",
    "<dd>Atributo associado a uma instância de uma classe.</dd>\n",
    "<dt><a id=\"user-content-glos:folheado\"><b>folheado</b></a></dt>\n",
    "<dd>Método ou função que apresenta uma interface diferente para outra função sem fazer muitos cálculos.</dd>\n",
    "<dt><a id=\"user-content-glos:herança\"><b>herança</b></a></dt>\n",
    "<dd>Capacidade de definir uma nova classe que seja uma versão modificada de uma classe definida anteriormente.</dd>\n",
    "<dt><a id=\"user-content-glos:classe-pai\"><b>classe-pai</b></a></dt>\n",
    "<dd>Classe da qual uma classe-filho herda.</dd>\n",
    "<dt><a id=\"user-content-glos:classe-filho\"><b>classe-filho</b></a></dt>\n",
    "<dd>Nova classe criada por herança de uma classe existente; também chamada de “subclasse”.</dd>\n",
    "<dt><a id=\"user-content-glos:relação is-a\"><b>relação <i>IS-A</i></b></a></dt>\n",
    "<dd>Relação entre uma classe-filho e sua classe-pai. Também chamada de herança.</dd>\n",
    "<dt><a id=\"user-content-glos:relação has-a\"><b>relação <i>HAS-A</i></b></a></dt>\n",
    "<dd>Relação entre duas classes onde as instâncias de uma classe contêm referências a instâncias da outra. Também chamada de composição.</dd>\n",
    "<dt><a id=\"user-content-glos:dependência\"><b>dependência</b></a></dt>\n",
    "<dd>Relação entre duas classes onde as instâncias de uma classe usam instâncias de outra classe, mas não as guardam como atributos.</dd>\n",
    "<dt><a id=\"user-content-glos:diagrama de classe\"><b>diagrama de classe</b></a></dt>\n",
    "<dd>Diagrama que mostra as classes em um programa e as relações entre elas.</dd>\n",
    "<dt><a id=\"user-content-glos:multiplicidade\"><b>multiplicidade</b></a></dt>\n",
    "<dd>Notação em um diagrama de classe que mostra, para uma relação <i>HAS-A</i>, quantas referências a instâncias da outra classe podem existir.</dd>\n",
    "<dt><a id=\"user-content-glos:encapsulamento de dados\"><b>encapsulamento de dados</b></a></dt>\n",
    "<dd>Plano de desenvolvimento de programa que envolve um protótipo usando variáveis globais e uma versão final que transforma as variáveis globais em atributos de instância.</dd>\n",
    "</dl>\n",
    "<h2><a id=\"user-content-1812---exercícios\" class=\"anchor\" aria-hidden=\"true\" href=\"#1812---exercícios\"><svg class=\"octicon octicon-link\" viewBox=\"0 0 16 16\" version=\"1.1\" width=\"16\" height=\"16\" aria-hidden=\"true\"><path fill-rule=\"evenodd\" d=\"M4 9h1v1H4c-1.5 0-3-1.69-3-3.5S2.55 3 4 3h4c1.45 0 3 1.69 3 3.5 0 1.41-.91 2.72-2 3.25V8.59c.58-.45 1-1.27 1-2.09C10 5.22 8.98 4 8 4H4c-.98 0-2 1.22-2 2.5S3 9 4 9zm9-3h-1v1h1c1 0 2 1.22 2 2.5S13.98 12 13 12H9c-.98 0-2-1.22-2-2.5 0-.83.42-1.64 1-2.09V6.25c-1.09.53-2 1.84-2 3.25C6 11.31 7.55 13 9 13h4c1.45 0 3-1.69 3-3.5S14.5 6 13 6z\"></path></svg></a>18.12 - Exercícios</h2>\n",
    "<h3><a id=\"user-content-exercício-181\" class=\"anchor\" aria-hidden=\"true\" href=\"#exercício-181\"><svg class=\"octicon octicon-link\" viewBox=\"0 0 16 16\" version=\"1.1\" width=\"16\" height=\"16\" aria-hidden=\"true\"><path fill-rule=\"evenodd\" d=\"M4 9h1v1H4c-1.5 0-3-1.69-3-3.5S2.55 3 4 3h4c1.45 0 3 1.69 3 3.5 0 1.41-.91 2.72-2 3.25V8.59c.58-.45 1-1.27 1-2.09C10 5.22 8.98 4 8 4H4c-.98 0-2 1.22-2 2.5S3 9 4 9zm9-3h-1v1h1c1 0 2 1.22 2 2.5S13.98 12 13 12H9c-.98 0-2-1.22-2-2.5 0-.83.42-1.64 1-2.09V6.25c-1.09.53-2 1.84-2 3.25C6 11.31 7.55 13 9 13h4c1.45 0 3-1.69 3-3.5S14.5 6 13 6z\"></path></svg></a>Exercício 18.1</h3>\n",
    "<p>Para o seguinte programa, desenhe um diagrama de classe UML que mostre estas classes e as relações entre elas.</p>"
   ]
  },
  {
   "cell_type": "markdown",
   "metadata": {},
   "source": [
    "```python\n",
    "class PingPongParent:\n",
    "    pass\n",
    "\n",
    "class Ping(PingPongParent):\n",
    "    def __init__(self, pong):\n",
    "        self.pong = pong\n",
    "\n",
    "class Pong(PingPongParent):\n",
    "    def __init__(self, pings=None):\n",
    "        if pings is None:\n",
    "            self.pings = []\n",
    "        else:\n",
    "            self.pings = pings\n",
    "    def add_ping(self, ping):\n",
    "        self.pings.append(ping)\n",
    "\n",
    "pong = Pong()\n",
    "ping = Ping(pong)\n",
    "pong.add_ping(ping)```"
   ]
  },
  {
   "cell_type": "markdown",
   "metadata": {},
   "source": [
    "<h3><a id=\"user-content-exercício-182\" class=\"anchor\" aria-hidden=\"true\" href=\"#exercício-182\"><svg class=\"octicon octicon-link\" viewBox=\"0 0 16 16\" version=\"1.1\" width=\"16\" height=\"16\" aria-hidden=\"true\"><path fill-rule=\"evenodd\" d=\"M4 9h1v1H4c-1.5 0-3-1.69-3-3.5S2.55 3 4 3h4c1.45 0 3 1.69 3 3.5 0 1.41-.91 2.72-2 3.25V8.59c.58-.45 1-1.27 1-2.09C10 5.22 8.98 4 8 4H4c-.98 0-2 1.22-2 2.5S3 9 4 9zm9-3h-1v1h1c1 0 2 1.22 2 2.5S13.98 12 13 12H9c-.98 0-2-1.22-2-2.5 0-.83.42-1.64 1-2.09V6.25c-1.09.53-2 1.84-2 3.25C6 11.31 7.55 13 9 13h4c1.45 0 3-1.69 3-3.5S14.5 6 13 6z\"></path></svg></a>Exercício 18.2</h3>\n",
    "<p>Escreva um método <code>Deck</code> chamado <code>deal_hands</code> que receba dois parâmetros: o número de mãos e o número de cartas por mão. Ele deve criar o número adequado de objetos <code>Hand</code>, lidar com o número adequado de cartas por mão e retornar uma lista de <code>Hand</code>s.</p>\n",
    "<h3><a id=\"user-content-exercício-183\" class=\"anchor\" aria-hidden=\"true\" href=\"#exercício-183\"><svg class=\"octicon octicon-link\" viewBox=\"0 0 16 16\" version=\"1.1\" width=\"16\" height=\"16\" aria-hidden=\"true\"><path fill-rule=\"evenodd\" d=\"M4 9h1v1H4c-1.5 0-3-1.69-3-3.5S2.55 3 4 3h4c1.45 0 3 1.69 3 3.5 0 1.41-.91 2.72-2 3.25V8.59c.58-.45 1-1.27 1-2.09C10 5.22 8.98 4 8 4H4c-.98 0-2 1.22-2 2.5S3 9 4 9zm9-3h-1v1h1c1 0 2 1.22 2 2.5S13.98 12 13 12H9c-.98 0-2-1.22-2-2.5 0-.83.42-1.64 1-2.09V6.25c-1.09.53-2 1.84-2 3.25C6 11.31 7.55 13 9 13h4c1.45 0 3-1.69 3-3.5S14.5 6 13 6z\"></path></svg></a>Exercício 18.3</h3>\n",
    "<p>A seguir, as mãos possíveis no pôquer, em ordem crescente de valor e ordem decrescente de probabilidade:</p>\n",
    "<dl>\n",
    "<dt><b>par</b></dt>\n",
    "<dd>Duas cartas com o mesmo valor.</dd>\n",
    "<dt><b>dois pares</b></dt>\n",
    "<dd>Dois pares de cartas com o mesmo valor.</dd>\n",
    "<dt><b>trinca</b></dt>\n",
    "<dd>Três cartas com o mesmo valor.</dd>\n",
    "<dt><b>sequência</b></dt>\n",
    "<dd>Cinco cartas com valores em sequência (os ases podem ser altos ou baixos, então <i>Ace</i>-2-3-4-5 é uma sequência, assim como 10-<i>Jack</i>-<i>Queen</i>-<i>King</i>-<i>Ace</i>, mas <i>Queen</i>-<i>King</i>-<i>Ace</i>-2-3 não é.)</dd>\n",
    "<dt><b>flush</b></dt>\n",
    "<dd>Cinco cartas com o mesmo naipe.</dd>\n",
    "<dt><b>full house</b></dt>\n",
    "<dd>Três cartas com um valor, duas cartas com outro.</dd>\n",
    "<dt><b>quadra</b></dt>\n",
    "<dd>Quatro cartas com o mesmo valor.</dd>\n",
    "<dt><b>straight flush</b></dt>\n",
    "<dd>Cinco cartas em sequência (como definido acima) e com o mesmo naipe.</dd>\n",
    "</dl>\n",
    "<p>A meta desses exercícios é estimar a probabilidade de ter estas várias mãos.</p>\n",
    "<ol>\n",
    "<li>Baixe os seguintes arquivos de <a href=\"http://thinkpython2.com/code\" rel=\"nofollow\">http://thinkpython2.com/code</a>:</li>\n",
    "</ol>\n",
    "<ul>\n",
    "<li>\n",
    "<p><code>Card.py</code>: Versão completa das classes <code>Card</code>, <code>Deck</code> e <code>Hand</code> deste capítulo.</p>\n",
    "</li>\n",
    "<li>\n",
    "<p><code>PokerHand.py</code>: Uma implementação incompleta de uma classe que representa uma mão de pôquer e código para testá-la.</p>\n",
    "</li>\n",
    "</ul>\n",
    "<ol start=\"2\">\n",
    "<li>\n",
    "<p>Se executar PokerHand.py, você verá que o programa cria mãos de pôquer com 7 cartas e verifica se alguma delas contém um <i>flush</i>. Leia este código com atenção antes de continuar.</p>\n",
    "</li>\n",
    "<li>\n",
    "<p>Acrescente métodos a PokerHand.py chamados <code>has_pair</code>, <code>has_twopair</code>, etc. que retornem <code>True</code> ou <code>False</code> conforme a mão cumpra os critérios em questão. Seu código deve funcionar corretamente para “mãos” que contenham qualquer número de cartas (embora 5 e 7 sejam as quantidades mais comuns).</p>\n",
    "</li>\n",
    "<li>\n",
    "<p>Escreva um método chamado <code>classify</code> que descubra a classificação do valor mais alto para uma mão e estabeleça o atributo <code>label</code> em questão. Por exemplo, uma mão de 7 cartas poderia conter um <i>flush</i> e um par; ela deve ser marcada como “<i>flush</i>”.</p>\n",
    "</li>\n",
    "<li>\n",
    "<p>Quando se convencer de que os seus métodos de classificação estão funcionando, o próximo passo deve ser estimar as probabilidades de várias mãos. Escreva uma função em PokerHand.py que embaralhe cartas, divida-as em mãos, classifique as mãos e conte o número de vezes em que várias classificações aparecem.</p>\n",
    "</li>\n",
    "<li>\n",
    "<p>Exiba uma tabela das classificações e suas probabilidades. Execute seu programa com números cada vez maiores de mãos até que os valores de saída convirjam a um grau razoável de exatidão. Compare seus resultados com os valores em <a href=\"http://en.wikipedia.org/wiki/Hand_rankings\" rel=\"nofollow\">http://en.wikipedia.org/wiki/Hand_rankings</a>.</p>\n",
    "</li>\n",
    "</ol>\n",
    "<p>Solução: <a href=\"http://thinkpython2.com/code/PokerHandSoln.py\" rel=\"nofollow\">http://thinkpython2.com/code/PokerHandSoln.py</a>.</p>\n",
    "</article>\n",
    "  </div>"
   ]
  }
 ],
 "metadata": {
  "kernelspec": {
   "display_name": "Python 3",
   "language": "python",
   "name": "python3"
  },
  "language_info": {
   "codemirror_mode": {
    "name": "ipython",
    "version": 3
   },
   "file_extension": ".py",
   "mimetype": "text/x-python",
   "name": "python",
   "nbconvert_exporter": "python",
   "pygments_lexer": "ipython3",
   "version": "3.7.3"
  }
 },
 "nbformat": 4,
 "nbformat_minor": 2
}
