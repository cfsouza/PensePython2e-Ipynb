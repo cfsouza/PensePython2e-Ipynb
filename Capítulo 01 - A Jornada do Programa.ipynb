{
  "nbformat": 4,
  "nbformat_minor": 0,
  "metadata": {
    "kernelspec": {
      "display_name": "Python 3",
      "language": "python",
      "name": "python3"
    },
    "language_info": {
      "codemirror_mode": {
        "name": "ipython",
        "version": 3
      },
      "file_extension": ".py",
      "mimetype": "text/x-python",
      "name": "python",
      "nbconvert_exporter": "python",
      "pygments_lexer": "ipython3",
      "version": "3.7.3"
    },
    "colab": {
      "name": "Capítulo 01 - A Jornada do Programa.ipynb",
      "provenance": []
    }
  },
  "cells": [
    {
      "cell_type": "markdown",
      "metadata": {
        "id": "zdVnbE4XyiBs"
      },
      "source": [
        "# Capítulo 1: A jornada do programa\n",
        "\n",
        "O objetivo deste livro é ensinar a pensar como um cientista da computação. Esta forma de pensar combina algumas das melhores características da matemática, da engenharia e das ciências naturais. Assim como os matemáticos, os cientistas da computação usam linguagens formais para denotar ideias (especificamente operações de computação). Como engenheiros, eles projetam coisas, reunindo componentes em sistemas e avaliando as opções de melhor retorno entre as alternativas à disposição. Como cientistas, observam o comportamento de sistemas complexos, formam hipóteses e testam previsões.\n",
        "\n",
        "A habilidade específica mais importante de um cientista da computação é a **resolução de problemas**. Resolução de problemas significa a capacidade de formular problemas, pensar criativamente em soluções e expressar uma solução de forma clara e precisa. Assim, o processo de aprender a programar é uma oportunidade excelente para exercitar a habilidade de resolver problemas. É por isso que este capítulo se chama “A jornada do programa”.\n",
        "\n",
        "Em um nível você aprenderá a programar, uma habilidade útil por si mesma. Em outro nível usará a programação como um meio para um fim. Conforme avançarmos, este fim ficará mais claro.\n",
        "\n",
        "## 1.1 - O que é um programa?\n",
        "\n",
        "Um __programa__ é uma sequência de instruções que especifica como executar uma operação de computação. A operação de computação pode ser algo matemático, como solucionar um sistema de equações ou encontrar as raízes de um polinômio, mas também pode ser uma operação de computação simbólica, como a busca e a substituição de textos em um documento; ou algo gráfico, como o processamento de uma imagem ou a reprodução de um vídeo.\n",
        "\n",
        "Os detalhes parecem diferentes em linguagens diferentes, mas algumas instruções básicas aparecem em quase todas as linguagens:\n",
        "\n",
        "**entrada**<br>\n",
        "&emsp;Receber dados do teclado, de um arquivo, da rede ou de algum outro dispositivo.\n",
        "\n",
        "**saída**<br>\n",
        "&emsp;Exibir dados na tela, salvá-los em um arquivo, enviá-los pela rede etc.\n",
        "\n",
        "**matemática**<br>\n",
        "&emsp;Executar operações matemáticas básicas como adição e multiplicação.\n",
        "\n",
        "**execução condicional**<br>\n",
        "&emsp;Verificar a existência de certas condições e executar o código adequado.\n",
        "\n",
        "**repetição**<br>\n",
        "&emsp;Executar várias vezes alguma ação, normalmente com algumas variações.\n",
        "\n",
        "\n",
        "Acredite ou não, isto é basicamente tudo o que é preciso saber. Cada programa que você já usou, complicado ou não, é composto de instruções muito parecidas com essas. Podemos então chegar à conclusão de que programar é o processo de quebrar uma tarefa grande e complexa em subtarefas cada vez menores, até que estas sejam simples o suficiente para serem executadas por uma dessas instruções básicas.\n",
        "\n",
        "## 1.2 - Execução do Python\n",
        "\n",
        "Um dos desafios de começar a usar Python é ter que instalar no seu computador o próprio programa e outros relacionados. Se tiver familiaridade com o seu sistema operacional, e especialmente se não tiver problemas com a interface de linha de comando, você não terá dificuldade para instalar o Python. Mas para principiantes pode ser trabalhoso aprender sobre administração de sistemas e programação ao mesmo tempo.\n",
        "\n",
        "Para evitar esse problema, recomendo que comece a executar o Python em um navegador. Depois, quando você já conhecer o Python um pouco mais, darei sugestões para instalá-lo em seu computador.\n",
        "\n",
        "Há uma série de sites que ajudam a usar e executar o Python. Se já tem um favorito, vá em frente e use-o. Senão, recomendo o PythonAnywhere. Apresento instruções detalhadas sobre os primeiros passos no link http://tinyurl.com/thinkpython2e.\n",
        "\n",
        "Há duas versões do Python, o Python 2 e o Python 3. Como elas são muito semelhantes, se você aprender uma versão, é fácil trocar para a outra. Como é iniciante, você encontrará poucas diferenças. Este livro foi escrito para o Python 3, mas também incluí algumas notas sobre o Python 2.\n",
        "\n",
        "O __interpretador__ do Python é um programa que lê e executa o código Python. Dependendo do seu ambiente, é possível iniciar o interpretador clicando em um ícone, ou digitando `python` em uma linha de comando. Quando ele iniciar, você deverá ver uma saída como esta:"
      ]
    },
    {
      "cell_type": "markdown",
      "metadata": {
        "id": "Y78ZDwK7yiBw"
      },
      "source": [
        "```python\n",
        "Python 3.4.0 (default, Jun 19 2015, 14:20:21)\n",
        "[GCC 4.8.2] on linux\n",
        "Type \"help\", \"copyright\", \"credits\" or \"license\" for more information.\n",
        ">>>\n",
        "```"
      ]
    },
    {
      "cell_type": "markdown",
      "metadata": {
        "id": "z5TFU2bJyiBw"
      },
      "source": [
        "As três primeiras linhas contêm informações sobre o interpretador e o sistema operacional em que está sendo executado, portanto podem ser diferentes para você. Mas é preciso conferir se o número da versão, que é 3.4.0 neste exemplo, começa com 3, o que indica que você está executando o Python 3. Se começar com 2, você está executando (adivinhe!) o Python 2.\n",
        "\n",
        "A última linha é um **prompt** indicando que o interpretador está pronto para você digitar o código. Se digitar uma linha de código e pressionar Enter, o interpretador exibe o resultado:"
      ]
    },
    {
      "cell_type": "code",
      "metadata": {
        "id": "hJJHhcVLyiBx",
        "outputId": "a8d07f67-8528-467f-b7a0-f245989767da",
        "colab": {
          "base_uri": "https://localhost:8080/"
        }
      },
      "source": [
        ">>> 1 + 3"
      ],
      "execution_count": 1,
      "outputs": [
        {
          "output_type": "execute_result",
          "data": {
            "text/plain": [
              "4"
            ]
          },
          "metadata": {},
          "execution_count": 1
        }
      ]
    },
    {
      "cell_type": "markdown",
      "metadata": {
        "id": "ELM1KUynyiBy"
      },
      "source": [
        "Agora você está pronto para começar. Daqui em diante, vou supor que você sabe como inicializar o interpretador do Python e executar o código.\n",
        "\n",
        "## 1.3 - O primeiro programa\n",
        "\n",
        "Tradicionalmente, o primeiro programa que se escreve em uma nova linguagem chama-se “Hello, World!”, porque tudo o que faz é exibir as palavras “Hello, World!” na tela. No Python, ele se parece com isto:"
      ]
    },
    {
      "cell_type": "code",
      "metadata": {
        "id": "2FY7ZLEPyiBz",
        "outputId": "e9a33499-6591-4df6-900f-225211a11934",
        "colab": {
          "base_uri": "https://localhost:8080/"
        }
      },
      "source": [
        ">>> print('Hello, World!')"
      ],
      "execution_count": 2,
      "outputs": [
        {
          "output_type": "stream",
          "name": "stdout",
          "text": [
            "Hello, World!\n"
          ]
        }
      ]
    },
    {
      "cell_type": "markdown",
      "metadata": {
        "id": "yOXQD18JyiBz"
      },
      "source": [
        "Este é um exemplo de uma **instrução print** (instrução de impressão), embora na realidade ela não imprima nada em papel. Ela exibe um resultado na tela. Nesse caso, o resultado são as palavras:"
      ]
    },
    {
      "cell_type": "raw",
      "metadata": {
        "id": "Z5nbi9Q5yiB0"
      },
      "source": [
        "Hello, World!"
      ]
    },
    {
      "cell_type": "markdown",
      "metadata": {
        "id": "aMDFfCa7yiB0"
      },
      "source": [
        "As aspas apenas marcam o começo e o fim do texto a ser exibido; elas não aparecem no resultado.\n",
        "\n",
        "Os parênteses indicam que o `print` é uma função. Veremos funções no Capítulo 3.\n",
        "\n",
        "No Python 2, a instrução `print` é ligeiramente diferente; ela não é uma função, portanto não usa parênteses."
      ]
    },
    {
      "cell_type": "markdown",
      "metadata": {
        "id": "G_4ckWWkyiB1"
      },
      "source": [
        "```python\n",
        ">>> print 'Hello, World!'\n",
        "```"
      ]
    },
    {
      "cell_type": "markdown",
      "metadata": {
        "id": "6o_oYjtIyiB1"
      },
      "source": [
        "Esta distinção fará mais sentido em breve, mas isso é o suficiente para começar.\n",
        "\n",
        "## 1.4 - Operadores aritméticos\n",
        "\n",
        "Depois do “Hello, World”, o próximo passo é a aritmética. O Python tem **operadores**, que são símbolos especiais representando operações de computação, como adição e multiplicação.\n",
        "\n",
        "Os operadores +, - e \\* executam a adição, a subtração e a multiplicação, como nos seguintes exemplos:"
      ]
    },
    {
      "cell_type": "code",
      "metadata": {
        "id": "1oR-quXgyiB2",
        "outputId": "f47494f4-d080-4f38-ae8b-39daa728b26d",
        "colab": {
          "base_uri": "https://localhost:8080/"
        }
      },
      "source": [
        ">>> 40 + 2"
      ],
      "execution_count": 3,
      "outputs": [
        {
          "output_type": "execute_result",
          "data": {
            "text/plain": [
              "42"
            ]
          },
          "metadata": {},
          "execution_count": 3
        }
      ]
    },
    {
      "cell_type": "code",
      "metadata": {
        "id": "rmcCOT3ZyiB2",
        "outputId": "c5496f37-b7dd-4d9a-e0ab-61c54fecd1e2",
        "colab": {
          "base_uri": "https://localhost:8080/"
        }
      },
      "source": [
        ">>> 43 - 1"
      ],
      "execution_count": 4,
      "outputs": [
        {
          "output_type": "execute_result",
          "data": {
            "text/plain": [
              "42"
            ]
          },
          "metadata": {},
          "execution_count": 4
        }
      ]
    },
    {
      "cell_type": "code",
      "metadata": {
        "id": "Z69sU5pzyiB3",
        "outputId": "e3b4eec4-7c66-482e-c03e-25e98740489e",
        "colab": {
          "base_uri": "https://localhost:8080/"
        }
      },
      "source": [
        ">>> 6 * 7"
      ],
      "execution_count": 5,
      "outputs": [
        {
          "output_type": "execute_result",
          "data": {
            "text/plain": [
              "42"
            ]
          },
          "metadata": {},
          "execution_count": 5
        }
      ]
    },
    {
      "cell_type": "markdown",
      "metadata": {
        "id": "Kdiqd2AsyiB3"
      },
      "source": [
        "O operador `/` executa a divisão:"
      ]
    },
    {
      "cell_type": "code",
      "metadata": {
        "id": "v6BBeSC1yiB4",
        "outputId": "4ebd4536-7d7d-4c52-8b45-fd600b15404d",
        "colab": {
          "base_uri": "https://localhost:8080/"
        }
      },
      "source": [
        ">>> 84 / 2"
      ],
      "execution_count": 6,
      "outputs": [
        {
          "output_type": "execute_result",
          "data": {
            "text/plain": [
              "42.0"
            ]
          },
          "metadata": {},
          "execution_count": 6
        }
      ]
    },
    {
      "cell_type": "markdown",
      "metadata": {
        "id": "TFRVzZtRyiB4"
      },
      "source": [
        "Pode ser que você fique intrigado pelo resultado ser `42.0` em vez de `42`. Vou explicar isso na próxima seção.\n",
        "\n",
        "Finalmente, o operador `**` executa a exponenciação; isto é, eleva um número a uma potência:"
      ]
    },
    {
      "cell_type": "code",
      "metadata": {
        "id": "0Wk4xX5JyiB4",
        "outputId": "f668f4f2-ec59-40fa-d7bf-9804d34b307e",
        "colab": {
          "base_uri": "https://localhost:8080/"
        }
      },
      "source": [
        ">>> 6 ** 2 + 6"
      ],
      "execution_count": 7,
      "outputs": [
        {
          "output_type": "execute_result",
          "data": {
            "text/plain": [
              "42"
            ]
          },
          "metadata": {},
          "execution_count": 7
        }
      ]
    },
    {
      "cell_type": "markdown",
      "metadata": {
        "id": "kEe6CpBcyiB4"
      },
      "source": [
        "Em algumas outras linguagens, o `^` é usado para a exponenciação, mas no Python é um operador bitwise, chamado XOR. Se não tiver familiaridade com operadores _bitwise_, o resultado o surpreenderá:"
      ]
    },
    {
      "cell_type": "code",
      "metadata": {
        "id": "BwyvDxAhyiB5",
        "outputId": "efec169f-13d4-4a4d-91f4-012db2c6758e",
        "colab": {
          "base_uri": "https://localhost:8080/"
        }
      },
      "source": [
        ">>> 6 ^ 2"
      ],
      "execution_count": 8,
      "outputs": [
        {
          "output_type": "execute_result",
          "data": {
            "text/plain": [
              "4"
            ]
          },
          "metadata": {},
          "execution_count": 8
        }
      ]
    },
    {
      "cell_type": "markdown",
      "metadata": {
        "id": "A3ThmSzgyiB5"
      },
      "source": [
        "Não abordarei operadores _bitwise_ neste livro, mas você pode ler sobre eles em http://wiki.python.org/moin/BitwiseOperators.\n",
        "\n",
        "## 1.5 - Valores e tipos\n",
        "\n",
        "Um **valor** é uma das coisas básicas com as quais um programa trabalha, como uma letra ou um número. Alguns valores que vimos até agora foram `2`, `42.0` e `'Hello, World!'`.\n",
        "\n",
        "Esses valores pertencem a **tipos** diferentes: `2` é um número **inteiro**, `42.0` é um número de **ponto flutuante** e `'Hello, World!'` é uma **string**, assim chamada porque as letras que contém estão em uma sequência em cadeia.\n",
        "\n",
        "Se não tiver certeza sobre qual é o tipo de certo valor, o interpretador pode dizer isso a você:"
      ]
    },
    {
      "cell_type": "code",
      "metadata": {
        "id": "033ynlZJyiB5",
        "outputId": "baaf6bcc-cf4f-4747-9ded-61a90a98be50",
        "colab": {
          "base_uri": "https://localhost:8080/"
        }
      },
      "source": [
        ">>> type(2)"
      ],
      "execution_count": 9,
      "outputs": [
        {
          "output_type": "execute_result",
          "data": {
            "text/plain": [
              "int"
            ]
          },
          "metadata": {},
          "execution_count": 9
        }
      ]
    },
    {
      "cell_type": "code",
      "metadata": {
        "id": "D8_FbhlNyiB6",
        "outputId": "db8a3664-1a8b-4add-ed36-5d8a875dbed7",
        "colab": {
          "base_uri": "https://localhost:8080/"
        }
      },
      "source": [
        ">>> type(42.0)"
      ],
      "execution_count": 10,
      "outputs": [
        {
          "output_type": "execute_result",
          "data": {
            "text/plain": [
              "float"
            ]
          },
          "metadata": {},
          "execution_count": 10
        }
      ]
    },
    {
      "cell_type": "code",
      "metadata": {
        "id": "uOFLETAPyiB6",
        "outputId": "04d31b02-2c8b-443e-f261-b03131fc4106",
        "colab": {
          "base_uri": "https://localhost:8080/"
        }
      },
      "source": [
        ">>> type('Hello, World!')"
      ],
      "execution_count": 11,
      "outputs": [
        {
          "output_type": "execute_result",
          "data": {
            "text/plain": [
              "str"
            ]
          },
          "metadata": {},
          "execution_count": 11
        }
      ]
    },
    {
      "cell_type": "markdown",
      "metadata": {
        "id": "NgUbIPjayiB6"
      },
      "source": [
        "Nesses resultados, a palavra “class” \\[classe\\] é usada no sentido de categoria; um tipo é uma categoria de valores.\n",
        "\n",
        "Como se poderia esperar, números inteiros pertencem ao tipo `int`, strings pertencem ao tipo `str` e os números de ponto flutuante pertencem ao tipo `float`.\n",
        "\n",
        "E valores como `'2'` e `'42.0'`? Parecem números, mas estão entre aspas como se fossem strings:"
      ]
    },
    {
      "cell_type": "code",
      "metadata": {
        "id": "89rxJiSQyiB6",
        "outputId": "dc53aa8d-113e-4a83-c816-b5534093e3eb",
        "colab": {
          "base_uri": "https://localhost:8080/"
        }
      },
      "source": [
        ">>> type('2')"
      ],
      "execution_count": 12,
      "outputs": [
        {
          "output_type": "execute_result",
          "data": {
            "text/plain": [
              "str"
            ]
          },
          "metadata": {},
          "execution_count": 12
        }
      ]
    },
    {
      "cell_type": "code",
      "metadata": {
        "id": "rPT1R25TyiB7",
        "outputId": "0bae0949-2340-418b-d972-3b408cdaf6e6",
        "colab": {
          "base_uri": "https://localhost:8080/"
        }
      },
      "source": [
        ">>> type('42.0')"
      ],
      "execution_count": 13,
      "outputs": [
        {
          "output_type": "execute_result",
          "data": {
            "text/plain": [
              "str"
            ]
          },
          "metadata": {},
          "execution_count": 13
        }
      ]
    },
    {
      "cell_type": "markdown",
      "metadata": {
        "id": "48bYBLw7yiB7"
      },
      "source": [
        "Então são strings.\n",
        "\n",
        "Ao digitar um número inteiro grande, alguns podem usar a notação americana, com vírgulas entre grupos de dígitos, como em 1,000,000. Este não é um número inteiro legítimo no Python e resultará em:"
      ]
    },
    {
      "cell_type": "code",
      "metadata": {
        "id": "QA-uDjbCzBjD",
        "outputId": "7686120a-305a-4c4f-87aa-132bbecb4e5b",
        "colab": {
          "base_uri": "https://localhost:8080/"
        }
      },
      "source": [
        ">>> 1,000,000"
      ],
      "execution_count": 14,
      "outputs": [
        {
          "output_type": "execute_result",
          "data": {
            "text/plain": [
              "(1, 0, 0)"
            ]
          },
          "metadata": {},
          "execution_count": 14
        }
      ]
    },
    {
      "cell_type": "markdown",
      "metadata": {
        "id": "s-esHKQVyiB7"
      },
      "source": [
        "O que não é de modo algum o que esperávamos! O Python interpreta 1,000,000 como uma sequência de números inteiros separados por vírgulas. Aprenderemos mais sobre este tipo de sequência mais adiante.\n",
        "\n",
        "## 1.6 - Linguagens formais e naturais\n",
        "\n",
        "As **linguagens naturais** são os idiomas que as pessoas falam, como inglês, espanhol e francês. Elas não foram criadas pelas pessoas (embora as pessoas tentem impor certa ordem a elas); desenvolveram-se naturalmente.\n",
        "\n",
        "As **linguagens formais** são linguagens criadas pelas pessoas para aplicações específicas. Por exemplo, a notação que os matemáticos usam é uma linguagem formal especialmente boa para denotar relações entre números e símbolos. Os químicos usam uma linguagem formal para representar a estrutura química de moléculas. E o mais importante:\n",
        "\n",
        "> As linguagens de programação são idiomas formais criados para expressar operações de computação.\n",
        "\n",
        "As linguagens formais geralmente têm regras de **sintaxe** estritas que governam a estrutura de declarações. Por exemplo, na matemática a declaração 3 + 3 = 6 tem uma sintaxe correta, mas não 3 + = 3\\$6. Na química, $H_2O$ é uma fórmula sintaticamente correta, mas $_2$Zz não é.\n",
        "\n",
        "As regras de sintaxe vêm em duas categorias relativas a símbolos e estrutura. Os **símbolos** são os elementos básicos da linguagem, como palavras, números e elementos químicos. Um dos problemas com 3 + = 3\\$6 é que o \\$ não é um símbolo legítimo na matemática (pelo menos até onde eu sei). De forma similar, $_2$Zz não é legítimo porque não há nenhum elemento com a abreviatura Zz.\n",
        "\n",
        "O segundo tipo de regra de sintaxe refere-se ao modo no qual os símbolos são combinados. A equação 3 + = 3 não é legítima porque, embora + e = sejam símbolos legítimos, não se pode ter um na sequência do outro. De forma similar, em uma fórmula química o subscrito vem depois do nome de elemento, não antes.\n",
        "\n",
        "Esta é um@ frase bem estruturada em portuguê\\$, mas com s\\*mbolos inválidos. Esta frase todos os símbolos válidos tem, mas estrutura válida sem.\n",
        "\n",
        "Ao ler uma frase em português ou uma declaração em uma linguagem formal, é preciso compreender a estrutura (embora em uma linguagem natural você faça isto de forma subconsciente). Este processo é chamado de **análise**.\n",
        "\n",
        "Embora as linguagens formais e naturais tenham muitas características em comum – símbolos, estrutura e sintaxe – há algumas diferenças:\n",
        "\n",
        "**ambiguidade**<br>\n",
        "&nbsp;&nbsp;&nbsp;&nbsp;As linguagens naturais são cheias de ambiguidade e as pessoas lidam com isso usando pistas contextuais e outras informações. As linguagens formais são criadas para ser quase ou completamente inequívocas, ou seja, qualquer afirmação tem exatamente um significado, independentemente do contexto.\n",
        "\n",
        "**redundância**<br>\n",
        "&nbsp;&nbsp;&nbsp;&nbsp;Para compensar a ambiguidade e reduzir equívocos, as linguagens naturais usam muita redundância. Por causa disso, muitas vezes são verborrágicas. As linguagens formais são menos redundantes e mais concisas.\n",
        "\n",
        "**literalidade**<br>\n",
        "&nbsp;&nbsp;&nbsp;&nbsp;As linguagens naturais são cheias de expressões e metáforas. Se eu digo “Caiu a ficha”, provavelmente não há ficha nenhuma na história, nem nada que tenha caído (esta é uma expressão para dizer que alguém entendeu algo depois de certo período de confusão). As linguagens formais têm significados exatamente iguais ao que expressam.\n",
        "\n",
        "\n",
        "Como todos nós crescemos falando linguagens naturais, às vezes é difícil se ajustar a linguagens formais. A diferença entre a linguagem natural e a formal é semelhante à diferença entre poesia e prosa, mas vai além:\n",
        "\n",
        "**Poesia**<br>\n",
        "&nbsp;&nbsp;&nbsp;&nbsp;As palavras são usadas tanto pelos sons como pelos significados, e o poema inteiro cria um efeito ou resposta emocional. A ambiguidade não é apenas comum, mas muitas vezes proposital.\n",
        "\n",
        "**Prosa**<br>\n",
        "&nbsp;&nbsp;&nbsp;&nbsp;O significado literal das palavras é o mais importante e a estrutura contribui para este significado. A prosa é mais acessível à análise que a poesia, mas muitas vezes ainda é ambígua.\n",
        "\n",
        "**Programas**<br>\n",
        "&nbsp;&nbsp;&nbsp;&nbsp;O significado de um programa de computador é inequívoco e literal e pode ser entendido inteiramente pela análise dos símbolos e da estrutura.\n",
        "\n",
        "As linguagens formais são mais densas que as naturais, então exigem mais tempo para a leitura. Além disso, a estrutura é importante, então nem sempre é melhor ler de cima para baixo e da esquerda para a direita. Em vez disso, aprenda a analisar o programa primeiro, identificando os símbolos e interpretando a estrutura. E os detalhes fazem diferença. Pequenos erros em ortografia e pontuação, que podem não importar tanto nas linguagens naturais, podem fazer uma grande diferença em uma língua formal.\n",
        "\n",
        "## 1.7 - Depuração\n",
        "\n",
        "Os programadores erram. Por um capricho do destino, erros de programação são chamados de **bugs** (insetos) e o processo de rastreá-los chama-se **depuração** (debugging).\n",
        "\n",
        "Programar, e especialmente fazer a depuração, às vezes traz emoções fortes. Se tiver dificuldade com certo bug, você pode ficar zangado, desesperado ou constrangido.\n",
        "\n",
        "Há evidências de que as pessoas respondem naturalmente a computadores como se fossem pessoas. Quando funcionam bem, pensamos neles como parceiros da equipe, e quando são teimosos ou grosseiros, respondemos a eles do mesmo jeito que fazemos com pessoas grosseiras e teimosas (Reeves e Nass, [_The Media Equation: How People Treat Computers, Television, and New Media Like Real People and Places_](https://en.wikipedia.org/wiki/The_Media_Equation) — _A equação da mídia: como as pessoas tratam os computadores, a televisão e as novas mídias como se fossem pessoas e lugares reais_).\n",
        "\n",
        "Prepare-se para essas reações, pois isso pode ajudar a lidar com elas. Uma abordagem é pensar no computador como um funcionário com certas vantagens, como velocidade e precisão, e certas desvantagens, como a falta de empatia e a incapacidade de compreender um contexto mais amplo.\n",
        "\n",
        "Seu trabalho é ser um bom gerente: encontrar formas de aproveitar as vantagens e atenuar as desvantagens. E também encontrar formas de usar suas emoções para lidar com o problema sem deixar suas reações interferirem na sua capacidade de trabalho.\n",
        "\n",
        "Aprender a depurar erros pode ser frustrante, mas é uma habilidade valiosa, útil para muitas atividades além da programação. No fim de cada capítulo há uma seção como esta, com as minhas sugestões para fazer a depuração. Espero que sejam úteis!\n",
        "\n",
        "## 1.8 - Glossário\n",
        "\n",
        "**resolução de problemas**<br>\n",
        "&nbsp;&nbsp;&nbsp;&nbsp;O processo de formular um problema, encontrar uma solução e expressá-la.\n",
        "\n",
        "**linguagem de alto nível**<br>\n",
        "&nbsp;&nbsp;&nbsp;&nbsp;Uma linguagem de programação como Python, que foi criada com o intuito de ser fácil para os humanos escreverem e lerem.\n",
        "\n",
        "**linguagem de baixo nível**<br>\n",
        "&nbsp;&nbsp;&nbsp;&nbsp;Uma linguagem de programação criada para o computador executar com facilidade; também chamada de “linguagem de máquina” ou “linguagem assembly”.\n",
        "\n",
        "**portabilidade**<br>\n",
        "&nbsp;&nbsp;&nbsp;&nbsp;A propriedade de um programa de poder ser executado em mais de um tipo de computador.\n",
        "\n",
        "**interpretador**<br>\n",
        "&nbsp;&nbsp;&nbsp;&nbsp;Um programa que lê outro programa e o executa.\n",
        "\n",
        "**prompt**<br>\n",
        "&nbsp;&nbsp;&nbsp;&nbsp;Caracteres expostos pelo interpretador para indicar que está pronto para receber entradas do usuário.\n",
        "\n",
        "**programa**<br>\n",
        "&nbsp;&nbsp;&nbsp;&nbsp;Conjunto de instruções que especificam uma operação de computação.\n",
        "\n",
        "**instrução print**<br>\n",
        "&nbsp;&nbsp;&nbsp;&nbsp;Uma instrução que faz o interpretador do Python exibir um valor na tela.\n",
        "\n",
        "**operador**<br>\n",
        "&nbsp;&nbsp;&nbsp;&nbsp;Um símbolo especial que representa uma operação de computação simples como adição, multiplicação ou concatenação de strings.\n",
        "\n",
        "**valor**<br>\n",
        "&nbsp;&nbsp;&nbsp;&nbsp;Uma das unidades básicas de dados, como um número ou string, que um programa manipula.\n",
        "\n",
        "**tipo**<br>\n",
        "&nbsp;&nbsp;&nbsp;&nbsp;Uma categoria de valores. Os tipos que vimos por enquanto são números inteiros (tipo int), números de ponto flutuante (tipo float) e strings (tipo str).\n",
        "\n",
        "**inteiro**<br>\n",
        "&nbsp;&nbsp;&nbsp;&nbsp;Um tipo que representa números inteiros.\n",
        "\n",
        "**ponto flutuante**<br>\n",
        "&nbsp;&nbsp;&nbsp;&nbsp;Um tipo que representa números com partes fracionárias.\n",
        "\n",
        "**string**<br>\n",
        "&nbsp;&nbsp;&nbsp;&nbsp;Um tipo que representa sequências de caracteres.\n",
        "\n",
        "**linguagem natural**<br>\n",
        "&nbsp;&nbsp;&nbsp;&nbsp;Qualquer linguagem que as pessoas falam e que se desenvolveu naturalmente.\n",
        "\n",
        "**linguagem formal**<br>\n",
        "&nbsp;&nbsp;&nbsp;&nbsp;Qualquer linguagem que as pessoas criaram com objetivos específicos, como representar ideias matemáticas ou programas de computador; todas as linguagens de programação são linguagens formais.\n",
        "\n",
        "**símbolo**<br>\n",
        "&nbsp;&nbsp;&nbsp;&nbsp;Um dos elementos básicos da estrutura sintática de um programa, análogo a uma palavra em linguagem natural.\n",
        "\n",
        "**sintaxe**<br>\n",
        "&nbsp;&nbsp;&nbsp;&nbsp;As regras que governam a estrutura de um programa.\n",
        "\n",
        "**análise**<br>\n",
        "&nbsp;&nbsp;&nbsp;&nbsp;Examinar um programa e sua estrutura sintática.\n",
        "\n",
        "**bug**<br>\n",
        "&nbsp;&nbsp;&nbsp;&nbsp;Um erro em um programa.\n",
        "\n",
        "**depuração**<br>\n",
        "&nbsp;&nbsp;&nbsp;&nbsp;O processo de encontrar e corrigir (depurar) bugs.\n",
        "\n",
        "\n",
        "## 1.9 - Exercícios\n",
        "\n",
        "### Exercício 1.1\n",
        "\n",
        "É uma boa ideia ler este livro em frente a um computador para testar os exemplos durante a leitura.\n",
        "\n",
        "Sempre que estiver testando um novo recurso, você deve tentar fazer erros. Por exemplo, no programa “Hello, World!”, o que acontece se omitir uma das aspas? E se omitir ambas? E se você soletrar a instrução print de forma errada?\n",
        "\n",
        "Este tipo de experimento ajuda a lembrar o que foi lido; também ajuda quando você estiver programando, porque assim conhecerá o significado das mensagens de erro. É melhor fazer erros agora e de propósito que depois e acidentalmente.\n",
        "\n",
        "1. Em uma instrução print, o que acontece se você omitir um dos parênteses ou ambos?\n",
        "\n",
        "2. Se estiver tentando imprimir uma string, o que acontece se omitir uma das aspas ou ambas?\n",
        "\n",
        "3. Você pode usar um sinal de menos para fazer um número negativo como -2. O que acontece se puser um sinal de mais antes de um número? E se escrever assim: 2++2?\n",
        "\n",
        "4. Na notação matemática, zeros à esquerda são aceitáveis, como em 02. O que acontece se você tentar usar isso no Python?\n",
        "\n",
        "5. O que acontece se você tiver dois valores sem nenhum operador entre eles?\n",
        "\n",
        "### Exercício 1.2\n",
        "\n",
        "Inicialize o interpretador do Python e use-o como uma calculadora.\n",
        "\n",
        "1. Quantos segundos há em 42 minutos e 42 segundos?\n",
        "\n",
        "2. Quantas milhas há em 10 quilômetros? Dica: uma milha equivale a 1,61 quilômetro.\n",
        "\n",
        "3. Se você correr 10 quilômetros em 42 minutos e 42 segundos, qual é o seu passo médio (tempo por milha em minutos e segundos)? Qual é a sua velocidade média em milhas por hora?"
      ]
    }
  ]
}