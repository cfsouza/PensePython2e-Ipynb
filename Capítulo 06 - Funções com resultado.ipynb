{
  "nbformat": 4,
  "nbformat_minor": 0,
  "metadata": {
    "kernelspec": {
      "display_name": "Python 3",
      "language": "python",
      "name": "python3"
    },
    "language_info": {
      "codemirror_mode": {
        "name": "ipython",
        "version": 3
      },
      "file_extension": ".py",
      "mimetype": "text/x-python",
      "name": "python",
      "nbconvert_exporter": "python",
      "pygments_lexer": "ipython3",
      "version": "3.7.3"
    },
    "colab": {
      "name": "Capítulo 06 - Funções com resultado.ipynb",
      "provenance": []
    }
  },
  "cells": [
    {
      "cell_type": "markdown",
      "metadata": {
        "id": "l3lfV5F-5Q0_"
      },
      "source": [
        "# Capítulo 6: Funções com resultado"
      ]
    },
    {
      "cell_type": "markdown",
      "metadata": {
        "id": "o0zfpS3d5Q1C"
      },
      "source": [
        "Muitas das funções do Python que usamos, como as matemáticas, produzem valores de retorno. Mas as funções que escrevemos até agora são todas nulas: têm um efeito, como exibir um valor ou mover uma tartaruga, mas não têm um valor de retorno. Neste capítulo você aprenderá a escrever funções com resultados."
      ]
    },
    {
      "cell_type": "markdown",
      "metadata": {
        "id": "T0OQnFFg5Q1D"
      },
      "source": [
        "## 6.1 - Valores de retorno"
      ]
    },
    {
      "cell_type": "markdown",
      "metadata": {
        "id": "pR1YWiEh5Q1D"
      },
      "source": [
        "A chamada de função gera um valor de retorno, que normalmente atribuímos a uma variável ou usamos como parte de uma expressão.\n",
        "\n"
      ]
    },
    {
      "cell_type": "code",
      "metadata": {
        "id": "ESzS6j2y5Q1E"
      },
      "source": [
        "import math\n",
        "e = math.exp(1.0)\n",
        "raio = 3\n",
        "radianos = math.pi/2\n",
        "altura = raio * math.sin(radianos)"
      ],
      "execution_count": 1,
      "outputs": []
    },
    {
      "cell_type": "markdown",
      "metadata": {
        "id": "-TaLhx4w5Q1F"
      },
      "source": [
        "As funções que descrevemos, por enquanto, são todas nulas. Resumindo, elas não têm valores de retorno; mais precisamente, o seu valor de retorno é `None`.\n",
        "\n",
        "Neste capítulo veremos (finalmente) como escrever funções com resultados. O primeiro exemplo é `area`, que devolve a área de um círculo com o raio dado:"
      ]
    },
    {
      "cell_type": "code",
      "metadata": {
        "id": "9mR419_75Q1F"
      },
      "source": [
        "def area(raio):\n",
        "    a = math.pi * raio**2\n",
        "    return a"
      ],
      "execution_count": 2,
      "outputs": []
    },
    {
      "cell_type": "markdown",
      "metadata": {
        "id": "qz5dOstf5Q1G"
      },
      "source": [
        "Já vimos a instrução `return`, mas em uma função com resultado ela inclui uma expressão. Esta instrução significa: “Volte imediatamente desta função e use a seguinte expressão como valor de retorno”. A expressão pode ser arbitrariamente complicada, então poderíamos ter escrito esta função de forma mais concisa:"
      ]
    },
    {
      "cell_type": "code",
      "metadata": {
        "id": "okZbIUxQ5Q1G"
      },
      "source": [
        "def area(raio):\n",
        "    return math.pi * raio**2"
      ],
      "execution_count": 3,
      "outputs": []
    },
    {
      "cell_type": "markdown",
      "metadata": {
        "id": "UBh9YrVK5Q1H"
      },
      "source": [
        "Por outro lado, **variáveis temporárias** como `a`, tornam a depuração mais fácil.\n",
        "\n",
        "Às vezes, é útil ter várias instruções de retorno, uma em cada ramo de uma condicional:"
      ]
    },
    {
      "cell_type": "markdown",
      "metadata": {
        "id": "ofGLplQE5Q1H"
      },
      "source": [
        "```python\n",
        "def valor_absoluto(x):\n",
        "    if x < 0:\n",
        "        return -x\n",
        "    else:\n",
        "        return x\n",
        "```"
      ]
    },
    {
      "cell_type": "markdown",
      "metadata": {
        "id": "xFCzlzQV5Q1I"
      },
      "source": [
        "Como essas instruções `return` estão em uma condicional alternativa, apenas uma é executada.\n",
        "\n",
        "Logo que uma instrução de retorno seja executada, a função termina sem executar nenhuma instrução subsequente. Qualquer código que apareça depois de uma instrução `return`, ou em qualquer outro lugar que o fluxo da execução não atinja, é chamado de **código morto**.\n",
        "\n",
        "Em uma função com resultado, é uma boa ideia garantir que cada caminho possível pelo programa atinja uma instrução `return`. Por exemplo:"
      ]
    },
    {
      "cell_type": "code",
      "metadata": {
        "id": "dP-4ry2K5Q1I"
      },
      "source": [
        "def valor_absoluto(x):\n",
        "    if x < 0:\n",
        "        return -x\n",
        "    if x > 0:\n",
        "        return x"
      ],
      "execution_count": 6,
      "outputs": []
    },
    {
      "cell_type": "markdown",
      "metadata": {
        "id": "QRhLjbpj5Q1I"
      },
      "source": [
        "Essa função é incorreta porque se `x` for `0`, nenhuma condição é verdade, e a função termina sem chegar a uma instrução `return`. Se o fluxo de execução chegar ao fim de uma função, o valor de retorno é `None`, que não é o valor absoluto de `0`:"
      ]
    },
    {
      "cell_type": "code",
      "metadata": {
        "id": "Iq5qGT1C5Q1J",
        "outputId": "cd1a523a-a7e6-4590-c849-976d44f4319c",
        "colab": {
          "base_uri": "https://localhost:8080/"
        }
      },
      "source": [
        "print(valor_absoluto(0))"
      ],
      "execution_count": 7,
      "outputs": [
        {
          "output_type": "stream",
          "name": "stdout",
          "text": [
            "None\n"
          ]
        }
      ]
    },
    {
      "cell_type": "markdown",
      "metadata": {
        "id": "VRVWChYu5Q1K"
      },
      "source": [
        "A propósito, o Python oferece uma função integrada chamada `abs`, que calcula valores absolutos.\n",
        "\n",
        "Como exercício, escreva uma função `compare` que receba dois valores, `x` e `y`, e retorne `1` se `x > y`, `0` se `x == y` e `-1` se `x < y`."
      ]
    },
    {
      "cell_type": "markdown",
      "metadata": {
        "id": "kP07Psfx5Q1K"
      },
      "source": [
        "## 6.2 - Desenvolvimento incremental\n"
      ]
    },
    {
      "cell_type": "markdown",
      "metadata": {
        "id": "lXB8dL0e5Q1K"
      },
      "source": [
        "Conforme você escrever funções maiores, pode ser que passe mais tempo as depurando.\n",
        "\n",
        "Para lidar com programas cada vez mais complexos, você pode querer tentar usar um processo chamado de **desenvolvimento incremental**. A meta do desenvolvimento incremental é evitar longas sessões de depuração, acrescentando e testando pequenas partes do código de cada vez.\n",
        "\n",
        "Como um exemplo, vamos supor que você queira encontrar a distância entre dois pontos dados pelas coordenadas ($x_1$, $y_1$) e ($x_2$, $y_2$). Pelo teorema de Pitágoras, a distância é:"
      ]
    },
    {
      "cell_type": "markdown",
      "metadata": {
        "id": "XfOagtCC5Q1K"
      },
      "source": [
        "$distância = \\sqrt{(x_2  - x_1)^{2} + (y_2  - y_1)^{2}}$"
      ]
    },
    {
      "cell_type": "markdown",
      "metadata": {
        "id": "XNYhoVod5Q1L"
      },
      "source": [
        "O primeiro passo é pensar como uma função `distancia` deveria ser no Python. Em outras palavras, quais são as entradas (parâmetros) e qual é a saída (valor de retorno)?\n",
        "\n",
        "Nesse caso, as entradas são dois pontos que você pode representar usando quatro números. O valor de retorno é a distância representada por um valor de ponto flutuante.\n",
        "\n",
        "Imediatamente, é possível escrever um rascunho da função:"
      ]
    },
    {
      "cell_type": "code",
      "metadata": {
        "id": "l-LssboH5Q1L"
      },
      "source": [
        "def distancia(x1, y1, x2, y2):\n",
        "    return 0.0"
      ],
      "execution_count": 8,
      "outputs": []
    },
    {
      "cell_type": "markdown",
      "metadata": {
        "id": "aI_Gprlw5Q1L"
      },
      "source": [
        "Claro que esta versão não calcula distâncias; sempre retorna zero. Mas está sintaticamente correta, e pode ser executada, o que significa que você pode testá-la antes de torná-la mais complicada.\n",
        "\n",
        "Para testar a nova função, chame-a com argumentos de amostra:"
      ]
    },
    {
      "cell_type": "code",
      "metadata": {
        "id": "yITCcRVu5Q1M",
        "outputId": "310f2d5f-084a-4ce8-f5ac-4b0c6003f866",
        "colab": {
          "base_uri": "https://localhost:8080/"
        }
      },
      "source": [
        "distancia(1, 2, 4, 6)"
      ],
      "execution_count": 9,
      "outputs": [
        {
          "output_type": "execute_result",
          "data": {
            "text/plain": [
              "0.0"
            ]
          },
          "metadata": {},
          "execution_count": 9
        }
      ]
    },
    {
      "cell_type": "markdown",
      "metadata": {
        "id": "FBsXV2kB5Q1M"
      },
      "source": [
        "Escolhi esses valores para que a distância horizontal seja 3 e a distância vertical, 4; assim, o resultado final é 5, a hipotenusa de um triângulo 3-4-5. Ao testar uma função, é útil saber a resposta certa.\n",
        "\n",
        "Neste ponto confirmamos que a função está sintaticamente correta, e podemos começar a acrescentar código ao corpo. Um próximo passo razoável é encontrar as diferenças $x_2 − x_1$ e $y_2 − y_1$. A próxima versão guarda esses valores em variáveis temporárias e os exibe:"
      ]
    },
    {
      "cell_type": "code",
      "metadata": {
        "id": "MUPer5gi5Q1M"
      },
      "source": [
        "def distancia(x1, y1, x2, y2):\n",
        "    dx = x2 - x1\n",
        "    dy = y2 - y1\n",
        "    print('dx é', dx)\n",
        "    print('dy é', dy)\n",
        "    return 0.0"
      ],
      "execution_count": 10,
      "outputs": []
    },
    {
      "cell_type": "code",
      "metadata": {
        "id": "EG5U9hEF5Q1M",
        "outputId": "3c8ad3bc-3280-4941-8997-4f714e6f8fb0",
        "colab": {
          "base_uri": "https://localhost:8080/"
        }
      },
      "source": [
        "distancia(1, 2, 4, 6)"
      ],
      "execution_count": 11,
      "outputs": [
        {
          "output_type": "stream",
          "name": "stdout",
          "text": [
            "dx é 3\n",
            "dy é 4\n"
          ]
        },
        {
          "output_type": "execute_result",
          "data": {
            "text/plain": [
              "0.0"
            ]
          },
          "metadata": {},
          "execution_count": 11
        }
      ]
    },
    {
      "cell_type": "markdown",
      "metadata": {
        "id": "hZrHs-CW5Q1N"
      },
      "source": [
        "Se a função estiver funcionando, deve exibir `dx é 3` e `dy é 4`. Nesse caso sabemos que a função está recebendo os argumentos corretos e executando o primeiro cálculo acertadamente. Se não, há poucas linhas para verificar.\n",
        "\n",
        "Depois calculamos a soma dos quadrados de `dx` e `dy`:"
      ]
    },
    {
      "cell_type": "code",
      "metadata": {
        "id": "8_0nd4QQ5Q1N"
      },
      "source": [
        "def distancia(x1, y1, x2, y2):\n",
        "    dx = x2 - x1\n",
        "    dy = y2 - y1\n",
        "    dquadrado = dx**2 + dy**2\n",
        "    print('dquadrado é: ', dquadrado)\n",
        "    return 0.0"
      ],
      "execution_count": 12,
      "outputs": []
    },
    {
      "cell_type": "code",
      "metadata": {
        "id": "GpxwMc3e5Q1N",
        "outputId": "43f2b322-2731-4d6c-ac96-d101d10945f5",
        "colab": {
          "base_uri": "https://localhost:8080/"
        }
      },
      "source": [
        "distancia(1, 2, 4, 6)"
      ],
      "execution_count": 13,
      "outputs": [
        {
          "output_type": "stream",
          "name": "stdout",
          "text": [
            "dquadrado é:  25\n"
          ]
        },
        {
          "output_type": "execute_result",
          "data": {
            "text/plain": [
              "0.0"
            ]
          },
          "metadata": {},
          "execution_count": 13
        }
      ]
    },
    {
      "cell_type": "markdown",
      "metadata": {
        "id": "6YKkmwgf5Q1N"
      },
      "source": [
        "Nesta etapa você executaria o programa mais uma vez e verificaria a saída (que deve ser 25). Finalmente, pode usar `math.sqrt` para calcular e devolver o resultado:"
      ]
    },
    {
      "cell_type": "code",
      "metadata": {
        "id": "e1eBiQYJ5Q1N"
      },
      "source": [
        "def distancia(x1, y1, x2, y2):\n",
        "    dx = x2 - x1\n",
        "    dy = y2 - y1\n",
        "    dquadrado = dx**2 + dy**2\n",
        "    resultado = math.sqrt(dquadrado)\n",
        "    return resultado"
      ],
      "execution_count": 14,
      "outputs": []
    },
    {
      "cell_type": "code",
      "metadata": {
        "id": "aT_V-6205Q1N",
        "outputId": "b25919e4-0075-45c0-9438-bdb1c4c456ee",
        "colab": {
          "base_uri": "https://localhost:8080/"
        }
      },
      "source": [
        "distancia(1, 2, 4, 6)"
      ],
      "execution_count": 15,
      "outputs": [
        {
          "output_type": "execute_result",
          "data": {
            "text/plain": [
              "5.0"
            ]
          },
          "metadata": {},
          "execution_count": 15
        }
      ]
    },
    {
      "cell_type": "markdown",
      "metadata": {
        "id": "dcLx8a8o5Q1O"
      },
      "source": [
        "Se funcionar corretamente, pronto. Senão, uma ideia é exibir o valor `resultado` antes da instrução de retorno.\n",
        "\n",
        "A versão final da função não exibe nada ao ser executada; apenas retorna um valor. As instruções `print` que escrevemos são úteis para depuração, mas assim que conferir se a função está funcionando você deve retirá-las. Códigos desse tipo são chamados de **scaffolding** (andaime) porque são úteis para construir o programa, mas não são parte do produto final.\n",
        "\n",
        "Ao começar, você deveria acrescentar apenas uma linha ou duas de código de cada vez. Conforme adquira mais experiência, poderá escrever e depurar parcelas maiores. De qualquer forma, o desenvolvimento incremental pode economizar muito tempo de depuração."
      ]
    },
    {
      "cell_type": "markdown",
      "metadata": {
        "id": "Q-y9mfqS5Q1O"
      },
      "source": [
        "Os principais aspectos do processo são:\n",
        "\n",
        "1. Comece com um programa que funcione e faça pequenas alterações incrementais. Se houver um erro em qualquer ponto, será bem mais fácil encontrá-lo.\n",
        "2. Use variáveis para guardar valores intermediários, assim poderá exibí-los e verificá-los.\n",
        "3. Uma vez que o programa esteja funcionando, você pode querer remover uma parte do _scaffolding_ ou consolidar várias instruções em expressões compostas, mas apenas se isso não tornar o programa difícil de ler."
      ]
    },
    {
      "cell_type": "markdown",
      "metadata": {
        "id": "aynXRLW85Q1O"
      },
      "source": [
        "Como exercício, use o desenvolvimento incremental para escrever uma função chamada `hipotenusa`, que devolva o comprimento da hipotenusa de um triângulo retângulo dados os comprimentos dos outros dois lados como argumentos. Registre cada etapa do processo de desenvolvimento no decorrer do processo.\n",
        "\n"
      ]
    },
    {
      "cell_type": "markdown",
      "metadata": {
        "id": "nGXpkagU5Q1O"
      },
      "source": [
        "## 6.3 - Composição\n"
      ]
    },
    {
      "cell_type": "markdown",
      "metadata": {
        "id": "yY-HMfcu5Q1O"
      },
      "source": [
        "Como você já deveria esperar a essa altura, é possível chamar uma função de dentro de outra. Como exemplo, escreveremos uma função que recebe dois pontos, o centro do círculo e um ponto no perímetro, para calcular a área do círculo.\n",
        "\n",
        "Suponha que o ponto do centro seja guardado nas variáveis `xc` e `yc` e o ponto de perímetro está em `xp` e `yp`. O primeiro passo deve ser encontrar o raio do círculo, que é a distância entre os dois pontos. Acabamos de escrever uma função, `distancia`, que faz isto:"
      ]
    },
    {
      "cell_type": "markdown",
      "metadata": {
        "id": "GTmgq1215Q1P"
      },
      "source": [
        "```python\n",
        "raio = distancia(xc, yc, xp, yp)\n",
        "```"
      ]
    },
    {
      "cell_type": "markdown",
      "metadata": {
        "id": "rP0vus-W5Q1P"
      },
      "source": [
        "O próximo passo deve ser encontrar a área de um círculo com aquele raio; acabamos de escrever isso também:"
      ]
    },
    {
      "cell_type": "markdown",
      "metadata": {
        "id": "3cb1lbDN5Q1P"
      },
      "source": [
        "```python\n",
        "resultado = area(raio)\n",
        "```"
      ]
    },
    {
      "cell_type": "markdown",
      "metadata": {
        "id": "iKvQGC0w5Q1P"
      },
      "source": [
        "Encapsulando esses passos em uma função, temos:"
      ]
    },
    {
      "cell_type": "code",
      "metadata": {
        "id": "pJntyB8r5Q1P"
      },
      "source": [
        "def area_circulo(xc, yc, xp, yp):\n",
        "    raio = distancia(xc, yc, xp, yp)\n",
        "    resultado = area(raio)\n",
        "    return resultado"
      ],
      "execution_count": 17,
      "outputs": []
    },
    {
      "cell_type": "markdown",
      "metadata": {
        "id": "nyOIzrxh5Q1P"
      },
      "source": [
        "As variáveis temporárias `raio` e `resultado` são úteis para desenvolvimento e depuração, e uma vez que o programa esteja funcionando podemos torná-lo mais conciso compondo chamadas de função:"
      ]
    },
    {
      "cell_type": "code",
      "metadata": {
        "id": "5BsfYINL5Q1P"
      },
      "source": [
        "def area_circulo(xc, yc, xp, yp):\n",
        "    return area(distancia(xc, yc, xp, yp))"
      ],
      "execution_count": 18,
      "outputs": []
    },
    {
      "cell_type": "markdown",
      "metadata": {
        "id": "yqNQbX265Q1Q"
      },
      "source": [
        "## 6.4 - Funções booleanas"
      ]
    },
    {
      "cell_type": "markdown",
      "metadata": {
        "id": "6ExeqWSJ5Q1Q"
      },
      "source": [
        "As funções podem retornar _booleans_, o que pode ser conveniente para esconder testes complicados dentro de funções. Por exemplo:"
      ]
    },
    {
      "cell_type": "code",
      "metadata": {
        "id": "oJ1dfuEt5Q1Q"
      },
      "source": [
        "def eh_divisivel(x, y):\n",
        "    if x % y == 0:\n",
        "        return True\n",
        "    else:\n",
        "        return False"
      ],
      "execution_count": 19,
      "outputs": []
    },
    {
      "cell_type": "markdown",
      "metadata": {
        "id": "LfFImqAL5Q1Q"
      },
      "source": [
        "É comum dar nomes de funções booleanas que pareçam perguntas de sim ou não; `eh_divisivel` retorna `True` ou `False` para indicar se x é divisível por y.\n",
        "\n",
        "Aqui está um exemplo:"
      ]
    },
    {
      "cell_type": "code",
      "metadata": {
        "id": "o1DEix6o5Q1Q",
        "outputId": "8953f373-4347-420f-de70-f8b8fc1cf2f1",
        "colab": {
          "base_uri": "https://localhost:8080/"
        }
      },
      "source": [
        "eh_divisivel(6, 4)"
      ],
      "execution_count": 20,
      "outputs": [
        {
          "output_type": "execute_result",
          "data": {
            "text/plain": [
              "False"
            ]
          },
          "metadata": {},
          "execution_count": 20
        }
      ]
    },
    {
      "cell_type": "code",
      "metadata": {
        "id": "v7kMKMmG5Q1Q",
        "outputId": "87dadef7-6fc4-4f86-8d57-4c503131fa79",
        "colab": {
          "base_uri": "https://localhost:8080/"
        }
      },
      "source": [
        "eh_divisivel(6, 3)"
      ],
      "execution_count": 21,
      "outputs": [
        {
          "output_type": "execute_result",
          "data": {
            "text/plain": [
              "True"
            ]
          },
          "metadata": {},
          "execution_count": 21
        }
      ]
    },
    {
      "cell_type": "markdown",
      "metadata": {
        "id": "eqEGeNfd5Q1Q"
      },
      "source": [
        "O resultado do operador `==` é um booleano, então podemos escrever a função de forma mais concisa, retornando-o diretamente:"
      ]
    },
    {
      "cell_type": "code",
      "metadata": {
        "id": "TkJ0QJzc5Q1R"
      },
      "source": [
        "def eh_divisivel(x, y):\n",
        "    return x % y == 0"
      ],
      "execution_count": 22,
      "outputs": []
    },
    {
      "cell_type": "markdown",
      "metadata": {
        "id": "wftwd-0R5Q1R"
      },
      "source": [
        "As funções booleanas muitas vezes são usadas em instruções condicionais:"
      ]
    },
    {
      "cell_type": "markdown",
      "metadata": {
        "id": "Haav4kIi5Q1R"
      },
      "source": [
        "```python\n",
        "if eh_divisivel(x, y):\n",
        "    print('x é divisivel por y')\n",
        "```"
      ]
    },
    {
      "cell_type": "markdown",
      "metadata": {
        "id": "4uVrFmr15Q1R"
      },
      "source": [
        "Pode ser tentador escrever algo assim:"
      ]
    },
    {
      "cell_type": "markdown",
      "metadata": {
        "id": "EKyJvkeD5Q1R"
      },
      "source": [
        "```python\n",
        "if eh_divisivel(x, y) == True:\n",
        "    print('x é divisivel por y')\n",
        "```"
      ]
    },
    {
      "cell_type": "markdown",
      "metadata": {
        "id": "nylfQpxg5Q1R"
      },
      "source": [
        "Mas a comparação extra é desnecessária.\n",
        "\n",
        "Como um exercício, escreva uma função `estah_entre(x, y, z)` que retorne `True`, se `x ≤ y ≤ z`, ou `False`, se não for o caso."
      ]
    },
    {
      "cell_type": "markdown",
      "metadata": {
        "id": "-3vtBXRG5Q1R"
      },
      "source": [
        "## 6.5 - Mais recursividade\n"
      ]
    },
    {
      "cell_type": "markdown",
      "metadata": {
        "id": "BSPYt1FJ5Q1R"
      },
      "source": [
        "Cobrimos apenas um pequeno subconjunto do Python, mas talvez seja bom você saber que este subconjunto é uma linguagem de programação completa, ou seja, qualquer coisa que possa ser calculada pode ser expressa nesta linguagem. Qualquer programa que já foi escrito pode ser reescrito apenas com os recursos da linguagem que você aprendeu até agora (na verdade, seria preciso alguns comandos para dispositivos de controle como mouse, discos etc., mas isso é tudo).\n",
        "\n",
        "Comprovar esta declaração é um exercício nada trivial realizado pela primeira vez por Alan Turing, um dos primeiros cientistas da computação (alguns diriam que ele foi matemático, mas muitos dos primeiros cientistas da computação começaram como matemáticos). Assim, é conhecida como a Tese de Turing. Para uma exposição mais completa (e exata) da Tese de Turing, recomendo o livro de Michael Sipser, _Introduction to the Theory of Computation_ (Introdução à teoria da computação, Course Technology, 2012).\n",
        "\n",
        "Para dar uma ideia do que podemos fazer com as ferramentas que aprendeu até agora, avaliaremos algumas funções matemáticas definidas recursivamente. Uma definição recursiva é semelhante a uma definição circular, no sentido de que a definição contém uma referência à coisa que é definida. Uma definição realmente circular não é muito útil:"
      ]
    },
    {
      "cell_type": "markdown",
      "metadata": {
        "id": "_3uY-nra5Q1S"
      },
      "source": [
        "**vorpal**<br >\n",
        "&emsp;Adjetivo usado para descrever algo que é vorpal."
      ]
    },
    {
      "cell_type": "markdown",
      "metadata": {
        "id": "tScDm7XL5Q1S"
      },
      "source": [
        "Ver uma definição assim no dicionário pode ser irritante. Por outro lado, se procurar a definição da função de fatorial, denotada pelo símbolo !, você pode encontrar algo assim:"
      ]
    },
    {
      "cell_type": "markdown",
      "metadata": {
        "id": "I_cYVpxW5Q1S"
      },
      "source": [
        "```python\n",
        "0! = 1\n",
        "n! = n·(n − 1)!\n",
        "```"
      ]
    },
    {
      "cell_type": "markdown",
      "metadata": {
        "id": "rrozLFjI5Q1S"
      },
      "source": [
        "Esta definição diz que o fatorial de 0 é 1, e o fatorial de qualquer outro valor, n, é n multiplicado pelo fatorial de n-1.\n",
        "\n",
        "Então 3! é 3 vezes 2!, que é 2 vezes 1!, que é 1 vez 0!. Juntando tudo, 3! é igual a 3 vezes 2 vezes 1 vezes 1, que é 6.\n",
        "\n",
        "Se puder escrever uma definição recursiva de algo, você poderá escrever um programa em Python que a avalie. O primeiro passo deve ser decidir quais parâmetros ela deve ter. Neste caso, deve estar claro que `fatorial` recebe um número inteiro:"
      ]
    },
    {
      "cell_type": "markdown",
      "metadata": {
        "id": "IqEQMpOE5Q1S"
      },
      "source": [
        "```python\n",
        "def fatorial(n):\n",
        "```"
      ]
    },
    {
      "cell_type": "markdown",
      "metadata": {
        "id": "8vGiz1yd5Q1S"
      },
      "source": [
        "Se o argumento for 0, tudo que temos de fazer é retornar 1:"
      ]
    },
    {
      "cell_type": "markdown",
      "metadata": {
        "id": "7F-g2pFH5Q1T"
      },
      "source": [
        "```python\n",
        "def fatorial(n):\n",
        "    if n == 0:\n",
        "        return 1\n",
        "```"
      ]
    },
    {
      "cell_type": "markdown",
      "metadata": {
        "id": "wFQ7-eZM5Q1T"
      },
      "source": [
        "Senão, e aí é que fica interessante, temos que fazer uma chamada recursiva para encontrar o fatorial de n-1 e então multiplicá-lo por n:"
      ]
    },
    {
      "cell_type": "code",
      "metadata": {
        "id": "9OaDCgI__FqY"
      },
      "source": [
        "def fatorial(n):\n",
        "    if n == 0:\n",
        "        return 1\n",
        "    else:\n",
        "        recursa = fatorial(n-1)\n",
        "        resultado = n * recursa\n",
        "        return resultado"
      ],
      "execution_count": 23,
      "outputs": []
    },
    {
      "cell_type": "markdown",
      "metadata": {
        "id": "Sjr4yBjL5Q1T"
      },
      "source": [
        "O fluxo de execução deste programa é semelhante ao fluxo de `regressiva` em “Recursividade”, no Capítulo 5. Se chamarmos `fatorial` com o valor 3:"
      ]
    },
    {
      "cell_type": "markdown",
      "metadata": {
        "id": "ORRW108K5Q1T"
      },
      "source": [
        "Como 3 não é 0, tomamos o segundo ramo e calculamos o fatorial de n-1...\n",
        "> Como 2 não é 0, tomamos o segundo ramo e calculamos o fatorial de n-1...\n",
        ">> Como 1 não é 0, tomamos o segundo ramo e calculamos o fatorial de n-1...\n",
        ">>> Como 0 é igual a 0, tomamos o primeiro ramo e devolvemos 1 sem fazer mais chamadas recursivas.\n",
        "\n",
        ">> O valor de retorno, 1, é multiplicado por n, que é 1, e o resultado é devolvido.\n",
        "\n",
        "> O valor de retorno, 1, é multiplicado por n, que é 2, e o resultado é devolvido.\n",
        "\n",
        "O valor devolvido (2) é multiplicado por n, que é 3, e o resultado, 6, torna-se o valor devolvido pela chamada de função que começou o processo inteiro."
      ]
    },
    {
      "cell_type": "markdown",
      "metadata": {
        "id": "l5o_bXvc5Q1T"
      },
      "source": [
        "A Figura 6.1 mostra como é o diagrama da pilha para esta sequência de chamadas de função."
      ]
    },
    {
      "cell_type": "markdown",
      "metadata": {
        "id": "q0gQodRR5Q1T"
      },
      "source": [
        "![alt text](https://raw.githubusercontent.com/PenseAllen/PensePython2e/master/fig/tnkp_0601.png)"
      ]
    },
    {
      "cell_type": "markdown",
      "metadata": {
        "id": "jpl6n9Ou5Q1T"
      },
      "source": [
        "<h5><center>Figura 6.1 – Diagrama da pilha para factorial.</center></h5>"
      ]
    },
    {
      "cell_type": "markdown",
      "metadata": {
        "id": "YKHoFYzX5Q1U"
      },
      "source": [
        "Os valores devolvidos são mostrados ao serem passados de volta até o alto da pilha. Em cada frame, o valor devolvido é o valor de `resultado`, que é o produto de `n` e `recursa`.\n"
      ]
    },
    {
      "cell_type": "markdown",
      "metadata": {
        "id": "69vCNpGj5Q1U"
      },
      "source": [
        "No último frame, as variáveis locais `recursa` e `resultado` não existem, porque o ramo que os cria não é executado."
      ]
    },
    {
      "cell_type": "markdown",
      "metadata": {
        "id": "4HlcgUbp5Q1U"
      },
      "source": [
        "## 6.6 - Salto de fé\n"
      ]
    },
    {
      "cell_type": "markdown",
      "metadata": {
        "id": "HMcPV3zv5Q1U"
      },
      "source": [
        "Seguir o fluxo da execução é uma forma de ler programas, mas poderá ser trabalhoso demais. Uma alternativa é o que chamo de “salto de fé” (_leap of faith_). Ao chegar a uma chamada de função, em vez de seguir o fluxo de execução suponha que a função esteja funcionando corretamente e que está retornando o resultado certo.\n",
        "\n",
        "Na verdade, você já está praticando este salto de fé quando usa funções integradas. Quando chama `math.cos` ou `math.exp`, você não examina o corpo dessas funções. Apenas supõe que funcionem porque as pessoas que as escreveram eram bons programadores.\n",
        "\n",
        "O mesmo acontece ao chamar uma das suas próprias funções. Por exemplo, em “Funções booleanas”, no Capítulo 5, escrevemos uma função chamada `eh_divisivel` que determina se um número é divisível por outro. Uma vez que estejamos convencidos de que esta função está correta – examinando o código e testando – podemos usar a função sem ver o corpo novamente.\n",
        "\n",
        "O mesmo é verdade para programas recursivos. Quando chega à chamada recursiva, em vez de seguir o fluxo de execução, você deveria supor que a chamada recursiva funcione (devolva o resultado correto) e então perguntar-se: “Supondo que eu possa encontrar o fatorial de n-1, posso calcular o fatorial de n?”. É claro que pode, multiplicando por n.\n",
        "\n",
        "Naturalmente, é um pouco estranho supor que a função funcione corretamente quando ainda não terminou de escrevê-la, mas é por isso que se chama um salto de fé!"
      ]
    },
    {
      "cell_type": "markdown",
      "metadata": {
        "id": "qqHFIU8Y5Q1U"
      },
      "source": [
        "## 6.7 - Mais um exemplo\n"
      ]
    },
    {
      "cell_type": "markdown",
      "metadata": {
        "id": "UzuZR5eu5Q1U"
      },
      "source": [
        "Depois do `fatorial`, o exemplo mais comum de uma função matemática definida recursivamente é fibonacci, que tem a seguinte definição (ver http://en.wikipedia.org/wiki/Fibonacci_number):"
      ]
    },
    {
      "cell_type": "markdown",
      "metadata": {
        "id": "AZBweRvI5Q1U"
      },
      "source": [
        "```python\n",
        "fibonacci(0) = 0\n",
        "fibonacci(1) = 1\n",
        "fibonacci(n) = fibonacci(n − 1) + fibonacci(n − 2)\n",
        "```"
      ]
    },
    {
      "cell_type": "markdown",
      "metadata": {
        "id": "Vrj8sL9l5Q1U"
      },
      "source": [
        "Traduzida para Python, ela fica assim:"
      ]
    },
    {
      "cell_type": "code",
      "metadata": {
        "id": "s-f58Xck5Q1U"
      },
      "source": [
        "def fibonacci (n):\n",
        "    if n == 0:\n",
        "        return 0\n",
        "    elif n == 1:\n",
        "        return 1\n",
        "    else:\n",
        "        return fibonacci(n-1) + fibonacci(n-2)"
      ],
      "execution_count": 24,
      "outputs": []
    },
    {
      "cell_type": "markdown",
      "metadata": {
        "id": "ruCsWmQz5Q1V"
      },
      "source": [
        "Se tentar seguir o fluxo de execução aqui, até para valores razoavelmente pequenos de `n`, sua cabeça explode. Porém, seguindo o salto de fé, supondo que as duas chamadas recursivas funcionem corretamente, então é claro que vai receber o resultado correto adicionando-as juntas."
      ]
    },
    {
      "cell_type": "markdown",
      "metadata": {
        "id": "4ScBG4aQ5Q1V"
      },
      "source": [
        "## 6.8 - Verificação de tipos\n"
      ]
    },
    {
      "cell_type": "markdown",
      "metadata": {
        "id": "79tvEVS-5Q1V"
      },
      "source": [
        "O que acontece se chamarmos `fatorial` e usarmos 1.5 como argumento?"
      ]
    },
    {
      "cell_type": "code",
      "metadata": {
        "id": "vmR69Qdv_M-F",
        "outputId": "a16ff356-5245-4b36-c52c-80d7ae1cd5d6",
        "colab": {
          "base_uri": "https://localhost:8080/",
          "height": 360
        }
      },
      "source": [
        "fatorial(1.5)"
      ],
      "execution_count": 26,
      "outputs": [
        {
          "output_type": "error",
          "ename": "RecursionError",
          "evalue": "ignored",
          "traceback": [
            "\u001b[0;31m---------------------------------------------------------------------------\u001b[0m",
            "\u001b[0;31mRecursionError\u001b[0m                            Traceback (most recent call last)",
            "\u001b[0;32m<ipython-input-26-e5e205aaa5e6>\u001b[0m in \u001b[0;36m<module>\u001b[0;34m()\u001b[0m\n\u001b[0;32m----> 1\u001b[0;31m \u001b[0mfatorial\u001b[0m\u001b[0;34m(\u001b[0m\u001b[0;36m1.5\u001b[0m\u001b[0;34m)\u001b[0m\u001b[0;34m\u001b[0m\u001b[0;34m\u001b[0m\u001b[0m\n\u001b[0m",
            "\u001b[0;32m<ipython-input-23-68c0a8696834>\u001b[0m in \u001b[0;36mfatorial\u001b[0;34m(n)\u001b[0m\n\u001b[1;32m      3\u001b[0m         \u001b[0;32mreturn\u001b[0m \u001b[0;36m1\u001b[0m\u001b[0;34m\u001b[0m\u001b[0;34m\u001b[0m\u001b[0m\n\u001b[1;32m      4\u001b[0m     \u001b[0;32melse\u001b[0m\u001b[0;34m:\u001b[0m\u001b[0;34m\u001b[0m\u001b[0;34m\u001b[0m\u001b[0m\n\u001b[0;32m----> 5\u001b[0;31m         \u001b[0mrecursa\u001b[0m \u001b[0;34m=\u001b[0m \u001b[0mfatorial\u001b[0m\u001b[0;34m(\u001b[0m\u001b[0mn\u001b[0m\u001b[0;34m-\u001b[0m\u001b[0;36m1\u001b[0m\u001b[0;34m)\u001b[0m\u001b[0;34m\u001b[0m\u001b[0;34m\u001b[0m\u001b[0m\n\u001b[0m\u001b[1;32m      6\u001b[0m         \u001b[0mresultado\u001b[0m \u001b[0;34m=\u001b[0m \u001b[0mn\u001b[0m \u001b[0;34m*\u001b[0m \u001b[0mrecursa\u001b[0m\u001b[0;34m\u001b[0m\u001b[0;34m\u001b[0m\u001b[0m\n\u001b[1;32m      7\u001b[0m         \u001b[0;32mreturn\u001b[0m \u001b[0mresultado\u001b[0m\u001b[0;34m\u001b[0m\u001b[0;34m\u001b[0m\u001b[0m\n",
            "... last 1 frames repeated, from the frame below ...\n",
            "\u001b[0;32m<ipython-input-23-68c0a8696834>\u001b[0m in \u001b[0;36mfatorial\u001b[0;34m(n)\u001b[0m\n\u001b[1;32m      3\u001b[0m         \u001b[0;32mreturn\u001b[0m \u001b[0;36m1\u001b[0m\u001b[0;34m\u001b[0m\u001b[0;34m\u001b[0m\u001b[0m\n\u001b[1;32m      4\u001b[0m     \u001b[0;32melse\u001b[0m\u001b[0;34m:\u001b[0m\u001b[0;34m\u001b[0m\u001b[0;34m\u001b[0m\u001b[0m\n\u001b[0;32m----> 5\u001b[0;31m         \u001b[0mrecursa\u001b[0m \u001b[0;34m=\u001b[0m \u001b[0mfatorial\u001b[0m\u001b[0;34m(\u001b[0m\u001b[0mn\u001b[0m\u001b[0;34m-\u001b[0m\u001b[0;36m1\u001b[0m\u001b[0;34m)\u001b[0m\u001b[0;34m\u001b[0m\u001b[0;34m\u001b[0m\u001b[0m\n\u001b[0m\u001b[1;32m      6\u001b[0m         \u001b[0mresultado\u001b[0m \u001b[0;34m=\u001b[0m \u001b[0mn\u001b[0m \u001b[0;34m*\u001b[0m \u001b[0mrecursa\u001b[0m\u001b[0;34m\u001b[0m\u001b[0;34m\u001b[0m\u001b[0m\n\u001b[1;32m      7\u001b[0m         \u001b[0;32mreturn\u001b[0m \u001b[0mresultado\u001b[0m\u001b[0;34m\u001b[0m\u001b[0;34m\u001b[0m\u001b[0m\n",
            "\u001b[0;31mRecursionError\u001b[0m: maximum recursion depth exceeded in comparison"
          ]
        }
      ]
    },
    {
      "cell_type": "markdown",
      "metadata": {
        "id": "5M-HBtpO5Q1V"
      },
      "source": [
        "Parece uma recursividade infinita. No entanto, por que isso acontece? A função tem um caso-base – quando n == 0. Mas se n não é um número inteiro, podemos perder o caso-base e recorrer para sempre.\n",
        "\n",
        "Na primeira chamada recursiva, o valor de n é 0.5. No seguinte, é -0.5. Daí, torna-se menor (mais negativo), mas nunca será 0.\n",
        "\n",
        "Temos duas escolhas. Podemos tentar generalizar a função `fatorial` para trabalhar com números de ponto flutuante, ou podemos fazer `fatorial` controlar o tipo de argumento que recebe. A primeira opção chama-se função gamma e está um pouco além do alcance deste livro. Então usaremos a segunda opção.\n",
        "\n",
        "Podemos usar a função integrada `isinstance` para verificar o tipo de argumento. E vamos aproveitar para verificar também se o argumento é positivo:"
      ]
    },
    {
      "cell_type": "code",
      "metadata": {
        "id": "TsUqaA6u5Q1V"
      },
      "source": [
        "def fatorial (n):\n",
        "    if not isinstance(n, int):\n",
        "        print('Fatorial só é definida para inteiros.')\n",
        "        return None\n",
        "    elif n < 0:\n",
        "        print('Fatorial não é definida para inteiros negativos.')\n",
        "        return None\n",
        "    elif n == 0:\n",
        "        return 1\n",
        "    else:\n",
        "        return n * fatorial(n-1)"
      ],
      "execution_count": 27,
      "outputs": []
    },
    {
      "cell_type": "markdown",
      "metadata": {
        "id": "JGIqjeYl5Q1V"
      },
      "source": [
        "O primeiro caso-base lida com números não inteiros; o segundo, com números inteiros negativos. Em ambos os casos o programa exibe uma mensagem de erro e retorna `None` para indicar que algo deu errado:"
      ]
    },
    {
      "cell_type": "code",
      "metadata": {
        "id": "49aebdWd5Q1V",
        "outputId": "b5d238a5-ede5-48d4-bd02-9e10b7d6bd58",
        "colab": {
          "base_uri": "https://localhost:8080/"
        }
      },
      "source": [
        "fatorial('fred')"
      ],
      "execution_count": 29,
      "outputs": [
        {
          "output_type": "stream",
          "name": "stdout",
          "text": [
            "Fatorial só é definida para inteiros.\n"
          ]
        }
      ]
    },
    {
      "cell_type": "code",
      "metadata": {
        "id": "33X4EtBO5Q1W",
        "outputId": "ba16b4b6-c28b-4d32-ce6b-1e07eeb5fd1d",
        "colab": {
          "base_uri": "https://localhost:8080/"
        }
      },
      "source": [
        "fatorial(-2)"
      ],
      "execution_count": 30,
      "outputs": [
        {
          "output_type": "stream",
          "name": "stdout",
          "text": [
            "Fatorial não é definida para inteiros negativos.\n"
          ]
        }
      ]
    },
    {
      "cell_type": "markdown",
      "metadata": {
        "id": "YiZUUTBQ5Q1W"
      },
      "source": [
        "Se passarmos por ambas as verificações, sabemos que n é positivo ou zero, então podemos comprovar que a recursividade termina.\n",
        "\n",
        "Esse programa demonstra um padrão às vezes chamado de **guardião**. As duas primeiras condicionais atuam como guardiãs, protegendo o código que segue de valores que poderiam causar um erro. As guardiãs permitem comprovar a correção do código.\n",
        "\n",
        "Na “Busca reversa”, no Capítulo 11, veremos uma alternativa mais flexível para a exibição de uma mensagem de erro: o levantamento de exceções.\n",
        "\n"
      ]
    },
    {
      "cell_type": "markdown",
      "metadata": {
        "id": "Nk6HTZWC5Q1W"
      },
      "source": [
        "## 6.9 - Depuração\n"
      ]
    },
    {
      "cell_type": "markdown",
      "metadata": {
        "id": "xTilnK-d5Q1W"
      },
      "source": [
        "Quebrar um grande programa em funções menores cria controles naturais da depuração. Se uma função não estiver funcionando, há três possibilidades a considerar:\n",
        "\n"
      ]
    },
    {
      "cell_type": "markdown",
      "metadata": {
        "id": "G5H-UiVM5Q1W"
      },
      "source": [
        "1. Há algo errado com os argumentos que a função está recebendo; uma precondição está sendo violada.\n",
        "2. Há algo errado com a função; uma pós-condição foi violada.\n",
        "3. Há algo errado com o valor de retorno ou a forma na qual está sendo usado."
      ]
    },
    {
      "cell_type": "markdown",
      "metadata": {
        "id": "nxlbDJTo5Q1W"
      },
      "source": [
        "Para excluir a primeira possibilidade, você pode acrescentar uma instrução `print` no início da função e exibir os valores dos parâmetros (e talvez os seus tipos). Ou escrever código que verifique as precondições explicitamente.\n",
        "\n",
        "Se os parâmetros parecerem bons, acrescente uma instrução `print` antes de cada instrução `return` e exiba o valor de retorno. Se possível, verifique o resultado à mão. Uma possibilidade é chamar a função com valores que facilitem a verificação do resultado (como no “Desenvolvimento incremental”, do item 6.2).\n",
        "\n",
        "Se a função parecer funcionar, veja a chamada da função para ter certeza de que o valor de retorno está sendo usado corretamente (ou se está sendo usado mesmo!).\n",
        "\n",
        "Acrescentar instruções de exibição no começo e no fim de uma função pode ajudar a tornar o fluxo de execução mais visível. Por exemplo, aqui está uma versão de `fatorial` com instruções de exibição:"
      ]
    },
    {
      "cell_type": "code",
      "metadata": {
        "id": "kWfwT2yu5Q1X"
      },
      "source": [
        "def fatorial(n):\n",
        "    espaco = ' ' * (4 * n)\n",
        "    print(espaco, 'fatorial', n)\n",
        "    if n == 0:\n",
        "        print(espaco, 'retornando 1')\n",
        "        return 1\n",
        "    else:\n",
        "        recursa = fatorial(n-1)\n",
        "        resultado = n * recursa\n",
        "        print(espaco, 'retornando', resultado)\n",
        "        return resultado"
      ],
      "execution_count": 31,
      "outputs": []
    },
    {
      "cell_type": "markdown",
      "metadata": {
        "id": "P5Ux-T0J5Q1X"
      },
      "source": [
        "`espaco` é uma string de caracteres especiais que controla a endentação da saída. Aqui está o resultado de `fatorial(4)`:"
      ]
    },
    {
      "cell_type": "code",
      "metadata": {
        "id": "vtj4qZ2oAHIF",
        "outputId": "12503861-eeec-4b30-ea65-490c4e0a3136",
        "colab": {
          "base_uri": "https://localhost:8080/"
        }
      },
      "source": [
        "fatorial(4)"
      ],
      "execution_count": 32,
      "outputs": [
        {
          "output_type": "stream",
          "name": "stdout",
          "text": [
            "                 fatorial 4\n",
            "             fatorial 3\n",
            "         fatorial 2\n",
            "     fatorial 1\n",
            " fatorial 0\n",
            " retornando 1\n",
            "     retornando 1\n",
            "         retornando 2\n",
            "             retornando 6\n",
            "                 retornando 24\n"
          ]
        },
        {
          "output_type": "execute_result",
          "data": {
            "text/plain": [
              "24"
            ]
          },
          "metadata": {},
          "execution_count": 32
        }
      ]
    },
    {
      "cell_type": "markdown",
      "metadata": {
        "id": "OCd6x9pm5Q1X"
      },
      "source": [
        "Se o fluxo de execução parecer confuso a você, este tipo de saída pode ser útil. Leva um tempo para desenvolver um _scaffolding_ eficaz, mas um pouco dele pode economizar muita depuração."
      ]
    },
    {
      "cell_type": "markdown",
      "metadata": {
        "id": "mLxZ1xD75Q1X"
      },
      "source": [
        "## 6.10 - Glossário\n"
      ]
    },
    {
      "cell_type": "markdown",
      "metadata": {
        "id": "GudJX6Re5Q1X"
      },
      "source": [
        "**variável temporária**<br >\n",
        "&emsp;Uma variável usada para guardar um valor intermediário em um cálculo complexo.\n",
        "\n",
        "**código morto**<br >\n",
        "&emsp;A parte de um programa que nunca pode ser executada, muitas vezes porque aparece depois de uma instrução return.\n",
        "\n",
        "**desenvolvimento incremental**<br >\n",
        "&emsp;Um plano de desenvolvimento de programa para evitar a depuração, que acrescenta e testa poucas linhas de código de cada vez.\n",
        "\n",
        "**scaffolding (andaime)**<br >\n",
        "&emsp;O código que se usa durante o desenvolvimento de programa, mas que não faz parte da versão final.\n",
        "\n",
        "**guardião**<br >\n",
        "&emsp;Um padrão de programação que usa uma instrução condicional para verificar e lidar com circunstâncias que possam causar erros."
      ]
    },
    {
      "cell_type": "markdown",
      "metadata": {
        "id": "ZGpSZnau5Q1X"
      },
      "source": [
        "## 6.11 - Exercícios\n"
      ]
    },
    {
      "cell_type": "markdown",
      "metadata": {
        "id": "bb3Fy2GR5Q1X"
      },
      "source": [
        "### Exercício 6.1\n"
      ]
    },
    {
      "cell_type": "markdown",
      "metadata": {
        "id": "TISniWfk5Q1X"
      },
      "source": [
        "Desenhe um diagrama da pilha do seguinte programa. O que o programa exibe?\n",
        "\n"
      ]
    },
    {
      "cell_type": "markdown",
      "metadata": {
        "id": "4lQJHLHq5Q1Y"
      },
      "source": [
        "```python\n",
        "def b(z):\n",
        "    prod = a(z, z)\n",
        "    print(z, prod)\n",
        "    return prod\n",
        "\n",
        "def a(x, y):\n",
        "    x = x + 1\n",
        "    return x * y\n",
        "\n",
        "def c(x, y, z):\n",
        "    total = x + y + z\n",
        "    quadrado = b(total)**2\n",
        "    return quadrado\n",
        "\n",
        "x = 1\n",
        "y = x + 1\n",
        "print(c(x, y+3, x+y))\n",
        "```"
      ]
    },
    {
      "cell_type": "markdown",
      "metadata": {
        "id": "rh_-mxKu5Q1Y"
      },
      "source": [
        "### Exercício 6.2\n"
      ]
    },
    {
      "cell_type": "markdown",
      "metadata": {
        "id": "TLH7wS5s5Q1Y"
      },
      "source": [
        "A função de Ackermann, A(m, n), é definida assim:\n",
        "\n"
      ]
    },
    {
      "cell_type": "markdown",
      "metadata": {
        "id": "4vW9ERVD5Q1Y"
      },
      "source": [
        "![alt text](https://raw.githubusercontent.com/PenseAllen/PensePython2e/master/fig/p72f1.png)"
      ]
    },
    {
      "cell_type": "markdown",
      "metadata": {
        "id": "eLNZ2I925Q1Y"
      },
      "source": [
        "Veja http://en.wikipedia.org/wiki/Ackermann_function. Escreva uma função denominada ack que avalie a função de Ackermann. Use a sua função para avaliar `ack(3, 4)`, cujo resultado deve ser 125. O que acontece para valores maiores de m e n?\n",
        "\n"
      ]
    },
    {
      "cell_type": "markdown",
      "metadata": {
        "id": "eyTwCxre5Q1Y"
      },
      "source": [
        "Solução: http://thinkpython2.com/code/ackermann.py.\n",
        "\n"
      ]
    },
    {
      "cell_type": "markdown",
      "metadata": {
        "id": "DID6wg_A5Q1Y"
      },
      "source": [
        "### Exercício 6.3\n"
      ]
    },
    {
      "cell_type": "markdown",
      "metadata": {
        "id": "EO79fVQ65Q1Y"
      },
      "source": [
        "Um palíndromo é uma palavra que se soletra da mesma forma nos dois sentidos, como “osso” e “reviver”. Recursivamente, uma palavra é um palíndromo se a primeira e última letras forem iguais e o meio for um palíndromo.\n",
        "\n",
        "As funções seguintes recebem uma string como argumento e retornam as letras iniciais, finais e do meio das palavras:"
      ]
    },
    {
      "cell_type": "markdown",
      "metadata": {
        "id": "NJcIP4w55Q1Y"
      },
      "source": [
        "```python\n",
        "def primeira(palavra):\n",
        "    return palavra[0]\n",
        "def ultima(palavra):\n",
        "    return palavra[-1]\n",
        "def meio(palavra):\n",
        "    return palavra[1:-1]\n",
        "```"
      ]
    },
    {
      "cell_type": "markdown",
      "metadata": {
        "id": "Bgou1tBQ5Q1Z"
      },
      "source": [
        "Veremos como funcionam no Capítulo 8."
      ]
    },
    {
      "cell_type": "markdown",
      "metadata": {
        "id": "pwmOEvAe5Q1Z"
      },
      "source": [
        "1. Digite essas funções em um arquivo chamado `palindromo.py` e teste-as. O que acontece se chamar `meio` com uma string de duas letras? Uma letra? E se a string estiver vazia, escrita com `''` e não contiver nenhuma letra?\n",
        "2. Escreva uma função chamada `eh_palindromo` que receba uma string como argumento e retorne `True` se for um palíndromo e `False` se não for. Lembre-se de que você pode usar a função integrada `len` para verificar o comprimento de uma string."
      ]
    },
    {
      "cell_type": "markdown",
      "metadata": {
        "id": "El54TE9a5Q1Z"
      },
      "source": [
        "Solução: http://thinkpython2.com/code/palindrome_soln.py.\n",
        "\n"
      ]
    },
    {
      "cell_type": "markdown",
      "metadata": {
        "id": "HwXQ2_1M5Q1Z"
      },
      "source": [
        "### Exercício 6.4\n"
      ]
    },
    {
      "cell_type": "markdown",
      "metadata": {
        "id": "6d4LpRSa5Q1Z"
      },
      "source": [
        "Um número `a` é uma potência de `b` se for divisível por `b` e `a/b` for uma potência de `b`. Escreva uma função chamada `eh_potencia` que receba os parâmetros `a` e `b` e retorne `True` se `a` for uma potência de `b`. Dica: pense no caso-base."
      ]
    },
    {
      "cell_type": "markdown",
      "metadata": {
        "id": "D7ieAzdV5Q1Z"
      },
      "source": [
        "### Exercício 6.5\n"
      ]
    },
    {
      "cell_type": "markdown",
      "metadata": {
        "id": "hRHNvsjo5Q1Z"
      },
      "source": [
        "O maior divisor comum (MDC, ou GCD em inglês) de `a` e `b` é o maior número que divide ambos sem sobrar resto.\n",
        "\n",
        "Um modo de encontrar o MDC de dois números é observar qual é o resto `r` quando `a` é dividido por `b`, verificando que gcd(a, b) = gcd(b, r). Como caso-base, podemos usar gcd(a, 0) = a.\n",
        "\n",
        "Escreva uma função chamada `gcd` que receba os parâmetros `a` e `b` e devolva o maior divisor comum.\n",
        "\n",
        "Crédito: Este exercício é baseado em um exemplo do livro de Abelson e Sussman, _Structure and Interpretation of Computer Programs_ (Estrutura e interpretação de programas de computador, MIT Press, 1996)."
      ]
    }
  ]
}